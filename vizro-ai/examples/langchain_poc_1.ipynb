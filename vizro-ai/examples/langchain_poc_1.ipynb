{
 "cells": [
  {
   "cell_type": "code",
   "id": "5999ceb3-7621-4121-85a2-a9766c593807",
   "metadata": {
    "ExecuteTime": {
     "end_time": "2024-05-03T18:12:15.988280Z",
     "start_time": "2024-05-03T18:12:15.972824Z"
    }
   },
   "source": [
    "from dotenv import load_dotenv\n",
    "\n",
    "load_dotenv()"
   ],
   "outputs": [
    {
     "data": {
      "text/plain": [
       "True"
      ]
     },
     "execution_count": 1,
     "metadata": {},
     "output_type": "execute_result"
    }
   ],
   "execution_count": 1
  },
  {
   "cell_type": "code",
   "id": "b01f919b3ebae3a5",
   "metadata": {
    "ExecuteTime": {
     "end_time": "2024-05-03T18:12:16.620585Z",
     "start_time": "2024-05-03T18:12:16.617092Z"
    }
   },
   "source": [
    "import sys\n",
    "\n",
    "sys.path.append('./dashboard')"
   ],
   "outputs": [],
   "execution_count": 2
  },
  {
   "cell_type": "code",
   "id": "8ef5d1e2-6246-4771-85bf-890c343e5fa2",
   "metadata": {
    "ExecuteTime": {
     "end_time": "2024-05-03T18:12:18.644621Z",
     "start_time": "2024-05-03T18:12:16.842372Z"
    }
   },
   "source": [
    "from typing import List, Union, Literal, TypedDict, Optional\n",
    "import os\n",
    "\n",
    "from langchain.output_parsers import PydanticOutputParser\n",
    "from langchain_core.prompts import PromptTemplate\n",
    "from langchain_core.pydantic_v1 import BaseModel, Field, validator\n",
    "from langchain_openai import ChatOpenAI\n",
    "from langchain_core.exceptions import OutputParserException\n",
    "from langchain_anthropic import ChatAnthropic\n",
    "from langchain_community.callbacks import get_openai_callback"
   ],
   "outputs": [],
   "execution_count": 3
  },
  {
   "cell_type": "code",
   "id": "9573537f-dd35-4981-9bde-54842bdba020",
   "metadata": {
    "ExecuteTime": {
     "end_time": "2024-05-03T18:12:18.659101Z",
     "start_time": "2024-05-03T18:12:18.647801Z"
    }
   },
   "source": [
    "from pydantic import (\n",
    "    BaseModel,\n",
    "    ValidationError,\n",
    "    ValidationInfo,\n",
    "    field_validator,\n",
    ")\n",
    "from pydantic.v1 import BaseModel as BaseModelV1\n",
    "from pydantic.v1 import create_model, validator, ValidationError"
   ],
   "outputs": [],
   "execution_count": 4
  },
  {
   "cell_type": "code",
   "id": "1b21ea4a-979d-4099-bdd2-9fef98592042",
   "metadata": {
    "ExecuteTime": {
     "end_time": "2024-05-03T18:12:20.566615Z",
     "start_time": "2024-05-03T18:12:18.660698Z"
    }
   },
   "source": [
    "from dashboard.model import get_model\n",
    "from dashboard.plan import get_dashboard_plan"
   ],
   "outputs": [],
   "execution_count": 5
  },
  {
   "cell_type": "code",
   "id": "1f5c666a-3237-4a5e-9608-9eafe83b31a7",
   "metadata": {
    "ExecuteTime": {
     "end_time": "2024-05-03T18:12:20.573845Z",
     "start_time": "2024-05-03T18:12:20.570858Z"
    }
   },
   "source": [
    "import vizro.plotly.express as px\n",
    "import vizro.models as vm\n",
    "import pandas as pd\n",
    "from functools import partial"
   ],
   "outputs": [],
   "execution_count": 6
  },
  {
   "cell_type": "markdown",
   "id": "92a78d36-4884-41e1-86d7-bd42c5551cf1",
   "metadata": {},
   "source": [
    "## OpenAI"
   ]
  },
  {
   "cell_type": "code",
   "id": "04352436-ccb7-4d06-becb-b177acdbdfac",
   "metadata": {
    "ExecuteTime": {
     "end_time": "2024-05-03T18:12:22.751655Z",
     "start_time": "2024-05-03T18:12:21.738568Z"
    }
   },
   "source": [
    "import os\n",
    "from openai import OpenAI\n",
    "\n",
    "client = OpenAI(\n",
    "    # This is the default and can be omitted\n",
    "    api_key=os.environ.get(\"OPENAI_API_KEY\"),\n",
    ")\n",
    "\n",
    "chat_completion = client.chat.completions.create(\n",
    "    messages=[\n",
    "        {\n",
    "            \"role\": \"user\",\n",
    "            \"content\": \"Say this is a test\",\n",
    "        }\n",
    "    ],\n",
    "    model=\"gpt-3.5-turbo\",\n",
    ")"
   ],
   "outputs": [],
   "execution_count": 8
  },
  {
   "cell_type": "markdown",
   "id": "508dc5aa-ddf2-4601-a2c5-7c3cc434e057",
   "metadata": {},
   "source": [
    "## Anthropic"
   ]
  },
  {
   "cell_type": "code",
   "execution_count": 8,
   "id": "b46dbaeb-deff-45fe-b77b-c41945c87d21",
   "metadata": {
    "ExecuteTime": {
     "end_time": "2024-05-03T10:37:36.852904Z",
     "start_time": "2024-05-03T10:37:34.433796Z"
    }
   },
   "outputs": [],
   "source": [
    "# import os\n",
    "# from anthropic import Anthropic\n",
    "\n",
    "# client = Anthropic(\n",
    "#     # This is the default and can be omitted\n",
    "#     api_key=os.environ.get(\"ANTHROPIC_API_KEY\"),\n",
    "#     base_url=os.environ.get(\"ANTHROPIC_BASE_URL\")\n",
    "# )\n",
    "\n",
    "# message = client.messages.create(\n",
    "#     max_tokens=1024,\n",
    "#     messages=[\n",
    "#         {\n",
    "#             \"role\": \"user\",\n",
    "#             \"content\": \"Hello, Claude\",\n",
    "#         }\n",
    "#     ],\n",
    "#     model=\"claude-3-opus-20240229\",\n",
    "# )\n",
    "# print(message.content)"
   ]
  },
  {
   "cell_type": "markdown",
   "id": "07af86ed-73fa-44e6-8b16-368f24a9887c",
   "metadata": {},
   "source": [
    "## Choose model"
   ]
  },
  {
   "cell_type": "code",
   "id": "0295ba8a-0afb-48ff-bad4-3a929fdc7492",
   "metadata": {
    "ExecuteTime": {
     "end_time": "2024-05-03T18:12:30.633543Z",
     "start_time": "2024-05-03T18:12:30.597886Z"
    }
   },
   "source": [
    "model = ChatOpenAI(model=\"gpt-4-turbo\", temperature=0)\n",
    "\n",
    "# model = ChatAnthropic(\n",
    "#     model='claude-3-opus-20240229',\n",
    "#     anthropic_api_key=os.environ.get(\"ANTHROPIC_API_KEY\"),\n",
    "#     anthropic_api_url=os.environ.get(\"ANTHROPIC_BASE_URL\")\n",
    "# )"
   ],
   "outputs": [],
   "execution_count": 9
  },
  {
   "cell_type": "markdown",
   "id": "584c4346e500300d",
   "metadata": {},
   "source": [
    "## Starting to construct a page"
   ]
  },
  {
   "cell_type": "code",
   "id": "f549c09f8ba7b125",
   "metadata": {
    "ExecuteTime": {
     "end_time": "2024-05-03T18:12:33.374407Z",
     "start_time": "2024-05-03T18:12:33.369498Z"
    }
   },
   "source": [
    "query = (\"I need a page with a bar chart shoing the population per continent \"\n",
    "    \"and a scatter chart showing the life expectency per country as a function gdp. \"\n",
    "    \"Make a filter on the GDP column and use a dropdown as selector. This filter should only \"\n",
    "    \"apply to the bar chart. The bar chart should be a stacked bar chart, while \"\n",
    "    \"the scatter chart should be colored by the column 'continent'. I also want \"\n",
    "    \"a table that shows the data. The title of the page should be `My wonderful \"\n",
    "    \"jolly dashboard showing a lot of data`. I also want a second page with just \"\n",
    "    \"a card on it that links to `https://vizro.readthedocs.io/`\")"
   ],
   "outputs": [],
   "execution_count": 10
  },
  {
   "cell_type": "code",
   "id": "29422c6e-8c31-4d47-9b51-4353ecf54640",
   "metadata": {
    "ExecuteTime": {
     "end_time": "2024-05-03T18:12:33.918672Z",
     "start_time": "2024-05-03T18:12:33.900622Z"
    }
   },
   "source": [
    "df = px.data.gapminder()"
   ],
   "outputs": [],
   "execution_count": 11
  },
  {
   "cell_type": "code",
   "id": "f3b5c3fea03eb300",
   "metadata": {
    "ExecuteTime": {
     "end_time": "2024-05-03T18:12:57.939982Z",
     "start_time": "2024-05-03T18:12:34.292731Z"
    }
   },
   "source": [
    "dashboard_plan = get_dashboard_plan(query, model)"
   ],
   "outputs": [],
   "execution_count": 12
  },
  {
   "cell_type": "code",
   "id": "fdeae1f3-31b7-4df5-b43b-fc13933cdbc3",
   "metadata": {
    "ExecuteTime": {
     "end_time": "2024-05-03T18:12:59.580946Z",
     "start_time": "2024-05-03T18:12:59.574835Z"
    }
   },
   "source": [
    "dashboard_plan"
   ],
   "outputs": [
    {
     "data": {
      "text/plain": [
       "DashboardPlanner(pages=[PagePlanner(title='My wonderful jolly dashboard showing a lot of data', components=Components(components=[Component(component_name='Graph', component_description='A stacked bar chart showing the population per continent.', component_id='population_bar_chart'), Component(component_name='Graph', component_description='A scatter chart showing life expectancy per country as a function of GDP, colored by continent.', component_id='life_expectancy_scatter_chart'), Component(component_name='AgGrid', component_description='A table displaying the data used in the charts.', component_id='data_table')]), controls=Controls(controls=[Control(control_name='Filter', control_description='A dropdown selector to filter data based on GDP values. This filter applies only to the bar chart.')])), PagePlanner(title='Link to Documentation', components=Components(components=[Component(component_name='Card', component_description='A card linking to the Vizro documentation at https://vizro.readthedocs.io/', component_id='vizro_link_card')]), controls=Controls(controls=[]))])"
      ]
     },
     "execution_count": 13,
     "metadata": {},
     "output_type": "execute_result"
    }
   ],
   "execution_count": 13
  },
  {
   "cell_type": "code",
   "id": "cb3385a0ec149c99",
   "metadata": {
    "ExecuteTime": {
     "end_time": "2024-05-03T18:13:09.893036Z",
     "start_time": "2024-05-03T18:13:09.889941Z"
    }
   },
   "source": [
    "page_plan = dashboard_plan.pages[0]"
   ],
   "outputs": [],
   "execution_count": 14
  },
  {
   "cell_type": "code",
   "id": "cb21dd2e-452a-42bd-8555-b7301c9910fe",
   "metadata": {
    "ExecuteTime": {
     "end_time": "2024-05-03T18:13:12.012360Z",
     "start_time": "2024-05-03T18:13:12.007633Z"
    }
   },
   "source": [
    "dashboard_plan.pages[1]"
   ],
   "outputs": [
    {
     "data": {
      "text/plain": [
       "PagePlanner(title='Link to Documentation', components=Components(components=[Component(component_name='Card', component_description='A card linking to the Vizro documentation at https://vizro.readthedocs.io/', component_id='vizro_link_card')]), controls=Controls(controls=[]))"
      ]
     },
     "execution_count": 15,
     "metadata": {},
     "output_type": "execute_result"
    }
   ],
   "execution_count": 15
  },
  {
   "cell_type": "code",
   "id": "e3b92492-ee03-4251-8d33-2a004cc42b6d",
   "metadata": {
    "ExecuteTime": {
     "end_time": "2024-05-03T18:13:14.599049Z",
     "start_time": "2024-05-03T18:13:14.595992Z"
    }
   },
   "source": [
    "control_plan = page_plan.controls.controls[0]"
   ],
   "outputs": [],
   "execution_count": 16
  },
  {
   "cell_type": "code",
   "id": "868b79a2-424f-4cdd-9825-639874d63852",
   "metadata": {
    "ExecuteTime": {
     "end_time": "2024-05-03T18:13:15.274934Z",
     "start_time": "2024-05-03T18:13:15.269243Z"
    }
   },
   "source": [
    "control_plan"
   ],
   "outputs": [
    {
     "data": {
      "text/plain": [
       "Control(control_name='Filter', control_description='A dropdown selector to filter data based on GDP values. This filter applies only to the bar chart.')"
      ]
     },
     "execution_count": 17,
     "metadata": {},
     "output_type": "execute_result"
    }
   ],
   "execution_count": 17
  },
  {
   "cell_type": "code",
   "id": "9e88b230-abe5-470e-95f4-7a30649676cf",
   "metadata": {
    "ExecuteTime": {
     "end_time": "2024-05-03T18:13:15.872526Z",
     "start_time": "2024-05-03T18:13:15.866334Z"
    }
   },
   "source": [
    "available_components = [comp.component_id for comp in page_plan.components.components]\n",
    "available_components"
   ],
   "outputs": [
    {
     "data": {
      "text/plain": [
       "['population_bar_chart', 'life_expectancy_scatter_chart', 'data_table']"
      ]
     },
     "execution_count": 18,
     "metadata": {},
     "output_type": "execute_result"
    }
   ],
   "execution_count": 18
  },
  {
   "metadata": {
    "ExecuteTime": {
     "end_time": "2024-05-03T18:13:37.915030Z",
     "start_time": "2024-05-03T18:13:37.060428Z"
    }
   },
   "cell_type": "code",
   "source": "vm.Graph(id = \"population_bar_chart\",figure=px.bar(df,x = \"country\"))",
   "id": "541529dd071cee0f",
   "outputs": [
    {
     "data": {
      "text/plain": [
       "Graph(id='population_bar_chart', type='graph', figure=<vizro.models.types.CapturedCallable object at 0x7fc1e86e2d90>, actions=[])"
      ]
     },
     "execution_count": 23,
     "metadata": {},
     "output_type": "execute_result"
    }
   ],
   "execution_count": 23
  },
  {
   "cell_type": "code",
   "execution_count": 19,
   "id": "25f00c89-544b-47d3-acea-c7ced712b0c4",
   "metadata": {},
   "outputs": [
    {
     "name": "stderr",
     "output_type": "stream",
     "text": [
      "/Users/Maximilian_Schulz/Library/Application Support/hatch/env/virtual/vizro-ai/fZiNbsWT/vizro-ai/lib/python3.9/site-packages/pydantic/v1/schema.py:631: UserWarning:\n",
      "\n",
      "CapturedCallable function is excluded from the schema.\n",
      "\n"
     ]
    },
    {
     "data": {
      "text/plain": [
       "Filter(id='e443df78-9558-867f-5ba9-1faf7a024204', type='filter', column='gdpPercap', targets=['population_bar_chart'], selector=Dropdown(id='23a7711a-8133-2876-37eb-dcd9e87a1613', type='dropdown', options=[], value=None, multi=True, title='Select GDP', actions=[ActionsChain(id='1846d424-c17c-6279-23c6-612f48268673', trigger=Trigger(component_id='23a7711a-8133-2876-37eb-dcd9e87a1613', component_property='value'), actions=[])]))"
      ]
     },
     "execution_count": 19,
     "metadata": {},
     "output_type": "execute_result"
    }
   ],
   "source": [
    "\n",
    "\n",
    "control_plan.create(df=df,model=model,available_components=available_components)"
   ]
  },
  {
   "cell_type": "code",
   "execution_count": 20,
   "id": "a479cdecb65b7979",
   "metadata": {},
   "outputs": [],
   "source": [
    "# class PageBuilder:\n",
    "#     def __init__(self, model,page_plan):\n",
    "#         self.model = model\n",
    "#         self.page_plan = page_plan\n",
    "\n",
    "#     def _build_components():\n",
    "    "
   ]
  },
  {
   "cell_type": "code",
   "execution_count": null,
   "id": "bd304644-124e-4031-b1ef-a32f4b785c79",
   "metadata": {},
   "outputs": [],
   "source": []
  }
 ],
 "metadata": {
  "kernelspec": {
   "display_name": "Python 3 (ipykernel)",
   "language": "python",
   "name": "python3"
  },
  "language_info": {
   "codemirror_mode": {
    "name": "ipython",
    "version": 3
   },
   "file_extension": ".py",
   "mimetype": "text/x-python",
   "name": "python",
   "nbconvert_exporter": "python",
   "pygments_lexer": "ipython3",
   "version": "3.9.12"
  }
 },
 "nbformat": 4,
 "nbformat_minor": 5
}
