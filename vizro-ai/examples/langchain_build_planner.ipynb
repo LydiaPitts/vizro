{
 "cells": [
  {
   "cell_type": "code",
   "id": "5999ceb3-7621-4121-85a2-a9766c593807",
   "metadata": {
    "ExecuteTime": {
     "end_time": "2024-05-02T11:43:49.735021Z",
     "start_time": "2024-05-02T11:43:49.727880Z"
    }
   },
   "source": [
    "from dotenv import load_dotenv\n",
    "\n",
    "load_dotenv()"
   ],
   "outputs": [
    {
     "data": {
      "text/plain": [
       "True"
      ]
     },
     "execution_count": 29,
     "metadata": {},
     "output_type": "execute_result"
    }
   ],
   "execution_count": 29
  },
  {
   "cell_type": "code",
   "id": "8ef5d1e2-6246-4771-85bf-890c343e5fa2",
   "metadata": {
    "ExecuteTime": {
     "end_time": "2024-05-02T11:43:50.942963Z",
     "start_time": "2024-05-02T11:43:50.938161Z"
    }
   },
   "source": [
    "from typing import List, Union, Literal\n",
    "import os\n",
    "\n",
    "from langchain.output_parsers import PydanticOutputParser\n",
    "from langchain_core.prompts import PromptTemplate\n",
    "from langchain_core.pydantic_v1 import BaseModel, Field, validator\n",
    "from langchain_openai import ChatOpenAI\n",
    "from langchain_core.exceptions import OutputParserException"
   ],
   "outputs": [],
   "execution_count": 30
  },
  {
   "cell_type": "code",
   "id": "9573537f-dd35-4981-9bde-54842bdba020",
   "metadata": {
    "ExecuteTime": {
     "end_time": "2024-05-02T11:43:51.474914Z",
     "start_time": "2024-05-02T11:43:51.469991Z"
    }
   },
   "source": [
    "from pydantic import (\n",
    "    BaseModel,\n",
    "    ValidationError,\n",
    "    ValidationInfo,\n",
    "    field_validator,\n",
    ")"
   ],
   "outputs": [],
   "execution_count": 31
  },
  {
   "cell_type": "code",
   "id": "1b21ea4a-979d-4099-bdd2-9fef98592042",
   "metadata": {
    "ExecuteTime": {
     "end_time": "2024-05-02T11:43:52.843924Z",
     "start_time": "2024-05-02T11:43:52.840742Z"
    }
   },
   "source": [
    "from pydantic.v1 import BaseModel as BaseModelV1"
   ],
   "outputs": [],
   "execution_count": 32
  },
  {
   "cell_type": "code",
   "id": "df171406-64d3-4c73-96be-83e867ff862f",
   "metadata": {
    "ExecuteTime": {
     "end_time": "2024-05-02T11:43:53.600618Z",
     "start_time": "2024-05-02T11:43:53.595071Z"
    }
   },
   "source": [
    "from langchain_anthropic import ChatAnthropic"
   ],
   "outputs": [],
   "execution_count": 33
  },
  {
   "cell_type": "markdown",
   "id": "92a78d36-4884-41e1-86d7-bd42c5551cf1",
   "metadata": {
    "jp-MarkdownHeadingCollapsed": true
   },
   "source": [
    "## OpenAI"
   ]
  },
  {
   "cell_type": "code",
   "id": "04352436-ccb7-4d06-becb-b177acdbdfac",
   "metadata": {
    "ExecuteTime": {
     "end_time": "2024-05-02T11:26:44.865996Z",
     "start_time": "2024-05-02T11:26:43.976874Z"
    }
   },
   "source": [
    "import os\n",
    "from openai import OpenAI\n",
    "\n",
    "client = OpenAI(\n",
    "    # This is the default and can be omitted\n",
    "    api_key=os.environ.get(\"OPENAI_API_KEY\"),\n",
    ")\n",
    "\n",
    "chat_completion = client.chat.completions.create(\n",
    "    messages=[\n",
    "        {\n",
    "            \"role\": \"user\",\n",
    "            \"content\": \"Say this is a test\",\n",
    "        }\n",
    "    ],\n",
    "    model=\"gpt-3.5-turbo\",\n",
    ")"
   ],
   "outputs": [],
   "execution_count": 6
  },
  {
   "cell_type": "markdown",
   "id": "508dc5aa-ddf2-4601-a2c5-7c3cc434e057",
   "metadata": {
    "jp-MarkdownHeadingCollapsed": true
   },
   "source": [
    "## Anthropic"
   ]
  },
  {
   "cell_type": "code",
   "id": "b46dbaeb-deff-45fe-b77b-c41945c87d21",
   "metadata": {
    "ExecuteTime": {
     "end_time": "2024-05-02T11:26:47.963107Z",
     "start_time": "2024-05-02T11:26:44.867915Z"
    }
   },
   "source": [
    "import os\n",
    "from anthropic import Anthropic\n",
    "\n",
    "client = Anthropic(\n",
    "    # This is the default and can be omitted\n",
    "    api_key=os.environ.get(\"ANTHROPIC_API_KEY\"),\n",
    "    base_url=os.environ.get(\"ANTHROPIC_BASE_URL\")\n",
    ")\n",
    "\n",
    "message = client.messages.create(\n",
    "    max_tokens=1024,\n",
    "    messages=[\n",
    "        {\n",
    "            \"role\": \"user\",\n",
    "            \"content\": \"Hello, Claude\",\n",
    "        }\n",
    "    ],\n",
    "    model=\"claude-3-opus-20240229\",\n",
    ")\n",
    "print(message.content)"
   ],
   "outputs": [
    {
     "name": "stdout",
     "output_type": "stream",
     "text": [
      "[TextBlock(text=\"Hello! It's nice to meet you. How can I assist you today?\", type='text')]\n"
     ]
    }
   ],
   "execution_count": 7
  },
  {
   "cell_type": "markdown",
   "id": "07af86ed-73fa-44e6-8b16-368f24a9887c",
   "metadata": {},
   "source": [
    "## Choose model"
   ]
  },
  {
   "cell_type": "code",
   "id": "0295ba8a-0afb-48ff-bad4-3a929fdc7492",
   "metadata": {
    "ExecuteTime": {
     "end_time": "2024-05-02T11:44:01.018048Z",
     "start_time": "2024-05-02T11:44:00.990287Z"
    }
   },
   "source": [
    "model = ChatOpenAI(temperature=0)\n",
    "\n",
    "# model = ChatAnthropic(\n",
    "#     model='claude-3-opus-20240229',\n",
    "#     anthropic_api_key=os.environ.get(\"ANTHROPIC_API_KEY\"),\n",
    "#     anthropic_api_url=os.environ.get(\"ANTHROPIC_BASE_URL\")\n",
    "# )"
   ],
   "outputs": [],
   "execution_count": 34
  },
  {
   "metadata": {},
   "cell_type": "markdown",
   "source": "## Trying actual Vizro models",
   "id": "584c4346e500300d"
  },
  {
   "metadata": {
    "ExecuteTime": {
     "end_time": "2024-05-02T11:50:10.802503Z",
     "start_time": "2024-05-02T11:50:10.799323Z"
    }
   },
   "cell_type": "code",
   "source": "import vizro.models as vm",
   "id": "bd0bcdac9b7352b2",
   "outputs": [],
   "execution_count": 43
  },
  {
   "metadata": {},
   "cell_type": "markdown",
   "source": "### Page",
   "id": "8dffaa91fb2bf564"
  },
  {
   "metadata": {
    "ExecuteTime": {
     "end_time": "2024-05-02T12:05:54.728796Z",
     "start_time": "2024-05-02T12:05:54.721881Z"
    }
   },
   "cell_type": "code",
   "source": [
    "class PageAI(vm.Page):\n",
    "    components: List[Literal[\"scatter\", \"bar\", \"line\", \"table\", \"pie\", \"map\"]]"
   ],
   "id": "fa9785fb82eb7f3c",
   "outputs": [],
   "execution_count": 51
  },
  {
   "metadata": {
    "ExecuteTime": {
     "end_time": "2024-05-02T12:05:55.679856Z",
     "start_time": "2024-05-02T12:05:55.675177Z"
    }
   },
   "cell_type": "code",
   "source": "query = \"I need a page with a bar and a scatter that filters on the columns 'gdpPerCap` and uses a dropdown as selector.\"",
   "id": "58f95edfa5f13e37",
   "outputs": [],
   "execution_count": 52
  },
  {
   "metadata": {
    "ExecuteTime": {
     "end_time": "2024-05-02T12:06:03.227278Z",
     "start_time": "2024-05-02T12:05:56.158215Z"
    }
   },
   "cell_type": "code",
   "source": "res = get_model(query, model, result_model=PageAI)",
   "id": "8f5f924a2dcb53e2",
   "outputs": [
    {
     "name": "stderr",
     "output_type": "stream",
     "text": [
      "/Users/Maximilian_Schulz/Library/Application Support/hatch/env/virtual/vizro-ai/fZiNbsWT/vizro-ai/lib/python3.9/site-packages/pydantic/v1/schema.py:631: UserWarning: CapturedCallable function is excluded from the schema.\n",
      "  warnings.warn(skip.message, UserWarning)\n"
     ]
    }
   ],
   "execution_count": 53
  },
  {
   "metadata": {
    "ExecuteTime": {
     "end_time": "2024-05-02T12:06:05.211199Z",
     "start_time": "2024-05-02T12:06:05.205696Z"
    }
   },
   "cell_type": "code",
   "source": "res",
   "id": "a7bc6fc1b4dee3b8",
   "outputs": [
    {
     "data": {
      "text/plain": [
       "langchain_core.exceptions.OutputParserException('Failed to parse PageAI from completion {\"components\": [\"bar\", \"scatter\"], \"title\": \"My Page\", \"description\": \"Page with bar and scatter components filtering on \\'gdpPerCap\\' column\", \"layout\": null, \"controls\": [{\"type\": \"dropdown\", \"options\": [], \"value\": null, \"multi\": true, \"title\": \"\", \"actions\": []}], \"path\": \"\", \"id\": \"\"}. Got: 1 validation error for PageAI\\ncontrols -> 0\\n  No match for discriminator \\'type\\' and value \\'dropdown\\' (allowed values: \\'filter\\', \\'parameter\\') (type=value_error.discriminated_union.invalid_discriminator; discriminator_key=type; discriminator_value=dropdown; allowed_values=\\'filter\\', \\'parameter\\')')"
      ]
     },
     "execution_count": 54,
     "metadata": {},
     "output_type": "execute_result"
    }
   ],
   "execution_count": 54
  },
  {
   "metadata": {
    "ExecuteTime": {
     "end_time": "2024-05-02T11:36:06.692787Z",
     "start_time": "2024-05-02T11:36:06.688102Z"
    }
   },
   "cell_type": "code",
   "source": "PageAI",
   "id": "546dee9e4cfc2f67",
   "outputs": [
    {
     "data": {
      "text/plain": [
       "__main__.PageAI"
      ]
     },
     "execution_count": 21,
     "metadata": {},
     "output_type": "execute_result"
    }
   ],
   "execution_count": 21
  },
  {
   "metadata": {
    "ExecuteTime": {
     "end_time": "2024-05-02T12:14:09.475032Z",
     "start_time": "2024-05-02T12:14:06.783776Z"
    }
   },
   "cell_type": "code",
   "source": "res = get_model(\"I want a card with some random text that starts with quack\", model, result_model=vm.Card)",
   "id": "e648f6612a6f0b7f",
   "outputs": [],
   "execution_count": 57
  },
  {
   "metadata": {
    "ExecuteTime": {
     "end_time": "2024-05-02T12:14:10.231208Z",
     "start_time": "2024-05-02T12:14:10.226860Z"
    }
   },
   "cell_type": "code",
   "source": "res",
   "id": "6213fe0cf7885d46",
   "outputs": [
    {
     "data": {
      "text/plain": [
       "Card(id='8d723104-f773-83c1-3458-a748e9bb17bc', type='card', text='quack quack quack Lorem ipsum dolor sit amet, consectetur adipiscing elit. Sed do eiusmod tempor incididunt ut labore et dolore magna aliqua. Ut enim ad minim veniam, quis nostrud exercitation ullamco laboris nisi ut aliquip ex ea commodo consequat. Duis aute irure dolor in reprehenderit in voluptate velit esse cillum dolore eu fugiat nulla pariatur. Excepteur sint occaecat cupidatat non proident, sunt in culpa qui officia deserunt mollit anim id est laborum.', href='')"
      ]
     },
     "execution_count": 58,
     "metadata": {},
     "output_type": "execute_result"
    }
   ],
   "execution_count": 58
  },
  {
   "metadata": {},
   "cell_type": "markdown",
   "source": "In summary, using Vizro models works generally well, but it struggle with more complex models such as Page, likely due to the sheer size of the schema, and thus the large number of validation errors.",
   "id": "3b8722e68c2e86ac"
  }
 ],
 "metadata": {
  "kernelspec": {
   "display_name": "Python 3 (ipykernel)",
   "language": "python",
   "name": "python3"
  },
  "language_info": {
   "codemirror_mode": {
    "name": "ipython",
    "version": 3
   },
   "file_extension": ".py",
   "mimetype": "text/x-python",
   "name": "python",
   "nbconvert_exporter": "python",
   "pygments_lexer": "ipython3",
   "version": "3.9.12"
  }
 },
 "nbformat": 4,
 "nbformat_minor": 5
}
