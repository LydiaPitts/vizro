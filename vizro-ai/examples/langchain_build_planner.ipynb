{
 "cells": [
  {
   "cell_type": "code",
   "id": "5999ceb3-7621-4121-85a2-a9766c593807",
   "metadata": {
    "ExecuteTime": {
     "end_time": "2024-05-03T06:15:44.013710Z",
     "start_time": "2024-05-03T06:15:43.990858Z"
    }
   },
   "source": [
    "from dotenv import load_dotenv\n",
    "\n",
    "load_dotenv()"
   ],
   "outputs": [
    {
     "data": {
      "text/plain": [
       "True"
      ]
     },
     "execution_count": 1,
     "metadata": {},
     "output_type": "execute_result"
    }
   ],
   "execution_count": 1
  },
  {
   "metadata": {
    "ExecuteTime": {
     "end_time": "2024-05-03T06:15:44.376561Z",
     "start_time": "2024-05-03T06:15:44.373652Z"
    }
   },
   "cell_type": "code",
   "source": [
    "import sys\n",
    "\n",
    "sys.path.append('./dashboard')"
   ],
   "id": "b01f919b3ebae3a5",
   "outputs": [],
   "execution_count": 2
  },
  {
   "cell_type": "code",
   "id": "8ef5d1e2-6246-4771-85bf-890c343e5fa2",
   "metadata": {
    "ExecuteTime": {
     "end_time": "2024-05-03T06:15:47.832448Z",
     "start_time": "2024-05-03T06:15:44.675002Z"
    }
   },
   "source": [
    "from typing import List, Union, Literal, TypedDict, Optional\n",
    "import os\n",
    "\n",
    "from langchain.output_parsers import PydanticOutputParser\n",
    "from langchain_core.prompts import PromptTemplate\n",
    "from langchain_core.pydantic_v1 import BaseModel, Field, validator\n",
    "from langchain_openai import ChatOpenAI\n",
    "from langchain_core.exceptions import OutputParserException\n",
    "from langchain_anthropic import ChatAnthropic\n",
    "from langchain_community.callbacks import get_openai_callback"
   ],
   "outputs": [],
   "execution_count": 3
  },
  {
   "cell_type": "code",
   "id": "9573537f-dd35-4981-9bde-54842bdba020",
   "metadata": {
    "ExecuteTime": {
     "end_time": "2024-05-03T06:15:47.845851Z",
     "start_time": "2024-05-03T06:15:47.834520Z"
    }
   },
   "source": [
    "from pydantic import (\n",
    "    BaseModel,\n",
    "    ValidationError,\n",
    "    ValidationInfo,\n",
    "    field_validator,\n",
    ")\n",
    "from pydantic.v1 import BaseModel as BaseModelV1"
   ],
   "outputs": [],
   "execution_count": 4
  },
  {
   "cell_type": "code",
   "id": "1b21ea4a-979d-4099-bdd2-9fef98592042",
   "metadata": {
    "ExecuteTime": {
     "end_time": "2024-05-03T06:15:47.865030Z",
     "start_time": "2024-05-03T06:15:47.847609Z"
    }
   },
   "source": "from dashboard.model import get_model",
   "outputs": [],
   "execution_count": 5
  },
  {
   "cell_type": "markdown",
   "id": "92a78d36-4884-41e1-86d7-bd42c5551cf1",
   "metadata": {
    "jp-MarkdownHeadingCollapsed": true
   },
   "source": [
    "## OpenAI"
   ]
  },
  {
   "cell_type": "code",
   "id": "04352436-ccb7-4d06-becb-b177acdbdfac",
   "metadata": {
    "ExecuteTime": {
     "end_time": "2024-05-03T06:15:49.415265Z",
     "start_time": "2024-05-03T06:15:48.368528Z"
    }
   },
   "source": [
    "import os\n",
    "from openai import OpenAI\n",
    "\n",
    "client = OpenAI(\n",
    "    # This is the default and can be omitted\n",
    "    api_key=os.environ.get(\"OPENAI_API_KEY\"),\n",
    ")\n",
    "\n",
    "chat_completion = client.chat.completions.create(\n",
    "    messages=[\n",
    "        {\n",
    "            \"role\": \"user\",\n",
    "            \"content\": \"Say this is a test\",\n",
    "        }\n",
    "    ],\n",
    "    model=\"gpt-3.5-turbo\",\n",
    ")"
   ],
   "outputs": [],
   "execution_count": 6
  },
  {
   "cell_type": "markdown",
   "id": "508dc5aa-ddf2-4601-a2c5-7c3cc434e057",
   "metadata": {
    "jp-MarkdownHeadingCollapsed": true
   },
   "source": [
    "## Anthropic"
   ]
  },
  {
   "cell_type": "code",
   "id": "b46dbaeb-deff-45fe-b77b-c41945c87d21",
   "metadata": {
    "ExecuteTime": {
     "end_time": "2024-05-06T12:28:33.419473Z",
     "start_time": "2024-05-06T12:28:30.523551Z"
    }
   },
   "source": [
    "import os\n",
    "from anthropic import Anthropic\n",
    "\n",
    "client = Anthropic(\n",
    "    # This is the default and can be omitted\n",
    "    api_key=os.environ.get(\"ANTHROPIC_API_KEY\"),\n",
    "    base_url=os.environ.get(\"ANTHROPIC_API_BASE\")\n",
    ")\n",
    "\n",
    "message = client.messages.create(\n",
    "    max_tokens=1024,\n",
    "    messages=[\n",
    "        {\n",
    "            \"role\": \"user\",\n",
    "            \"content\": \"Hello, Claude\",\n",
    "        }\n",
    "    ],\n",
    "    model=\"claude-3-opus-20240229\",\n",
    ")\n",
    "print(message.content)"
   ],
   "outputs": [
    {
     "ename": "TypeError",
     "evalue": "\"Could not resolve authentication method. Expected either api_key or auth_token to be set. Or for one of the `X-Api-Key` or `Authorization` headers to be explicitly omitted\"",
     "output_type": "error",
     "traceback": [
      "\u001B[0;31m---------------------------------------------------------------------------\u001B[0m",
      "\u001B[0;31mTypeError\u001B[0m                                 Traceback (most recent call last)",
      "Cell \u001B[0;32mIn[1], line 10\u001B[0m\n\u001B[1;32m      2\u001B[0m \u001B[38;5;28;01mfrom\u001B[39;00m \u001B[38;5;21;01manthropic\u001B[39;00m \u001B[38;5;28;01mimport\u001B[39;00m Anthropic\n\u001B[1;32m      4\u001B[0m client \u001B[38;5;241m=\u001B[39m Anthropic(\n\u001B[1;32m      5\u001B[0m     \u001B[38;5;66;03m# This is the default and can be omitted\u001B[39;00m\n\u001B[1;32m      6\u001B[0m     api_key\u001B[38;5;241m=\u001B[39mos\u001B[38;5;241m.\u001B[39menviron\u001B[38;5;241m.\u001B[39mget(\u001B[38;5;124m\"\u001B[39m\u001B[38;5;124mANTHROPIC_API_KEY\u001B[39m\u001B[38;5;124m\"\u001B[39m),\n\u001B[1;32m      7\u001B[0m     base_url\u001B[38;5;241m=\u001B[39mos\u001B[38;5;241m.\u001B[39menviron\u001B[38;5;241m.\u001B[39mget(\u001B[38;5;124m\"\u001B[39m\u001B[38;5;124mANTHROPIC_API_BASE\u001B[39m\u001B[38;5;124m\"\u001B[39m)\n\u001B[1;32m      8\u001B[0m )\n\u001B[0;32m---> 10\u001B[0m message \u001B[38;5;241m=\u001B[39m \u001B[43mclient\u001B[49m\u001B[38;5;241;43m.\u001B[39;49m\u001B[43mmessages\u001B[49m\u001B[38;5;241;43m.\u001B[39;49m\u001B[43mcreate\u001B[49m\u001B[43m(\u001B[49m\n\u001B[1;32m     11\u001B[0m \u001B[43m    \u001B[49m\u001B[43mmax_tokens\u001B[49m\u001B[38;5;241;43m=\u001B[39;49m\u001B[38;5;241;43m1024\u001B[39;49m\u001B[43m,\u001B[49m\n\u001B[1;32m     12\u001B[0m \u001B[43m    \u001B[49m\u001B[43mmessages\u001B[49m\u001B[38;5;241;43m=\u001B[39;49m\u001B[43m[\u001B[49m\n\u001B[1;32m     13\u001B[0m \u001B[43m        \u001B[49m\u001B[43m{\u001B[49m\n\u001B[1;32m     14\u001B[0m \u001B[43m            \u001B[49m\u001B[38;5;124;43m\"\u001B[39;49m\u001B[38;5;124;43mrole\u001B[39;49m\u001B[38;5;124;43m\"\u001B[39;49m\u001B[43m:\u001B[49m\u001B[43m \u001B[49m\u001B[38;5;124;43m\"\u001B[39;49m\u001B[38;5;124;43muser\u001B[39;49m\u001B[38;5;124;43m\"\u001B[39;49m\u001B[43m,\u001B[49m\n\u001B[1;32m     15\u001B[0m \u001B[43m            \u001B[49m\u001B[38;5;124;43m\"\u001B[39;49m\u001B[38;5;124;43mcontent\u001B[39;49m\u001B[38;5;124;43m\"\u001B[39;49m\u001B[43m:\u001B[49m\u001B[43m \u001B[49m\u001B[38;5;124;43m\"\u001B[39;49m\u001B[38;5;124;43mHello, Claude\u001B[39;49m\u001B[38;5;124;43m\"\u001B[39;49m\u001B[43m,\u001B[49m\n\u001B[1;32m     16\u001B[0m \u001B[43m        \u001B[49m\u001B[43m}\u001B[49m\n\u001B[1;32m     17\u001B[0m \u001B[43m    \u001B[49m\u001B[43m]\u001B[49m\u001B[43m,\u001B[49m\n\u001B[1;32m     18\u001B[0m \u001B[43m    \u001B[49m\u001B[43mmodel\u001B[49m\u001B[38;5;241;43m=\u001B[39;49m\u001B[38;5;124;43m\"\u001B[39;49m\u001B[38;5;124;43mclaude-3-opus-20240229\u001B[39;49m\u001B[38;5;124;43m\"\u001B[39;49m\u001B[43m,\u001B[49m\n\u001B[1;32m     19\u001B[0m \u001B[43m)\u001B[49m\n\u001B[1;32m     20\u001B[0m \u001B[38;5;28mprint\u001B[39m(message\u001B[38;5;241m.\u001B[39mcontent)\n",
      "File \u001B[0;32m~/Library/Application Support/hatch/env/virtual/vizro-ai/fZiNbsWT/vizro-ai/lib/python3.9/site-packages/anthropic/_utils/_utils.py:277\u001B[0m, in \u001B[0;36mrequired_args.<locals>.inner.<locals>.wrapper\u001B[0;34m(*args, **kwargs)\u001B[0m\n\u001B[1;32m    275\u001B[0m             msg \u001B[38;5;241m=\u001B[39m \u001B[38;5;124mf\u001B[39m\u001B[38;5;124m\"\u001B[39m\u001B[38;5;124mMissing required argument: \u001B[39m\u001B[38;5;132;01m{\u001B[39;00mquote(missing[\u001B[38;5;241m0\u001B[39m])\u001B[38;5;132;01m}\u001B[39;00m\u001B[38;5;124m\"\u001B[39m\n\u001B[1;32m    276\u001B[0m     \u001B[38;5;28;01mraise\u001B[39;00m \u001B[38;5;167;01mTypeError\u001B[39;00m(msg)\n\u001B[0;32m--> 277\u001B[0m \u001B[38;5;28;01mreturn\u001B[39;00m \u001B[43mfunc\u001B[49m\u001B[43m(\u001B[49m\u001B[38;5;241;43m*\u001B[39;49m\u001B[43margs\u001B[49m\u001B[43m,\u001B[49m\u001B[43m \u001B[49m\u001B[38;5;241;43m*\u001B[39;49m\u001B[38;5;241;43m*\u001B[39;49m\u001B[43mkwargs\u001B[49m\u001B[43m)\u001B[49m\n",
      "File \u001B[0;32m~/Library/Application Support/hatch/env/virtual/vizro-ai/fZiNbsWT/vizro-ai/lib/python3.9/site-packages/anthropic/resources/messages.py:681\u001B[0m, in \u001B[0;36mMessages.create\u001B[0;34m(self, max_tokens, messages, model, metadata, stop_sequences, stream, system, temperature, top_k, top_p, extra_headers, extra_query, extra_body, timeout)\u001B[0m\n\u001B[1;32m    650\u001B[0m \u001B[38;5;129m@required_args\u001B[39m([\u001B[38;5;124m\"\u001B[39m\u001B[38;5;124mmax_tokens\u001B[39m\u001B[38;5;124m\"\u001B[39m, \u001B[38;5;124m\"\u001B[39m\u001B[38;5;124mmessages\u001B[39m\u001B[38;5;124m\"\u001B[39m, \u001B[38;5;124m\"\u001B[39m\u001B[38;5;124mmodel\u001B[39m\u001B[38;5;124m\"\u001B[39m], [\u001B[38;5;124m\"\u001B[39m\u001B[38;5;124mmax_tokens\u001B[39m\u001B[38;5;124m\"\u001B[39m, \u001B[38;5;124m\"\u001B[39m\u001B[38;5;124mmessages\u001B[39m\u001B[38;5;124m\"\u001B[39m, \u001B[38;5;124m\"\u001B[39m\u001B[38;5;124mmodel\u001B[39m\u001B[38;5;124m\"\u001B[39m, \u001B[38;5;124m\"\u001B[39m\u001B[38;5;124mstream\u001B[39m\u001B[38;5;124m\"\u001B[39m])\n\u001B[1;32m    651\u001B[0m \u001B[38;5;28;01mdef\u001B[39;00m \u001B[38;5;21mcreate\u001B[39m(\n\u001B[1;32m    652\u001B[0m     \u001B[38;5;28mself\u001B[39m,\n\u001B[0;32m   (...)\u001B[0m\n\u001B[1;32m    679\u001B[0m     timeout: \u001B[38;5;28mfloat\u001B[39m \u001B[38;5;241m|\u001B[39m httpx\u001B[38;5;241m.\u001B[39mTimeout \u001B[38;5;241m|\u001B[39m \u001B[38;5;28;01mNone\u001B[39;00m \u001B[38;5;241m|\u001B[39m NotGiven \u001B[38;5;241m=\u001B[39m \u001B[38;5;241m600\u001B[39m,\n\u001B[1;32m    680\u001B[0m ) \u001B[38;5;241m-\u001B[39m\u001B[38;5;241m>\u001B[39m Message \u001B[38;5;241m|\u001B[39m Stream[MessageStreamEvent]:\n\u001B[0;32m--> 681\u001B[0m     \u001B[38;5;28;01mreturn\u001B[39;00m \u001B[38;5;28;43mself\u001B[39;49m\u001B[38;5;241;43m.\u001B[39;49m\u001B[43m_post\u001B[49m\u001B[43m(\u001B[49m\n\u001B[1;32m    682\u001B[0m \u001B[43m        \u001B[49m\u001B[38;5;124;43m\"\u001B[39;49m\u001B[38;5;124;43m/v1/messages\u001B[39;49m\u001B[38;5;124;43m\"\u001B[39;49m\u001B[43m,\u001B[49m\n\u001B[1;32m    683\u001B[0m \u001B[43m        \u001B[49m\u001B[43mbody\u001B[49m\u001B[38;5;241;43m=\u001B[39;49m\u001B[43mmaybe_transform\u001B[49m\u001B[43m(\u001B[49m\n\u001B[1;32m    684\u001B[0m \u001B[43m            \u001B[49m\u001B[43m{\u001B[49m\n\u001B[1;32m    685\u001B[0m \u001B[43m                \u001B[49m\u001B[38;5;124;43m\"\u001B[39;49m\u001B[38;5;124;43mmax_tokens\u001B[39;49m\u001B[38;5;124;43m\"\u001B[39;49m\u001B[43m:\u001B[49m\u001B[43m \u001B[49m\u001B[43mmax_tokens\u001B[49m\u001B[43m,\u001B[49m\n\u001B[1;32m    686\u001B[0m \u001B[43m                \u001B[49m\u001B[38;5;124;43m\"\u001B[39;49m\u001B[38;5;124;43mmessages\u001B[39;49m\u001B[38;5;124;43m\"\u001B[39;49m\u001B[43m:\u001B[49m\u001B[43m \u001B[49m\u001B[43mmessages\u001B[49m\u001B[43m,\u001B[49m\n\u001B[1;32m    687\u001B[0m \u001B[43m                \u001B[49m\u001B[38;5;124;43m\"\u001B[39;49m\u001B[38;5;124;43mmodel\u001B[39;49m\u001B[38;5;124;43m\"\u001B[39;49m\u001B[43m:\u001B[49m\u001B[43m \u001B[49m\u001B[43mmodel\u001B[49m\u001B[43m,\u001B[49m\n\u001B[1;32m    688\u001B[0m \u001B[43m                \u001B[49m\u001B[38;5;124;43m\"\u001B[39;49m\u001B[38;5;124;43mmetadata\u001B[39;49m\u001B[38;5;124;43m\"\u001B[39;49m\u001B[43m:\u001B[49m\u001B[43m \u001B[49m\u001B[43mmetadata\u001B[49m\u001B[43m,\u001B[49m\n\u001B[1;32m    689\u001B[0m \u001B[43m                \u001B[49m\u001B[38;5;124;43m\"\u001B[39;49m\u001B[38;5;124;43mstop_sequences\u001B[39;49m\u001B[38;5;124;43m\"\u001B[39;49m\u001B[43m:\u001B[49m\u001B[43m \u001B[49m\u001B[43mstop_sequences\u001B[49m\u001B[43m,\u001B[49m\n\u001B[1;32m    690\u001B[0m \u001B[43m                \u001B[49m\u001B[38;5;124;43m\"\u001B[39;49m\u001B[38;5;124;43mstream\u001B[39;49m\u001B[38;5;124;43m\"\u001B[39;49m\u001B[43m:\u001B[49m\u001B[43m \u001B[49m\u001B[43mstream\u001B[49m\u001B[43m,\u001B[49m\n\u001B[1;32m    691\u001B[0m \u001B[43m                \u001B[49m\u001B[38;5;124;43m\"\u001B[39;49m\u001B[38;5;124;43msystem\u001B[39;49m\u001B[38;5;124;43m\"\u001B[39;49m\u001B[43m:\u001B[49m\u001B[43m \u001B[49m\u001B[43msystem\u001B[49m\u001B[43m,\u001B[49m\n\u001B[1;32m    692\u001B[0m \u001B[43m                \u001B[49m\u001B[38;5;124;43m\"\u001B[39;49m\u001B[38;5;124;43mtemperature\u001B[39;49m\u001B[38;5;124;43m\"\u001B[39;49m\u001B[43m:\u001B[49m\u001B[43m \u001B[49m\u001B[43mtemperature\u001B[49m\u001B[43m,\u001B[49m\n\u001B[1;32m    693\u001B[0m \u001B[43m                \u001B[49m\u001B[38;5;124;43m\"\u001B[39;49m\u001B[38;5;124;43mtop_k\u001B[39;49m\u001B[38;5;124;43m\"\u001B[39;49m\u001B[43m:\u001B[49m\u001B[43m \u001B[49m\u001B[43mtop_k\u001B[49m\u001B[43m,\u001B[49m\n\u001B[1;32m    694\u001B[0m \u001B[43m                \u001B[49m\u001B[38;5;124;43m\"\u001B[39;49m\u001B[38;5;124;43mtop_p\u001B[39;49m\u001B[38;5;124;43m\"\u001B[39;49m\u001B[43m:\u001B[49m\u001B[43m \u001B[49m\u001B[43mtop_p\u001B[49m\u001B[43m,\u001B[49m\n\u001B[1;32m    695\u001B[0m \u001B[43m            \u001B[49m\u001B[43m}\u001B[49m\u001B[43m,\u001B[49m\n\u001B[1;32m    696\u001B[0m \u001B[43m            \u001B[49m\u001B[43mmessage_create_params\u001B[49m\u001B[38;5;241;43m.\u001B[39;49m\u001B[43mMessageCreateParams\u001B[49m\u001B[43m,\u001B[49m\n\u001B[1;32m    697\u001B[0m \u001B[43m        \u001B[49m\u001B[43m)\u001B[49m\u001B[43m,\u001B[49m\n\u001B[1;32m    698\u001B[0m \u001B[43m        \u001B[49m\u001B[43moptions\u001B[49m\u001B[38;5;241;43m=\u001B[39;49m\u001B[43mmake_request_options\u001B[49m\u001B[43m(\u001B[49m\n\u001B[1;32m    699\u001B[0m \u001B[43m            \u001B[49m\u001B[43mextra_headers\u001B[49m\u001B[38;5;241;43m=\u001B[39;49m\u001B[43mextra_headers\u001B[49m\u001B[43m,\u001B[49m\u001B[43m \u001B[49m\u001B[43mextra_query\u001B[49m\u001B[38;5;241;43m=\u001B[39;49m\u001B[43mextra_query\u001B[49m\u001B[43m,\u001B[49m\u001B[43m \u001B[49m\u001B[43mextra_body\u001B[49m\u001B[38;5;241;43m=\u001B[39;49m\u001B[43mextra_body\u001B[49m\u001B[43m,\u001B[49m\u001B[43m \u001B[49m\u001B[43mtimeout\u001B[49m\u001B[38;5;241;43m=\u001B[39;49m\u001B[43mtimeout\u001B[49m\n\u001B[1;32m    700\u001B[0m \u001B[43m        \u001B[49m\u001B[43m)\u001B[49m\u001B[43m,\u001B[49m\n\u001B[1;32m    701\u001B[0m \u001B[43m        \u001B[49m\u001B[43mcast_to\u001B[49m\u001B[38;5;241;43m=\u001B[39;49m\u001B[43mMessage\u001B[49m\u001B[43m,\u001B[49m\n\u001B[1;32m    702\u001B[0m \u001B[43m        \u001B[49m\u001B[43mstream\u001B[49m\u001B[38;5;241;43m=\u001B[39;49m\u001B[43mstream\u001B[49m\u001B[43m \u001B[49m\u001B[38;5;129;43;01mor\u001B[39;49;00m\u001B[43m \u001B[49m\u001B[38;5;28;43;01mFalse\u001B[39;49;00m\u001B[43m,\u001B[49m\n\u001B[1;32m    703\u001B[0m \u001B[43m        \u001B[49m\u001B[43mstream_cls\u001B[49m\u001B[38;5;241;43m=\u001B[39;49m\u001B[43mStream\u001B[49m\u001B[43m[\u001B[49m\u001B[43mMessageStreamEvent\u001B[49m\u001B[43m]\u001B[49m\u001B[43m,\u001B[49m\n\u001B[1;32m    704\u001B[0m \u001B[43m    \u001B[49m\u001B[43m)\u001B[49m\n",
      "File \u001B[0;32m~/Library/Application Support/hatch/env/virtual/vizro-ai/fZiNbsWT/vizro-ai/lib/python3.9/site-packages/anthropic/_base_client.py:1232\u001B[0m, in \u001B[0;36mSyncAPIClient.post\u001B[0;34m(self, path, cast_to, body, options, files, stream, stream_cls)\u001B[0m\n\u001B[1;32m   1218\u001B[0m \u001B[38;5;28;01mdef\u001B[39;00m \u001B[38;5;21mpost\u001B[39m(\n\u001B[1;32m   1219\u001B[0m     \u001B[38;5;28mself\u001B[39m,\n\u001B[1;32m   1220\u001B[0m     path: \u001B[38;5;28mstr\u001B[39m,\n\u001B[0;32m   (...)\u001B[0m\n\u001B[1;32m   1227\u001B[0m     stream_cls: \u001B[38;5;28mtype\u001B[39m[_StreamT] \u001B[38;5;241m|\u001B[39m \u001B[38;5;28;01mNone\u001B[39;00m \u001B[38;5;241m=\u001B[39m \u001B[38;5;28;01mNone\u001B[39;00m,\n\u001B[1;32m   1228\u001B[0m ) \u001B[38;5;241m-\u001B[39m\u001B[38;5;241m>\u001B[39m ResponseT \u001B[38;5;241m|\u001B[39m _StreamT:\n\u001B[1;32m   1229\u001B[0m     opts \u001B[38;5;241m=\u001B[39m FinalRequestOptions\u001B[38;5;241m.\u001B[39mconstruct(\n\u001B[1;32m   1230\u001B[0m         method\u001B[38;5;241m=\u001B[39m\u001B[38;5;124m\"\u001B[39m\u001B[38;5;124mpost\u001B[39m\u001B[38;5;124m\"\u001B[39m, url\u001B[38;5;241m=\u001B[39mpath, json_data\u001B[38;5;241m=\u001B[39mbody, files\u001B[38;5;241m=\u001B[39mto_httpx_files(files), \u001B[38;5;241m*\u001B[39m\u001B[38;5;241m*\u001B[39moptions\n\u001B[1;32m   1231\u001B[0m     )\n\u001B[0;32m-> 1232\u001B[0m     \u001B[38;5;28;01mreturn\u001B[39;00m cast(ResponseT, \u001B[38;5;28;43mself\u001B[39;49m\u001B[38;5;241;43m.\u001B[39;49m\u001B[43mrequest\u001B[49m\u001B[43m(\u001B[49m\u001B[43mcast_to\u001B[49m\u001B[43m,\u001B[49m\u001B[43m \u001B[49m\u001B[43mopts\u001B[49m\u001B[43m,\u001B[49m\u001B[43m \u001B[49m\u001B[43mstream\u001B[49m\u001B[38;5;241;43m=\u001B[39;49m\u001B[43mstream\u001B[49m\u001B[43m,\u001B[49m\u001B[43m \u001B[49m\u001B[43mstream_cls\u001B[49m\u001B[38;5;241;43m=\u001B[39;49m\u001B[43mstream_cls\u001B[49m\u001B[43m)\u001B[49m)\n",
      "File \u001B[0;32m~/Library/Application Support/hatch/env/virtual/vizro-ai/fZiNbsWT/vizro-ai/lib/python3.9/site-packages/anthropic/_base_client.py:921\u001B[0m, in \u001B[0;36mSyncAPIClient.request\u001B[0;34m(self, cast_to, options, remaining_retries, stream, stream_cls)\u001B[0m\n\u001B[1;32m    912\u001B[0m \u001B[38;5;28;01mdef\u001B[39;00m \u001B[38;5;21mrequest\u001B[39m(\n\u001B[1;32m    913\u001B[0m     \u001B[38;5;28mself\u001B[39m,\n\u001B[1;32m    914\u001B[0m     cast_to: Type[ResponseT],\n\u001B[0;32m   (...)\u001B[0m\n\u001B[1;32m    919\u001B[0m     stream_cls: \u001B[38;5;28mtype\u001B[39m[_StreamT] \u001B[38;5;241m|\u001B[39m \u001B[38;5;28;01mNone\u001B[39;00m \u001B[38;5;241m=\u001B[39m \u001B[38;5;28;01mNone\u001B[39;00m,\n\u001B[1;32m    920\u001B[0m ) \u001B[38;5;241m-\u001B[39m\u001B[38;5;241m>\u001B[39m ResponseT \u001B[38;5;241m|\u001B[39m _StreamT:\n\u001B[0;32m--> 921\u001B[0m     \u001B[38;5;28;01mreturn\u001B[39;00m \u001B[38;5;28;43mself\u001B[39;49m\u001B[38;5;241;43m.\u001B[39;49m\u001B[43m_request\u001B[49m\u001B[43m(\u001B[49m\n\u001B[1;32m    922\u001B[0m \u001B[43m        \u001B[49m\u001B[43mcast_to\u001B[49m\u001B[38;5;241;43m=\u001B[39;49m\u001B[43mcast_to\u001B[49m\u001B[43m,\u001B[49m\n\u001B[1;32m    923\u001B[0m \u001B[43m        \u001B[49m\u001B[43moptions\u001B[49m\u001B[38;5;241;43m=\u001B[39;49m\u001B[43moptions\u001B[49m\u001B[43m,\u001B[49m\n\u001B[1;32m    924\u001B[0m \u001B[43m        \u001B[49m\u001B[43mstream\u001B[49m\u001B[38;5;241;43m=\u001B[39;49m\u001B[43mstream\u001B[49m\u001B[43m,\u001B[49m\n\u001B[1;32m    925\u001B[0m \u001B[43m        \u001B[49m\u001B[43mstream_cls\u001B[49m\u001B[38;5;241;43m=\u001B[39;49m\u001B[43mstream_cls\u001B[49m\u001B[43m,\u001B[49m\n\u001B[1;32m    926\u001B[0m \u001B[43m        \u001B[49m\u001B[43mremaining_retries\u001B[49m\u001B[38;5;241;43m=\u001B[39;49m\u001B[43mremaining_retries\u001B[49m\u001B[43m,\u001B[49m\n\u001B[1;32m    927\u001B[0m \u001B[43m    \u001B[49m\u001B[43m)\u001B[49m\n",
      "File \u001B[0;32m~/Library/Application Support/hatch/env/virtual/vizro-ai/fZiNbsWT/vizro-ai/lib/python3.9/site-packages/anthropic/_base_client.py:942\u001B[0m, in \u001B[0;36mSyncAPIClient._request\u001B[0;34m(self, cast_to, options, remaining_retries, stream, stream_cls)\u001B[0m\n\u001B[1;32m    939\u001B[0m \u001B[38;5;28mself\u001B[39m\u001B[38;5;241m.\u001B[39m_prepare_options(options)\n\u001B[1;32m    941\u001B[0m retries \u001B[38;5;241m=\u001B[39m \u001B[38;5;28mself\u001B[39m\u001B[38;5;241m.\u001B[39m_remaining_retries(remaining_retries, options)\n\u001B[0;32m--> 942\u001B[0m request \u001B[38;5;241m=\u001B[39m \u001B[38;5;28;43mself\u001B[39;49m\u001B[38;5;241;43m.\u001B[39;49m\u001B[43m_build_request\u001B[49m\u001B[43m(\u001B[49m\u001B[43moptions\u001B[49m\u001B[43m)\u001B[49m\n\u001B[1;32m    943\u001B[0m \u001B[38;5;28mself\u001B[39m\u001B[38;5;241m.\u001B[39m_prepare_request(request)\n\u001B[1;32m    945\u001B[0m kwargs: HttpxSendArgs \u001B[38;5;241m=\u001B[39m {}\n",
      "File \u001B[0;32m~/Library/Application Support/hatch/env/virtual/vizro-ai/fZiNbsWT/vizro-ai/lib/python3.9/site-packages/anthropic/_base_client.py:459\u001B[0m, in \u001B[0;36mBaseClient._build_request\u001B[0;34m(self, options)\u001B[0m\n\u001B[1;32m    456\u001B[0m     \u001B[38;5;28;01melse\u001B[39;00m:\n\u001B[1;32m    457\u001B[0m         \u001B[38;5;28;01mraise\u001B[39;00m \u001B[38;5;167;01mRuntimeError\u001B[39;00m(\u001B[38;5;124mf\u001B[39m\u001B[38;5;124m\"\u001B[39m\u001B[38;5;124mUnexpected JSON data type, \u001B[39m\u001B[38;5;132;01m{\u001B[39;00m\u001B[38;5;28mtype\u001B[39m(json_data)\u001B[38;5;132;01m}\u001B[39;00m\u001B[38;5;124m, cannot merge with `extra_body`\u001B[39m\u001B[38;5;124m\"\u001B[39m)\n\u001B[0;32m--> 459\u001B[0m headers \u001B[38;5;241m=\u001B[39m \u001B[38;5;28;43mself\u001B[39;49m\u001B[38;5;241;43m.\u001B[39;49m\u001B[43m_build_headers\u001B[49m\u001B[43m(\u001B[49m\u001B[43moptions\u001B[49m\u001B[43m)\u001B[49m\n\u001B[1;32m    460\u001B[0m params \u001B[38;5;241m=\u001B[39m _merge_mappings(\u001B[38;5;28mself\u001B[39m\u001B[38;5;241m.\u001B[39m_custom_query, options\u001B[38;5;241m.\u001B[39mparams)\n\u001B[1;32m    461\u001B[0m content_type \u001B[38;5;241m=\u001B[39m headers\u001B[38;5;241m.\u001B[39mget(\u001B[38;5;124m\"\u001B[39m\u001B[38;5;124mContent-Type\u001B[39m\u001B[38;5;124m\"\u001B[39m)\n",
      "File \u001B[0;32m~/Library/Application Support/hatch/env/virtual/vizro-ai/fZiNbsWT/vizro-ai/lib/python3.9/site-packages/anthropic/_base_client.py:414\u001B[0m, in \u001B[0;36mBaseClient._build_headers\u001B[0;34m(self, options)\u001B[0m\n\u001B[1;32m    412\u001B[0m custom_headers \u001B[38;5;241m=\u001B[39m options\u001B[38;5;241m.\u001B[39mheaders \u001B[38;5;129;01mor\u001B[39;00m {}\n\u001B[1;32m    413\u001B[0m headers_dict \u001B[38;5;241m=\u001B[39m _merge_mappings(\u001B[38;5;28mself\u001B[39m\u001B[38;5;241m.\u001B[39mdefault_headers, custom_headers)\n\u001B[0;32m--> 414\u001B[0m \u001B[38;5;28;43mself\u001B[39;49m\u001B[38;5;241;43m.\u001B[39;49m\u001B[43m_validate_headers\u001B[49m\u001B[43m(\u001B[49m\u001B[43mheaders_dict\u001B[49m\u001B[43m,\u001B[49m\u001B[43m \u001B[49m\u001B[43mcustom_headers\u001B[49m\u001B[43m)\u001B[49m\n\u001B[1;32m    416\u001B[0m \u001B[38;5;66;03m# headers are case-insensitive while dictionaries are not.\u001B[39;00m\n\u001B[1;32m    417\u001B[0m headers \u001B[38;5;241m=\u001B[39m httpx\u001B[38;5;241m.\u001B[39mHeaders(headers_dict)\n",
      "File \u001B[0;32m~/Library/Application Support/hatch/env/virtual/vizro-ai/fZiNbsWT/vizro-ai/lib/python3.9/site-packages/anthropic/_client.py:194\u001B[0m, in \u001B[0;36mAnthropic._validate_headers\u001B[0;34m(self, headers, custom_headers)\u001B[0m\n\u001B[1;32m    191\u001B[0m \u001B[38;5;28;01mif\u001B[39;00m \u001B[38;5;28misinstance\u001B[39m(custom_headers\u001B[38;5;241m.\u001B[39mget(\u001B[38;5;124m\"\u001B[39m\u001B[38;5;124mAuthorization\u001B[39m\u001B[38;5;124m\"\u001B[39m), Omit):\n\u001B[1;32m    192\u001B[0m     \u001B[38;5;28;01mreturn\u001B[39;00m\n\u001B[0;32m--> 194\u001B[0m \u001B[38;5;28;01mraise\u001B[39;00m \u001B[38;5;167;01mTypeError\u001B[39;00m(\n\u001B[1;32m    195\u001B[0m     \u001B[38;5;124m'\u001B[39m\u001B[38;5;124m\"\u001B[39m\u001B[38;5;124mCould not resolve authentication method. Expected either api_key or auth_token to be set. Or for one of the `X-Api-Key` or `Authorization` headers to be explicitly omitted\u001B[39m\u001B[38;5;124m\"\u001B[39m\u001B[38;5;124m'\u001B[39m\n\u001B[1;32m    196\u001B[0m )\n",
      "\u001B[0;31mTypeError\u001B[0m: \"Could not resolve authentication method. Expected either api_key or auth_token to be set. Or for one of the `X-Api-Key` or `Authorization` headers to be explicitly omitted\""
     ]
    }
   ],
   "execution_count": 1
  },
  {
   "cell_type": "markdown",
   "id": "07af86ed-73fa-44e6-8b16-368f24a9887c",
   "metadata": {},
   "source": [
    "## Choose model"
   ]
  },
  {
   "cell_type": "code",
   "id": "0295ba8a-0afb-48ff-bad4-3a929fdc7492",
   "metadata": {
    "ExecuteTime": {
     "end_time": "2024-05-03T07:39:59.991512Z",
     "start_time": "2024-05-03T07:39:59.965213Z"
    }
   },
   "source": [
    "model = ChatOpenAI(model=\"gpt-4-turbo\", temperature=0)\n",
    "\n",
    "# model = ChatAnthropic(\n",
    "#     model='claude-3-opus-20240229',\n",
    "#     anthropic_api_key=os.environ.get(\"ANTHROPIC_API_KEY\"),\n",
    "#     anthropic_api_url=os.environ.get(\"ANTHROPIC_API_BASE\")\n",
    "# )"
   ],
   "outputs": [],
   "execution_count": 67
  },
  {
   "metadata": {},
   "cell_type": "markdown",
   "source": "## Trying actual Vizro models",
   "id": "584c4346e500300d"
  },
  {
   "metadata": {
    "ExecuteTime": {
     "end_time": "2024-05-03T06:16:07.342245Z",
     "start_time": "2024-05-03T06:16:00.276859Z"
    }
   },
   "cell_type": "code",
   "source": "import vizro.models as vm",
   "id": "bd0bcdac9b7352b2",
   "outputs": [],
   "execution_count": 9
  },
  {
   "metadata": {
    "ExecuteTime": {
     "end_time": "2024-05-03T06:16:07.349401Z",
     "start_time": "2024-05-03T06:16:07.345260Z"
    }
   },
   "cell_type": "code",
   "source": "vm.Page",
   "id": "5201dcaaaebb3b5d",
   "outputs": [
    {
     "data": {
      "text/plain": [
       "vizro.models._page.Page"
      ]
     },
     "execution_count": 10,
     "metadata": {},
     "output_type": "execute_result"
    }
   ],
   "execution_count": 10
  },
  {
   "metadata": {
    "ExecuteTime": {
     "end_time": "2024-05-03T06:16:07.355661Z",
     "start_time": "2024-05-03T06:16:07.350747Z"
    }
   },
   "cell_type": "code",
   "source": "vm.Graph",
   "id": "587d0d685fc975f0",
   "outputs": [
    {
     "data": {
      "text/plain": [
       "vizro.models._components.graph.Graph"
      ]
     },
     "execution_count": 11,
     "metadata": {},
     "output_type": "execute_result"
    }
   ],
   "execution_count": 11
  },
  {
   "metadata": {},
   "cell_type": "markdown",
   "source": "### Build planner",
   "id": "8dffaa91fb2bf564"
  },
  {
   "metadata": {},
   "cell_type": "markdown",
   "source": [
    "- Mirror vm \n",
    "- Content by hand\n",
    "- include the prompt to submit\n",
    "- structure of this mirroring exact structure\n",
    "- recurse through the tree\n",
    "- order to traverse order the fields are written in the models\n",
    "#BUG: order fields matters"
   ],
   "id": "f7ef1811b658d456"
  },
  {
   "metadata": {
    "ExecuteTime": {
     "end_time": "2024-05-03T07:42:38.336213Z",
     "start_time": "2024-05-03T07:42:38.332782Z"
    }
   },
   "cell_type": "code",
   "source": [
    "from vizro.models.types import ComponentType, ControlType\n",
    "\n",
    "comp_type = Literal[\"AgGrid\", \"Card\", \"Graph\"]\n",
    "contr_type = Literal[\"Filter\"]"
   ],
   "id": "3814a40a6301027c",
   "outputs": [],
   "execution_count": 74
  },
  {
   "metadata": {
    "ExecuteTime": {
     "end_time": "2024-05-03T07:42:38.998780Z",
     "start_time": "2024-05-03T07:42:38.993966Z"
    }
   },
   "cell_type": "code",
   "source": [
    "class FilterPlanner(BaseModelV1):\n",
    "    description: str = Field(...,\n",
    "                             description=\"Description of the Filter. Include everything that seems to relate to this component.\")\n",
    "    column: Optional[str] = Field(None, description=\"Column to filter on.\")"
   ],
   "id": "48ba23cbce4360cb",
   "outputs": [],
   "execution_count": 75
  },
  {
   "metadata": {
    "ExecuteTime": {
     "end_time": "2024-05-03T07:42:41.324090Z",
     "start_time": "2024-05-03T07:42:41.316782Z"
    }
   },
   "cell_type": "code",
   "source": [
    "class Component(BaseModelV1):\n",
    "    #    \"\"\"Permissible options to describe components. Needs to be in the format of {\"component_name\": XXX, \"component_description\": XXX}.\"\"\"\n",
    "    component_name: comp_type\n",
    "    component_description: str = Field(...,\n",
    "                                       description=\"Description of the component. Include everything that seems to relate to this component.\")\n",
    "\n",
    "\n",
    "class Components(BaseModelV1):\n",
    "    components: List[Component]\n",
    "\n",
    "\n",
    "class Control(BaseModelV1):\n",
    "    #    \"\"\"Permissible options to describe controls. Needs to be in the format of {\"control_name\": XXX, \"control_description\": XXX}.\"\"\"\n",
    "    control_name: contr_type\n",
    "    control_description: str = Field(...,\n",
    "                                     description=\"Description of the control. Include everything that seems to relate to this control.\")\n",
    "\n",
    "\n",
    "class Controls(BaseModelV1):\n",
    "    controls: List[Control]"
   ],
   "id": "d3c88a4107de78cd",
   "outputs": [],
   "execution_count": 76
  },
  {
   "metadata": {
    "ExecuteTime": {
     "end_time": "2024-05-03T07:42:50.887320Z",
     "start_time": "2024-05-03T07:42:50.883035Z"
    }
   },
   "cell_type": "code",
   "source": [
    "class PagePlanner(BaseModelV1):\n",
    "    title: str = Field(...,\n",
    "                       description=\"Title of the page. If no description is provided, make a short and concise title from the components.\")\n",
    "    components: Components  #List[Component]#\n",
    "    controls: Controls  #Optional[List[FilterPlanner]]#List[Control]#"
   ],
   "id": "3235faf0114e907e",
   "outputs": [],
   "execution_count": 77
  },
  {
   "metadata": {
    "ExecuteTime": {
     "end_time": "2024-05-03T07:40:06.837123Z",
     "start_time": "2024-05-03T07:40:06.833893Z"
    }
   },
   "cell_type": "code",
   "source": "query = \"I need a page with a bar and a scatter that filters on the columns 'gdpPerCap` and uses a dropdown as selector. This filter should only apply to the bar chart. The bar chart should be a stacked bar chart, while the scatter chart should be colored by the column 'continent'. I also want a table that shows the data. The title of the page should be `My wonderful jolly dashboard showing a lot of data`.\"",
   "id": "58f95edfa5f13e37",
   "outputs": [],
   "execution_count": 69
  },
  {
   "metadata": {
    "ExecuteTime": {
     "end_time": "2024-05-03T07:40:20.839217Z",
     "start_time": "2024-05-03T07:40:06.949337Z"
    }
   },
   "cell_type": "code",
   "source": [
    "with get_openai_callback() as cb:\n",
    "    res = get_model(query, model, result_model=PagePlanner, max_retry=2)"
   ],
   "id": "8f5f924a2dcb53e2",
   "outputs": [],
   "execution_count": 70
  },
  {
   "metadata": {
    "ExecuteTime": {
     "end_time": "2024-05-03T07:40:20.845146Z",
     "start_time": "2024-05-03T07:40:20.841428Z"
    }
   },
   "cell_type": "code",
   "source": "res",
   "id": "e44ce951f4e97535",
   "outputs": [
    {
     "data": {
      "text/plain": [
       "PagePlanner(title='My wonderful jolly dashboard showing a lot of data', components=Components(components=[Component(component_name='Graph', component_description=\"A stacked bar chart that filters based on the 'gdpPerCap' column.\"), Component(component_name='Graph', component_description=\"A scatter chart colored by the 'continent' column.\"), Component(component_name='AgGrid', component_description='A table that displays the data.')]), controls=Controls(controls=[Control(control_name='Filter', control_description=\"A dropdown selector that applies a filter on the 'gdpPerCap' column, affecting only the bar chart.\")]))"
      ]
     },
     "execution_count": 71,
     "metadata": {},
     "output_type": "execute_result"
    }
   ],
   "execution_count": 71
  },
  {
   "metadata": {
    "ExecuteTime": {
     "end_time": "2024-05-03T07:40:20.851370Z",
     "start_time": "2024-05-03T07:40:20.848104Z"
    }
   },
   "cell_type": "code",
   "source": [
    "for i in res.components.components:\n",
    "    print(i)"
   ],
   "id": "5677f729686eb110",
   "outputs": [
    {
     "name": "stdout",
     "output_type": "stream",
     "text": [
      "component_name='Graph' component_description=\"A stacked bar chart that filters based on the 'gdpPerCap' column.\"\n",
      "component_name='Graph' component_description=\"A scatter chart colored by the 'continent' column.\"\n",
      "component_name='AgGrid' component_description='A table that displays the data.'\n"
     ]
    }
   ],
   "execution_count": 72
  },
  {
   "metadata": {
    "ExecuteTime": {
     "end_time": "2024-05-03T07:40:33.495772Z",
     "start_time": "2024-05-03T07:40:33.491703Z"
    }
   },
   "cell_type": "code",
   "source": "cb",
   "id": "11a20bffe4f3561d",
   "outputs": [
    {
     "data": {
      "text/plain": [
       "Tokens Used: 793\n",
       "\tPrompt Tokens: 612\n",
       "\tCompletion Tokens: 181\n",
       "Successful Requests: 1\n",
       "Total Cost (USD): $0.011550000000000001"
      ]
     },
     "execution_count": 73,
     "metadata": {},
     "output_type": "execute_result"
    }
   ],
   "execution_count": 73
  },
  {
   "metadata": {},
   "cell_type": "markdown",
   "source": [
    "Summary:\n",
    "While a lot can be teaked, it seems that the best approach is to use pydantic models that are small, Literal to extract the type of component. I am still a little confused as to why the specialised models (see in Instructor exploration) didn't help.\n",
    "\n",
    "In this task, GPT-4 also seems a fair bit more powerful"
   ],
   "id": "1a71bc3ee97f1d06"
  },
  {
   "metadata": {},
   "cell_type": "markdown",
   "source": "### Going multi page",
   "id": "ac916da20ddbf26b"
  },
  {
   "metadata": {
    "ExecuteTime": {
     "end_time": "2024-05-03T07:44:49.456985Z",
     "start_time": "2024-05-03T07:44:49.453645Z"
    }
   },
   "cell_type": "code",
   "source": [
    "class DashboardPlanner(BaseModelV1):\n",
    "    pages: List[PagePlanner]"
   ],
   "id": "e2b9510683973a04",
   "outputs": [],
   "execution_count": 79
  },
  {
   "metadata": {
    "ExecuteTime": {
     "end_time": "2024-05-03T07:44:51.034536Z",
     "start_time": "2024-05-03T07:44:51.031314Z"
    }
   },
   "cell_type": "code",
   "source": "query = \"I need overall two pages. On the first page I want a bar chart and a scatter chart that filters on the columns 'gdpPerCap` and uses a dropdown as selector. This filter should only apply to the bar chart. The bar chart should be a stacked bar chart, while the scatter chart should be colored by the column 'continent'. I also want a table that shows the data. The title of the page should be `My wonderful jolly dashboard showing a lot of data`. On the second page I would like to have a line chart, and a card explaining that line chart.\"",
   "id": "d792b216914efdc9",
   "outputs": [],
   "execution_count": 80
  },
  {
   "metadata": {
    "ExecuteTime": {
     "end_time": "2024-05-03T07:45:19.935343Z",
     "start_time": "2024-05-03T07:45:02.814108Z"
    }
   },
   "cell_type": "code",
   "source": [
    "with get_openai_callback() as cb:\n",
    "    res = get_model(query, model, result_model=DashboardPlanner, max_retry=2)"
   ],
   "id": "cfe5fb4d8ce7e963",
   "outputs": [],
   "execution_count": 81
  },
  {
   "metadata": {
    "ExecuteTime": {
     "end_time": "2024-05-03T07:46:07.513526Z",
     "start_time": "2024-05-03T07:46:07.507849Z"
    }
   },
   "cell_type": "code",
   "source": "res.pages[0]",
   "id": "8a7caa62e4f072f6",
   "outputs": [
    {
     "data": {
      "text/plain": [
       "PagePlanner(title='My wonderful jolly dashboard showing a lot of data', components=Components(components=[Component(component_name='Graph', component_description=\"A stacked bar chart that filters based on the columns 'gdpPerCap'.\"), Component(component_name='Graph', component_description=\"A scatter chart colored by the column 'continent'.\"), Component(component_name='AgGrid', component_description='A table that displays the data.')]), controls=Controls(controls=[Control(control_name='Filter', control_description=\"A dropdown selector that applies a filter to the bar chart based on the columns 'gdpPerCap'.\")]))"
      ]
     },
     "execution_count": 85,
     "metadata": {},
     "output_type": "execute_result"
    }
   ],
   "execution_count": 85
  },
  {
   "metadata": {
    "ExecuteTime": {
     "end_time": "2024-05-03T07:46:30.854012Z",
     "start_time": "2024-05-03T07:46:30.849693Z"
    }
   },
   "cell_type": "code",
   "source": [
    "for i in res.pages[0].components.components:\n",
    "    print(i)"
   ],
   "id": "a7ff720e9c445cac",
   "outputs": [
    {
     "name": "stdout",
     "output_type": "stream",
     "text": [
      "component_name='Graph' component_description=\"A stacked bar chart that filters based on the columns 'gdpPerCap'.\"\n",
      "component_name='Graph' component_description=\"A scatter chart colored by the column 'continent'.\"\n",
      "component_name='AgGrid' component_description='A table that displays the data.'\n"
     ]
    }
   ],
   "execution_count": 86
  },
  {
   "metadata": {
    "ExecuteTime": {
     "end_time": "2024-05-03T07:45:34.287574Z",
     "start_time": "2024-05-03T07:45:34.282560Z"
    }
   },
   "cell_type": "code",
   "source": "res.pages[1]",
   "id": "13ad22bf0cfcb92f",
   "outputs": [
    {
     "data": {
      "text/plain": [
       "PagePlanner(title='Insightful Analysis with Line Chart', components=Components(components=[Component(component_name='Graph', component_description='A line chart that presents time series data.'), Component(component_name='Card', component_description='A descriptive card that explains the data and trends shown in the line chart.')]), controls=Controls(controls=[]))"
      ]
     },
     "execution_count": 84,
     "metadata": {},
     "output_type": "execute_result"
    }
   ],
   "execution_count": 84
  },
  {
   "metadata": {},
   "cell_type": "markdown",
   "source": "### Trying in conjunction with actual data and objects",
   "id": "d20bc8eec0b4a991"
  },
  {
   "metadata": {
    "ExecuteTime": {
     "end_time": "2024-05-03T08:03:57.681281Z",
     "start_time": "2024-05-03T08:03:57.678555Z"
    }
   },
   "cell_type": "code",
   "source": [
    "import plotly.express as px\n",
    "\n",
    "df = px.data.gapminder()"
   ],
   "id": "a40ec205db2baabb",
   "outputs": [],
   "execution_count": 92
  },
  {
   "metadata": {
    "ExecuteTime": {
     "end_time": "2024-05-03T08:10:59.633792Z",
     "start_time": "2024-05-03T08:10:59.599161Z"
    }
   },
   "cell_type": "code",
   "source": [
    "model = ChatOpenAI(model=\"gpt-3.5-turbo\", temperature=0)\n",
    "\n",
    "# model = ChatAnthropic(\n",
    "#     model='claude-3-opus-20240229',\n",
    "#     anthropic_api_key=os.environ.get(\"ANTHROPIC_API_KEY\"),\n",
    "#     anthropic_api_url=os.environ.get(\"ANTHROPIC_BASE_URL\")\n",
    "# )"
   ],
   "id": "1040db93407b29a0",
   "outputs": [],
   "execution_count": 114
  },
  {
   "metadata": {
    "ExecuteTime": {
     "end_time": "2024-05-03T08:20:01.467920Z",
     "start_time": "2024-05-03T08:20:01.465079Z"
    }
   },
   "cell_type": "code",
   "source": "query = \"I need a page with a bar chart and a scatter chart that filters on the GDP column and uses a dropdown as selector. This filter should only apply to the bar chart. The bar chart should be a stacked bar chart, while the scatter chart should be colored by the column 'continent'. I also want a table that shows the data. The title of the page should be `My wonderful jolly dashboard showing a lot of data`.\"",
   "id": "87c2e440ec0debe4",
   "outputs": [],
   "execution_count": 126
  },
  {
   "metadata": {
    "ExecuteTime": {
     "end_time": "2024-05-03T08:20:05.458696Z",
     "start_time": "2024-05-03T08:20:01.753490Z"
    }
   },
   "cell_type": "code",
   "source": [
    "with get_openai_callback() as cb:\n",
    "    res = get_model(query, model, result_model=PagePlanner, max_retry=2)"
   ],
   "id": "6d29202245f36cf0",
   "outputs": [],
   "execution_count": 127
  },
  {
   "metadata": {
    "ExecuteTime": {
     "end_time": "2024-05-03T08:20:05.465035Z",
     "start_time": "2024-05-03T08:20:05.460370Z"
    }
   },
   "cell_type": "code",
   "source": "res.controls.controls[0]",
   "id": "4df85d9b8dabea12",
   "outputs": [
    {
     "data": {
      "text/plain": [
       "Control(control_name='Filter', control_description='Dropdown selector to filter GDP column for the bar chart')"
      ]
     },
     "execution_count": 128,
     "metadata": {},
     "output_type": "execute_result"
    }
   ],
   "execution_count": 128
  },
  {
   "metadata": {
    "ExecuteTime": {
     "end_time": "2024-05-03T08:20:09.968817Z",
     "start_time": "2024-05-03T08:20:09.962704Z"
    }
   },
   "cell_type": "code",
   "source": [
    "model_instruction = res.controls.controls[0].control_description\n",
    "selected_query = f\"Create a filter from the following instructions: {model_instruction}. Do not make up things that are optional. Consider the context of the data {df.head()}. If no options are specified, leave them out.\""
   ],
   "id": "e77b37fbef0cf27b",
   "outputs": [],
   "execution_count": 129
  },
  {
   "metadata": {
    "ExecuteTime": {
     "end_time": "2024-05-03T08:20:12.131848Z",
     "start_time": "2024-05-03T08:20:12.126869Z"
    }
   },
   "cell_type": "code",
   "source": "selected_query",
   "id": "53904dd5dd020b3a",
   "outputs": [
    {
     "data": {
      "text/plain": [
       "'Create a filter from the following instructions: Dropdown selector to filter GDP column for the bar chart. Do not make up things that are optional. Consider the context of the data        country continent  year  lifeExp       pop   gdpPercap iso_alpha  \\\\\\n0  Afghanistan      Asia  1952   28.801   8425333  779.445314       AFG   \\n1  Afghanistan      Asia  1957   30.332   9240934  820.853030       AFG   \\n2  Afghanistan      Asia  1962   31.997  10267083  853.100710       AFG   \\n3  Afghanistan      Asia  1967   34.020  11537966  836.197138       AFG   \\n4  Afghanistan      Asia  1972   36.088  13079460  739.981106       AFG   \\n\\n   iso_num  \\n0        4  \\n1        4  \\n2        4  \\n3        4  \\n4        4  . If no options are specified, leave them out.'"
      ]
     },
     "execution_count": 130,
     "metadata": {},
     "output_type": "execute_result"
    }
   ],
   "execution_count": 130
  },
  {
   "metadata": {
    "ExecuteTime": {
     "end_time": "2024-05-03T08:20:17.505917Z",
     "start_time": "2024-05-03T08:20:15.585445Z"
    }
   },
   "cell_type": "code",
   "source": [
    "with get_openai_callback() as cb:\n",
    "    res2 = get_model(selected_query, model, result_model=vm.Filter, max_retry=2)"
   ],
   "id": "c30174e009b7cf08",
   "outputs": [],
   "execution_count": 131
  },
  {
   "metadata": {
    "ExecuteTime": {
     "end_time": "2024-05-03T08:20:19.410093Z",
     "start_time": "2024-05-03T08:20:19.404617Z"
    }
   },
   "cell_type": "code",
   "source": "res2",
   "id": "bd73692418937830",
   "outputs": [
    {
     "data": {
      "text/plain": [
       "Filter(id='eb2083e6-ce16-4dba-0ff1-8e0242af9fc3', type='filter', column='gdpPercap', targets=[], selector=Dropdown(id='17e0aa3c-0398-3ca8-ea7e-9d498c778ea6', type='dropdown', options=[], value=None, multi=True, title='', actions=[]))"
      ]
     },
     "execution_count": 132,
     "metadata": {},
     "output_type": "execute_result"
    }
   ],
   "execution_count": 132
  },
  {
   "metadata": {
    "ExecuteTime": {
     "end_time": "2024-05-03T08:20:22.331347Z",
     "start_time": "2024-05-03T08:20:22.326230Z"
    }
   },
   "cell_type": "code",
   "source": "vm.Page",
   "id": "88518c2887d4b39b",
   "outputs": [
    {
     "data": {
      "text/plain": [
       "vizro.models._page.Page"
      ]
     },
     "execution_count": 133,
     "metadata": {},
     "output_type": "execute_result"
    }
   ],
   "execution_count": 133
  },
  {
   "metadata": {},
   "cell_type": "markdown",
   "source": "## Real deal",
   "id": "4697d1d3ad25a3a0"
  },
  {
   "metadata": {
    "ExecuteTime": {
     "end_time": "2024-05-03T10:19:56.261911Z",
     "start_time": "2024-05-03T10:19:56.246093Z"
    }
   },
   "cell_type": "code",
   "source": [
    "component_type = Literal[\"AgGrid\", \"Card\", \"Graph\"]\n",
    "control_type = Literal[\"Filter\"]\n",
    "\n",
    "\n",
    "class Component(BaseModelV1):\n",
    "    component_name: component_type\n",
    "    component_description: str = Field(...,\n",
    "                                       description=\"Description of the component. Include everything that seems to relate to this component.\")\n",
    "\n",
    "\n",
    "class Components(BaseModelV1):\n",
    "    components: List[Component]\n",
    "\n",
    "\n",
    "class Control(BaseModelV1):\n",
    "    control_name: control_type\n",
    "    control_description: str = Field(...,\n",
    "                                     description=\"Description of the control. Include everything that seems to relate to this control.\")\n",
    "\n",
    "\n",
    "class Controls(BaseModelV1):\n",
    "    controls: List[Control]\n",
    "\n",
    "\n",
    "class PagePlanner(BaseModelV1):\n",
    "    title: str = Field(...,\n",
    "                       description=\"Title of the page. If no description is provided, make a short and concise title from the components.\")\n",
    "    components: Components  #List[Component]#\n",
    "    controls: Controls  #Optional[List[FilterPlanner]]#List[Control]#\n",
    "\n",
    "\n",
    "class DashboardPlanner(BaseModelV1):\n",
    "    pages: List[PagePlanner]"
   ],
   "id": "fdb9185862c50875",
   "outputs": [],
   "execution_count": 139
  },
  {
   "metadata": {
    "ExecuteTime": {
     "end_time": "2024-05-03T10:21:22.471828Z",
     "start_time": "2024-05-03T10:21:22.433293Z"
    }
   },
   "cell_type": "code",
   "source": [
    "model = ChatOpenAI(model=\"gpt-4-turbo\", temperature=0)\n",
    "\n",
    "# model = ChatAnthropic(\n",
    "#     model='claude-3-opus-20240229',\n",
    "#     anthropic_api_key=os.environ.get(\"ANTHROPIC_API_KEY\"),\n",
    "#     anthropic_api_url=os.environ.get(\"ANTHROPIC_BASE_URL\")\n",
    "# )"
   ],
   "id": "e628c9ed1ee5cda6",
   "outputs": [],
   "execution_count": 142
  },
  {
   "metadata": {
    "ExecuteTime": {
     "end_time": "2024-05-03T10:21:23.762493Z",
     "start_time": "2024-05-03T10:21:23.759470Z"
    }
   },
   "cell_type": "code",
   "source": "query = \"I need a page with a bar chart and a scatter chart that filters on the GDP column and uses a dropdown as selector. This filter should only apply to the bar chart. The bar chart should be a stacked bar chart, while the scatter chart should be colored by the column 'continent'. I also want a table that shows the data. The title of the page should be `My wonderful jolly dashboard showing a lot of data`.\"",
   "id": "7b5d7988d316cf2",
   "outputs": [],
   "execution_count": 143
  },
  {
   "metadata": {
    "ExecuteTime": {
     "end_time": "2024-05-03T10:21:40.042486Z",
     "start_time": "2024-05-03T10:21:30.576456Z"
    }
   },
   "cell_type": "code",
   "source": [
    "with get_openai_callback() as cb:\n",
    "    res = get_model(query, model, result_model=DashboardPlanner, max_retry=2)"
   ],
   "id": "e6e38a05c514f02f",
   "outputs": [],
   "execution_count": 144
  },
  {
   "metadata": {
    "ExecuteTime": {
     "end_time": "2024-05-03T10:21:45.196004Z",
     "start_time": "2024-05-03T10:21:45.190851Z"
    }
   },
   "cell_type": "code",
   "source": "res",
   "id": "35bba767f7759967",
   "outputs": [
    {
     "data": {
      "text/plain": [
       "DashboardPlanner(pages=[PagePlanner(title='My wonderful jolly dashboard showing a lot of data', components=Components(components=[Component(component_name='Graph', component_description='A stacked bar chart that visualizes data, filtered by GDP using a dropdown selector.'), Component(component_name='Graph', component_description=\"A scatter chart colored by the 'continent' column, showing the distribution of data points across different continents.\"), Component(component_name='AgGrid', component_description='A table that displays the data in a structured format, allowing for easy viewing and analysis.')]), controls=Controls(controls=[Control(control_name='Filter', control_description='A dropdown selector used to filter the bar chart based on the GDP column.')]))])"
      ]
     },
     "execution_count": 145,
     "metadata": {},
     "output_type": "execute_result"
    }
   ],
   "execution_count": 145
  },
  {
   "metadata": {
    "ExecuteTime": {
     "end_time": "2024-05-03T10:25:38.744319Z",
     "start_time": "2024-05-03T10:25:38.739849Z"
    }
   },
   "cell_type": "code",
   "source": [
    "def get_dashboard_plan(query: str, model: Union[ChatOpenAI, ChatAnthropic],\n",
    "                       max_retry: int = 3) -> PagePlanner:\n",
    "    return get_model(query, model, result_model=DashboardPlanner, max_retry=max_retry)"
   ],
   "id": "79dbbd53ecd1f6bd",
   "outputs": [],
   "execution_count": 148
  },
  {
   "metadata": {
    "ExecuteTime": {
     "end_time": "2024-05-03T10:25:49.305651Z",
     "start_time": "2024-05-03T10:25:39.748102Z"
    }
   },
   "cell_type": "code",
   "source": "get_dashboard_plan(query, model)",
   "id": "f3b5c3fea03eb300",
   "outputs": [
    {
     "data": {
      "text/plain": [
       "DashboardPlanner(pages=[PagePlanner(title='My wonderful jolly dashboard showing a lot of data', components=Components(components=[Component(component_name='Graph', component_description='A stacked bar chart that visualizes data, filtered by GDP using a dropdown selector.'), Component(component_name='Graph', component_description=\"A scatter chart colored by the 'continent' column, showing the relationship between different data points.\"), Component(component_name='AgGrid', component_description='A table that displays the underlying data for the charts.')]), controls=Controls(controls=[Control(control_name='Filter', control_description='A dropdown selector used to filter data in the bar chart based on the GDP column.')]))])"
      ]
     },
     "execution_count": 149,
     "metadata": {},
     "output_type": "execute_result"
    }
   ],
   "execution_count": 149
  },
  {
   "metadata": {},
   "cell_type": "code",
   "outputs": [],
   "execution_count": null,
   "source": "",
   "id": "cb3385a0ec149c99"
  }
 ],
 "metadata": {
  "kernelspec": {
   "display_name": "Python 3 (ipykernel)",
   "language": "python",
   "name": "python3"
  },
  "language_info": {
   "codemirror_mode": {
    "name": "ipython",
    "version": 3
   },
   "file_extension": ".py",
   "mimetype": "text/x-python",
   "name": "python",
   "nbconvert_exporter": "python",
   "pygments_lexer": "ipython3",
   "version": "3.9.12"
  }
 },
 "nbformat": 4,
 "nbformat_minor": 5
}
