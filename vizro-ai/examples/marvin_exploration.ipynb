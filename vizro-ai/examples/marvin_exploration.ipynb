{
 "cells": [
  {
   "cell_type": "code",
   "id": "5999ceb3-7621-4121-85a2-a9766c593807",
   "metadata": {
    "ExecuteTime": {
     "end_time": "2024-04-30T16:27:41.951177Z",
     "start_time": "2024-04-30T16:27:41.917439Z"
    }
   },
   "source": [
    "from dotenv import load_dotenv\n",
    "load_dotenv()"
   ],
   "outputs": [
    {
     "data": {
      "text/plain": [
       "True"
      ]
     },
     "execution_count": 1,
     "metadata": {},
     "output_type": "execute_result"
    }
   ],
   "execution_count": 1
  },
  {
   "cell_type": "code",
   "id": "b1c26a9bcbb55594",
   "metadata": {
    "ExecuteTime": {
     "end_time": "2024-04-30T14:57:38.272728Z",
     "start_time": "2024-04-30T14:57:36.735269Z"
    }
   },
   "source": [
    "import feedparser\n",
    "podcast_atom_link = \"https://api.substack.com/feed/podcast/1084089.rss\" # latent space podcastbbbbb\n",
    "parsed = feedparser.parse(podcast_atom_link)\n",
    "episode = [ep for ep in parsed.entries if ep['title'] == \"Why AI Agents Don't Work (yet) - with Kanjun Qiu of Imbue\"][0]\n",
    "episode_summary = episode['summary']\n",
    "print(episode_summary[:100])"
   ],
   "outputs": [
    {
     "name": "stdout",
     "output_type": "stream",
     "text": [
      "<p><em>Thanks to the </em><em>over 11,000 people</em><em> who joined us for the first AI Engineer Su\n"
     ]
    }
   ],
   "execution_count": 3
  },
  {
   "cell_type": "code",
   "id": "b2453c8d23e361d3",
   "metadata": {
    "ExecuteTime": {
     "end_time": "2024-04-30T14:57:40.497655Z",
     "start_time": "2024-04-30T14:57:38.275270Z"
    }
   },
   "source": [
    "from unstructured.partition.html import partition_html\n",
    "parsed_summary = partition_html(text=''.join(episode_summary)) \n",
    "start_of_transcript = [x.text for x in parsed_summary].index(\"Transcript\") + 1\n",
    "print(f\"First line of the transcript: {start_of_transcript}\")\n",
    "text = '\\n'.join(t.text for t in parsed_summary[start_of_transcript:])\n",
    "text = text[:3508] # shortening the transcript for speed & cost"
   ],
   "outputs": [
    {
     "name": "stdout",
     "output_type": "stream",
     "text": [
      "First line of the transcript: 60\n"
     ]
    }
   ],
   "execution_count": 4
  },
  {
   "cell_type": "code",
   "id": "2b9e4bfbb43f7e7d",
   "metadata": {
    "ExecuteTime": {
     "end_time": "2024-04-30T14:57:40.504357Z",
     "start_time": "2024-04-30T14:57:40.499339Z"
    }
   },
   "source": [
    "text"
   ],
   "outputs": [
    {
     "data": {
      "text/plain": [
       "\"Alessio: Hey everyone, welcome to the Latent Space Podcast. This is Alessio, Partner and CTO at Residence at Decibel Partners, and I'm joined by my co-host Swyx, founder of Smol.ai. [00:00:19]\\nSwyx: Hey, and today in the studio we have Kanjun from Imbue. Welcome. So you and I have, I guess, crossed paths a number of times. You're formerly named Generally Intelligent and you've just announced your rename, rebrand in huge, humongous ways. So congrats on all of that. And we're here to dive in into deeper detail on Imbue. We like to introduce you on a high level basis, but then have you go into a little bit more of your personal side. So you graduated your BS at MIT and you also spent some time at the MIT Media Lab, one of the most famous, I guess, computer hacking labs in the world. Then you graduated MIT and you went straight into BizOps at Dropbox, where you're eventually chief of staff, which is a pretty interesting role we can dive into later. And then it seems like the founder bug hit you. You were basically a three times founder at Ember, Sorceress, and now at Generally Intelligent slash Imbue. What should people know about you on the personal side that's not on your LinkedIn? That's something you're very passionate about outside of work. [00:01:12]\\nKanjun: Yeah. I think if you ask any of my friends, they would tell you that I'm obsessed with agency, like human agency and human potential. [00:01:19]\\nSwyx: That's work. Come on.\\nKanjun: It's not work. What are you talking about?\\nSwyx: So what's an example of human agency that you try to promote? [00:01:27]\\nKanjun: With all of my friends, I have a lot of conversations with them that's kind of helping figure out what's blocking them. I guess I do this with a team kind of automatically too. And I think about it for myself often, like building systems. I have a lot of systems to help myself be more effective. At Dropbox, I used to give this onboarding talk called How to Be Effective, which people liked. I think like a thousand people heard this onboarding talk, and I think maybe Dropbox was more effective. I think I just really believe that as humans, we can be a lot more than we are. And it's what drives everything. I guess completely outside of work, I do dance. I do partner dance. [00:02:03]\\nSwyx: Yeah. Lots of interest in that stuff, especially in the sort of group living houses in San Francisco, which I've been a little bit part of, and you've also run one of those. [00:02:12]\\nKanjun: That's right. Yeah. I started the archive with two friends, with Josh, my co-founder, and a couple of other folks in 2015. That's right. And GPT-3, our housemates built. [00:02:22]\\nSwyx: Was that the, I guess, the precursor to Generally Intelligent, that you started doing more things with Josh? Is that how that relationship started? Yeah. [00:02:30]\\nKanjun: This is our third company together. Our first company, Josh poached me from Dropbox for Ember. And there we built a really interesting technology, laser raster projector, VR headset. And then we were like, VR is not the thing we're most passionate about. And actually it was kind of early days when we both realized we really do believe that in our lifetimes, like computers that are intelligent are going to be able to allow us to do much more than we can do today as people and be much more as people than we can be today. And at that time, we actually, after Ember, we were like, work on AI research or start an AI lab. A bunch of our housemates were joining OpenA\""
      ]
     },
     "execution_count": 5,
     "metadata": {},
     "output_type": "execute_result"
    }
   ],
   "execution_count": 5
  },
  {
   "cell_type": "markdown",
   "id": "92a78d36-4884-41e1-86d7-bd42c5551cf1",
   "metadata": {
    "jp-MarkdownHeadingCollapsed": true
   },
   "source": [
    "## OpenAI"
   ]
  },
  {
   "cell_type": "code",
   "execution_count": 5,
   "id": "04352436-ccb7-4d06-becb-b177acdbdfac",
   "metadata": {},
   "outputs": [],
   "source": [
    "import os\n",
    "from openai import OpenAI\n",
    "\n",
    "client = OpenAI(\n",
    "    # This is the default and can be omitted\n",
    "    api_key=os.environ.get(\"OPENAI_API_KEY\"),\n",
    ")\n",
    "\n",
    "chat_completion = client.chat.completions.create(\n",
    "    messages=[\n",
    "        {\n",
    "            \"role\": \"user\",\n",
    "            \"content\": \"Say this is a test\",\n",
    "        }\n",
    "    ],\n",
    "    model=\"gpt-3.5-turbo\",\n",
    ")"
   ]
  },
  {
   "cell_type": "code",
   "execution_count": null,
   "id": "88ec0097-a26f-4b42-8a62-c8eb353dbc43",
   "metadata": {},
   "outputs": [],
   "source": []
  },
  {
   "cell_type": "markdown",
   "id": "31991cc54c9968b",
   "metadata": {},
   "source": [
    "## Marvin"
   ]
  },
  {
   "cell_type": "markdown",
   "id": "c204cb99-9f00-4c91-bcdd-0a7cb58ce1f0",
   "metadata": {},
   "source": [
    "### Minimal examples"
   ]
  },
  {
   "cell_type": "code",
   "id": "97570fb5-159f-4ba3-932b-aaf3d0539b30",
   "metadata": {
    "ExecuteTime": {
     "end_time": "2024-04-30T16:27:49.574244Z",
     "start_time": "2024-04-30T16:27:47.432574Z"
    }
   },
   "source": [
    "import marvin\n",
    "from pydantic import BaseModel"
   ],
   "outputs": [],
   "execution_count": 2
  },
  {
   "cell_type": "code",
   "execution_count": 10,
   "id": "48af1ac2-debb-418a-9d4a-ee71b465270c",
   "metadata": {},
   "outputs": [
    {
     "data": {
      "text/plain": [
       "Location(city='New York', state='New York')"
      ]
     },
     "execution_count": 10,
     "metadata": {},
     "output_type": "execute_result"
    }
   ],
   "source": [
    "class Location(BaseModel):\n",
    "    city: str\n",
    "    state: str\n",
    "\n",
    "marvin.cast(\"the big apple\", target=Location)"
   ]
  },
  {
   "cell_type": "code",
   "execution_count": 11,
   "id": "8dde8d50-4189-4481-af8f-e342ad01acc5",
   "metadata": {},
   "outputs": [],
   "source": [
    "class Location(BaseModel):\n",
    "    city: str\n",
    "    state: str\n",
    "\n",
    "locations = marvin.extract(\n",
    "    \"They've got a game in NY, then they go to DC before Los Angeles.\",\n",
    "    target=Location\n",
    ")"
   ]
  },
  {
   "cell_type": "code",
   "execution_count": 12,
   "id": "95274716-82cc-4fd6-b322-2f8eb5ca716f",
   "metadata": {},
   "outputs": [
    {
     "data": {
      "text/plain": [
       "[Location(city='New York', state='NY'),\n",
       " Location(city='Washington', state='DC'),\n",
       " Location(city='Los Angeles', state='CA')]"
      ]
     },
     "execution_count": 12,
     "metadata": {},
     "output_type": "execute_result"
    }
   ],
   "source": [
    "locations"
   ]
  },
  {
   "cell_type": "code",
   "execution_count": 13,
   "id": "30f2f164-18ff-4884-afd4-69d38c7f1d3d",
   "metadata": {},
   "outputs": [],
   "source": [
    "class Location(BaseModel):\n",
    "    city: str\n",
    "    state: str\n",
    "\n",
    "locations = marvin.generate(\n",
    "    n=4,\n",
    "    target=Location,\n",
    "    instructions=\"US cities named after presidents\",\n",
    ")"
   ]
  },
  {
   "cell_type": "code",
   "execution_count": 15,
   "id": "7b4a4a78-ac51-49da-a906-b9b252851fe2",
   "metadata": {},
   "outputs": [
    {
     "data": {
      "text/plain": [
       "[Location(city='Jackson', state='Mississippi'),\n",
       " Location(city='Madison', state='Wisconsin'),\n",
       " Location(city='Jefferson City', state='Missouri'),\n",
       " Location(city='Lincoln', state='Nebraska')]"
      ]
     },
     "execution_count": 15,
     "metadata": {},
     "output_type": "execute_result"
    }
   ],
   "source": [
    "locations"
   ]
  },
  {
   "cell_type": "code",
   "execution_count": 16,
   "id": "868b6805-ba4a-49c7-aff4-573aa64a8ca8",
   "metadata": {},
   "outputs": [],
   "source": [
    "@marvin.fn\n",
    "def sentiment(text: str) -> float:\n",
    "    \"\"\"\n",
    "    Returns a sentiment score for `text` on a \n",
    "    scale of -1.0 (negative) to 1.0 (positive)\n",
    "    \"\"\""
   ]
  },
  {
   "cell_type": "code",
   "execution_count": 18,
   "id": "9277342831f8019a",
   "metadata": {},
   "outputs": [
    {
     "name": "stdout",
     "output_type": "stream",
     "text": [
      "0.8\n",
      "-0.2\n"
     ]
    }
   ],
   "source": [
    "print(sentiment(\"I love Marvin!\")) # 0.8\n",
    "print(sentiment(\"This example could use some work...\")) # -0.2"
   ]
  },
  {
   "cell_type": "code",
   "execution_count": 19,
   "id": "709c4993-398d-4df7-a642-be2e845f002b",
   "metadata": {},
   "outputs": [
    {
     "data": {
      "text/plain": [
       "['Pembroke Welsh Corgi', 'Yorkshire Terrier mix']"
      ]
     },
     "execution_count": 19,
     "metadata": {},
     "output_type": "execute_result"
    }
   ],
   "source": [
    "import marvin\n",
    "\n",
    "img = marvin.beta.Image(\n",
    "    'https://images.unsplash.com/photo-1548199973-03cce0bbc87b',\n",
    ")\n",
    "\n",
    "result = marvin.beta.extract(img, target=str, instructions='dog breeds')\n",
    "result"
   ]
  },
  {
   "metadata": {
    "ExecuteTime": {
     "end_time": "2024-04-30T16:29:28.417949Z",
     "start_time": "2024-04-30T16:29:28.411835Z"
    }
   },
   "cell_type": "code",
   "source": [
    "# Retry example\n",
    "from pydantic import BaseModel, Field, field_validator\n",
    "\n",
    "\n",
    "class Actor(BaseModel):\n",
    "    name: str = Field(description=\"name of an actor\")\n",
    "    country_origin: str = Field(description=\"Country they were born in\")\n",
    "\n",
    "    @field_validator('country_origin')\n",
    "    @classmethod\n",
    "    def country_upper(cls, v: str) -> str:\n",
    "        if not v.isupper():\n",
    "            raise ValueError('Must be all caps!')\n",
    "        return v\n",
    "\n",
    "\n",
    "actor_query = \"Generate the info for a random actor that is not from the US.\""
   ],
   "id": "49be3a616b2b43ea",
   "outputs": [],
   "execution_count": 4
  },
  {
   "metadata": {
    "ExecuteTime": {
     "end_time": "2024-04-30T16:29:31.786085Z",
     "start_time": "2024-04-30T16:29:29.650629Z"
    }
   },
   "cell_type": "code",
   "source": [
    "marvin.generate(\n",
    "    # n=4,\n",
    "    target=Actor,\n",
    "    instructions=actor_query,\n",
    ")"
   ],
   "id": "980e3d51a425b3e2",
   "outputs": [
    {
     "ename": "ValidationError",
     "evalue": "1 validation error for FormatResponse\nvalue.0.country_origin\n  Value error, Must be all caps! [type=value_error, input_value='Ireland', input_type=str]\n    For further information visit https://errors.pydantic.dev/2.7/v/value_error",
     "output_type": "error",
     "traceback": [
      "\u001B[0;31m---------------------------------------------------------------------------\u001B[0m",
      "\u001B[0;31mValidationError\u001B[0m                           Traceback (most recent call last)",
      "Cell \u001B[0;32mIn[5], line 1\u001B[0m\n\u001B[0;32m----> 1\u001B[0m \u001B[43mmarvin\u001B[49m\u001B[38;5;241;43m.\u001B[39;49m\u001B[43mgenerate\u001B[49m\u001B[43m(\u001B[49m\n\u001B[1;32m      2\u001B[0m \u001B[43m    \u001B[49m\u001B[38;5;66;43;03m# n=4,\u001B[39;49;00m\n\u001B[1;32m      3\u001B[0m \u001B[43m    \u001B[49m\u001B[43mtarget\u001B[49m\u001B[38;5;241;43m=\u001B[39;49m\u001B[43mActor\u001B[49m\u001B[43m,\u001B[49m\n\u001B[1;32m      4\u001B[0m \u001B[43m    \u001B[49m\u001B[43minstructions\u001B[49m\u001B[38;5;241;43m=\u001B[39;49m\u001B[43mactor_query\u001B[49m\u001B[43m,\u001B[49m\n\u001B[1;32m      5\u001B[0m \u001B[43m)\u001B[49m\n",
      "File \u001B[0;32m~/Library/Application Support/hatch/env/virtual/vizro-ai/fZiNbsWT/vizro-ai/lib/python3.9/site-packages/marvin/ai/text.py:859\u001B[0m, in \u001B[0;36mgenerate\u001B[0;34m(target, instructions, n, use_cache, temperature, model_kwargs, client)\u001B[0m\n\u001B[1;32m    828\u001B[0m \u001B[38;5;28;01mdef\u001B[39;00m \u001B[38;5;21mgenerate\u001B[39m(\n\u001B[1;32m    829\u001B[0m     target: Optional[\u001B[38;5;28mtype\u001B[39m[T]] \u001B[38;5;241m=\u001B[39m \u001B[38;5;28;01mNone\u001B[39;00m,\n\u001B[1;32m    830\u001B[0m     instructions: Optional[\u001B[38;5;28mstr\u001B[39m] \u001B[38;5;241m=\u001B[39m \u001B[38;5;28;01mNone\u001B[39;00m,\n\u001B[0;32m   (...)\u001B[0m\n\u001B[1;32m    835\u001B[0m     client: Optional[AsyncMarvinClient] \u001B[38;5;241m=\u001B[39m \u001B[38;5;28;01mNone\u001B[39;00m,\n\u001B[1;32m    836\u001B[0m ) \u001B[38;5;241m-\u001B[39m\u001B[38;5;241m>\u001B[39m \u001B[38;5;28mlist\u001B[39m[T]:\n\u001B[1;32m    837\u001B[0m \u001B[38;5;250m    \u001B[39m\u001B[38;5;124;03m\"\"\"\u001B[39;00m\n\u001B[1;32m    838\u001B[0m \u001B[38;5;124;03m    Generates a list of 'n' items of the provided type or based on instructions.\u001B[39;00m\n\u001B[1;32m    839\u001B[0m \n\u001B[0;32m   (...)\u001B[0m\n\u001B[1;32m    857\u001B[0m \u001B[38;5;124;03m        list: A list of generated items.\u001B[39;00m\n\u001B[1;32m    858\u001B[0m \u001B[38;5;124;03m    \"\"\"\u001B[39;00m\n\u001B[0;32m--> 859\u001B[0m     \u001B[38;5;28;01mreturn\u001B[39;00m \u001B[43mrun_sync\u001B[49m\u001B[43m(\u001B[49m\n\u001B[1;32m    860\u001B[0m \u001B[43m        \u001B[49m\u001B[43mgenerate_async\u001B[49m\u001B[43m(\u001B[49m\n\u001B[1;32m    861\u001B[0m \u001B[43m            \u001B[49m\u001B[43mtarget\u001B[49m\u001B[38;5;241;43m=\u001B[39;49m\u001B[43mtarget\u001B[49m\u001B[43m,\u001B[49m\n\u001B[1;32m    862\u001B[0m \u001B[43m            \u001B[49m\u001B[43minstructions\u001B[49m\u001B[38;5;241;43m=\u001B[39;49m\u001B[43minstructions\u001B[49m\u001B[43m,\u001B[49m\n\u001B[1;32m    863\u001B[0m \u001B[43m            \u001B[49m\u001B[43mn\u001B[49m\u001B[38;5;241;43m=\u001B[39;49m\u001B[43mn\u001B[49m\u001B[43m,\u001B[49m\n\u001B[1;32m    864\u001B[0m \u001B[43m            \u001B[49m\u001B[43muse_cache\u001B[49m\u001B[38;5;241;43m=\u001B[39;49m\u001B[43muse_cache\u001B[49m\u001B[43m,\u001B[49m\n\u001B[1;32m    865\u001B[0m \u001B[43m            \u001B[49m\u001B[43mtemperature\u001B[49m\u001B[38;5;241;43m=\u001B[39;49m\u001B[43mtemperature\u001B[49m\u001B[43m,\u001B[49m\n\u001B[1;32m    866\u001B[0m \u001B[43m            \u001B[49m\u001B[43mmodel_kwargs\u001B[49m\u001B[38;5;241;43m=\u001B[39;49m\u001B[43mmodel_kwargs\u001B[49m\u001B[43m,\u001B[49m\n\u001B[1;32m    867\u001B[0m \u001B[43m            \u001B[49m\u001B[43mclient\u001B[49m\u001B[38;5;241;43m=\u001B[39;49m\u001B[43mclient\u001B[49m\u001B[43m,\u001B[49m\n\u001B[1;32m    868\u001B[0m \u001B[43m        \u001B[49m\u001B[43m)\u001B[49m\n\u001B[1;32m    869\u001B[0m \u001B[43m    \u001B[49m\u001B[43m)\u001B[49m\n",
      "File \u001B[0;32m~/Library/Application Support/hatch/env/virtual/vizro-ai/fZiNbsWT/vizro-ai/lib/python3.9/site-packages/marvin/utilities/asyncio.py:99\u001B[0m, in \u001B[0;36mrun_sync\u001B[0;34m(coroutine)\u001B[0m\n\u001B[1;32m     97\u001B[0m     \u001B[38;5;28;01mwith\u001B[39;00m ThreadPoolExecutor() \u001B[38;5;28;01mas\u001B[39;00m executor:\n\u001B[1;32m     98\u001B[0m         future \u001B[38;5;241m=\u001B[39m executor\u001B[38;5;241m.\u001B[39msubmit(asyncio\u001B[38;5;241m.\u001B[39mrun, coroutine)\n\u001B[0;32m---> 99\u001B[0m         \u001B[38;5;28;01mreturn\u001B[39;00m \u001B[43mfuture\u001B[49m\u001B[38;5;241;43m.\u001B[39;49m\u001B[43mresult\u001B[49m\u001B[43m(\u001B[49m\u001B[43m)\u001B[49m\n\u001B[1;32m    100\u001B[0m \u001B[38;5;28;01melse\u001B[39;00m:\n\u001B[1;32m    101\u001B[0m     \u001B[38;5;28;01mreturn\u001B[39;00m asyncio\u001B[38;5;241m.\u001B[39mrun(coroutine)\n",
      "File \u001B[0;32m~/opt/anaconda3/lib/python3.9/concurrent/futures/_base.py:446\u001B[0m, in \u001B[0;36mFuture.result\u001B[0;34m(self, timeout)\u001B[0m\n\u001B[1;32m    444\u001B[0m     \u001B[38;5;28;01mraise\u001B[39;00m CancelledError()\n\u001B[1;32m    445\u001B[0m \u001B[38;5;28;01melif\u001B[39;00m \u001B[38;5;28mself\u001B[39m\u001B[38;5;241m.\u001B[39m_state \u001B[38;5;241m==\u001B[39m FINISHED:\n\u001B[0;32m--> 446\u001B[0m     \u001B[38;5;28;01mreturn\u001B[39;00m \u001B[38;5;28;43mself\u001B[39;49m\u001B[38;5;241;43m.\u001B[39;49m\u001B[43m__get_result\u001B[49m\u001B[43m(\u001B[49m\u001B[43m)\u001B[49m\n\u001B[1;32m    447\u001B[0m \u001B[38;5;28;01melse\u001B[39;00m:\n\u001B[1;32m    448\u001B[0m     \u001B[38;5;28;01mraise\u001B[39;00m \u001B[38;5;167;01mTimeoutError\u001B[39;00m()\n",
      "File \u001B[0;32m~/opt/anaconda3/lib/python3.9/concurrent/futures/_base.py:391\u001B[0m, in \u001B[0;36mFuture.__get_result\u001B[0;34m(self)\u001B[0m\n\u001B[1;32m    389\u001B[0m \u001B[38;5;28;01mif\u001B[39;00m \u001B[38;5;28mself\u001B[39m\u001B[38;5;241m.\u001B[39m_exception:\n\u001B[1;32m    390\u001B[0m     \u001B[38;5;28;01mtry\u001B[39;00m:\n\u001B[0;32m--> 391\u001B[0m         \u001B[38;5;28;01mraise\u001B[39;00m \u001B[38;5;28mself\u001B[39m\u001B[38;5;241m.\u001B[39m_exception\n\u001B[1;32m    392\u001B[0m     \u001B[38;5;28;01mfinally\u001B[39;00m:\n\u001B[1;32m    393\u001B[0m         \u001B[38;5;66;03m# Break a reference cycle with the exception in self._exception\u001B[39;00m\n\u001B[1;32m    394\u001B[0m         \u001B[38;5;28mself\u001B[39m \u001B[38;5;241m=\u001B[39m \u001B[38;5;28;01mNone\u001B[39;00m\n",
      "File \u001B[0;32m~/opt/anaconda3/lib/python3.9/concurrent/futures/thread.py:58\u001B[0m, in \u001B[0;36m_WorkItem.run\u001B[0;34m(self)\u001B[0m\n\u001B[1;32m     55\u001B[0m     \u001B[38;5;28;01mreturn\u001B[39;00m\n\u001B[1;32m     57\u001B[0m \u001B[38;5;28;01mtry\u001B[39;00m:\n\u001B[0;32m---> 58\u001B[0m     result \u001B[38;5;241m=\u001B[39m \u001B[38;5;28;43mself\u001B[39;49m\u001B[38;5;241;43m.\u001B[39;49m\u001B[43mfn\u001B[49m\u001B[43m(\u001B[49m\u001B[38;5;241;43m*\u001B[39;49m\u001B[38;5;28;43mself\u001B[39;49m\u001B[38;5;241;43m.\u001B[39;49m\u001B[43margs\u001B[49m\u001B[43m,\u001B[49m\u001B[43m \u001B[49m\u001B[38;5;241;43m*\u001B[39;49m\u001B[38;5;241;43m*\u001B[39;49m\u001B[38;5;28;43mself\u001B[39;49m\u001B[38;5;241;43m.\u001B[39;49m\u001B[43mkwargs\u001B[49m\u001B[43m)\u001B[49m\n\u001B[1;32m     59\u001B[0m \u001B[38;5;28;01mexcept\u001B[39;00m \u001B[38;5;167;01mBaseException\u001B[39;00m \u001B[38;5;28;01mas\u001B[39;00m exc:\n\u001B[1;32m     60\u001B[0m     \u001B[38;5;28mself\u001B[39m\u001B[38;5;241m.\u001B[39mfuture\u001B[38;5;241m.\u001B[39mset_exception(exc)\n",
      "File \u001B[0;32m~/opt/anaconda3/lib/python3.9/asyncio/runners.py:44\u001B[0m, in \u001B[0;36mrun\u001B[0;34m(main, debug)\u001B[0m\n\u001B[1;32m     42\u001B[0m     \u001B[38;5;28;01mif\u001B[39;00m debug \u001B[38;5;129;01mis\u001B[39;00m \u001B[38;5;129;01mnot\u001B[39;00m \u001B[38;5;28;01mNone\u001B[39;00m:\n\u001B[1;32m     43\u001B[0m         loop\u001B[38;5;241m.\u001B[39mset_debug(debug)\n\u001B[0;32m---> 44\u001B[0m     \u001B[38;5;28;01mreturn\u001B[39;00m \u001B[43mloop\u001B[49m\u001B[38;5;241;43m.\u001B[39;49m\u001B[43mrun_until_complete\u001B[49m\u001B[43m(\u001B[49m\u001B[43mmain\u001B[49m\u001B[43m)\u001B[49m\n\u001B[1;32m     45\u001B[0m \u001B[38;5;28;01mfinally\u001B[39;00m:\n\u001B[1;32m     46\u001B[0m     \u001B[38;5;28;01mtry\u001B[39;00m:\n",
      "File \u001B[0;32m~/opt/anaconda3/lib/python3.9/asyncio/base_events.py:647\u001B[0m, in \u001B[0;36mBaseEventLoop.run_until_complete\u001B[0;34m(self, future)\u001B[0m\n\u001B[1;32m    644\u001B[0m \u001B[38;5;28;01mif\u001B[39;00m \u001B[38;5;129;01mnot\u001B[39;00m future\u001B[38;5;241m.\u001B[39mdone():\n\u001B[1;32m    645\u001B[0m     \u001B[38;5;28;01mraise\u001B[39;00m \u001B[38;5;167;01mRuntimeError\u001B[39;00m(\u001B[38;5;124m'\u001B[39m\u001B[38;5;124mEvent loop stopped before Future completed.\u001B[39m\u001B[38;5;124m'\u001B[39m)\n\u001B[0;32m--> 647\u001B[0m \u001B[38;5;28;01mreturn\u001B[39;00m \u001B[43mfuture\u001B[49m\u001B[38;5;241;43m.\u001B[39;49m\u001B[43mresult\u001B[49m\u001B[43m(\u001B[49m\u001B[43m)\u001B[49m\n",
      "File \u001B[0;32m~/Library/Application Support/hatch/env/virtual/vizro-ai/fZiNbsWT/vizro-ai/lib/python3.9/site-packages/marvin/ai/text.py:424\u001B[0m, in \u001B[0;36mgenerate_async\u001B[0;34m(target, instructions, n, use_cache, temperature, model_kwargs, client)\u001B[0m\n\u001B[1;32m    422\u001B[0m result \u001B[38;5;241m=\u001B[39m [\u001B[38;5;241m0\u001B[39m] \u001B[38;5;241m*\u001B[39m (n \u001B[38;5;241m+\u001B[39m \u001B[38;5;241m1\u001B[39m)\n\u001B[1;32m    423\u001B[0m \u001B[38;5;28;01mwhile\u001B[39;00m \u001B[38;5;28mlen\u001B[39m(result) \u001B[38;5;241m!=\u001B[39m n:\n\u001B[0;32m--> 424\u001B[0m     result \u001B[38;5;241m=\u001B[39m \u001B[38;5;28;01mawait\u001B[39;00m _generate_typed_llm_response_with_tool(\n\u001B[1;32m    425\u001B[0m         prompt_template\u001B[38;5;241m=\u001B[39mGENERATE_PROMPT,\n\u001B[1;32m    426\u001B[0m         prompt_kwargs\u001B[38;5;241m=\u001B[39m\u001B[38;5;28mdict\u001B[39m(\n\u001B[1;32m    427\u001B[0m             type_\u001B[38;5;241m=\u001B[39mtarget,\n\u001B[1;32m    428\u001B[0m             n\u001B[38;5;241m=\u001B[39mn,\n\u001B[1;32m    429\u001B[0m             instructions\u001B[38;5;241m=\u001B[39minstructions,\n\u001B[1;32m    430\u001B[0m             previous_responses\u001B[38;5;241m=\u001B[39mprevious_responses,\n\u001B[1;32m    431\u001B[0m         ),\n\u001B[1;32m    432\u001B[0m         type_\u001B[38;5;241m=\u001B[39m\u001B[38;5;28mlist\u001B[39m[target],\n\u001B[1;32m    433\u001B[0m         model_kwargs\u001B[38;5;241m=\u001B[39m(model_kwargs \u001B[38;5;129;01mor\u001B[39;00m {}) \u001B[38;5;241m|\u001B[39m \u001B[38;5;28mdict\u001B[39m(temperature\u001B[38;5;241m=\u001B[39mtemperature),\n\u001B[1;32m    434\u001B[0m         client\u001B[38;5;241m=\u001B[39mclient,\n\u001B[1;32m    435\u001B[0m     )\n\u001B[1;32m    437\u001B[0m     \u001B[38;5;28;01mif\u001B[39;00m \u001B[38;5;28mlen\u001B[39m(result) \u001B[38;5;241m>\u001B[39m n:\n\u001B[1;32m    438\u001B[0m         result \u001B[38;5;241m=\u001B[39m result[:n]\n",
      "File \u001B[0;32m~/Library/Application Support/hatch/env/virtual/vizro-ai/fZiNbsWT/vizro-ai/lib/python3.9/site-packages/marvin/ai/text.py:155\u001B[0m, in \u001B[0;36m_generate_typed_llm_response_with_tool\u001B[0;34m(prompt_template, type_, tool_name, prompt_kwargs, model_kwargs, client)\u001B[0m\n\u001B[1;32m    151\u001B[0m \u001B[38;5;66;03m# adding the tool parameters to the context helps GPT-4 pay attention to field\u001B[39;00m\n\u001B[1;32m    152\u001B[0m \u001B[38;5;66;03m# descriptions. If they are only in the tool signature it often ignores them.\u001B[39;00m\n\u001B[1;32m    153\u001B[0m prompt_kwargs[\u001B[38;5;124m\"\u001B[39m\u001B[38;5;124mresponse_format\u001B[39m\u001B[38;5;124m\"\u001B[39m] \u001B[38;5;241m=\u001B[39m tool\u001B[38;5;241m.\u001B[39mfunction\u001B[38;5;241m.\u001B[39mparameters\n\u001B[0;32m--> 155\u001B[0m response \u001B[38;5;241m=\u001B[39m \u001B[38;5;28;01mawait\u001B[39;00m generate_llm_response(\n\u001B[1;32m    156\u001B[0m     prompt_template\u001B[38;5;241m=\u001B[39mprompt_template,\n\u001B[1;32m    157\u001B[0m     prompt_kwargs\u001B[38;5;241m=\u001B[39mprompt_kwargs,\n\u001B[1;32m    158\u001B[0m     model_kwargs\u001B[38;5;241m=\u001B[39mmodel_kwargs,\n\u001B[1;32m    159\u001B[0m     client\u001B[38;5;241m=\u001B[39mclient,\n\u001B[1;32m    160\u001B[0m )\n\u001B[1;32m    162\u001B[0m \u001B[38;5;28;01mreturn\u001B[39;00m response\u001B[38;5;241m.\u001B[39mtool_outputs[\u001B[38;5;241m0\u001B[39m]\n",
      "File \u001B[0;32m~/Library/Application Support/hatch/env/virtual/vizro-ai/fZiNbsWT/vizro-ai/lib/python3.9/site-packages/marvin/ai/text.py:94\u001B[0m, in \u001B[0;36mgenerate_llm_response\u001B[0;34m(prompt_template, prompt_kwargs, model_kwargs, client)\u001B[0m\n\u001B[1;32m     92\u001B[0m \u001B[38;5;28;01mif\u001B[39;00m marvin\u001B[38;5;241m.\u001B[39msettings\u001B[38;5;241m.\u001B[39mlog_verbose:\n\u001B[1;32m     93\u001B[0m     logger\u001B[38;5;241m.\u001B[39mdebug_kv(\u001B[38;5;124m\"\u001B[39m\u001B[38;5;124mResponse\u001B[39m\u001B[38;5;124m\"\u001B[39m, response\u001B[38;5;241m.\u001B[39mmodel_dump_json(indent\u001B[38;5;241m=\u001B[39m\u001B[38;5;241m2\u001B[39m))\n\u001B[0;32m---> 94\u001B[0m tool_outputs \u001B[38;5;241m=\u001B[39m \u001B[43m_get_tool_outputs\u001B[49m\u001B[43m(\u001B[49m\u001B[43mrequest\u001B[49m\u001B[43m,\u001B[49m\u001B[43m \u001B[49m\u001B[43mresponse\u001B[49m\u001B[43m)\u001B[49m\n\u001B[1;32m     95\u001B[0m \u001B[38;5;28;01mreturn\u001B[39;00m ChatResponse(request\u001B[38;5;241m=\u001B[39mrequest, response\u001B[38;5;241m=\u001B[39mresponse, tool_outputs\u001B[38;5;241m=\u001B[39mtool_outputs)\n",
      "File \u001B[0;32m~/Library/Application Support/hatch/env/virtual/vizro-ai/fZiNbsWT/vizro-ai/lib/python3.9/site-packages/marvin/ai/text.py:102\u001B[0m, in \u001B[0;36m_get_tool_outputs\u001B[0;34m(request, response)\u001B[0m\n\u001B[1;32m    100\u001B[0m tool_calls \u001B[38;5;241m=\u001B[39m response\u001B[38;5;241m.\u001B[39mchoices[\u001B[38;5;241m0\u001B[39m]\u001B[38;5;241m.\u001B[39mmessage\u001B[38;5;241m.\u001B[39mtool_calls \u001B[38;5;129;01mor\u001B[39;00m []\n\u001B[1;32m    101\u001B[0m \u001B[38;5;28;01mfor\u001B[39;00m tool_call \u001B[38;5;129;01min\u001B[39;00m tool_calls:\n\u001B[0;32m--> 102\u001B[0m     tool_output \u001B[38;5;241m=\u001B[39m \u001B[43mmarvin\u001B[49m\u001B[38;5;241;43m.\u001B[39;49m\u001B[43mutilities\u001B[49m\u001B[38;5;241;43m.\u001B[39;49m\u001B[43mtools\u001B[49m\u001B[38;5;241;43m.\u001B[39;49m\u001B[43mcall_function_tool\u001B[49m\u001B[43m(\u001B[49m\n\u001B[1;32m    103\u001B[0m \u001B[43m        \u001B[49m\u001B[43mtools\u001B[49m\u001B[38;5;241;43m=\u001B[39;49m\u001B[43mrequest\u001B[49m\u001B[38;5;241;43m.\u001B[39;49m\u001B[43mtools\u001B[49m\u001B[43m,\u001B[49m\n\u001B[1;32m    104\u001B[0m \u001B[43m        \u001B[49m\u001B[43mfunction_name\u001B[49m\u001B[38;5;241;43m=\u001B[39;49m\u001B[43mtool_call\u001B[49m\u001B[38;5;241;43m.\u001B[39;49m\u001B[43mfunction\u001B[49m\u001B[38;5;241;43m.\u001B[39;49m\u001B[43mname\u001B[49m\u001B[43m,\u001B[49m\n\u001B[1;32m    105\u001B[0m \u001B[43m        \u001B[49m\u001B[43mfunction_arguments_json\u001B[49m\u001B[38;5;241;43m=\u001B[39;49m\u001B[43mtool_call\u001B[49m\u001B[38;5;241;43m.\u001B[39;49m\u001B[43mfunction\u001B[49m\u001B[38;5;241;43m.\u001B[39;49m\u001B[43marguments\u001B[49m\u001B[43m,\u001B[49m\n\u001B[1;32m    106\u001B[0m \u001B[43m    \u001B[49m\u001B[43m)\u001B[49m\n\u001B[1;32m    107\u001B[0m     outputs\u001B[38;5;241m.\u001B[39mappend(tool_output)\n\u001B[1;32m    108\u001B[0m \u001B[38;5;28;01mreturn\u001B[39;00m outputs\n",
      "File \u001B[0;32m~/Library/Application Support/hatch/env/virtual/vizro-ai/fZiNbsWT/vizro-ai/lib/python3.9/site-packages/marvin/utilities/tools.py:174\u001B[0m, in \u001B[0;36mcall_function_tool\u001B[0;34m(tools, function_name, function_arguments_json, return_string)\u001B[0m\n\u001B[1;32m    170\u001B[0m arguments \u001B[38;5;241m=\u001B[39m json\u001B[38;5;241m.\u001B[39mloads(function_arguments_json)\n\u001B[1;32m    171\u001B[0m logger\u001B[38;5;241m.\u001B[39mdebug_kv(\n\u001B[1;32m    172\u001B[0m     \u001B[38;5;124mf\u001B[39m\u001B[38;5;124m\"\u001B[39m\u001B[38;5;132;01m{\u001B[39;00mtool\u001B[38;5;241m.\u001B[39mfunction\u001B[38;5;241m.\u001B[39mname\u001B[38;5;132;01m}\u001B[39;00m\u001B[38;5;124m\"\u001B[39m, \u001B[38;5;124mf\u001B[39m\u001B[38;5;124m\"\u001B[39m\u001B[38;5;124mcalled with arguments: \u001B[39m\u001B[38;5;132;01m{\u001B[39;00marguments\u001B[38;5;132;01m}\u001B[39;00m\u001B[38;5;124m\"\u001B[39m, \u001B[38;5;124m\"\u001B[39m\u001B[38;5;124mgreen\u001B[39m\u001B[38;5;124m\"\u001B[39m\n\u001B[1;32m    173\u001B[0m )\n\u001B[0;32m--> 174\u001B[0m output \u001B[38;5;241m=\u001B[39m \u001B[43mtool\u001B[49m\u001B[38;5;241;43m.\u001B[39;49m\u001B[43mfunction\u001B[49m\u001B[38;5;241;43m.\u001B[39;49m\u001B[43m_python_fn\u001B[49m\u001B[43m(\u001B[49m\u001B[38;5;241;43m*\u001B[39;49m\u001B[38;5;241;43m*\u001B[39;49m\u001B[43marguments\u001B[49m\u001B[43m)\u001B[49m\n\u001B[1;32m    175\u001B[0m \u001B[38;5;28;01mif\u001B[39;00m inspect\u001B[38;5;241m.\u001B[39misawaitable(output):\n\u001B[1;32m    176\u001B[0m     output \u001B[38;5;241m=\u001B[39m run_sync(output)\n",
      "File \u001B[0;32m~/Library/Application Support/hatch/env/virtual/vizro-ai/fZiNbsWT/vizro-ai/lib/python3.9/site-packages/marvin/utilities/tools.py:84\u001B[0m, in \u001B[0;36mtool_from_type.<locals>.tool_fn\u001B[0;34m(**data)\u001B[0m\n\u001B[1;32m     83\u001B[0m \u001B[38;5;28;01mdef\u001B[39;00m \u001B[38;5;21mtool_fn\u001B[39m(\u001B[38;5;241m*\u001B[39m\u001B[38;5;241m*\u001B[39mdata) \u001B[38;5;241m-\u001B[39m\u001B[38;5;241m>\u001B[39m U:\n\u001B[0;32m---> 84\u001B[0m     \u001B[38;5;28;01mreturn\u001B[39;00m \u001B[43mTypeAdapter\u001B[49m\u001B[43m(\u001B[49m\u001B[43mmodel\u001B[49m\u001B[43m)\u001B[49m\u001B[38;5;241;43m.\u001B[39;49m\u001B[43mvalidate_python\u001B[49m\u001B[43m(\u001B[49m\u001B[43mdata\u001B[49m\u001B[43m)\u001B[49m\u001B[38;5;241m.\u001B[39mvalue\n",
      "File \u001B[0;32m~/Library/Application Support/hatch/env/virtual/vizro-ai/fZiNbsWT/vizro-ai/lib/python3.9/site-packages/pydantic/type_adapter.py:260\u001B[0m, in \u001B[0;36mTypeAdapter.validate_python\u001B[0;34m(self, object, strict, from_attributes, context)\u001B[0m\n\u001B[1;32m    236\u001B[0m \u001B[38;5;28;01mdef\u001B[39;00m \u001B[38;5;21mvalidate_python\u001B[39m(\n\u001B[1;32m    237\u001B[0m     \u001B[38;5;28mself\u001B[39m,\n\u001B[1;32m    238\u001B[0m     \u001B[38;5;28mobject\u001B[39m: Any,\n\u001B[0;32m   (...)\u001B[0m\n\u001B[1;32m    243\u001B[0m     context: \u001B[38;5;28mdict\u001B[39m[\u001B[38;5;28mstr\u001B[39m, Any] \u001B[38;5;241m|\u001B[39m \u001B[38;5;28;01mNone\u001B[39;00m \u001B[38;5;241m=\u001B[39m \u001B[38;5;28;01mNone\u001B[39;00m,\n\u001B[1;32m    244\u001B[0m ) \u001B[38;5;241m-\u001B[39m\u001B[38;5;241m>\u001B[39m T:\n\u001B[1;32m    245\u001B[0m \u001B[38;5;250m    \u001B[39m\u001B[38;5;124;03m\"\"\"Validate a Python object against the model.\u001B[39;00m\n\u001B[1;32m    246\u001B[0m \n\u001B[1;32m    247\u001B[0m \u001B[38;5;124;03m    Args:\u001B[39;00m\n\u001B[0;32m   (...)\u001B[0m\n\u001B[1;32m    258\u001B[0m \u001B[38;5;124;03m        The validated object.\u001B[39;00m\n\u001B[1;32m    259\u001B[0m \u001B[38;5;124;03m    \"\"\"\u001B[39;00m\n\u001B[0;32m--> 260\u001B[0m     \u001B[38;5;28;01mreturn\u001B[39;00m \u001B[38;5;28;43mself\u001B[39;49m\u001B[38;5;241;43m.\u001B[39;49m\u001B[43mvalidator\u001B[49m\u001B[38;5;241;43m.\u001B[39;49m\u001B[43mvalidate_python\u001B[49m\u001B[43m(\u001B[49m\u001B[38;5;28;43mobject\u001B[39;49m\u001B[43m,\u001B[49m\u001B[43m \u001B[49m\u001B[43mstrict\u001B[49m\u001B[38;5;241;43m=\u001B[39;49m\u001B[43mstrict\u001B[49m\u001B[43m,\u001B[49m\u001B[43m \u001B[49m\u001B[43mfrom_attributes\u001B[49m\u001B[38;5;241;43m=\u001B[39;49m\u001B[43mfrom_attributes\u001B[49m\u001B[43m,\u001B[49m\u001B[43m \u001B[49m\u001B[43mcontext\u001B[49m\u001B[38;5;241;43m=\u001B[39;49m\u001B[43mcontext\u001B[49m\u001B[43m)\u001B[49m\n",
      "\u001B[0;31mValidationError\u001B[0m: 1 validation error for FormatResponse\nvalue.0.country_origin\n  Value error, Must be all caps! [type=value_error, input_value='Ireland', input_type=str]\n    For further information visit https://errors.pydantic.dev/2.7/v/value_error"
     ]
    }
   ],
   "execution_count": 5
  },
  {
   "cell_type": "markdown",
   "id": "d43649a2-2619-443a-abd2-4a1769cebe33",
   "metadata": {},
   "source": [
    "### Blog example"
   ]
  },
  {
   "metadata": {
    "ExecuteTime": {
     "end_time": "2024-04-30T15:02:14.792746Z",
     "start_time": "2024-04-30T15:02:14.788861Z"
    }
   },
   "cell_type": "code",
   "source": [
    "from marvin import model\n",
    "from pydantic import BaseModel\n",
    "from typing import Optional, List\n",
    "from pydantic import Field"
   ],
   "id": "16c19429b81e218e",
   "outputs": [],
   "execution_count": 12
  },
  {
   "cell_type": "code",
   "id": "0e9a348d-5370-4f07-b1ff-4f3aa5e40ad7",
   "metadata": {
    "ExecuteTime": {
     "end_time": "2024-04-30T14:58:21.203937Z",
     "start_time": "2024-04-30T14:58:13.571872Z"
    }
   },
   "source": [
    "class Person(BaseModel):\n",
    "    name: str\n",
    "    school: Optional[str] = Field(..., description=\"The school this person attended\")\n",
    "    company: Optional[str] = Field(..., description=\"The company this person works for\")\n",
    "\n",
    "@model\n",
    "class People(BaseModel):\n",
    "    people: List[Person]\n",
    "People(text)"
   ],
   "outputs": [
    {
     "data": {
      "text/plain": [
       "People(people=[Person(name='Alessio', school=None, company='Decibel Partners'), Person(name='Swyx', school=None, company='Smol.ai'), Person(name='Kanjun', school='MIT', company='Imbue')])"
      ]
     },
     "execution_count": 7,
     "metadata": {},
     "output_type": "execute_result"
    }
   ],
   "execution_count": 7
  },
  {
   "cell_type": "code",
   "id": "a2d940f3-83e3-4eba-8a5d-575d90a1edb0",
   "metadata": {
    "ExecuteTime": {
     "end_time": "2024-04-30T14:58:28.392179Z",
     "start_time": "2024-04-30T14:58:21.207276Z"
    }
   },
   "source": [
    "@model(instructions=\"Get the following information from the text\")\n",
    "class People(BaseModel):\n",
    "    people: List[Person]\n",
    "People(text)\n",
    "\n"
   ],
   "outputs": [
    {
     "data": {
      "text/plain": [
       "People(people=[Person(name='Alessio', school=None, company='Decibel Partners'), Person(name='Swyx', school=None, company='Smol.ai'), Person(name='Kanjun', school='MIT', company='Imbue')])"
      ]
     },
     "execution_count": 8,
     "metadata": {},
     "output_type": "execute_result"
    }
   ],
   "execution_count": 8
  },
  {
   "metadata": {
    "ExecuteTime": {
     "end_time": "2024-04-30T14:58:42.580151Z",
     "start_time": "2024-04-30T14:58:28.393126Z"
    }
   },
   "cell_type": "code",
   "source": [
    "class Company(BaseModel):\n",
    "    name:str\n",
    "\n",
    "class ResearchPaper(BaseModel):\n",
    "    paper_name:str = Field(..., description=\"an academic paper reference discussed\")\n",
    "\n",
    "@model(instructions=\"Get the following information from the text\")\n",
    "class ExtractedInfo(BaseModel):\n",
    "    people: List[Person]\n",
    "    companies: List[Company]\n",
    "    research_papers: Optional[List[ResearchPaper]]\n",
    "\n",
    "ExtractedInfo(text)"
   ],
   "id": "815b0d6b28aff371",
   "outputs": [
    {
     "data": {
      "text/plain": [
       "ExtractedInfo(people=[Person(name='Alessio', school=None, company='Decibel Partners'), Person(name='Swyx', school=None, company='Smol.ai'), Person(name='Kanjun', school='MIT', company='Imbue')], companies=[Company(name='Decibel Partners'), Company(name='Smol.ai'), Company(name='Imbue'), Company(name='Dropbox'), Company(name='Ember'), Company(name='Sorceress'), Company(name='Generally Intelligent'), Company(name='MIT Media Lab'), Company(name='OpenAI')], research_papers=None)"
      ]
     },
     "execution_count": 9,
     "metadata": {},
     "output_type": "execute_result"
    }
   ],
   "execution_count": 9
  },
  {
   "metadata": {},
   "cell_type": "markdown",
   "source": "## Pydantic V1",
   "id": "c0f69a1639c4ca2d"
  },
  {
   "metadata": {
    "ExecuteTime": {
     "end_time": "2024-04-30T15:02:17.852338Z",
     "start_time": "2024-04-30T15:02:17.849550Z"
    }
   },
   "cell_type": "code",
   "source": "from pydantic.v1 import BaseModel as BaseModelV1",
   "id": "5d9f8ba35d9ff72d",
   "outputs": [],
   "execution_count": 13
  },
  {
   "metadata": {
    "ExecuteTime": {
     "end_time": "2024-04-30T15:02:32.924302Z",
     "start_time": "2024-04-30T15:02:31.486306Z"
    }
   },
   "cell_type": "code",
   "source": [
    "class Location(BaseModelV1):\n",
    "    city: str\n",
    "    state: str\n",
    "\n",
    "marvin.cast(\"the big apple\", target=Location)"
   ],
   "id": "63a7a194ea8e2b74",
   "outputs": [
    {
     "ename": "PydanticInvalidForJsonSchema",
     "evalue": "Cannot generate a JsonSchema for core_schema.PlainValidatorFunctionSchema ({'type': 'with-info', 'function': <bound method BaseModel.validate of <class '__main__.Location'>>})\n\nFor further information visit https://errors.pydantic.dev/2.7/u/invalid-for-json-schema",
     "output_type": "error",
     "traceback": [
      "\u001B[0;31m---------------------------------------------------------------------------\u001B[0m",
      "\u001B[0;31mPydanticInvalidForJsonSchema\u001B[0m              Traceback (most recent call last)",
      "Cell \u001B[0;32mIn[16], line 5\u001B[0m\n\u001B[1;32m      2\u001B[0m     city: \u001B[38;5;28mstr\u001B[39m\n\u001B[1;32m      3\u001B[0m     state: \u001B[38;5;28mstr\u001B[39m\n\u001B[0;32m----> 5\u001B[0m \u001B[43mmarvin\u001B[49m\u001B[38;5;241;43m.\u001B[39;49m\u001B[43mcast\u001B[49m\u001B[43m(\u001B[49m\u001B[38;5;124;43m\"\u001B[39;49m\u001B[38;5;124;43mthe big apple\u001B[39;49m\u001B[38;5;124;43m\"\u001B[39;49m\u001B[43m,\u001B[49m\u001B[43m \u001B[49m\u001B[43mtarget\u001B[49m\u001B[38;5;241;43m=\u001B[39;49m\u001B[43mLocation\u001B[49m\u001B[43m)\u001B[49m\n",
      "File \u001B[0;32m~/Library/Application Support/hatch/env/virtual/vizro-ai/fZiNbsWT/vizro-ai/lib/python3.9/site-packages/marvin/ai/text.py:738\u001B[0m, in \u001B[0;36mcast\u001B[0;34m(data, target, instructions, model_kwargs, client)\u001B[0m\n\u001B[1;32m    709\u001B[0m \u001B[38;5;28;01mdef\u001B[39;00m \u001B[38;5;21mcast\u001B[39m(\n\u001B[1;32m    710\u001B[0m     data: \u001B[38;5;28mstr\u001B[39m,\n\u001B[1;32m    711\u001B[0m     target: \u001B[38;5;28mtype\u001B[39m[T] \u001B[38;5;241m=\u001B[39m \u001B[38;5;28;01mNone\u001B[39;00m,\n\u001B[0;32m   (...)\u001B[0m\n\u001B[1;32m    714\u001B[0m     client: Optional[AsyncMarvinClient] \u001B[38;5;241m=\u001B[39m \u001B[38;5;28;01mNone\u001B[39;00m,\n\u001B[1;32m    715\u001B[0m ) \u001B[38;5;241m-\u001B[39m\u001B[38;5;241m>\u001B[39m T:\n\u001B[1;32m    716\u001B[0m \u001B[38;5;250m    \u001B[39m\u001B[38;5;124;03m\"\"\"\u001B[39;00m\n\u001B[1;32m    717\u001B[0m \u001B[38;5;124;03m    Converts the input data into the specified type.\u001B[39;00m\n\u001B[1;32m    718\u001B[0m \n\u001B[0;32m   (...)\u001B[0m\n\u001B[1;32m    736\u001B[0m \u001B[38;5;124;03m        T: The converted data of the specified type.\u001B[39;00m\n\u001B[1;32m    737\u001B[0m \u001B[38;5;124;03m    \"\"\"\u001B[39;00m\n\u001B[0;32m--> 738\u001B[0m     \u001B[38;5;28;01mreturn\u001B[39;00m \u001B[43mrun_sync\u001B[49m\u001B[43m(\u001B[49m\n\u001B[1;32m    739\u001B[0m \u001B[43m        \u001B[49m\u001B[43mcast_async\u001B[49m\u001B[43m(\u001B[49m\n\u001B[1;32m    740\u001B[0m \u001B[43m            \u001B[49m\u001B[43mdata\u001B[49m\u001B[38;5;241;43m=\u001B[39;49m\u001B[43mdata\u001B[49m\u001B[43m,\u001B[49m\n\u001B[1;32m    741\u001B[0m \u001B[43m            \u001B[49m\u001B[43mtarget\u001B[49m\u001B[38;5;241;43m=\u001B[39;49m\u001B[43mtarget\u001B[49m\u001B[43m,\u001B[49m\n\u001B[1;32m    742\u001B[0m \u001B[43m            \u001B[49m\u001B[43minstructions\u001B[49m\u001B[38;5;241;43m=\u001B[39;49m\u001B[43minstructions\u001B[49m\u001B[43m,\u001B[49m\n\u001B[1;32m    743\u001B[0m \u001B[43m            \u001B[49m\u001B[43mmodel_kwargs\u001B[49m\u001B[38;5;241;43m=\u001B[39;49m\u001B[43mmodel_kwargs\u001B[49m\u001B[43m,\u001B[49m\n\u001B[1;32m    744\u001B[0m \u001B[43m            \u001B[49m\u001B[43mclient\u001B[49m\u001B[38;5;241;43m=\u001B[39;49m\u001B[43mclient\u001B[49m\u001B[43m,\u001B[49m\n\u001B[1;32m    745\u001B[0m \u001B[43m        \u001B[49m\u001B[43m)\u001B[49m\n\u001B[1;32m    746\u001B[0m \u001B[43m    \u001B[49m\u001B[43m)\u001B[49m\n",
      "File \u001B[0;32m~/Library/Application Support/hatch/env/virtual/vizro-ai/fZiNbsWT/vizro-ai/lib/python3.9/site-packages/marvin/utilities/asyncio.py:99\u001B[0m, in \u001B[0;36mrun_sync\u001B[0;34m(coroutine)\u001B[0m\n\u001B[1;32m     97\u001B[0m     \u001B[38;5;28;01mwith\u001B[39;00m ThreadPoolExecutor() \u001B[38;5;28;01mas\u001B[39;00m executor:\n\u001B[1;32m     98\u001B[0m         future \u001B[38;5;241m=\u001B[39m executor\u001B[38;5;241m.\u001B[39msubmit(asyncio\u001B[38;5;241m.\u001B[39mrun, coroutine)\n\u001B[0;32m---> 99\u001B[0m         \u001B[38;5;28;01mreturn\u001B[39;00m \u001B[43mfuture\u001B[49m\u001B[38;5;241;43m.\u001B[39;49m\u001B[43mresult\u001B[49m\u001B[43m(\u001B[49m\u001B[43m)\u001B[49m\n\u001B[1;32m    100\u001B[0m \u001B[38;5;28;01melse\u001B[39;00m:\n\u001B[1;32m    101\u001B[0m     \u001B[38;5;28;01mreturn\u001B[39;00m asyncio\u001B[38;5;241m.\u001B[39mrun(coroutine)\n",
      "File \u001B[0;32m~/opt/anaconda3/lib/python3.9/concurrent/futures/_base.py:446\u001B[0m, in \u001B[0;36mFuture.result\u001B[0;34m(self, timeout)\u001B[0m\n\u001B[1;32m    444\u001B[0m     \u001B[38;5;28;01mraise\u001B[39;00m CancelledError()\n\u001B[1;32m    445\u001B[0m \u001B[38;5;28;01melif\u001B[39;00m \u001B[38;5;28mself\u001B[39m\u001B[38;5;241m.\u001B[39m_state \u001B[38;5;241m==\u001B[39m FINISHED:\n\u001B[0;32m--> 446\u001B[0m     \u001B[38;5;28;01mreturn\u001B[39;00m \u001B[38;5;28;43mself\u001B[39;49m\u001B[38;5;241;43m.\u001B[39;49m\u001B[43m__get_result\u001B[49m\u001B[43m(\u001B[49m\u001B[43m)\u001B[49m\n\u001B[1;32m    447\u001B[0m \u001B[38;5;28;01melse\u001B[39;00m:\n\u001B[1;32m    448\u001B[0m     \u001B[38;5;28;01mraise\u001B[39;00m \u001B[38;5;167;01mTimeoutError\u001B[39;00m()\n",
      "File \u001B[0;32m~/opt/anaconda3/lib/python3.9/concurrent/futures/_base.py:391\u001B[0m, in \u001B[0;36mFuture.__get_result\u001B[0;34m(self)\u001B[0m\n\u001B[1;32m    389\u001B[0m \u001B[38;5;28;01mif\u001B[39;00m \u001B[38;5;28mself\u001B[39m\u001B[38;5;241m.\u001B[39m_exception:\n\u001B[1;32m    390\u001B[0m     \u001B[38;5;28;01mtry\u001B[39;00m:\n\u001B[0;32m--> 391\u001B[0m         \u001B[38;5;28;01mraise\u001B[39;00m \u001B[38;5;28mself\u001B[39m\u001B[38;5;241m.\u001B[39m_exception\n\u001B[1;32m    392\u001B[0m     \u001B[38;5;28;01mfinally\u001B[39;00m:\n\u001B[1;32m    393\u001B[0m         \u001B[38;5;66;03m# Break a reference cycle with the exception in self._exception\u001B[39;00m\n\u001B[1;32m    394\u001B[0m         \u001B[38;5;28mself\u001B[39m \u001B[38;5;241m=\u001B[39m \u001B[38;5;28;01mNone\u001B[39;00m\n",
      "File \u001B[0;32m~/opt/anaconda3/lib/python3.9/concurrent/futures/thread.py:58\u001B[0m, in \u001B[0;36m_WorkItem.run\u001B[0;34m(self)\u001B[0m\n\u001B[1;32m     55\u001B[0m     \u001B[38;5;28;01mreturn\u001B[39;00m\n\u001B[1;32m     57\u001B[0m \u001B[38;5;28;01mtry\u001B[39;00m:\n\u001B[0;32m---> 58\u001B[0m     result \u001B[38;5;241m=\u001B[39m \u001B[38;5;28;43mself\u001B[39;49m\u001B[38;5;241;43m.\u001B[39;49m\u001B[43mfn\u001B[49m\u001B[43m(\u001B[49m\u001B[38;5;241;43m*\u001B[39;49m\u001B[38;5;28;43mself\u001B[39;49m\u001B[38;5;241;43m.\u001B[39;49m\u001B[43margs\u001B[49m\u001B[43m,\u001B[49m\u001B[43m \u001B[49m\u001B[38;5;241;43m*\u001B[39;49m\u001B[38;5;241;43m*\u001B[39;49m\u001B[38;5;28;43mself\u001B[39;49m\u001B[38;5;241;43m.\u001B[39;49m\u001B[43mkwargs\u001B[49m\u001B[43m)\u001B[49m\n\u001B[1;32m     59\u001B[0m \u001B[38;5;28;01mexcept\u001B[39;00m \u001B[38;5;167;01mBaseException\u001B[39;00m \u001B[38;5;28;01mas\u001B[39;00m exc:\n\u001B[1;32m     60\u001B[0m     \u001B[38;5;28mself\u001B[39m\u001B[38;5;241m.\u001B[39mfuture\u001B[38;5;241m.\u001B[39mset_exception(exc)\n",
      "File \u001B[0;32m~/opt/anaconda3/lib/python3.9/asyncio/runners.py:44\u001B[0m, in \u001B[0;36mrun\u001B[0;34m(main, debug)\u001B[0m\n\u001B[1;32m     42\u001B[0m     \u001B[38;5;28;01mif\u001B[39;00m debug \u001B[38;5;129;01mis\u001B[39;00m \u001B[38;5;129;01mnot\u001B[39;00m \u001B[38;5;28;01mNone\u001B[39;00m:\n\u001B[1;32m     43\u001B[0m         loop\u001B[38;5;241m.\u001B[39mset_debug(debug)\n\u001B[0;32m---> 44\u001B[0m     \u001B[38;5;28;01mreturn\u001B[39;00m \u001B[43mloop\u001B[49m\u001B[38;5;241;43m.\u001B[39;49m\u001B[43mrun_until_complete\u001B[49m\u001B[43m(\u001B[49m\u001B[43mmain\u001B[49m\u001B[43m)\u001B[49m\n\u001B[1;32m     45\u001B[0m \u001B[38;5;28;01mfinally\u001B[39;00m:\n\u001B[1;32m     46\u001B[0m     \u001B[38;5;28;01mtry\u001B[39;00m:\n",
      "File \u001B[0;32m~/opt/anaconda3/lib/python3.9/asyncio/base_events.py:647\u001B[0m, in \u001B[0;36mBaseEventLoop.run_until_complete\u001B[0;34m(self, future)\u001B[0m\n\u001B[1;32m    644\u001B[0m \u001B[38;5;28;01mif\u001B[39;00m \u001B[38;5;129;01mnot\u001B[39;00m future\u001B[38;5;241m.\u001B[39mdone():\n\u001B[1;32m    645\u001B[0m     \u001B[38;5;28;01mraise\u001B[39;00m \u001B[38;5;167;01mRuntimeError\u001B[39;00m(\u001B[38;5;124m'\u001B[39m\u001B[38;5;124mEvent loop stopped before Future completed.\u001B[39m\u001B[38;5;124m'\u001B[39m)\n\u001B[0;32m--> 647\u001B[0m \u001B[38;5;28;01mreturn\u001B[39;00m \u001B[43mfuture\u001B[49m\u001B[38;5;241;43m.\u001B[39;49m\u001B[43mresult\u001B[49m\u001B[43m(\u001B[49m\u001B[43m)\u001B[49m\n",
      "File \u001B[0;32m~/Library/Application Support/hatch/env/virtual/vizro-ai/fZiNbsWT/vizro-ai/lib/python3.9/site-packages/marvin/ai/text.py:280\u001B[0m, in \u001B[0;36mcast_async\u001B[0;34m(data, target, instructions, model_kwargs, client)\u001B[0m\n\u001B[1;32m    266\u001B[0m \u001B[38;5;28;01mif\u001B[39;00m (\n\u001B[1;32m    267\u001B[0m     get_origin(target) \u001B[38;5;241m==\u001B[39m Literal\n\u001B[1;32m    268\u001B[0m     \u001B[38;5;129;01mor\u001B[39;00m (\u001B[38;5;28misinstance\u001B[39m(target, \u001B[38;5;28mtype\u001B[39m) \u001B[38;5;129;01mand\u001B[39;00m \u001B[38;5;28missubclass\u001B[39m(target, Enum))\n\u001B[1;32m    269\u001B[0m     \u001B[38;5;129;01mor\u001B[39;00m \u001B[38;5;28misinstance\u001B[39m(target, \u001B[38;5;28mlist\u001B[39m)\n\u001B[1;32m    270\u001B[0m     \u001B[38;5;129;01mor\u001B[39;00m target \u001B[38;5;129;01mis\u001B[39;00m \u001B[38;5;28mbool\u001B[39m\n\u001B[1;32m    271\u001B[0m ):\n\u001B[1;32m    272\u001B[0m     \u001B[38;5;28;01mreturn\u001B[39;00m \u001B[38;5;28;01mawait\u001B[39;00m classify_async(\n\u001B[1;32m    273\u001B[0m         data\u001B[38;5;241m=\u001B[39mdata,\n\u001B[1;32m    274\u001B[0m         labels\u001B[38;5;241m=\u001B[39mtarget,\n\u001B[0;32m   (...)\u001B[0m\n\u001B[1;32m    277\u001B[0m         client\u001B[38;5;241m=\u001B[39mclient,\n\u001B[1;32m    278\u001B[0m     )\n\u001B[0;32m--> 280\u001B[0m \u001B[38;5;28;01mreturn\u001B[39;00m \u001B[38;5;28;01mawait\u001B[39;00m _generate_typed_llm_response_with_tool(\n\u001B[1;32m    281\u001B[0m     prompt_template\u001B[38;5;241m=\u001B[39mCAST_PROMPT,\n\u001B[1;32m    282\u001B[0m     prompt_kwargs\u001B[38;5;241m=\u001B[39m\u001B[38;5;28mdict\u001B[39m(data\u001B[38;5;241m=\u001B[39mdata, instructions\u001B[38;5;241m=\u001B[39minstructions),\n\u001B[1;32m    283\u001B[0m     type_\u001B[38;5;241m=\u001B[39mtarget,\n\u001B[1;32m    284\u001B[0m     model_kwargs\u001B[38;5;241m=\u001B[39mmodel_kwargs \u001B[38;5;241m|\u001B[39m \u001B[38;5;28mdict\u001B[39m(temperature\u001B[38;5;241m=\u001B[39m\u001B[38;5;241m0\u001B[39m),\n\u001B[1;32m    285\u001B[0m     client\u001B[38;5;241m=\u001B[39mclient,\n\u001B[1;32m    286\u001B[0m )\n",
      "File \u001B[0;32m~/Library/Application Support/hatch/env/virtual/vizro-ai/fZiNbsWT/vizro-ai/lib/python3.9/site-packages/marvin/ai/text.py:144\u001B[0m, in \u001B[0;36m_generate_typed_llm_response_with_tool\u001B[0;34m(prompt_template, type_, tool_name, prompt_kwargs, model_kwargs, client)\u001B[0m\n\u001B[1;32m    142\u001B[0m model_kwargs \u001B[38;5;241m=\u001B[39m model_kwargs \u001B[38;5;129;01mor\u001B[39;00m {}\n\u001B[1;32m    143\u001B[0m prompt_kwargs \u001B[38;5;241m=\u001B[39m prompt_kwargs \u001B[38;5;129;01mor\u001B[39;00m {}\n\u001B[0;32m--> 144\u001B[0m tool \u001B[38;5;241m=\u001B[39m \u001B[43mmarvin\u001B[49m\u001B[38;5;241;43m.\u001B[39;49m\u001B[43mutilities\u001B[49m\u001B[38;5;241;43m.\u001B[39;49m\u001B[43mtools\u001B[49m\u001B[38;5;241;43m.\u001B[39;49m\u001B[43mtool_from_type\u001B[49m\u001B[43m(\u001B[49m\u001B[43mtype_\u001B[49m\u001B[43m,\u001B[49m\u001B[43m \u001B[49m\u001B[43mtool_name\u001B[49m\u001B[38;5;241;43m=\u001B[39;49m\u001B[43mtool_name\u001B[49m\u001B[43m)\u001B[49m\n\u001B[1;32m    145\u001B[0m tool_choice \u001B[38;5;241m=\u001B[39m tool_choice \u001B[38;5;241m=\u001B[39m {\n\u001B[1;32m    146\u001B[0m     \u001B[38;5;124m\"\u001B[39m\u001B[38;5;124mtype\u001B[39m\u001B[38;5;124m\"\u001B[39m: \u001B[38;5;124m\"\u001B[39m\u001B[38;5;124mfunction\u001B[39m\u001B[38;5;124m\"\u001B[39m,\n\u001B[1;32m    147\u001B[0m     \u001B[38;5;124m\"\u001B[39m\u001B[38;5;124mfunction\u001B[39m\u001B[38;5;124m\"\u001B[39m: {\u001B[38;5;124m\"\u001B[39m\u001B[38;5;124mname\u001B[39m\u001B[38;5;124m\"\u001B[39m: tool\u001B[38;5;241m.\u001B[39mfunction\u001B[38;5;241m.\u001B[39mname},\n\u001B[1;32m    148\u001B[0m }\n\u001B[1;32m    149\u001B[0m model_kwargs\u001B[38;5;241m.\u001B[39mupdate(tools\u001B[38;5;241m=\u001B[39m[tool], tool_choice\u001B[38;5;241m=\u001B[39mtool_choice)\n",
      "File \u001B[0;32m~/Library/Application Support/hatch/env/virtual/vizro-ai/fZiNbsWT/vizro-ai/lib/python3.9/site-packages/marvin/utilities/tools.py:86\u001B[0m, in \u001B[0;36mtool_from_type\u001B[0;34m(type_, tool_name)\u001B[0m\n\u001B[1;32m     83\u001B[0m \u001B[38;5;28;01mdef\u001B[39;00m \u001B[38;5;21mtool_fn\u001B[39m(\u001B[38;5;241m*\u001B[39m\u001B[38;5;241m*\u001B[39mdata) \u001B[38;5;241m-\u001B[39m\u001B[38;5;241m>\u001B[39m U:\n\u001B[1;32m     84\u001B[0m     \u001B[38;5;28;01mreturn\u001B[39;00m TypeAdapter(model)\u001B[38;5;241m.\u001B[39mvalidate_python(data)\u001B[38;5;241m.\u001B[39mvalue\n\u001B[0;32m---> 86\u001B[0m \u001B[38;5;28;01mreturn\u001B[39;00m \u001B[43mtool_from_model\u001B[49m\u001B[43m(\u001B[49m\u001B[43mmodel\u001B[49m\u001B[43m,\u001B[49m\u001B[43m \u001B[49m\u001B[43mpython_fn\u001B[49m\u001B[38;5;241;43m=\u001B[39;49m\u001B[43mtool_fn\u001B[49m\u001B[43m)\u001B[49m\n",
      "File \u001B[0;32m~/Library/Application Support/hatch/env/virtual/vizro-ai/fZiNbsWT/vizro-ai/lib/python3.9/site-packages/marvin/utilities/tools.py:107\u001B[0m, in \u001B[0;36mtool_from_model\u001B[0;34m(model, python_fn)\u001B[0m\n\u001B[1;32m     99\u001B[0m \u001B[38;5;28;01mdef\u001B[39;00m \u001B[38;5;21mtool_fn\u001B[39m(\u001B[38;5;241m*\u001B[39m\u001B[38;5;241m*\u001B[39mdata) \u001B[38;5;241m-\u001B[39m\u001B[38;5;241m>\u001B[39m M:\n\u001B[1;32m    100\u001B[0m     \u001B[38;5;28;01mreturn\u001B[39;00m TypeAdapter(model)\u001B[38;5;241m.\u001B[39mvalidate_python(data)\n\u001B[1;32m    102\u001B[0m \u001B[38;5;28;01mreturn\u001B[39;00m FunctionTool[M](\n\u001B[1;32m    103\u001B[0m     \u001B[38;5;28mtype\u001B[39m\u001B[38;5;241m=\u001B[39m\u001B[38;5;124m\"\u001B[39m\u001B[38;5;124mfunction\u001B[39m\u001B[38;5;124m\"\u001B[39m,\n\u001B[1;32m    104\u001B[0m     function\u001B[38;5;241m=\u001B[39mFunction[M]\u001B[38;5;241m.\u001B[39mcreate(\n\u001B[1;32m    105\u001B[0m         name\u001B[38;5;241m=\u001B[39mmodel\u001B[38;5;241m.\u001B[39m\u001B[38;5;18m__name__\u001B[39m,\n\u001B[1;32m    106\u001B[0m         description\u001B[38;5;241m=\u001B[39mmodel\u001B[38;5;241m.\u001B[39m\u001B[38;5;18m__doc__\u001B[39m,\n\u001B[0;32m--> 107\u001B[0m         parameters\u001B[38;5;241m=\u001B[39m\u001B[43mmodel\u001B[49m\u001B[38;5;241;43m.\u001B[39;49m\u001B[43mmodel_json_schema\u001B[49m\u001B[43m(\u001B[49m\u001B[43mschema_generator\u001B[49m\u001B[38;5;241;43m=\u001B[39;49m\u001B[43mModelSchemaGenerator\u001B[49m\u001B[43m)\u001B[49m,\n\u001B[1;32m    108\u001B[0m         model\u001B[38;5;241m=\u001B[39mmodel,\n\u001B[1;32m    109\u001B[0m         _python_fn\u001B[38;5;241m=\u001B[39mpython_fn \u001B[38;5;129;01mor\u001B[39;00m tool_fn,\n\u001B[1;32m    110\u001B[0m     ),\n\u001B[1;32m    111\u001B[0m )\n",
      "File \u001B[0;32m~/Library/Application Support/hatch/env/virtual/vizro-ai/fZiNbsWT/vizro-ai/lib/python3.9/site-packages/pydantic/main.py:414\u001B[0m, in \u001B[0;36mBaseModel.model_json_schema\u001B[0;34m(cls, by_alias, ref_template, schema_generator, mode)\u001B[0m\n\u001B[1;32m    394\u001B[0m \u001B[38;5;129m@classmethod\u001B[39m\n\u001B[1;32m    395\u001B[0m \u001B[38;5;28;01mdef\u001B[39;00m \u001B[38;5;21mmodel_json_schema\u001B[39m(\n\u001B[1;32m    396\u001B[0m     \u001B[38;5;28mcls\u001B[39m,\n\u001B[0;32m   (...)\u001B[0m\n\u001B[1;32m    400\u001B[0m     mode: JsonSchemaMode \u001B[38;5;241m=\u001B[39m \u001B[38;5;124m'\u001B[39m\u001B[38;5;124mvalidation\u001B[39m\u001B[38;5;124m'\u001B[39m,\n\u001B[1;32m    401\u001B[0m ) \u001B[38;5;241m-\u001B[39m\u001B[38;5;241m>\u001B[39m \u001B[38;5;28mdict\u001B[39m[\u001B[38;5;28mstr\u001B[39m, Any]:\n\u001B[1;32m    402\u001B[0m \u001B[38;5;250m    \u001B[39m\u001B[38;5;124;03m\"\"\"Generates a JSON schema for a model class.\u001B[39;00m\n\u001B[1;32m    403\u001B[0m \n\u001B[1;32m    404\u001B[0m \u001B[38;5;124;03m    Args:\u001B[39;00m\n\u001B[0;32m   (...)\u001B[0m\n\u001B[1;32m    412\u001B[0m \u001B[38;5;124;03m        The JSON schema for the given model class.\u001B[39;00m\n\u001B[1;32m    413\u001B[0m \u001B[38;5;124;03m    \"\"\"\u001B[39;00m\n\u001B[0;32m--> 414\u001B[0m     \u001B[38;5;28;01mreturn\u001B[39;00m \u001B[43mmodel_json_schema\u001B[49m\u001B[43m(\u001B[49m\n\u001B[1;32m    415\u001B[0m \u001B[43m        \u001B[49m\u001B[38;5;28;43mcls\u001B[39;49m\u001B[43m,\u001B[49m\u001B[43m \u001B[49m\u001B[43mby_alias\u001B[49m\u001B[38;5;241;43m=\u001B[39;49m\u001B[43mby_alias\u001B[49m\u001B[43m,\u001B[49m\u001B[43m \u001B[49m\u001B[43mref_template\u001B[49m\u001B[38;5;241;43m=\u001B[39;49m\u001B[43mref_template\u001B[49m\u001B[43m,\u001B[49m\u001B[43m \u001B[49m\u001B[43mschema_generator\u001B[49m\u001B[38;5;241;43m=\u001B[39;49m\u001B[43mschema_generator\u001B[49m\u001B[43m,\u001B[49m\u001B[43m \u001B[49m\u001B[43mmode\u001B[49m\u001B[38;5;241;43m=\u001B[39;49m\u001B[43mmode\u001B[49m\n\u001B[1;32m    416\u001B[0m \u001B[43m    \u001B[49m\u001B[43m)\u001B[49m\n",
      "File \u001B[0;32m~/Library/Application Support/hatch/env/virtual/vizro-ai/fZiNbsWT/vizro-ai/lib/python3.9/site-packages/pydantic/json_schema.py:2241\u001B[0m, in \u001B[0;36mmodel_json_schema\u001B[0;34m(cls, by_alias, ref_template, schema_generator, mode)\u001B[0m\n\u001B[1;32m   2239\u001B[0m     \u001B[38;5;28;01mraise\u001B[39;00m \u001B[38;5;167;01mAttributeError\u001B[39;00m(\u001B[38;5;124m'\u001B[39m\u001B[38;5;124mmodel_json_schema() must be called on a subclass of BaseModel, not BaseModel itself.\u001B[39m\u001B[38;5;124m'\u001B[39m)\n\u001B[1;32m   2240\u001B[0m \u001B[38;5;28;01massert\u001B[39;00m \u001B[38;5;124m'\u001B[39m\u001B[38;5;124m__pydantic_core_schema__\u001B[39m\u001B[38;5;124m'\u001B[39m \u001B[38;5;129;01min\u001B[39;00m \u001B[38;5;28mcls\u001B[39m\u001B[38;5;241m.\u001B[39m\u001B[38;5;18m__dict__\u001B[39m, \u001B[38;5;124m'\u001B[39m\u001B[38;5;124mthis is a bug! please report it\u001B[39m\u001B[38;5;124m'\u001B[39m\n\u001B[0;32m-> 2241\u001B[0m \u001B[38;5;28;01mreturn\u001B[39;00m \u001B[43mschema_generator_instance\u001B[49m\u001B[38;5;241;43m.\u001B[39;49m\u001B[43mgenerate\u001B[49m\u001B[43m(\u001B[49m\u001B[38;5;28;43mcls\u001B[39;49m\u001B[38;5;241;43m.\u001B[39;49m\u001B[43m__pydantic_core_schema__\u001B[49m\u001B[43m,\u001B[49m\u001B[43m \u001B[49m\u001B[43mmode\u001B[49m\u001B[38;5;241;43m=\u001B[39;49m\u001B[43mmode\u001B[49m\u001B[43m)\u001B[49m\n",
      "File \u001B[0;32m~/Library/Application Support/hatch/env/virtual/vizro-ai/fZiNbsWT/vizro-ai/lib/python3.9/site-packages/marvin/utilities/tools.py:61\u001B[0m, in \u001B[0;36mModelSchemaGenerator.generate\u001B[0;34m(self, schema, mode)\u001B[0m\n\u001B[1;32m     60\u001B[0m \u001B[38;5;28;01mdef\u001B[39;00m \u001B[38;5;21mgenerate\u001B[39m(\u001B[38;5;28mself\u001B[39m, schema: Any, mode: JsonSchemaMode \u001B[38;5;241m=\u001B[39m \u001B[38;5;124m\"\u001B[39m\u001B[38;5;124mvalidation\u001B[39m\u001B[38;5;124m\"\u001B[39m):\n\u001B[0;32m---> 61\u001B[0m     json_schema \u001B[38;5;241m=\u001B[39m \u001B[38;5;28;43msuper\u001B[39;49m\u001B[43m(\u001B[49m\u001B[43m)\u001B[49m\u001B[38;5;241;43m.\u001B[39;49m\u001B[43mgenerate\u001B[49m\u001B[43m(\u001B[49m\u001B[43mschema\u001B[49m\u001B[43m,\u001B[49m\u001B[43m \u001B[49m\u001B[43mmode\u001B[49m\u001B[38;5;241;43m=\u001B[39;49m\u001B[43mmode\u001B[49m\u001B[43m)\u001B[49m\n\u001B[1;32m     62\u001B[0m     json_schema\u001B[38;5;241m.\u001B[39mpop(\u001B[38;5;124m\"\u001B[39m\u001B[38;5;124mtitle\u001B[39m\u001B[38;5;124m\"\u001B[39m, \u001B[38;5;28;01mNone\u001B[39;00m)\n\u001B[1;32m     63\u001B[0m     \u001B[38;5;28;01mreturn\u001B[39;00m json_schema\n",
      "File \u001B[0;32m~/Library/Application Support/hatch/env/virtual/vizro-ai/fZiNbsWT/vizro-ai/lib/python3.9/site-packages/pydantic/json_schema.py:412\u001B[0m, in \u001B[0;36mGenerateJsonSchema.generate\u001B[0;34m(self, schema, mode)\u001B[0m\n\u001B[1;32m    405\u001B[0m \u001B[38;5;28;01mif\u001B[39;00m \u001B[38;5;28mself\u001B[39m\u001B[38;5;241m.\u001B[39m_used:\n\u001B[1;32m    406\u001B[0m     \u001B[38;5;28;01mraise\u001B[39;00m PydanticUserError(\n\u001B[1;32m    407\u001B[0m         \u001B[38;5;124m'\u001B[39m\u001B[38;5;124mThis JSON schema generator has already been used to generate a JSON schema. \u001B[39m\u001B[38;5;124m'\u001B[39m\n\u001B[1;32m    408\u001B[0m         \u001B[38;5;124mf\u001B[39m\u001B[38;5;124m'\u001B[39m\u001B[38;5;124mYou must create a new instance of \u001B[39m\u001B[38;5;132;01m{\u001B[39;00m\u001B[38;5;28mtype\u001B[39m(\u001B[38;5;28mself\u001B[39m)\u001B[38;5;241m.\u001B[39m\u001B[38;5;18m__name__\u001B[39m\u001B[38;5;132;01m}\u001B[39;00m\u001B[38;5;124m to generate a new JSON schema.\u001B[39m\u001B[38;5;124m'\u001B[39m,\n\u001B[1;32m    409\u001B[0m         code\u001B[38;5;241m=\u001B[39m\u001B[38;5;124m'\u001B[39m\u001B[38;5;124mjson-schema-already-used\u001B[39m\u001B[38;5;124m'\u001B[39m,\n\u001B[1;32m    410\u001B[0m     )\n\u001B[0;32m--> 412\u001B[0m json_schema: JsonSchemaValue \u001B[38;5;241m=\u001B[39m \u001B[38;5;28;43mself\u001B[39;49m\u001B[38;5;241;43m.\u001B[39;49m\u001B[43mgenerate_inner\u001B[49m\u001B[43m(\u001B[49m\u001B[43mschema\u001B[49m\u001B[43m)\u001B[49m\n\u001B[1;32m    413\u001B[0m json_ref_counts \u001B[38;5;241m=\u001B[39m \u001B[38;5;28mself\u001B[39m\u001B[38;5;241m.\u001B[39mget_json_ref_counts(json_schema)\n\u001B[1;32m    415\u001B[0m \u001B[38;5;66;03m# Remove the top-level $ref if present; note that the _generate method already ensures there are no sibling keys\u001B[39;00m\n",
      "File \u001B[0;32m~/Library/Application Support/hatch/env/virtual/vizro-ai/fZiNbsWT/vizro-ai/lib/python3.9/site-packages/pydantic/json_schema.py:551\u001B[0m, in \u001B[0;36mGenerateJsonSchema.generate_inner\u001B[0;34m(self, schema)\u001B[0m\n\u001B[1;32m    547\u001B[0m         \u001B[38;5;28;01mreturn\u001B[39;00m json_schema\n\u001B[1;32m    549\u001B[0m     current_handler \u001B[38;5;241m=\u001B[39m _schema_generation_shared\u001B[38;5;241m.\u001B[39mGenerateJsonSchemaHandler(\u001B[38;5;28mself\u001B[39m, new_handler_func)\n\u001B[0;32m--> 551\u001B[0m json_schema \u001B[38;5;241m=\u001B[39m \u001B[43mcurrent_handler\u001B[49m\u001B[43m(\u001B[49m\u001B[43mschema\u001B[49m\u001B[43m)\u001B[49m\n\u001B[1;32m    552\u001B[0m \u001B[38;5;28;01mif\u001B[39;00m _core_utils\u001B[38;5;241m.\u001B[39mis_core_schema(schema):\n\u001B[1;32m    553\u001B[0m     json_schema \u001B[38;5;241m=\u001B[39m populate_defs(schema, json_schema)\n",
      "File \u001B[0;32m~/Library/Application Support/hatch/env/virtual/vizro-ai/fZiNbsWT/vizro-ai/lib/python3.9/site-packages/pydantic/_internal/_schema_generation_shared.py:36\u001B[0m, in \u001B[0;36mGenerateJsonSchemaHandler.__call__\u001B[0;34m(self, core_schema)\u001B[0m\n\u001B[1;32m     35\u001B[0m \u001B[38;5;28;01mdef\u001B[39;00m \u001B[38;5;21m__call__\u001B[39m(\u001B[38;5;28mself\u001B[39m, core_schema: CoreSchemaOrField, \u001B[38;5;241m/\u001B[39m) \u001B[38;5;241m-\u001B[39m\u001B[38;5;241m>\u001B[39m JsonSchemaValue:\n\u001B[0;32m---> 36\u001B[0m     \u001B[38;5;28;01mreturn\u001B[39;00m \u001B[38;5;28;43mself\u001B[39;49m\u001B[38;5;241;43m.\u001B[39;49m\u001B[43mhandler\u001B[49m\u001B[43m(\u001B[49m\u001B[43mcore_schema\u001B[49m\u001B[43m)\u001B[49m\n",
      "File \u001B[0;32m~/Library/Application Support/hatch/env/virtual/vizro-ai/fZiNbsWT/vizro-ai/lib/python3.9/site-packages/pydantic/json_schema.py:525\u001B[0m, in \u001B[0;36mGenerateJsonSchema.generate_inner.<locals>.new_handler_func\u001B[0;34m(schema_or_field, current_handler, js_modify_function)\u001B[0m\n\u001B[1;32m    520\u001B[0m \u001B[38;5;28;01mdef\u001B[39;00m \u001B[38;5;21mnew_handler_func\u001B[39m(\n\u001B[1;32m    521\u001B[0m     schema_or_field: CoreSchemaOrField,\n\u001B[1;32m    522\u001B[0m     current_handler: GetJsonSchemaHandler \u001B[38;5;241m=\u001B[39m current_handler,\n\u001B[1;32m    523\u001B[0m     js_modify_function: GetJsonSchemaFunction \u001B[38;5;241m=\u001B[39m js_modify_function,\n\u001B[1;32m    524\u001B[0m ) \u001B[38;5;241m-\u001B[39m\u001B[38;5;241m>\u001B[39m JsonSchemaValue:\n\u001B[0;32m--> 525\u001B[0m     json_schema \u001B[38;5;241m=\u001B[39m \u001B[43mjs_modify_function\u001B[49m\u001B[43m(\u001B[49m\u001B[43mschema_or_field\u001B[49m\u001B[43m,\u001B[49m\u001B[43m \u001B[49m\u001B[43mcurrent_handler\u001B[49m\u001B[43m)\u001B[49m\n\u001B[1;32m    526\u001B[0m     \u001B[38;5;28;01mif\u001B[39;00m _core_utils\u001B[38;5;241m.\u001B[39mis_core_schema(schema_or_field):\n\u001B[1;32m    527\u001B[0m         json_schema \u001B[38;5;241m=\u001B[39m populate_defs(schema_or_field, json_schema)\n",
      "File \u001B[0;32m~/Library/Application Support/hatch/env/virtual/vizro-ai/fZiNbsWT/vizro-ai/lib/python3.9/site-packages/pydantic/main.py:633\u001B[0m, in \u001B[0;36mBaseModel.__get_pydantic_json_schema__\u001B[0;34m(cls, core_schema, handler)\u001B[0m\n\u001B[1;32m    609\u001B[0m \u001B[38;5;129m@classmethod\u001B[39m\n\u001B[1;32m    610\u001B[0m \u001B[38;5;28;01mdef\u001B[39;00m \u001B[38;5;21m__get_pydantic_json_schema__\u001B[39m(\n\u001B[1;32m    611\u001B[0m     \u001B[38;5;28mcls\u001B[39m,\n\u001B[0;32m   (...)\u001B[0m\n\u001B[1;32m    614\u001B[0m     \u001B[38;5;241m/\u001B[39m,\n\u001B[1;32m    615\u001B[0m ) \u001B[38;5;241m-\u001B[39m\u001B[38;5;241m>\u001B[39m JsonSchemaValue:\n\u001B[1;32m    616\u001B[0m \u001B[38;5;250m    \u001B[39m\u001B[38;5;124;03m\"\"\"Hook into generating the model's JSON schema.\u001B[39;00m\n\u001B[1;32m    617\u001B[0m \n\u001B[1;32m    618\u001B[0m \u001B[38;5;124;03m    Args:\u001B[39;00m\n\u001B[0;32m   (...)\u001B[0m\n\u001B[1;32m    631\u001B[0m \u001B[38;5;124;03m        A JSON schema, as a Python object.\u001B[39;00m\n\u001B[1;32m    632\u001B[0m \u001B[38;5;124;03m    \"\"\"\u001B[39;00m\n\u001B[0;32m--> 633\u001B[0m     \u001B[38;5;28;01mreturn\u001B[39;00m \u001B[43mhandler\u001B[49m\u001B[43m(\u001B[49m\u001B[43mcore_schema\u001B[49m\u001B[43m)\u001B[49m\n",
      "File \u001B[0;32m~/Library/Application Support/hatch/env/virtual/vizro-ai/fZiNbsWT/vizro-ai/lib/python3.9/site-packages/pydantic/_internal/_schema_generation_shared.py:36\u001B[0m, in \u001B[0;36mGenerateJsonSchemaHandler.__call__\u001B[0;34m(self, core_schema)\u001B[0m\n\u001B[1;32m     35\u001B[0m \u001B[38;5;28;01mdef\u001B[39;00m \u001B[38;5;21m__call__\u001B[39m(\u001B[38;5;28mself\u001B[39m, core_schema: CoreSchemaOrField, \u001B[38;5;241m/\u001B[39m) \u001B[38;5;241m-\u001B[39m\u001B[38;5;241m>\u001B[39m JsonSchemaValue:\n\u001B[0;32m---> 36\u001B[0m     \u001B[38;5;28;01mreturn\u001B[39;00m \u001B[38;5;28;43mself\u001B[39;49m\u001B[38;5;241;43m.\u001B[39;49m\u001B[43mhandler\u001B[49m\u001B[43m(\u001B[49m\u001B[43mcore_schema\u001B[49m\u001B[43m)\u001B[49m\n",
      "File \u001B[0;32m~/Library/Application Support/hatch/env/virtual/vizro-ai/fZiNbsWT/vizro-ai/lib/python3.9/site-packages/pydantic/json_schema.py:525\u001B[0m, in \u001B[0;36mGenerateJsonSchema.generate_inner.<locals>.new_handler_func\u001B[0;34m(schema_or_field, current_handler, js_modify_function)\u001B[0m\n\u001B[1;32m    520\u001B[0m \u001B[38;5;28;01mdef\u001B[39;00m \u001B[38;5;21mnew_handler_func\u001B[39m(\n\u001B[1;32m    521\u001B[0m     schema_or_field: CoreSchemaOrField,\n\u001B[1;32m    522\u001B[0m     current_handler: GetJsonSchemaHandler \u001B[38;5;241m=\u001B[39m current_handler,\n\u001B[1;32m    523\u001B[0m     js_modify_function: GetJsonSchemaFunction \u001B[38;5;241m=\u001B[39m js_modify_function,\n\u001B[1;32m    524\u001B[0m ) \u001B[38;5;241m-\u001B[39m\u001B[38;5;241m>\u001B[39m JsonSchemaValue:\n\u001B[0;32m--> 525\u001B[0m     json_schema \u001B[38;5;241m=\u001B[39m \u001B[43mjs_modify_function\u001B[49m\u001B[43m(\u001B[49m\u001B[43mschema_or_field\u001B[49m\u001B[43m,\u001B[49m\u001B[43m \u001B[49m\u001B[43mcurrent_handler\u001B[49m\u001B[43m)\u001B[49m\n\u001B[1;32m    526\u001B[0m     \u001B[38;5;28;01mif\u001B[39;00m _core_utils\u001B[38;5;241m.\u001B[39mis_core_schema(schema_or_field):\n\u001B[1;32m    527\u001B[0m         json_schema \u001B[38;5;241m=\u001B[39m populate_defs(schema_or_field, json_schema)\n",
      "File \u001B[0;32m~/Library/Application Support/hatch/env/virtual/vizro-ai/fZiNbsWT/vizro-ai/lib/python3.9/site-packages/pydantic/_internal/_generate_schema.py:219\u001B[0m, in \u001B[0;36mmodify_model_json_schema\u001B[0;34m(schema_or_field, handler, cls)\u001B[0m\n\u001B[1;32m    207\u001B[0m \u001B[38;5;250m\u001B[39m\u001B[38;5;124;03m\"\"\"Add title and description for model-like classes' JSON schema.\u001B[39;00m\n\u001B[1;32m    208\u001B[0m \n\u001B[1;32m    209\u001B[0m \u001B[38;5;124;03mArgs:\u001B[39;00m\n\u001B[0;32m   (...)\u001B[0m\n\u001B[1;32m    215\u001B[0m \u001B[38;5;124;03m    JsonSchemaValue: The updated JSON schema.\u001B[39;00m\n\u001B[1;32m    216\u001B[0m \u001B[38;5;124;03m\"\"\"\u001B[39;00m\n\u001B[1;32m    217\u001B[0m \u001B[38;5;28;01mfrom\u001B[39;00m \u001B[38;5;21;01m.\u001B[39;00m\u001B[38;5;21;01m.\u001B[39;00m\u001B[38;5;21;01mmain\u001B[39;00m \u001B[38;5;28;01mimport\u001B[39;00m BaseModel\n\u001B[0;32m--> 219\u001B[0m json_schema \u001B[38;5;241m=\u001B[39m \u001B[43mhandler\u001B[49m\u001B[43m(\u001B[49m\u001B[43mschema_or_field\u001B[49m\u001B[43m)\u001B[49m\n\u001B[1;32m    220\u001B[0m original_schema \u001B[38;5;241m=\u001B[39m handler\u001B[38;5;241m.\u001B[39mresolve_ref_schema(json_schema)\n\u001B[1;32m    221\u001B[0m \u001B[38;5;66;03m# Preserve the fact that definitions schemas should never have sibling keys:\u001B[39;00m\n",
      "File \u001B[0;32m~/Library/Application Support/hatch/env/virtual/vizro-ai/fZiNbsWT/vizro-ai/lib/python3.9/site-packages/pydantic/_internal/_schema_generation_shared.py:36\u001B[0m, in \u001B[0;36mGenerateJsonSchemaHandler.__call__\u001B[0;34m(self, core_schema)\u001B[0m\n\u001B[1;32m     35\u001B[0m \u001B[38;5;28;01mdef\u001B[39;00m \u001B[38;5;21m__call__\u001B[39m(\u001B[38;5;28mself\u001B[39m, core_schema: CoreSchemaOrField, \u001B[38;5;241m/\u001B[39m) \u001B[38;5;241m-\u001B[39m\u001B[38;5;241m>\u001B[39m JsonSchemaValue:\n\u001B[0;32m---> 36\u001B[0m     \u001B[38;5;28;01mreturn\u001B[39;00m \u001B[38;5;28;43mself\u001B[39;49m\u001B[38;5;241;43m.\u001B[39;49m\u001B[43mhandler\u001B[49m\u001B[43m(\u001B[49m\u001B[43mcore_schema\u001B[49m\u001B[43m)\u001B[49m\n",
      "File \u001B[0;32m~/Library/Application Support/hatch/env/virtual/vizro-ai/fZiNbsWT/vizro-ai/lib/python3.9/site-packages/pydantic/json_schema.py:508\u001B[0m, in \u001B[0;36mGenerateJsonSchema.generate_inner.<locals>.handler_func\u001B[0;34m(schema_or_field)\u001B[0m\n\u001B[1;32m    506\u001B[0m \u001B[38;5;28;01mif\u001B[39;00m _core_utils\u001B[38;5;241m.\u001B[39mis_core_schema(schema_or_field) \u001B[38;5;129;01mor\u001B[39;00m _core_utils\u001B[38;5;241m.\u001B[39mis_core_schema_field(schema_or_field):\n\u001B[1;32m    507\u001B[0m     generate_for_schema_type \u001B[38;5;241m=\u001B[39m \u001B[38;5;28mself\u001B[39m\u001B[38;5;241m.\u001B[39m_schema_type_to_method[schema_or_field[\u001B[38;5;124m'\u001B[39m\u001B[38;5;124mtype\u001B[39m\u001B[38;5;124m'\u001B[39m]]\n\u001B[0;32m--> 508\u001B[0m     json_schema \u001B[38;5;241m=\u001B[39m \u001B[43mgenerate_for_schema_type\u001B[49m\u001B[43m(\u001B[49m\u001B[43mschema_or_field\u001B[49m\u001B[43m)\u001B[49m\n\u001B[1;32m    509\u001B[0m \u001B[38;5;28;01melse\u001B[39;00m:\n\u001B[1;32m    510\u001B[0m     \u001B[38;5;28;01mraise\u001B[39;00m \u001B[38;5;167;01mTypeError\u001B[39;00m(\u001B[38;5;124mf\u001B[39m\u001B[38;5;124m'\u001B[39m\u001B[38;5;124mUnexpected schema type: schema=\u001B[39m\u001B[38;5;132;01m{\u001B[39;00mschema_or_field\u001B[38;5;132;01m}\u001B[39;00m\u001B[38;5;124m'\u001B[39m)\n",
      "File \u001B[0;32m~/Library/Application Support/hatch/env/virtual/vizro-ai/fZiNbsWT/vizro-ai/lib/python3.9/site-packages/pydantic/json_schema.py:1392\u001B[0m, in \u001B[0;36mGenerateJsonSchema.model_schema\u001B[0;34m(self, schema)\u001B[0m\n\u001B[1;32m   1389\u001B[0m title \u001B[38;5;241m=\u001B[39m config\u001B[38;5;241m.\u001B[39mget(\u001B[38;5;124m'\u001B[39m\u001B[38;5;124mtitle\u001B[39m\u001B[38;5;124m'\u001B[39m)\n\u001B[1;32m   1391\u001B[0m \u001B[38;5;28;01mwith\u001B[39;00m \u001B[38;5;28mself\u001B[39m\u001B[38;5;241m.\u001B[39m_config_wrapper_stack\u001B[38;5;241m.\u001B[39mpush(config):\n\u001B[0;32m-> 1392\u001B[0m     json_schema \u001B[38;5;241m=\u001B[39m \u001B[38;5;28;43mself\u001B[39;49m\u001B[38;5;241;43m.\u001B[39;49m\u001B[43mgenerate_inner\u001B[49m\u001B[43m(\u001B[49m\u001B[43mschema\u001B[49m\u001B[43m[\u001B[49m\u001B[38;5;124;43m'\u001B[39;49m\u001B[38;5;124;43mschema\u001B[39;49m\u001B[38;5;124;43m'\u001B[39;49m\u001B[43m]\u001B[49m\u001B[43m)\u001B[49m\n\u001B[1;32m   1394\u001B[0m json_schema_extra \u001B[38;5;241m=\u001B[39m config\u001B[38;5;241m.\u001B[39mget(\u001B[38;5;124m'\u001B[39m\u001B[38;5;124mjson_schema_extra\u001B[39m\u001B[38;5;124m'\u001B[39m)\n\u001B[1;32m   1395\u001B[0m \u001B[38;5;28;01mif\u001B[39;00m \u001B[38;5;28mcls\u001B[39m\u001B[38;5;241m.\u001B[39m__pydantic_root_model__:\n",
      "File \u001B[0;32m~/Library/Application Support/hatch/env/virtual/vizro-ai/fZiNbsWT/vizro-ai/lib/python3.9/site-packages/pydantic/json_schema.py:551\u001B[0m, in \u001B[0;36mGenerateJsonSchema.generate_inner\u001B[0;34m(self, schema)\u001B[0m\n\u001B[1;32m    547\u001B[0m         \u001B[38;5;28;01mreturn\u001B[39;00m json_schema\n\u001B[1;32m    549\u001B[0m     current_handler \u001B[38;5;241m=\u001B[39m _schema_generation_shared\u001B[38;5;241m.\u001B[39mGenerateJsonSchemaHandler(\u001B[38;5;28mself\u001B[39m, new_handler_func)\n\u001B[0;32m--> 551\u001B[0m json_schema \u001B[38;5;241m=\u001B[39m \u001B[43mcurrent_handler\u001B[49m\u001B[43m(\u001B[49m\u001B[43mschema\u001B[49m\u001B[43m)\u001B[49m\n\u001B[1;32m    552\u001B[0m \u001B[38;5;28;01mif\u001B[39;00m _core_utils\u001B[38;5;241m.\u001B[39mis_core_schema(schema):\n\u001B[1;32m    553\u001B[0m     json_schema \u001B[38;5;241m=\u001B[39m populate_defs(schema, json_schema)\n",
      "File \u001B[0;32m~/Library/Application Support/hatch/env/virtual/vizro-ai/fZiNbsWT/vizro-ai/lib/python3.9/site-packages/pydantic/_internal/_schema_generation_shared.py:36\u001B[0m, in \u001B[0;36mGenerateJsonSchemaHandler.__call__\u001B[0;34m(self, core_schema)\u001B[0m\n\u001B[1;32m     35\u001B[0m \u001B[38;5;28;01mdef\u001B[39;00m \u001B[38;5;21m__call__\u001B[39m(\u001B[38;5;28mself\u001B[39m, core_schema: CoreSchemaOrField, \u001B[38;5;241m/\u001B[39m) \u001B[38;5;241m-\u001B[39m\u001B[38;5;241m>\u001B[39m JsonSchemaValue:\n\u001B[0;32m---> 36\u001B[0m     \u001B[38;5;28;01mreturn\u001B[39;00m \u001B[38;5;28;43mself\u001B[39;49m\u001B[38;5;241;43m.\u001B[39;49m\u001B[43mhandler\u001B[49m\u001B[43m(\u001B[49m\u001B[43mcore_schema\u001B[49m\u001B[43m)\u001B[49m\n",
      "File \u001B[0;32m~/Library/Application Support/hatch/env/virtual/vizro-ai/fZiNbsWT/vizro-ai/lib/python3.9/site-packages/pydantic/json_schema.py:508\u001B[0m, in \u001B[0;36mGenerateJsonSchema.generate_inner.<locals>.handler_func\u001B[0;34m(schema_or_field)\u001B[0m\n\u001B[1;32m    506\u001B[0m \u001B[38;5;28;01mif\u001B[39;00m _core_utils\u001B[38;5;241m.\u001B[39mis_core_schema(schema_or_field) \u001B[38;5;129;01mor\u001B[39;00m _core_utils\u001B[38;5;241m.\u001B[39mis_core_schema_field(schema_or_field):\n\u001B[1;32m    507\u001B[0m     generate_for_schema_type \u001B[38;5;241m=\u001B[39m \u001B[38;5;28mself\u001B[39m\u001B[38;5;241m.\u001B[39m_schema_type_to_method[schema_or_field[\u001B[38;5;124m'\u001B[39m\u001B[38;5;124mtype\u001B[39m\u001B[38;5;124m'\u001B[39m]]\n\u001B[0;32m--> 508\u001B[0m     json_schema \u001B[38;5;241m=\u001B[39m \u001B[43mgenerate_for_schema_type\u001B[49m\u001B[43m(\u001B[49m\u001B[43mschema_or_field\u001B[49m\u001B[43m)\u001B[49m\n\u001B[1;32m    509\u001B[0m \u001B[38;5;28;01melse\u001B[39;00m:\n\u001B[1;32m    510\u001B[0m     \u001B[38;5;28;01mraise\u001B[39;00m \u001B[38;5;167;01mTypeError\u001B[39;00m(\u001B[38;5;124mf\u001B[39m\u001B[38;5;124m'\u001B[39m\u001B[38;5;124mUnexpected schema type: schema=\u001B[39m\u001B[38;5;132;01m{\u001B[39;00mschema_or_field\u001B[38;5;132;01m}\u001B[39;00m\u001B[38;5;124m'\u001B[39m)\n",
      "File \u001B[0;32m~/Library/Application Support/hatch/env/virtual/vizro-ai/fZiNbsWT/vizro-ai/lib/python3.9/site-packages/pydantic/json_schema.py:1484\u001B[0m, in \u001B[0;36mGenerateJsonSchema.model_fields_schema\u001B[0;34m(self, schema)\u001B[0m\n\u001B[1;32m   1482\u001B[0m \u001B[38;5;28;01mif\u001B[39;00m \u001B[38;5;28mself\u001B[39m\u001B[38;5;241m.\u001B[39mmode \u001B[38;5;241m==\u001B[39m \u001B[38;5;124m'\u001B[39m\u001B[38;5;124mserialization\u001B[39m\u001B[38;5;124m'\u001B[39m:\n\u001B[1;32m   1483\u001B[0m     named_required_fields\u001B[38;5;241m.\u001B[39mextend(\u001B[38;5;28mself\u001B[39m\u001B[38;5;241m.\u001B[39m_name_required_computed_fields(schema\u001B[38;5;241m.\u001B[39mget(\u001B[38;5;124m'\u001B[39m\u001B[38;5;124mcomputed_fields\u001B[39m\u001B[38;5;124m'\u001B[39m, [])))\n\u001B[0;32m-> 1484\u001B[0m json_schema \u001B[38;5;241m=\u001B[39m \u001B[38;5;28;43mself\u001B[39;49m\u001B[38;5;241;43m.\u001B[39;49m\u001B[43m_named_required_fields_schema\u001B[49m\u001B[43m(\u001B[49m\u001B[43mnamed_required_fields\u001B[49m\u001B[43m)\u001B[49m\n\u001B[1;32m   1485\u001B[0m extras_schema \u001B[38;5;241m=\u001B[39m schema\u001B[38;5;241m.\u001B[39mget(\u001B[38;5;124m'\u001B[39m\u001B[38;5;124mextras_schema\u001B[39m\u001B[38;5;124m'\u001B[39m, \u001B[38;5;28;01mNone\u001B[39;00m)\n\u001B[1;32m   1486\u001B[0m \u001B[38;5;28;01mif\u001B[39;00m extras_schema \u001B[38;5;129;01mis\u001B[39;00m \u001B[38;5;129;01mnot\u001B[39;00m \u001B[38;5;28;01mNone\u001B[39;00m:\n",
      "File \u001B[0;32m~/Library/Application Support/hatch/env/virtual/vizro-ai/fZiNbsWT/vizro-ai/lib/python3.9/site-packages/pydantic/json_schema.py:1295\u001B[0m, in \u001B[0;36mGenerateJsonSchema._named_required_fields_schema\u001B[0;34m(self, named_required_fields)\u001B[0m\n\u001B[1;32m   1293\u001B[0m     name \u001B[38;5;241m=\u001B[39m \u001B[38;5;28mself\u001B[39m\u001B[38;5;241m.\u001B[39m_get_alias_name(field, name)\n\u001B[1;32m   1294\u001B[0m \u001B[38;5;28;01mtry\u001B[39;00m:\n\u001B[0;32m-> 1295\u001B[0m     field_json_schema \u001B[38;5;241m=\u001B[39m \u001B[38;5;28;43mself\u001B[39;49m\u001B[38;5;241;43m.\u001B[39;49m\u001B[43mgenerate_inner\u001B[49m\u001B[43m(\u001B[49m\u001B[43mfield\u001B[49m\u001B[43m)\u001B[49m\u001B[38;5;241m.\u001B[39mcopy()\n\u001B[1;32m   1296\u001B[0m \u001B[38;5;28;01mexcept\u001B[39;00m PydanticOmit:\n\u001B[1;32m   1297\u001B[0m     \u001B[38;5;28;01mcontinue\u001B[39;00m\n",
      "File \u001B[0;32m~/Library/Application Support/hatch/env/virtual/vizro-ai/fZiNbsWT/vizro-ai/lib/python3.9/site-packages/pydantic/json_schema.py:551\u001B[0m, in \u001B[0;36mGenerateJsonSchema.generate_inner\u001B[0;34m(self, schema)\u001B[0m\n\u001B[1;32m    547\u001B[0m         \u001B[38;5;28;01mreturn\u001B[39;00m json_schema\n\u001B[1;32m    549\u001B[0m     current_handler \u001B[38;5;241m=\u001B[39m _schema_generation_shared\u001B[38;5;241m.\u001B[39mGenerateJsonSchemaHandler(\u001B[38;5;28mself\u001B[39m, new_handler_func)\n\u001B[0;32m--> 551\u001B[0m json_schema \u001B[38;5;241m=\u001B[39m \u001B[43mcurrent_handler\u001B[49m\u001B[43m(\u001B[49m\u001B[43mschema\u001B[49m\u001B[43m)\u001B[49m\n\u001B[1;32m    552\u001B[0m \u001B[38;5;28;01mif\u001B[39;00m _core_utils\u001B[38;5;241m.\u001B[39mis_core_schema(schema):\n\u001B[1;32m    553\u001B[0m     json_schema \u001B[38;5;241m=\u001B[39m populate_defs(schema, json_schema)\n",
      "File \u001B[0;32m~/Library/Application Support/hatch/env/virtual/vizro-ai/fZiNbsWT/vizro-ai/lib/python3.9/site-packages/pydantic/_internal/_schema_generation_shared.py:36\u001B[0m, in \u001B[0;36mGenerateJsonSchemaHandler.__call__\u001B[0;34m(self, core_schema)\u001B[0m\n\u001B[1;32m     35\u001B[0m \u001B[38;5;28;01mdef\u001B[39;00m \u001B[38;5;21m__call__\u001B[39m(\u001B[38;5;28mself\u001B[39m, core_schema: CoreSchemaOrField, \u001B[38;5;241m/\u001B[39m) \u001B[38;5;241m-\u001B[39m\u001B[38;5;241m>\u001B[39m JsonSchemaValue:\n\u001B[0;32m---> 36\u001B[0m     \u001B[38;5;28;01mreturn\u001B[39;00m \u001B[38;5;28;43mself\u001B[39;49m\u001B[38;5;241;43m.\u001B[39;49m\u001B[43mhandler\u001B[49m\u001B[43m(\u001B[49m\u001B[43mcore_schema\u001B[49m\u001B[43m)\u001B[49m\n",
      "File \u001B[0;32m~/Library/Application Support/hatch/env/virtual/vizro-ai/fZiNbsWT/vizro-ai/lib/python3.9/site-packages/pydantic/json_schema.py:543\u001B[0m, in \u001B[0;36mGenerateJsonSchema.generate_inner.<locals>.new_handler_func\u001B[0;34m(schema_or_field, current_handler, js_modify_function)\u001B[0m\n\u001B[1;32m    538\u001B[0m \u001B[38;5;28;01mdef\u001B[39;00m \u001B[38;5;21mnew_handler_func\u001B[39m(\n\u001B[1;32m    539\u001B[0m     schema_or_field: CoreSchemaOrField,\n\u001B[1;32m    540\u001B[0m     current_handler: GetJsonSchemaHandler \u001B[38;5;241m=\u001B[39m current_handler,\n\u001B[1;32m    541\u001B[0m     js_modify_function: GetJsonSchemaFunction \u001B[38;5;241m=\u001B[39m js_modify_function,\n\u001B[1;32m    542\u001B[0m ) \u001B[38;5;241m-\u001B[39m\u001B[38;5;241m>\u001B[39m JsonSchemaValue:\n\u001B[0;32m--> 543\u001B[0m     json_schema \u001B[38;5;241m=\u001B[39m \u001B[43mjs_modify_function\u001B[49m\u001B[43m(\u001B[49m\u001B[43mschema_or_field\u001B[49m\u001B[43m,\u001B[49m\u001B[43m \u001B[49m\u001B[43mcurrent_handler\u001B[49m\u001B[43m)\u001B[49m\n\u001B[1;32m    544\u001B[0m     \u001B[38;5;28;01mif\u001B[39;00m _core_utils\u001B[38;5;241m.\u001B[39mis_core_schema(schema_or_field):\n\u001B[1;32m    545\u001B[0m         json_schema \u001B[38;5;241m=\u001B[39m populate_defs(schema_or_field, json_schema)\n",
      "File \u001B[0;32m~/Library/Application Support/hatch/env/virtual/vizro-ai/fZiNbsWT/vizro-ai/lib/python3.9/site-packages/pydantic/_internal/_generate_schema.py:2176\u001B[0m, in \u001B[0;36mget_json_schema_update_func.<locals>.json_schema_update_func\u001B[0;34m(core_schema_or_field, handler)\u001B[0m\n\u001B[1;32m   2173\u001B[0m \u001B[38;5;28;01mdef\u001B[39;00m \u001B[38;5;21mjson_schema_update_func\u001B[39m(\n\u001B[1;32m   2174\u001B[0m     core_schema_or_field: CoreSchemaOrField, handler: GetJsonSchemaHandler\n\u001B[1;32m   2175\u001B[0m ) \u001B[38;5;241m-\u001B[39m\u001B[38;5;241m>\u001B[39m JsonSchemaValue:\n\u001B[0;32m-> 2176\u001B[0m     json_schema \u001B[38;5;241m=\u001B[39m {\u001B[38;5;241m*\u001B[39m\u001B[38;5;241m*\u001B[39m\u001B[43mhandler\u001B[49m\u001B[43m(\u001B[49m\u001B[43mcore_schema_or_field\u001B[49m\u001B[43m)\u001B[49m, \u001B[38;5;241m*\u001B[39m\u001B[38;5;241m*\u001B[39mjson_schema_update}\n\u001B[1;32m   2177\u001B[0m     add_json_schema_extra(json_schema, json_schema_extra)\n\u001B[1;32m   2178\u001B[0m     \u001B[38;5;28;01mreturn\u001B[39;00m json_schema\n",
      "File \u001B[0;32m~/Library/Application Support/hatch/env/virtual/vizro-ai/fZiNbsWT/vizro-ai/lib/python3.9/site-packages/pydantic/_internal/_schema_generation_shared.py:36\u001B[0m, in \u001B[0;36mGenerateJsonSchemaHandler.__call__\u001B[0;34m(self, core_schema)\u001B[0m\n\u001B[1;32m     35\u001B[0m \u001B[38;5;28;01mdef\u001B[39;00m \u001B[38;5;21m__call__\u001B[39m(\u001B[38;5;28mself\u001B[39m, core_schema: CoreSchemaOrField, \u001B[38;5;241m/\u001B[39m) \u001B[38;5;241m-\u001B[39m\u001B[38;5;241m>\u001B[39m JsonSchemaValue:\n\u001B[0;32m---> 36\u001B[0m     \u001B[38;5;28;01mreturn\u001B[39;00m \u001B[38;5;28;43mself\u001B[39;49m\u001B[38;5;241;43m.\u001B[39;49m\u001B[43mhandler\u001B[49m\u001B[43m(\u001B[49m\u001B[43mcore_schema\u001B[49m\u001B[43m)\u001B[49m\n",
      "File \u001B[0;32m~/Library/Application Support/hatch/env/virtual/vizro-ai/fZiNbsWT/vizro-ai/lib/python3.9/site-packages/pydantic/json_schema.py:508\u001B[0m, in \u001B[0;36mGenerateJsonSchema.generate_inner.<locals>.handler_func\u001B[0;34m(schema_or_field)\u001B[0m\n\u001B[1;32m    506\u001B[0m \u001B[38;5;28;01mif\u001B[39;00m _core_utils\u001B[38;5;241m.\u001B[39mis_core_schema(schema_or_field) \u001B[38;5;129;01mor\u001B[39;00m _core_utils\u001B[38;5;241m.\u001B[39mis_core_schema_field(schema_or_field):\n\u001B[1;32m    507\u001B[0m     generate_for_schema_type \u001B[38;5;241m=\u001B[39m \u001B[38;5;28mself\u001B[39m\u001B[38;5;241m.\u001B[39m_schema_type_to_method[schema_or_field[\u001B[38;5;124m'\u001B[39m\u001B[38;5;124mtype\u001B[39m\u001B[38;5;124m'\u001B[39m]]\n\u001B[0;32m--> 508\u001B[0m     json_schema \u001B[38;5;241m=\u001B[39m \u001B[43mgenerate_for_schema_type\u001B[49m\u001B[43m(\u001B[49m\u001B[43mschema_or_field\u001B[49m\u001B[43m)\u001B[49m\n\u001B[1;32m    509\u001B[0m \u001B[38;5;28;01melse\u001B[39;00m:\n\u001B[1;32m    510\u001B[0m     \u001B[38;5;28;01mraise\u001B[39;00m \u001B[38;5;167;01mTypeError\u001B[39;00m(\u001B[38;5;124mf\u001B[39m\u001B[38;5;124m'\u001B[39m\u001B[38;5;124mUnexpected schema type: schema=\u001B[39m\u001B[38;5;132;01m{\u001B[39;00mschema_or_field\u001B[38;5;132;01m}\u001B[39;00m\u001B[38;5;124m'\u001B[39m)\n",
      "File \u001B[0;32m~/Library/Application Support/hatch/env/virtual/vizro-ai/fZiNbsWT/vizro-ai/lib/python3.9/site-packages/pydantic/json_schema.py:1363\u001B[0m, in \u001B[0;36mGenerateJsonSchema.model_field_schema\u001B[0;34m(self, schema)\u001B[0m\n\u001B[1;32m   1354\u001B[0m \u001B[38;5;28;01mdef\u001B[39;00m \u001B[38;5;21mmodel_field_schema\u001B[39m(\u001B[38;5;28mself\u001B[39m, schema: core_schema\u001B[38;5;241m.\u001B[39mModelField) \u001B[38;5;241m-\u001B[39m\u001B[38;5;241m>\u001B[39m JsonSchemaValue:\n\u001B[1;32m   1355\u001B[0m \u001B[38;5;250m    \u001B[39m\u001B[38;5;124;03m\"\"\"Generates a JSON schema that matches a schema that defines a model field.\u001B[39;00m\n\u001B[1;32m   1356\u001B[0m \n\u001B[1;32m   1357\u001B[0m \u001B[38;5;124;03m    Args:\u001B[39;00m\n\u001B[0;32m   (...)\u001B[0m\n\u001B[1;32m   1361\u001B[0m \u001B[38;5;124;03m        The generated JSON schema.\u001B[39;00m\n\u001B[1;32m   1362\u001B[0m \u001B[38;5;124;03m    \"\"\"\u001B[39;00m\n\u001B[0;32m-> 1363\u001B[0m     \u001B[38;5;28;01mreturn\u001B[39;00m \u001B[38;5;28;43mself\u001B[39;49m\u001B[38;5;241;43m.\u001B[39;49m\u001B[43mgenerate_inner\u001B[49m\u001B[43m(\u001B[49m\u001B[43mschema\u001B[49m\u001B[43m[\u001B[49m\u001B[38;5;124;43m'\u001B[39;49m\u001B[38;5;124;43mschema\u001B[39;49m\u001B[38;5;124;43m'\u001B[39;49m\u001B[43m]\u001B[49m\u001B[43m)\u001B[49m\n",
      "File \u001B[0;32m~/Library/Application Support/hatch/env/virtual/vizro-ai/fZiNbsWT/vizro-ai/lib/python3.9/site-packages/pydantic/json_schema.py:551\u001B[0m, in \u001B[0;36mGenerateJsonSchema.generate_inner\u001B[0;34m(self, schema)\u001B[0m\n\u001B[1;32m    547\u001B[0m         \u001B[38;5;28;01mreturn\u001B[39;00m json_schema\n\u001B[1;32m    549\u001B[0m     current_handler \u001B[38;5;241m=\u001B[39m _schema_generation_shared\u001B[38;5;241m.\u001B[39mGenerateJsonSchemaHandler(\u001B[38;5;28mself\u001B[39m, new_handler_func)\n\u001B[0;32m--> 551\u001B[0m json_schema \u001B[38;5;241m=\u001B[39m \u001B[43mcurrent_handler\u001B[49m\u001B[43m(\u001B[49m\u001B[43mschema\u001B[49m\u001B[43m)\u001B[49m\n\u001B[1;32m    552\u001B[0m \u001B[38;5;28;01mif\u001B[39;00m _core_utils\u001B[38;5;241m.\u001B[39mis_core_schema(schema):\n\u001B[1;32m    553\u001B[0m     json_schema \u001B[38;5;241m=\u001B[39m populate_defs(schema, json_schema)\n",
      "File \u001B[0;32m~/Library/Application Support/hatch/env/virtual/vizro-ai/fZiNbsWT/vizro-ai/lib/python3.9/site-packages/pydantic/_internal/_schema_generation_shared.py:36\u001B[0m, in \u001B[0;36mGenerateJsonSchemaHandler.__call__\u001B[0;34m(self, core_schema)\u001B[0m\n\u001B[1;32m     35\u001B[0m \u001B[38;5;28;01mdef\u001B[39;00m \u001B[38;5;21m__call__\u001B[39m(\u001B[38;5;28mself\u001B[39m, core_schema: CoreSchemaOrField, \u001B[38;5;241m/\u001B[39m) \u001B[38;5;241m-\u001B[39m\u001B[38;5;241m>\u001B[39m JsonSchemaValue:\n\u001B[0;32m---> 36\u001B[0m     \u001B[38;5;28;01mreturn\u001B[39;00m \u001B[38;5;28;43mself\u001B[39;49m\u001B[38;5;241;43m.\u001B[39;49m\u001B[43mhandler\u001B[49m\u001B[43m(\u001B[49m\u001B[43mcore_schema\u001B[49m\u001B[43m)\u001B[49m\n",
      "File \u001B[0;32m~/Library/Application Support/hatch/env/virtual/vizro-ai/fZiNbsWT/vizro-ai/lib/python3.9/site-packages/pydantic/json_schema.py:508\u001B[0m, in \u001B[0;36mGenerateJsonSchema.generate_inner.<locals>.handler_func\u001B[0;34m(schema_or_field)\u001B[0m\n\u001B[1;32m    506\u001B[0m \u001B[38;5;28;01mif\u001B[39;00m _core_utils\u001B[38;5;241m.\u001B[39mis_core_schema(schema_or_field) \u001B[38;5;129;01mor\u001B[39;00m _core_utils\u001B[38;5;241m.\u001B[39mis_core_schema_field(schema_or_field):\n\u001B[1;32m    507\u001B[0m     generate_for_schema_type \u001B[38;5;241m=\u001B[39m \u001B[38;5;28mself\u001B[39m\u001B[38;5;241m.\u001B[39m_schema_type_to_method[schema_or_field[\u001B[38;5;124m'\u001B[39m\u001B[38;5;124mtype\u001B[39m\u001B[38;5;124m'\u001B[39m]]\n\u001B[0;32m--> 508\u001B[0m     json_schema \u001B[38;5;241m=\u001B[39m \u001B[43mgenerate_for_schema_type\u001B[49m\u001B[43m(\u001B[49m\u001B[43mschema_or_field\u001B[49m\u001B[43m)\u001B[49m\n\u001B[1;32m    509\u001B[0m \u001B[38;5;28;01melse\u001B[39;00m:\n\u001B[1;32m    510\u001B[0m     \u001B[38;5;28;01mraise\u001B[39;00m \u001B[38;5;167;01mTypeError\u001B[39;00m(\u001B[38;5;124mf\u001B[39m\u001B[38;5;124m'\u001B[39m\u001B[38;5;124mUnexpected schema type: schema=\u001B[39m\u001B[38;5;132;01m{\u001B[39;00mschema_or_field\u001B[38;5;132;01m}\u001B[39;00m\u001B[38;5;124m'\u001B[39m)\n",
      "File \u001B[0;32m~/Library/Application Support/hatch/env/virtual/vizro-ai/fZiNbsWT/vizro-ai/lib/python3.9/site-packages/pydantic/json_schema.py:1206\u001B[0m, in \u001B[0;36mGenerateJsonSchema.chain_schema\u001B[0;34m(self, schema)\u001B[0m\n\u001B[1;32m   1194\u001B[0m \u001B[38;5;250m\u001B[39m\u001B[38;5;124;03m\"\"\"Generates a JSON schema that matches a core_schema.ChainSchema.\u001B[39;00m\n\u001B[1;32m   1195\u001B[0m \n\u001B[1;32m   1196\u001B[0m \u001B[38;5;124;03mWhen generating a schema for validation, we return the validation JSON schema for the first step in the chain.\u001B[39;00m\n\u001B[0;32m   (...)\u001B[0m\n\u001B[1;32m   1203\u001B[0m \u001B[38;5;124;03m    The generated JSON schema.\u001B[39;00m\n\u001B[1;32m   1204\u001B[0m \u001B[38;5;124;03m\"\"\"\u001B[39;00m\n\u001B[1;32m   1205\u001B[0m step_index \u001B[38;5;241m=\u001B[39m \u001B[38;5;241m0\u001B[39m \u001B[38;5;28;01mif\u001B[39;00m \u001B[38;5;28mself\u001B[39m\u001B[38;5;241m.\u001B[39mmode \u001B[38;5;241m==\u001B[39m \u001B[38;5;124m'\u001B[39m\u001B[38;5;124mvalidation\u001B[39m\u001B[38;5;124m'\u001B[39m \u001B[38;5;28;01melse\u001B[39;00m \u001B[38;5;241m-\u001B[39m\u001B[38;5;241m1\u001B[39m  \u001B[38;5;66;03m# use first step for validation, last for serialization\u001B[39;00m\n\u001B[0;32m-> 1206\u001B[0m \u001B[38;5;28;01mreturn\u001B[39;00m \u001B[38;5;28;43mself\u001B[39;49m\u001B[38;5;241;43m.\u001B[39;49m\u001B[43mgenerate_inner\u001B[49m\u001B[43m(\u001B[49m\u001B[43mschema\u001B[49m\u001B[43m[\u001B[49m\u001B[38;5;124;43m'\u001B[39;49m\u001B[38;5;124;43msteps\u001B[39;49m\u001B[38;5;124;43m'\u001B[39;49m\u001B[43m]\u001B[49m\u001B[43m[\u001B[49m\u001B[43mstep_index\u001B[49m\u001B[43m]\u001B[49m\u001B[43m)\u001B[49m\n",
      "File \u001B[0;32m~/Library/Application Support/hatch/env/virtual/vizro-ai/fZiNbsWT/vizro-ai/lib/python3.9/site-packages/pydantic/json_schema.py:551\u001B[0m, in \u001B[0;36mGenerateJsonSchema.generate_inner\u001B[0;34m(self, schema)\u001B[0m\n\u001B[1;32m    547\u001B[0m         \u001B[38;5;28;01mreturn\u001B[39;00m json_schema\n\u001B[1;32m    549\u001B[0m     current_handler \u001B[38;5;241m=\u001B[39m _schema_generation_shared\u001B[38;5;241m.\u001B[39mGenerateJsonSchemaHandler(\u001B[38;5;28mself\u001B[39m, new_handler_func)\n\u001B[0;32m--> 551\u001B[0m json_schema \u001B[38;5;241m=\u001B[39m \u001B[43mcurrent_handler\u001B[49m\u001B[43m(\u001B[49m\u001B[43mschema\u001B[49m\u001B[43m)\u001B[49m\n\u001B[1;32m    552\u001B[0m \u001B[38;5;28;01mif\u001B[39;00m _core_utils\u001B[38;5;241m.\u001B[39mis_core_schema(schema):\n\u001B[1;32m    553\u001B[0m     json_schema \u001B[38;5;241m=\u001B[39m populate_defs(schema, json_schema)\n",
      "File \u001B[0;32m~/Library/Application Support/hatch/env/virtual/vizro-ai/fZiNbsWT/vizro-ai/lib/python3.9/site-packages/pydantic/_internal/_schema_generation_shared.py:36\u001B[0m, in \u001B[0;36mGenerateJsonSchemaHandler.__call__\u001B[0;34m(self, core_schema)\u001B[0m\n\u001B[1;32m     35\u001B[0m \u001B[38;5;28;01mdef\u001B[39;00m \u001B[38;5;21m__call__\u001B[39m(\u001B[38;5;28mself\u001B[39m, core_schema: CoreSchemaOrField, \u001B[38;5;241m/\u001B[39m) \u001B[38;5;241m-\u001B[39m\u001B[38;5;241m>\u001B[39m JsonSchemaValue:\n\u001B[0;32m---> 36\u001B[0m     \u001B[38;5;28;01mreturn\u001B[39;00m \u001B[38;5;28;43mself\u001B[39;49m\u001B[38;5;241;43m.\u001B[39;49m\u001B[43mhandler\u001B[49m\u001B[43m(\u001B[49m\u001B[43mcore_schema\u001B[49m\u001B[43m)\u001B[49m\n",
      "File \u001B[0;32m~/Library/Application Support/hatch/env/virtual/vizro-ai/fZiNbsWT/vizro-ai/lib/python3.9/site-packages/pydantic/json_schema.py:508\u001B[0m, in \u001B[0;36mGenerateJsonSchema.generate_inner.<locals>.handler_func\u001B[0;34m(schema_or_field)\u001B[0m\n\u001B[1;32m    506\u001B[0m \u001B[38;5;28;01mif\u001B[39;00m _core_utils\u001B[38;5;241m.\u001B[39mis_core_schema(schema_or_field) \u001B[38;5;129;01mor\u001B[39;00m _core_utils\u001B[38;5;241m.\u001B[39mis_core_schema_field(schema_or_field):\n\u001B[1;32m    507\u001B[0m     generate_for_schema_type \u001B[38;5;241m=\u001B[39m \u001B[38;5;28mself\u001B[39m\u001B[38;5;241m.\u001B[39m_schema_type_to_method[schema_or_field[\u001B[38;5;124m'\u001B[39m\u001B[38;5;124mtype\u001B[39m\u001B[38;5;124m'\u001B[39m]]\n\u001B[0;32m--> 508\u001B[0m     json_schema \u001B[38;5;241m=\u001B[39m \u001B[43mgenerate_for_schema_type\u001B[49m\u001B[43m(\u001B[49m\u001B[43mschema_or_field\u001B[49m\u001B[43m)\u001B[49m\n\u001B[1;32m    509\u001B[0m \u001B[38;5;28;01melse\u001B[39;00m:\n\u001B[1;32m    510\u001B[0m     \u001B[38;5;28;01mraise\u001B[39;00m \u001B[38;5;167;01mTypeError\u001B[39;00m(\u001B[38;5;124mf\u001B[39m\u001B[38;5;124m'\u001B[39m\u001B[38;5;124mUnexpected schema type: schema=\u001B[39m\u001B[38;5;132;01m{\u001B[39;00mschema_or_field\u001B[38;5;132;01m}\u001B[39;00m\u001B[38;5;124m'\u001B[39m)\n",
      "File \u001B[0;32m~/Library/Application Support/hatch/env/virtual/vizro-ai/fZiNbsWT/vizro-ai/lib/python3.9/site-packages/pydantic/json_schema.py:1019\u001B[0m, in \u001B[0;36mGenerateJsonSchema.function_plain_schema\u001B[0;34m(self, schema)\u001B[0m\n\u001B[1;32m   1010\u001B[0m \u001B[38;5;28;01mdef\u001B[39;00m \u001B[38;5;21mfunction_plain_schema\u001B[39m(\u001B[38;5;28mself\u001B[39m, schema: core_schema\u001B[38;5;241m.\u001B[39mPlainValidatorFunctionSchema) \u001B[38;5;241m-\u001B[39m\u001B[38;5;241m>\u001B[39m JsonSchemaValue:\n\u001B[1;32m   1011\u001B[0m \u001B[38;5;250m    \u001B[39m\u001B[38;5;124;03m\"\"\"Generates a JSON schema that matches a function-plain schema.\u001B[39;00m\n\u001B[1;32m   1012\u001B[0m \n\u001B[1;32m   1013\u001B[0m \u001B[38;5;124;03m    Args:\u001B[39;00m\n\u001B[0;32m   (...)\u001B[0m\n\u001B[1;32m   1017\u001B[0m \u001B[38;5;124;03m        The generated JSON schema.\u001B[39;00m\n\u001B[1;32m   1018\u001B[0m \u001B[38;5;124;03m    \"\"\"\u001B[39;00m\n\u001B[0;32m-> 1019\u001B[0m     \u001B[38;5;28;01mreturn\u001B[39;00m \u001B[38;5;28;43mself\u001B[39;49m\u001B[38;5;241;43m.\u001B[39;49m\u001B[43m_function_schema\u001B[49m\u001B[43m(\u001B[49m\u001B[43mschema\u001B[49m\u001B[43m)\u001B[49m\n",
      "File \u001B[0;32m~/Library/Application Support/hatch/env/virtual/vizro-ai/fZiNbsWT/vizro-ai/lib/python3.9/site-packages/pydantic/json_schema.py:984\u001B[0m, in \u001B[0;36mGenerateJsonSchema._function_schema\u001B[0;34m(self, schema)\u001B[0m\n\u001B[1;32m    981\u001B[0m     \u001B[38;5;28;01mreturn\u001B[39;00m \u001B[38;5;28mself\u001B[39m\u001B[38;5;241m.\u001B[39mgenerate_inner(schema[\u001B[38;5;124m'\u001B[39m\u001B[38;5;124mschema\u001B[39m\u001B[38;5;124m'\u001B[39m])\n\u001B[1;32m    983\u001B[0m \u001B[38;5;66;03m# function-plain\u001B[39;00m\n\u001B[0;32m--> 984\u001B[0m \u001B[38;5;28;01mreturn\u001B[39;00m \u001B[38;5;28;43mself\u001B[39;49m\u001B[38;5;241;43m.\u001B[39;49m\u001B[43mhandle_invalid_for_json_schema\u001B[49m\u001B[43m(\u001B[49m\n\u001B[1;32m    985\u001B[0m \u001B[43m    \u001B[49m\u001B[43mschema\u001B[49m\u001B[43m,\u001B[49m\u001B[43m \u001B[49m\u001B[38;5;124;43mf\u001B[39;49m\u001B[38;5;124;43m'\u001B[39;49m\u001B[38;5;124;43mcore_schema.PlainValidatorFunctionSchema (\u001B[39;49m\u001B[38;5;132;43;01m{\u001B[39;49;00m\u001B[43mschema\u001B[49m\u001B[43m[\u001B[49m\u001B[38;5;124;43m\"\u001B[39;49m\u001B[38;5;124;43mfunction\u001B[39;49m\u001B[38;5;124;43m\"\u001B[39;49m\u001B[43m]\u001B[49m\u001B[38;5;132;43;01m}\u001B[39;49;00m\u001B[38;5;124;43m)\u001B[39;49m\u001B[38;5;124;43m'\u001B[39;49m\n\u001B[1;32m    986\u001B[0m \u001B[43m\u001B[49m\u001B[43m)\u001B[49m\n",
      "File \u001B[0;32m~/Library/Application Support/hatch/env/virtual/vizro-ai/fZiNbsWT/vizro-ai/lib/python3.9/site-packages/pydantic/json_schema.py:2152\u001B[0m, in \u001B[0;36mGenerateJsonSchema.handle_invalid_for_json_schema\u001B[0;34m(self, schema, error_info)\u001B[0m\n\u001B[1;32m   2151\u001B[0m \u001B[38;5;28;01mdef\u001B[39;00m \u001B[38;5;21mhandle_invalid_for_json_schema\u001B[39m(\u001B[38;5;28mself\u001B[39m, schema: CoreSchemaOrField, error_info: \u001B[38;5;28mstr\u001B[39m) \u001B[38;5;241m-\u001B[39m\u001B[38;5;241m>\u001B[39m JsonSchemaValue:\n\u001B[0;32m-> 2152\u001B[0m     \u001B[38;5;28;01mraise\u001B[39;00m PydanticInvalidForJsonSchema(\u001B[38;5;124mf\u001B[39m\u001B[38;5;124m'\u001B[39m\u001B[38;5;124mCannot generate a JsonSchema for \u001B[39m\u001B[38;5;132;01m{\u001B[39;00merror_info\u001B[38;5;132;01m}\u001B[39;00m\u001B[38;5;124m'\u001B[39m)\n",
      "\u001B[0;31mPydanticInvalidForJsonSchema\u001B[0m: Cannot generate a JsonSchema for core_schema.PlainValidatorFunctionSchema ({'type': 'with-info', 'function': <bound method BaseModel.validate of <class '__main__.Location'>>})\n\nFor further information visit https://errors.pydantic.dev/2.7/u/invalid-for-json-schema"
     ]
    }
   ],
   "execution_count": 16
  },
  {
   "cell_type": "markdown",
   "id": "88bbae29-5b89-4f0a-a987-9425bf9d2444",
   "metadata": {},
   "source": [
    "## Summary"
   ]
  },
  {
   "cell_type": "markdown",
   "id": "9098af0e-6e42-4dce-a103-0d9e966e6bc8",
   "metadata": {},
   "source": [
    "It looks like Marvin is really slick and easy to use so far.\n",
    "\n",
    "PRO:\n",
    "- instantiates Pydantic models with ease\n",
    "- very simple and intuitive API\n",
    "- support for assistant and more complex workflow, but at the heart very simple\n",
    "\n",
    "CON:\n",
    "- very much focussed on OpenAI\n",
    "- not the clearest view on model settings, although it seems possible to some extent\n",
    "\n",
    "Still to verify:\n",
    "- how will it deal with Vizro Pydantic models\n",
    "- \"pydantic>=2.4.2\""
   ]
  },
  {
   "cell_type": "code",
   "execution_count": null,
   "id": "4d43aa66-46c7-4c09-ad21-4aec5de8ff8f",
   "metadata": {},
   "outputs": [],
   "source": []
  },
  {
   "cell_type": "code",
   "execution_count": null,
   "id": "5e12b187-4217-49bb-989f-f1317fad0ea3",
   "metadata": {},
   "outputs": [],
   "source": []
  },
  {
   "cell_type": "code",
   "execution_count": null,
   "id": "02563f83-c427-4648-bb93-414c945d1d2d",
   "metadata": {},
   "outputs": [],
   "source": []
  },
  {
   "cell_type": "code",
   "execution_count": null,
   "id": "f3d6f257-6e07-4219-879e-b2997542ea23",
   "metadata": {},
   "outputs": [],
   "source": []
  }
 ],
 "metadata": {
  "kernelspec": {
   "display_name": "Python 3 (ipykernel)",
   "language": "python",
   "name": "python3"
  },
  "language_info": {
   "codemirror_mode": {
    "name": "ipython",
    "version": 3
   },
   "file_extension": ".py",
   "mimetype": "text/x-python",
   "name": "python",
   "nbconvert_exporter": "python",
   "pygments_lexer": "ipython3",
   "version": "3.9.12"
  }
 },
 "nbformat": 4,
 "nbformat_minor": 5
}
