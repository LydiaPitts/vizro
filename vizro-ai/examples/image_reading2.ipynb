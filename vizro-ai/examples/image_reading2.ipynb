{
 "cells": [
  {
   "cell_type": "raw",
   "id": "192b1114-bfd4-437e-ae32-c17ef31535d4",
   "metadata": {},
   "source": [
    "#%pip install Pillow\n",
    "\n",
    "import base64\n",
    "from PIL import Image\n",
    "import numpy as np\n",
    "import plotly.graph_objects as go\n",
    "from plotly.subplots import make_subplots\n",
    "from langchain.schema import HumanMessage\n",
    "\n",
    "def load_image(image_path):\n",
    "    \"\"\"\n",
    "    Load an image from a local file path, convert it to base64,\n",
    "    and return as a numpy array and base64 string.\n",
    "    \"\"\"\n",
    "    with open(image_path, \"rb\") as image_file:\n",
    "        image_data = base64.b64encode(image_file.read()).decode(\"utf-8\")\n",
    "    \n",
    "    img = Image.open(image_path)\n",
    "    return np.array(img), image_data\n",
    "\n",
    "def get_image_data(**kwargs):\n",
    "    \"\"\"\n",
    "    Load images and return a list of their base64-encoded data.\n",
    "    \n",
    "    :param kwargs: Should contain 'image_paths' key with a list of file paths\n",
    "    :return: List of base64-encoded image data\n",
    "    \"\"\"\n",
    "    image_paths = kwargs.get('image_paths', [])\n",
    "    return [load_image(path)[1] for path in image_paths]\n",
    "\n",
    "def create_image_subplot(fig, img_array, row, col, title=None):\n",
    "    \"\"\"Add an image as a subplot to the figure.\"\"\"\n",
    "    fig.add_trace(\n",
    "        go.Image(z=img_array),\n",
    "        row=row, col=col\n",
    "    )\n",
    "    if title:\n",
    "        fig.update_xaxes(title_text=title, row=row, col=col)\n",
    "\n",
    "def display_images(image_paths, titles=None, ncols=2):\n",
    "    \"\"\"Display multiple images in a grid layout.\"\"\"\n",
    "    n_images = len(image_paths)\n",
    "    nrows = (n_images - 1) // ncols + 1\n",
    "\n",
    "    fig = make_subplots(rows=nrows, cols=ncols, subplot_titles=titles)\n",
    "\n",
    "    for i, path in enumerate(image_paths):\n",
    "        img_array, _ = load_image(path)\n",
    "        row = i // ncols + 1\n",
    "        col = i % ncols + 1\n",
    "        create_image_subplot(fig, img_array, row, col)\n",
    "\n",
    "    fig.update_layout(\n",
    "        showlegend=False,\n",
    "        xaxis=dict(showticklabels=False, showgrid=False, zeroline=False),\n",
    "        yaxis=dict(showticklabels=False, showgrid=False, zeroline=False)\n",
    "    )\n",
    "\n",
    "    fig.show()\n",
    "\n",
    "def construct_message(images, question):\n",
    "    \"\"\"\n",
    "    Construct a HumanMessage with a dynamic number of images.\n",
    "    \n",
    "    :param images: List of base64-encoded image data\n",
    "    :param question: The question to ask about the images\n",
    "    :return: HumanMessage object\n",
    "    \"\"\"\n",
    "    content = [{\"type\": \"text\", \"text\": question}]\n",
    "    for img_data in images:\n",
    "        content.append({\n",
    "            \"type\": \"image_url\",\n",
    "            \"image_url\": {\"url\": f\"data:image/jpeg;base64,{img_data}\"}\n",
    "        })\n",
    "    return HumanMessage(content=content)\n",
    "\n",
    "# Example usage\n",
    "image_paths = [\n",
    "    \"/Users/lingyi_zhang/vizx/os/world data/page1.png\",\n",
    "    \"/Users/lingyi_zhang/vizx/os/world data/page2.png\",\n",
    "\n",
    "]\n",
    "titles = [\"First Image\", \"Second Image\"]\n",
    "\n",
    "# Display images\n",
    "# display_images(image_paths, titles)"
   ]
  },
  {
   "cell_type": "raw",
   "id": "cd7bfcc7-e066-4467-94ff-4fe248431f96",
   "metadata": {},
   "source": [
    "# Get image data\n",
    "images = get_image_data(image_paths=image_paths)\n",
    "\n",
    "# Construct message\n",
    "query = \"\"\"\n",
    "IMPORTANT: Please always output your response by using a tool.\n",
    "You are a front-end developer with expertise in Plotly, Dash, and the visualization library named Vizro.\n",
    "1. Describe how many dashboard pages do you see.\n",
    "2. Describe what do you see in each page with following aspects:\n",
    "\n",
    "<Vizro components>\n",
    "you might see `Card (which is a container holding text)`, `Graph`, or `AgGrid`\n",
    "\n",
    "<Vizro controls>\n",
    "you might see filters using different selectors, including Dropdown, Checklist, Dropdown, RadioItems, RangeSlider, Slider, DatePicker.\n",
    "\n",
    "<Vizro Layout>\n",
    "Vizro `Layout` is only relevant to Vizro components, please only describe the positions of all Vizro components (Card, Graph, AgGrid). \n",
    "When describing layout, ignore space took by controls.\n",
    "\n",
    "Important, if there are any text you see, accurately describe the original text. if charts are colored by a specific column, specify that.\n",
    "\"\"\"\n",
    "message = construct_message(images, query)"
   ]
  },
  {
   "cell_type": "markdown",
   "id": "ee288f7b-5b4a-44b9-ad5d-6d203b661cc7",
   "metadata": {},
   "source": [
    "# Data sources"
   ]
  },
  {
   "cell_type": "code",
   "execution_count": null,
   "id": "9f627162-dab4-4008-b0d0-442463ce74af",
   "metadata": {
    "scrolled": true
   },
   "outputs": [],
   "source": [
    "import pandas as pd\n",
    "import vizro.plotly.express as px\n",
    "\n",
    "\n",
    "# world food production 1961-2021\n",
    "df1 = pd.read_csv(\"/Users/lingyi_zhang/vizx/os/world data/world food production.csv\")\n",
    "print(df1.head(1))\n",
    "\n",
    "# 2017-2021\n",
    "df2 = pd.read_csv(\"/Users/lingyi_zhang/vizx/os/world data/3- hare-of-consumer-expenditure-spent-on-food.csv\")\n",
    "print(df2.head(1))\n",
    "\n",
    "# 1952-2007\n",
    "df3 = px.data.gapminder()\n",
    "print(df3.head(1))"
   ]
  },
  {
   "cell_type": "markdown",
   "id": "586ed248-7cac-4bff-9f71-6fa3a13e203d",
   "metadata": {},
   "source": [
    "# VizroAI"
   ]
  },
  {
   "cell_type": "raw",
   "id": "f11e175d-dbb7-4d56-a0a2-a036b4ca9a03",
   "metadata": {},
   "source": [
    "from vizro_ai._llm_models import _get_llm_model\n",
    "model = _get_llm_model(model=\"gpt-4o\")"
   ]
  },
  {
   "cell_type": "raw",
   "id": "a24c2510-67ae-4f65-8c91-836325494bc6",
   "metadata": {},
   "source": [
    "response = model.invoke([message])\n",
    "dashboard_spec = response.content\n",
    "print(response.content)"
   ]
  },
  {
   "cell_type": "code",
   "execution_count": null,
   "id": "16f50a6f-a87d-4e57-84db-f8643428b1d5",
   "metadata": {},
   "outputs": [],
   "source": [
    "import pandas as pd\n",
    "import vizro.plotly.express as px\n",
    "\n",
    "from vizro import Vizro\n",
    "from vizro_ai import VizroAI\n",
    "\n",
    "vizro_ai = VizroAI(model=\"gpt-4o\")"
   ]
  },
  {
   "cell_type": "raw",
   "id": "7fbde324-a456-4a1b-9bea-212453d93864",
   "metadata": {},
   "source": [
    "# from vizro_ai.dashboard._pydantic_output import _get_pydantic_output\n",
    "# from vizro_ai.dashboard._response_models.df_info import DfInfo, _create_df_info_content, _get_df_info\n",
    "# from vizro_ai.dashboard.utils import AllDfMetadata, DfMetadata, _execute_step\n",
    "from vizro_ai.dashboard._response_models.dashboard import DashboardPlanner\n",
    "# from typing import Dict"
   ]
  },
  {
   "cell_type": "code",
   "execution_count": null,
   "id": "34281c7a-2e31-4b87-bc64-b5a881e60d06",
   "metadata": {},
   "outputs": [],
   "source": [
    "dfs = [df2, df3]"
   ]
  },
  {
   "cell_type": "raw",
   "id": "814b8fb7-a498-49cb-800c-dc318f5f728b",
   "metadata": {},
   "source": [
    "llm = model"
   ]
  },
  {
   "cell_type": "raw",
   "id": "8832d47c-ae12-4cab-8de6-3f0808b04f19",
   "metadata": {},
   "source": [
    "dashboard_plan = _get_pydantic_output(\n",
    "            query=query,\n",
    "            llm_model=llm,\n",
    "            response_model=DashboardPlanner,\n",
    "            # df_info=get_schemas_and_samples(all_df_metadata),\n",
    "    df_info=images,\n",
    "        )"
   ]
  },
  {
   "cell_type": "raw",
   "id": "bc5566cb-b4e1-418c-8c0d-50a1917b6706",
   "metadata": {},
   "source": [
    "# from langchain_core.tools import tool\n",
    "\n",
    "model_with_tools = model.bind_tools([DashboardPlanner])"
   ]
  },
  {
   "cell_type": "raw",
   "id": "73f0cdef-ccb2-447e-88c3-cb7f834a4a82",
   "metadata": {},
   "source": [
    "response = model_with_tools.invoke([message])\n",
    "print(response.tool_calls)"
   ]
  },
  {
   "cell_type": "raw",
   "id": "df7d3e23-e5cd-4e6c-b702-07a1d7f92602",
   "metadata": {},
   "source": [
    "def remove_df_name(obj):\n",
    "    if isinstance(obj, dict):\n",
    "        return {k: remove_df_name(v) for k, v in obj.items() if k != 'df_name'}\n",
    "    elif isinstance(obj, list):\n",
    "        return [remove_df_name(item) for item in obj]\n",
    "    else:\n",
    "        return obj"
   ]
  },
  {
   "cell_type": "raw",
   "id": "7b76b58c-3beb-4c7e-8fe7-4ccd5914cf6b",
   "metadata": {},
   "source": [
    "content_to_parse = response.tool_calls[0][\"args\"]\n",
    "print(content_to_parse)\n",
    "result = remove_df_name(content_to_parse)"
   ]
  },
  {
   "cell_type": "raw",
   "id": "2d2c59a1-523d-4d07-8023-e56a905902ec",
   "metadata": {},
   "source": [
    "Vizro._reset()\n",
    "dashboard = vizro_ai.dashboard([df2, df3], str(response.tool_calls[0]))\n",
    "\n",
    "\n",
    "Vizro().build(dashboard).run()"
   ]
  },
  {
   "cell_type": "raw",
   "id": "a90ef809-e48d-4990-9748-cefd202a8754",
   "metadata": {},
   "source": [
    "dashboard"
   ]
  },
  {
   "cell_type": "code",
   "execution_count": null,
   "id": "dde1fe1b-ab78-458f-ab97-4e103c422d21",
   "metadata": {},
   "outputs": [],
   "source": [
    "dashboard = vizro_ai.image_to_dashboard([df3, df2], \"\")"
   ]
  },
  {
   "cell_type": "code",
   "execution_count": null,
   "id": "46da885e-9774-4ca4-803b-9c195597edca",
   "metadata": {},
   "outputs": [],
   "source": []
  }
 ],
 "metadata": {
  "kernelspec": {
   "display_name": "Python 3 (ipykernel)",
   "language": "python",
   "name": "python3"
  },
  "language_info": {
   "codemirror_mode": {
    "name": "ipython",
    "version": 3
   },
   "file_extension": ".py",
   "mimetype": "text/x-python",
   "name": "python",
   "nbconvert_exporter": "python",
   "pygments_lexer": "ipython3",
   "version": "3.9.7"
  }
 },
 "nbformat": 4,
 "nbformat_minor": 5
}
