{
 "cells": [
  {
   "cell_type": "raw",
   "id": "192b1114-bfd4-437e-ae32-c17ef31535d4",
   "metadata": {},
   "source": [
    "#%pip install Pillow\n",
    "\n",
    "import base64\n",
    "from PIL import Image\n",
    "import numpy as np\n",
    "import plotly.graph_objects as go\n",
    "from plotly.subplots import make_subplots\n",
    "from langchain.schema import HumanMessage\n",
    "\n",
    "def load_image(image_path):\n",
    "    \"\"\"\n",
    "    Load an image from a local file path, convert it to base64,\n",
    "    and return as a numpy array and base64 string.\n",
    "    \"\"\"\n",
    "    with open(image_path, \"rb\") as image_file:\n",
    "        image_data = base64.b64encode(image_file.read()).decode(\"utf-8\")\n",
    "    \n",
    "    img = Image.open(image_path)\n",
    "    return np.array(img), image_data\n",
    "\n",
    "def get_image_data(**kwargs):\n",
    "    \"\"\"\n",
    "    Load images and return a list of their base64-encoded data.\n",
    "    \n",
    "    :param kwargs: Should contain 'image_paths' key with a list of file paths\n",
    "    :return: List of base64-encoded image data\n",
    "    \"\"\"\n",
    "    image_paths = kwargs.get('image_paths', [])\n",
    "    return [load_image(path)[1] for path in image_paths]\n",
    "\n",
    "def create_image_subplot(fig, img_array, row, col, title=None):\n",
    "    \"\"\"Add an image as a subplot to the figure.\"\"\"\n",
    "    fig.add_trace(\n",
    "        go.Image(z=img_array),\n",
    "        row=row, col=col\n",
    "    )\n",
    "    if title:\n",
    "        fig.update_xaxes(title_text=title, row=row, col=col)\n",
    "\n",
    "def display_images(image_paths, titles=None, ncols=2):\n",
    "    \"\"\"Display multiple images in a grid layout.\"\"\"\n",
    "    n_images = len(image_paths)\n",
    "    nrows = (n_images - 1) // ncols + 1\n",
    "\n",
    "    fig = make_subplots(rows=nrows, cols=ncols, subplot_titles=titles)\n",
    "\n",
    "    for i, path in enumerate(image_paths):\n",
    "        img_array, _ = load_image(path)\n",
    "        row = i // ncols + 1\n",
    "        col = i % ncols + 1\n",
    "        create_image_subplot(fig, img_array, row, col)\n",
    "\n",
    "    fig.update_layout(\n",
    "        showlegend=False,\n",
    "        xaxis=dict(showticklabels=False, showgrid=False, zeroline=False),\n",
    "        yaxis=dict(showticklabels=False, showgrid=False, zeroline=False)\n",
    "    )\n",
    "\n",
    "    fig.show()\n",
    "\n",
    "def construct_message(images, question):\n",
    "    \"\"\"\n",
    "    Construct a HumanMessage with a dynamic number of images.\n",
    "    \n",
    "    :param images: List of base64-encoded image data\n",
    "    :param question: The question to ask about the images\n",
    "    :return: HumanMessage object\n",
    "    \"\"\"\n",
    "    content = [{\"type\": \"text\", \"text\": question}]\n",
    "    for img_data in images:\n",
    "        content.append({\n",
    "            \"type\": \"image_url\",\n",
    "            \"image_url\": {\"url\": f\"data:image/jpeg;base64,{img_data}\"}\n",
    "        })\n",
    "    return HumanMessage(content=content)\n",
    "\n",
    "# Example usage\n",
    "image_paths = [\n",
    "    \"/Users/lingyi_zhang/vizx/os/world data/page1.png\",\n",
    "    \"/Users/lingyi_zhang/vizx/os/world data/page2.png\",\n",
    "\n",
    "]\n",
    "titles = [\"First Image\", \"Second Image\"]\n",
    "\n",
    "# Display images\n",
    "# display_images(image_paths, titles)"
   ]
  },
  {
   "cell_type": "raw",
   "id": "cd7bfcc7-e066-4467-94ff-4fe248431f96",
   "metadata": {},
   "source": [
    "# Get image data\n",
    "images = get_image_data(image_paths=image_paths)\n",
    "\n",
    "# Construct message\n",
    "query = \"\"\"\n",
    "IMPORTANT: Please always output your response by using a tool.\n",
    "You are a front-end developer with expertise in Plotly, Dash, and the visualization library named Vizro.\n",
    "1. Describe how many dashboard pages do you see.\n",
    "2. Describe what do you see in each page with following aspects:\n",
    "\n",
    "<Vizro components>\n",
    "you might see `Card (which is a container holding text)`, `Graph`, or `AgGrid`\n",
    "\n",
    "<Vizro controls>\n",
    "you might see filters using different selectors, including Dropdown, Checklist, Dropdown, RadioItems, RangeSlider, Slider, DatePicker.\n",
    "\n",
    "<Vizro Layout>\n",
    "Vizro `Layout` is only relevant to Vizro components, please only describe the positions of all Vizro components (Card, Graph, AgGrid). \n",
    "When describing layout, ignore space took by controls.\n",
    "\n",
    "Important, if there are any text you see, accurately describe the original text. if charts are colored by a specific column, specify that.\n",
    "\"\"\"\n",
    "message = construct_message(images, query)"
   ]
  },
  {
   "cell_type": "markdown",
   "id": "ee288f7b-5b4a-44b9-ad5d-6d203b661cc7",
   "metadata": {},
   "source": [
    "# Data sources"
   ]
  },
  {
   "cell_type": "code",
   "execution_count": 1,
   "id": "9f627162-dab4-4008-b0d0-442463ce74af",
   "metadata": {
    "scrolled": true
   },
   "outputs": [
    {
     "name": "stdout",
     "output_type": "stream",
     "text": [
      "        Entity  Year  Maize Production (tonnes)  Rice  Production ( tonnes)  \\\n",
      "0  Afghanistan  1961                   700000.0                    319000.0   \n",
      "\n",
      "   Yams  Production (tonnes)  Wheat Production (tonnes)  \\\n",
      "0                  7467702.0                  2279000.0   \n",
      "\n",
      "   Tomatoes Production (tonnes)  Tea  Production ( tonnes )  \\\n",
      "0                     1873812.0                     56315.0   \n",
      "\n",
      "   Sweet potatoes  Production (tonnes)  Sunflower seed  Production (tonnes)  \\\n",
      "0                            3270871.0                              12000.0   \n",
      "\n",
      "   ...  Oranges  Production (tonnes)  Peas, dry Production ( tonnes)  \\\n",
      "0  ...                       10100.0                        232910.0   \n",
      "\n",
      "   Palm oil  Production (tonnes)  Grapes  Production (tonnes)  \\\n",
      "0                      1131882.0                     225000.0   \n",
      "\n",
      "   Coffee, green Production ( tonnes)  Cocoa beans Production (tonnes)  \\\n",
      "0                            870970.0                         835368.0   \n",
      "\n",
      "   Meat, chicken  Production (tonnes)  Bananas  Production ( tonnes)  \\\n",
      "0                              5600.0                      3139079.0   \n",
      "\n",
      "   Avocados Production (tonnes)  Apples Production (tonnes)  \n",
      "0                       63439.0                     15100.0  \n",
      "\n",
      "[1 rows x 24 columns]\n",
      "    Entity Code  Year  Food as share of total consumer expenditure\n",
      "0  Algeria  DZA  2017                                    37.305225\n",
      "       country continent  year  lifeExp      pop   gdpPercap iso_alpha  \\\n",
      "0  Afghanistan      Asia  1952   28.801  8425333  779.445314       AFG   \n",
      "\n",
      "   iso_num  \n",
      "0        4  \n"
     ]
    }
   ],
   "source": [
    "import pandas as pd\n",
    "import vizro.plotly.express as px\n",
    "\n",
    "\n",
    "# world food production 1961-2021\n",
    "df1 = pd.read_csv(\"/Users/lingyi_zhang/vizx/os/world data/world food production.csv\")\n",
    "print(df1.head(1))\n",
    "\n",
    "# 2017-2021\n",
    "df2 = pd.read_csv(\"/Users/lingyi_zhang/vizx/os/world data/3- hare-of-consumer-expenditure-spent-on-food.csv\")\n",
    "print(df2.head(1))\n",
    "\n",
    "# 1952-2007\n",
    "df3 = px.data.gapminder()\n",
    "print(df3.head(1))"
   ]
  },
  {
   "cell_type": "markdown",
   "id": "586ed248-7cac-4bff-9f71-6fa3a13e203d",
   "metadata": {},
   "source": [
    "# VizroAI"
   ]
  },
  {
   "cell_type": "raw",
   "id": "f11e175d-dbb7-4d56-a0a2-a036b4ca9a03",
   "metadata": {},
   "source": [
    "from vizro_ai._llm_models import _get_llm_model\n",
    "model = _get_llm_model(model=\"gpt-4o\")"
   ]
  },
  {
   "cell_type": "raw",
   "id": "a24c2510-67ae-4f65-8c91-836325494bc6",
   "metadata": {},
   "source": [
    "response = model.invoke([message])\n",
    "dashboard_spec = response.content\n",
    "print(response.content)"
   ]
  },
  {
   "cell_type": "code",
   "execution_count": 2,
   "id": "16f50a6f-a87d-4e57-84db-f8643428b1d5",
   "metadata": {},
   "outputs": [],
   "source": [
    "import pandas as pd\n",
    "import vizro.plotly.express as px\n",
    "\n",
    "from vizro import Vizro\n",
    "from vizro_ai import VizroAI\n",
    "\n",
    "vizro_ai = VizroAI(model=\"gpt-4o\")"
   ]
  },
  {
   "cell_type": "raw",
   "id": "7fbde324-a456-4a1b-9bea-212453d93864",
   "metadata": {},
   "source": [
    "# from vizro_ai.dashboard._pydantic_output import _get_pydantic_output\n",
    "# from vizro_ai.dashboard._response_models.df_info import DfInfo, _create_df_info_content, _get_df_info\n",
    "# from vizro_ai.dashboard.utils import AllDfMetadata, DfMetadata, _execute_step\n",
    "from vizro_ai.dashboard._response_models.dashboard import DashboardPlanner\n",
    "# from typing import Dict"
   ]
  },
  {
   "cell_type": "code",
   "execution_count": 3,
   "id": "34281c7a-2e31-4b87-bc64-b5a881e60d06",
   "metadata": {},
   "outputs": [],
   "source": [
    "dfs = [df2, df3]"
   ]
  },
  {
   "cell_type": "raw",
   "id": "814b8fb7-a498-49cb-800c-dc318f5f728b",
   "metadata": {},
   "source": [
    "llm = model"
   ]
  },
  {
   "cell_type": "raw",
   "id": "8832d47c-ae12-4cab-8de6-3f0808b04f19",
   "metadata": {},
   "source": [
    "dashboard_plan = _get_pydantic_output(\n",
    "            query=query,\n",
    "            llm_model=llm,\n",
    "            response_model=DashboardPlanner,\n",
    "            # df_info=get_schemas_and_samples(all_df_metadata),\n",
    "    df_info=images,\n",
    "        )"
   ]
  },
  {
   "cell_type": "raw",
   "id": "bc5566cb-b4e1-418c-8c0d-50a1917b6706",
   "metadata": {},
   "source": [
    "# from langchain_core.tools import tool\n",
    "\n",
    "model_with_tools = model.bind_tools([DashboardPlanner])"
   ]
  },
  {
   "cell_type": "raw",
   "id": "73f0cdef-ccb2-447e-88c3-cb7f834a4a82",
   "metadata": {},
   "source": [
    "response = model_with_tools.invoke([message])\n",
    "print(response.tool_calls)"
   ]
  },
  {
   "cell_type": "raw",
   "id": "df7d3e23-e5cd-4e6c-b702-07a1d7f92602",
   "metadata": {},
   "source": [
    "def remove_df_name(obj):\n",
    "    if isinstance(obj, dict):\n",
    "        return {k: remove_df_name(v) for k, v in obj.items() if k != 'df_name'}\n",
    "    elif isinstance(obj, list):\n",
    "        return [remove_df_name(item) for item in obj]\n",
    "    else:\n",
    "        return obj"
   ]
  },
  {
   "cell_type": "raw",
   "id": "7b76b58c-3beb-4c7e-8fe7-4ccd5914cf6b",
   "metadata": {},
   "source": [
    "content_to_parse = response.tool_calls[0][\"args\"]\n",
    "print(content_to_parse)\n",
    "result = remove_df_name(content_to_parse)"
   ]
  },
  {
   "cell_type": "raw",
   "id": "2d2c59a1-523d-4d07-8023-e56a905902ec",
   "metadata": {},
   "source": [
    "Vizro._reset()\n",
    "dashboard = vizro_ai.dashboard([df2, df3], str(response.tool_calls[0]))\n",
    "\n",
    "\n",
    "Vizro().build(dashboard).run()"
   ]
  },
  {
   "cell_type": "raw",
   "id": "a90ef809-e48d-4990-9748-cefd202a8754",
   "metadata": {},
   "source": [
    "dashboard"
   ]
  },
  {
   "cell_type": "code",
   "execution_count": 4,
   "id": "dde1fe1b-ab78-458f-ab97-4e103c422d21",
   "metadata": {},
   "outputs": [
    {
     "data": {
      "application/vnd.jupyter.widget-view+json": {
       "model_id": "39ea11890e0345ff9394d873983e0d9d",
       "version_major": 2,
       "version_minor": 0
      },
      "text/plain": [
       "Store df info:   0%|          | 0/2 [00:00<?, ?it/s]"
      ]
     },
     "metadata": {},
     "output_type": "display_data"
    },
    {
     "name": "stdout",
     "output_type": "stream",
     "text": [
      "df_name: dataset\n",
      "df_name: food_expenditure\n"
     ]
    },
    {
     "data": {
      "application/vnd.jupyter.widget-view+json": {
       "model_id": "3acc14eee62c44fbb258ae98d45b5b26",
       "version_major": 2,
       "version_minor": 0
      },
      "text/plain": [
       "Generate dashboard plan:   0%|          | 0/2 [00:00<?, ?it/s]"
      ]
     },
     "metadata": {},
     "output_type": "display_data"
    },
    {
     "ename": "ValidationError",
     "evalue": "2 validation errors for GraphState\ndashboard_plan -> title\n  field required (type=value_error.missing)\ndashboard_plan -> pages\n  field required (type=value_error.missing)",
     "output_type": "error",
     "traceback": [
      "\u001b[0;31m---------------------------------------------------------------------------\u001b[0m",
      "\u001b[0;31mValidationError\u001b[0m                           Traceback (most recent call last)",
      "Cell \u001b[0;32mIn[4], line 1\u001b[0m\n\u001b[0;32m----> 1\u001b[0m dashboard \u001b[38;5;241m=\u001b[39m \u001b[43mvizro_ai\u001b[49m\u001b[38;5;241;43m.\u001b[39;49m\u001b[43mimage_to_dashboard\u001b[49m\u001b[43m(\u001b[49m\u001b[43m[\u001b[49m\u001b[43mdf3\u001b[49m\u001b[43m,\u001b[49m\u001b[43m \u001b[49m\u001b[43mdf2\u001b[49m\u001b[43m]\u001b[49m\u001b[43m,\u001b[49m\u001b[43m \u001b[49m\u001b[38;5;124;43m\"\u001b[39;49m\u001b[38;5;124;43m\"\u001b[39;49m\u001b[43m)\u001b[49m\n",
      "File \u001b[0;32m~/vizx/os/vizro/vizro-ai/src/vizro_ai/_vizro_ai.py:253\u001b[0m, in \u001b[0;36mVizroAI.image_to_dashboard\u001b[0;34m(self, dfs, user_input, return_elements)\u001b[0m\n\u001b[1;32m    250\u001b[0m message \u001b[38;5;241m=\u001b[39m construct_message(images, PLACEHOLDER_MESSAGE)\n\u001b[1;32m    252\u001b[0m config \u001b[38;5;241m=\u001b[39m {\u001b[38;5;124m\"\u001b[39m\u001b[38;5;124mconfigurable\u001b[39m\u001b[38;5;124m\"\u001b[39m: {\u001b[38;5;124m\"\u001b[39m\u001b[38;5;124mmodel\u001b[39m\u001b[38;5;124m\"\u001b[39m: \u001b[38;5;28mself\u001b[39m\u001b[38;5;241m.\u001b[39mmodel}}\n\u001b[0;32m--> 253\u001b[0m message_res \u001b[38;5;241m=\u001b[39m \u001b[43mrunnable\u001b[49m\u001b[38;5;241;43m.\u001b[39;49m\u001b[43minvoke\u001b[49m\u001b[43m(\u001b[49m\n\u001b[1;32m    254\u001b[0m \u001b[43m    \u001b[49m\u001b[43m{\u001b[49m\n\u001b[1;32m    255\u001b[0m \u001b[43m        \u001b[49m\u001b[38;5;124;43m\"\u001b[39;49m\u001b[38;5;124;43mdfs\u001b[39;49m\u001b[38;5;124;43m\"\u001b[39;49m\u001b[43m:\u001b[49m\u001b[43m \u001b[49m\u001b[43mdfs\u001b[49m\u001b[43m,\u001b[49m\n\u001b[1;32m    256\u001b[0m \u001b[43m        \u001b[49m\u001b[38;5;124;43m\"\u001b[39;49m\u001b[38;5;124;43mall_df_metadata\u001b[39;49m\u001b[38;5;124;43m\"\u001b[39;49m\u001b[43m:\u001b[49m\u001b[43m \u001b[49m\u001b[43m{\u001b[49m\u001b[43m}\u001b[49m\u001b[43m,\u001b[49m\n\u001b[1;32m    257\u001b[0m \u001b[43m        \u001b[49m\u001b[38;5;124;43m\"\u001b[39;49m\u001b[38;5;124;43mdashboard_plan\u001b[39;49m\u001b[38;5;124;43m\"\u001b[39;49m\u001b[43m:\u001b[49m\u001b[43m \u001b[49m\u001b[38;5;28;43;01mNone\u001b[39;49;00m\u001b[43m,\u001b[49m\n\u001b[1;32m    258\u001b[0m \u001b[43m        \u001b[49m\u001b[38;5;124;43m\"\u001b[39;49m\u001b[38;5;124;43mpages\u001b[39;49m\u001b[38;5;124;43m\"\u001b[39;49m\u001b[43m:\u001b[49m\u001b[43m \u001b[49m\u001b[43m[\u001b[49m\u001b[43m]\u001b[49m\u001b[43m,\u001b[49m\n\u001b[1;32m    259\u001b[0m \u001b[43m        \u001b[49m\u001b[38;5;124;43m\"\u001b[39;49m\u001b[38;5;124;43mdashboard\u001b[39;49m\u001b[38;5;124;43m\"\u001b[39;49m\u001b[43m:\u001b[49m\u001b[43m \u001b[49m\u001b[38;5;28;43;01mNone\u001b[39;49;00m\u001b[43m,\u001b[49m\n\u001b[1;32m    260\u001b[0m \u001b[43m        \u001b[49m\u001b[38;5;124;43m\"\u001b[39;49m\u001b[38;5;124;43mmessages\u001b[39;49m\u001b[38;5;124;43m\"\u001b[39;49m\u001b[43m:\u001b[49m\u001b[43m \u001b[49m\u001b[43m[\u001b[49m\u001b[43mmessage\u001b[49m\u001b[43m]\u001b[49m\u001b[43m,\u001b[49m\n\u001b[1;32m    261\u001b[0m \u001b[43m    \u001b[49m\u001b[43m}\u001b[49m\u001b[43m,\u001b[49m\n\u001b[1;32m    262\u001b[0m \u001b[43m    \u001b[49m\u001b[43mconfig\u001b[49m\u001b[38;5;241;43m=\u001b[39;49m\u001b[43mconfig\u001b[49m\u001b[43m,\u001b[49m\n\u001b[1;32m    263\u001b[0m \u001b[43m\u001b[49m\u001b[43m)\u001b[49m\n\u001b[1;32m    264\u001b[0m dashboard \u001b[38;5;241m=\u001b[39m message_res[\u001b[38;5;124m\"\u001b[39m\u001b[38;5;124mdashboard\u001b[39m\u001b[38;5;124m\"\u001b[39m]\n\u001b[1;32m    265\u001b[0m _register_data(all_df_metadata\u001b[38;5;241m=\u001b[39mmessage_res[\u001b[38;5;124m\"\u001b[39m\u001b[38;5;124mall_df_metadata\u001b[39m\u001b[38;5;124m\"\u001b[39m])\n",
      "File \u001b[0;32m~/vizx/os/vizro/venv/lib/python3.9/site-packages/langgraph/pregel/__init__.py:1448\u001b[0m, in \u001b[0;36mPregel.invoke\u001b[0;34m(self, input, config, stream_mode, output_keys, input_keys, interrupt_before, interrupt_after, debug, **kwargs)\u001b[0m\n\u001b[1;32m   1446\u001b[0m \u001b[38;5;28;01melse\u001b[39;00m:\n\u001b[1;32m   1447\u001b[0m     chunks \u001b[38;5;241m=\u001b[39m []\n\u001b[0;32m-> 1448\u001b[0m \u001b[38;5;28;01mfor\u001b[39;00m chunk \u001b[38;5;129;01min\u001b[39;00m \u001b[38;5;28mself\u001b[39m\u001b[38;5;241m.\u001b[39mstream(\n\u001b[1;32m   1449\u001b[0m     \u001b[38;5;28minput\u001b[39m,\n\u001b[1;32m   1450\u001b[0m     config,\n\u001b[1;32m   1451\u001b[0m     stream_mode\u001b[38;5;241m=\u001b[39mstream_mode,\n\u001b[1;32m   1452\u001b[0m     output_keys\u001b[38;5;241m=\u001b[39moutput_keys,\n\u001b[1;32m   1453\u001b[0m     input_keys\u001b[38;5;241m=\u001b[39minput_keys,\n\u001b[1;32m   1454\u001b[0m     interrupt_before\u001b[38;5;241m=\u001b[39minterrupt_before,\n\u001b[1;32m   1455\u001b[0m     interrupt_after\u001b[38;5;241m=\u001b[39minterrupt_after,\n\u001b[1;32m   1456\u001b[0m     debug\u001b[38;5;241m=\u001b[39mdebug,\n\u001b[1;32m   1457\u001b[0m     \u001b[38;5;241m*\u001b[39m\u001b[38;5;241m*\u001b[39mkwargs,\n\u001b[1;32m   1458\u001b[0m ):\n\u001b[1;32m   1459\u001b[0m     \u001b[38;5;28;01mif\u001b[39;00m stream_mode \u001b[38;5;241m==\u001b[39m \u001b[38;5;124m\"\u001b[39m\u001b[38;5;124mvalues\u001b[39m\u001b[38;5;124m\"\u001b[39m:\n\u001b[1;32m   1460\u001b[0m         latest \u001b[38;5;241m=\u001b[39m chunk\n",
      "File \u001b[0;32m~/vizx/os/vizro/venv/lib/python3.9/site-packages/langgraph/pregel/__init__.py:983\u001b[0m, in \u001b[0;36mPregel.stream\u001b[0;34m(self, input, config, stream_mode, output_keys, input_keys, interrupt_before, interrupt_after, debug)\u001b[0m\n\u001b[1;32m    980\u001b[0m         \u001b[38;5;28;01mdel\u001b[39;00m fut, task\n\u001b[1;32m    982\u001b[0m \u001b[38;5;66;03m# panic on failure or timeout\u001b[39;00m\n\u001b[0;32m--> 983\u001b[0m \u001b[43m_panic_or_proceed\u001b[49m\u001b[43m(\u001b[49m\u001b[43mdone\u001b[49m\u001b[43m,\u001b[49m\u001b[43m \u001b[49m\u001b[43minflight\u001b[49m\u001b[43m,\u001b[49m\u001b[43m \u001b[49m\u001b[43mstep\u001b[49m\u001b[43m)\u001b[49m\n\u001b[1;32m    984\u001b[0m \u001b[38;5;66;03m# don't keep futures around in memory longer than needed\u001b[39;00m\n\u001b[1;32m    985\u001b[0m \u001b[38;5;28;01mdel\u001b[39;00m done, inflight, futures\n",
      "File \u001b[0;32m~/vizx/os/vizro/venv/lib/python3.9/site-packages/langgraph/pregel/__init__.py:1537\u001b[0m, in \u001b[0;36m_panic_or_proceed\u001b[0;34m(done, inflight, step)\u001b[0m\n\u001b[1;32m   1535\u001b[0m             inflight\u001b[38;5;241m.\u001b[39mpop()\u001b[38;5;241m.\u001b[39mcancel()\n\u001b[1;32m   1536\u001b[0m         \u001b[38;5;66;03m# raise the exception\u001b[39;00m\n\u001b[0;32m-> 1537\u001b[0m         \u001b[38;5;28;01mraise\u001b[39;00m exc\n\u001b[1;32m   1539\u001b[0m \u001b[38;5;28;01mif\u001b[39;00m inflight:\n\u001b[1;32m   1540\u001b[0m     \u001b[38;5;66;03m# if we got here means we timed out\u001b[39;00m\n\u001b[1;32m   1541\u001b[0m     \u001b[38;5;28;01mwhile\u001b[39;00m inflight:\n\u001b[1;32m   1542\u001b[0m         \u001b[38;5;66;03m# cancel all pending tasks\u001b[39;00m\n",
      "File \u001b[0;32m~/opt/anaconda3/lib/python3.9/concurrent/futures/thread.py:52\u001b[0m, in \u001b[0;36m_WorkItem.run\u001b[0;34m(self)\u001b[0m\n\u001b[1;32m     49\u001b[0m     \u001b[38;5;28;01mreturn\u001b[39;00m\n\u001b[1;32m     51\u001b[0m \u001b[38;5;28;01mtry\u001b[39;00m:\n\u001b[0;32m---> 52\u001b[0m     result \u001b[38;5;241m=\u001b[39m \u001b[38;5;28;43mself\u001b[39;49m\u001b[38;5;241;43m.\u001b[39;49m\u001b[43mfn\u001b[49m\u001b[43m(\u001b[49m\u001b[38;5;241;43m*\u001b[39;49m\u001b[38;5;28;43mself\u001b[39;49m\u001b[38;5;241;43m.\u001b[39;49m\u001b[43margs\u001b[49m\u001b[43m,\u001b[49m\u001b[43m \u001b[49m\u001b[38;5;241;43m*\u001b[39;49m\u001b[38;5;241;43m*\u001b[39;49m\u001b[38;5;28;43mself\u001b[39;49m\u001b[38;5;241;43m.\u001b[39;49m\u001b[43mkwargs\u001b[49m\u001b[43m)\u001b[49m\n\u001b[1;32m     53\u001b[0m \u001b[38;5;28;01mexcept\u001b[39;00m \u001b[38;5;167;01mBaseException\u001b[39;00m \u001b[38;5;28;01mas\u001b[39;00m exc:\n\u001b[1;32m     54\u001b[0m     \u001b[38;5;28mself\u001b[39m\u001b[38;5;241m.\u001b[39mfuture\u001b[38;5;241m.\u001b[39mset_exception(exc)\n",
      "File \u001b[0;32m~/vizx/os/vizro/venv/lib/python3.9/site-packages/langgraph/pregel/retry.py:72\u001b[0m, in \u001b[0;36mrun_with_retry\u001b[0;34m(task, retry_policy)\u001b[0m\n\u001b[1;32m     70\u001b[0m task\u001b[38;5;241m.\u001b[39mwrites\u001b[38;5;241m.\u001b[39mclear()\n\u001b[1;32m     71\u001b[0m \u001b[38;5;66;03m# run the task\u001b[39;00m\n\u001b[0;32m---> 72\u001b[0m \u001b[43mtask\u001b[49m\u001b[38;5;241;43m.\u001b[39;49m\u001b[43mproc\u001b[49m\u001b[38;5;241;43m.\u001b[39;49m\u001b[43minvoke\u001b[49m\u001b[43m(\u001b[49m\u001b[43mtask\u001b[49m\u001b[38;5;241;43m.\u001b[39;49m\u001b[43minput\u001b[49m\u001b[43m,\u001b[49m\u001b[43m \u001b[49m\u001b[43mtask\u001b[49m\u001b[38;5;241;43m.\u001b[39;49m\u001b[43mconfig\u001b[49m\u001b[43m)\u001b[49m\n\u001b[1;32m     73\u001b[0m \u001b[38;5;66;03m# if successful, end\u001b[39;00m\n\u001b[1;32m     74\u001b[0m \u001b[38;5;28;01mbreak\u001b[39;00m\n",
      "File \u001b[0;32m~/vizx/os/vizro/venv/lib/python3.9/site-packages/langchain_core/runnables/base.py:2824\u001b[0m, in \u001b[0;36mRunnableSequence.invoke\u001b[0;34m(self, input, config, **kwargs)\u001b[0m\n\u001b[1;32m   2822\u001b[0m             \u001b[38;5;28minput\u001b[39m \u001b[38;5;241m=\u001b[39m step\u001b[38;5;241m.\u001b[39minvoke(\u001b[38;5;28minput\u001b[39m, config, \u001b[38;5;241m*\u001b[39m\u001b[38;5;241m*\u001b[39mkwargs)\n\u001b[1;32m   2823\u001b[0m         \u001b[38;5;28;01melse\u001b[39;00m:\n\u001b[0;32m-> 2824\u001b[0m             \u001b[38;5;28minput\u001b[39m \u001b[38;5;241m=\u001b[39m \u001b[43mstep\u001b[49m\u001b[38;5;241;43m.\u001b[39;49m\u001b[43minvoke\u001b[49m\u001b[43m(\u001b[49m\u001b[38;5;28;43minput\u001b[39;49m\u001b[43m,\u001b[49m\u001b[43m \u001b[49m\u001b[43mconfig\u001b[49m\u001b[43m)\u001b[49m\n\u001b[1;32m   2825\u001b[0m \u001b[38;5;66;03m# finish the root run\u001b[39;00m\n\u001b[1;32m   2826\u001b[0m \u001b[38;5;28;01mexcept\u001b[39;00m \u001b[38;5;167;01mBaseException\u001b[39;00m \u001b[38;5;28;01mas\u001b[39;00m e:\n",
      "File \u001b[0;32m~/vizx/os/vizro/venv/lib/python3.9/site-packages/langgraph/utils.py:95\u001b[0m, in \u001b[0;36mRunnableCallable.invoke\u001b[0;34m(self, input, config, **kwargs)\u001b[0m\n\u001b[1;32m     93\u001b[0m     \u001b[38;5;28;01mif\u001b[39;00m accepts_config(\u001b[38;5;28mself\u001b[39m\u001b[38;5;241m.\u001b[39mfunc):\n\u001b[1;32m     94\u001b[0m         kwargs[\u001b[38;5;124m\"\u001b[39m\u001b[38;5;124mconfig\u001b[39m\u001b[38;5;124m\"\u001b[39m] \u001b[38;5;241m=\u001b[39m config\n\u001b[0;32m---> 95\u001b[0m     ret \u001b[38;5;241m=\u001b[39m \u001b[43mcontext\u001b[49m\u001b[38;5;241;43m.\u001b[39;49m\u001b[43mrun\u001b[49m\u001b[43m(\u001b[49m\u001b[38;5;28;43mself\u001b[39;49m\u001b[38;5;241;43m.\u001b[39;49m\u001b[43mfunc\u001b[49m\u001b[43m,\u001b[49m\u001b[43m \u001b[49m\u001b[38;5;28;43minput\u001b[39;49m\u001b[43m,\u001b[49m\u001b[43m \u001b[49m\u001b[38;5;241;43m*\u001b[39;49m\u001b[38;5;241;43m*\u001b[39;49m\u001b[43mkwargs\u001b[49m\u001b[43m)\u001b[49m\n\u001b[1;32m     96\u001b[0m \u001b[38;5;28;01mif\u001b[39;00m \u001b[38;5;28misinstance\u001b[39m(ret, Runnable) \u001b[38;5;129;01mand\u001b[39;00m \u001b[38;5;28mself\u001b[39m\u001b[38;5;241m.\u001b[39mrecurse:\n\u001b[1;32m     97\u001b[0m     \u001b[38;5;28;01mreturn\u001b[39;00m ret\u001b[38;5;241m.\u001b[39minvoke(\u001b[38;5;28minput\u001b[39m, config)\n",
      "File \u001b[0;32m~/vizx/os/vizro/venv/lib/python3.9/site-packages/langgraph/graph/graph.py:70\u001b[0m, in \u001b[0;36mBranch._route\u001b[0;34m(self, input, config, reader, writer)\u001b[0m\n\u001b[1;32m     61\u001b[0m \u001b[38;5;28;01mdef\u001b[39;00m \u001b[38;5;21m_route\u001b[39m(\n\u001b[1;32m     62\u001b[0m     \u001b[38;5;28mself\u001b[39m,\n\u001b[1;32m     63\u001b[0m     \u001b[38;5;28minput\u001b[39m: Any,\n\u001b[0;32m   (...)\u001b[0m\n\u001b[1;32m     67\u001b[0m     writer: Callable[[\u001b[38;5;28mlist\u001b[39m[\u001b[38;5;28mstr\u001b[39m]], Optional[Runnable]],\n\u001b[1;32m     68\u001b[0m ) \u001b[38;5;241m-\u001b[39m\u001b[38;5;241m>\u001b[39m Runnable:\n\u001b[1;32m     69\u001b[0m     \u001b[38;5;28;01mif\u001b[39;00m reader:\n\u001b[0;32m---> 70\u001b[0m         value \u001b[38;5;241m=\u001b[39m \u001b[43mreader\u001b[49m\u001b[43m(\u001b[49m\u001b[43mconfig\u001b[49m\u001b[43m)\u001b[49m\n\u001b[1;32m     71\u001b[0m         \u001b[38;5;66;03m# passthrough additional keys from node to branch\u001b[39;00m\n\u001b[1;32m     72\u001b[0m         \u001b[38;5;66;03m# only doable when using dict states\u001b[39;00m\n\u001b[1;32m     73\u001b[0m         \u001b[38;5;28;01mif\u001b[39;00m \u001b[38;5;28misinstance\u001b[39m(value, \u001b[38;5;28mdict\u001b[39m) \u001b[38;5;129;01mand\u001b[39;00m \u001b[38;5;28misinstance\u001b[39m(\u001b[38;5;28minput\u001b[39m, \u001b[38;5;28mdict\u001b[39m):\n",
      "File \u001b[0;32m~/vizx/os/vizro/venv/lib/python3.9/site-packages/langgraph/pregel/read.py:94\u001b[0m, in \u001b[0;36mChannelRead.do_read\u001b[0;34m(config, channel, fresh, mapper)\u001b[0m\n\u001b[1;32m     89\u001b[0m     \u001b[38;5;28;01mraise\u001b[39;00m \u001b[38;5;167;01mRuntimeError\u001b[39;00m(\n\u001b[1;32m     90\u001b[0m         \u001b[38;5;124m\"\u001b[39m\u001b[38;5;124mNot configured with a read function\u001b[39m\u001b[38;5;124m\"\u001b[39m\n\u001b[1;32m     91\u001b[0m         \u001b[38;5;124m\"\u001b[39m\u001b[38;5;124mMake sure to call in the context of a Pregel process\u001b[39m\u001b[38;5;124m\"\u001b[39m\n\u001b[1;32m     92\u001b[0m     )\n\u001b[1;32m     93\u001b[0m \u001b[38;5;28;01mif\u001b[39;00m mapper:\n\u001b[0;32m---> 94\u001b[0m     \u001b[38;5;28;01mreturn\u001b[39;00m \u001b[43mmapper\u001b[49m\u001b[43m(\u001b[49m\u001b[43mread\u001b[49m\u001b[43m(\u001b[49m\u001b[43mchannel\u001b[49m\u001b[43m,\u001b[49m\u001b[43m \u001b[49m\u001b[43mfresh\u001b[49m\u001b[43m)\u001b[49m\u001b[43m)\u001b[49m\n\u001b[1;32m     95\u001b[0m \u001b[38;5;28;01melse\u001b[39;00m:\n\u001b[1;32m     96\u001b[0m     \u001b[38;5;28;01mreturn\u001b[39;00m read(channel, fresh)\n",
      "File \u001b[0;32m~/vizx/os/vizro/venv/lib/python3.9/site-packages/langgraph/graph/state.py:452\u001b[0m, in \u001b[0;36m_coerce_state\u001b[0;34m(schema, input)\u001b[0m\n\u001b[1;32m    451\u001b[0m \u001b[38;5;28;01mdef\u001b[39;00m \u001b[38;5;21m_coerce_state\u001b[39m(schema: Type[Any], \u001b[38;5;28minput\u001b[39m: \u001b[38;5;28mdict\u001b[39m[\u001b[38;5;28mstr\u001b[39m, Any]) \u001b[38;5;241m-\u001b[39m\u001b[38;5;241m>\u001b[39m \u001b[38;5;28mdict\u001b[39m[\u001b[38;5;28mstr\u001b[39m, Any]:\n\u001b[0;32m--> 452\u001b[0m     \u001b[38;5;28;01mreturn\u001b[39;00m \u001b[43mschema\u001b[49m\u001b[43m(\u001b[49m\u001b[38;5;241;43m*\u001b[39;49m\u001b[38;5;241;43m*\u001b[39;49m\u001b[38;5;28;43minput\u001b[39;49m\u001b[43m)\u001b[49m\n",
      "File \u001b[0;32m~/vizx/os/vizro/venv/lib/python3.9/site-packages/pydantic/v1/main.py:341\u001b[0m, in \u001b[0;36mBaseModel.__init__\u001b[0;34m(__pydantic_self__, **data)\u001b[0m\n\u001b[1;32m    339\u001b[0m values, fields_set, validation_error \u001b[38;5;241m=\u001b[39m validate_model(__pydantic_self__\u001b[38;5;241m.\u001b[39m\u001b[38;5;18m__class__\u001b[39m, data)\n\u001b[1;32m    340\u001b[0m \u001b[38;5;28;01mif\u001b[39;00m validation_error:\n\u001b[0;32m--> 341\u001b[0m     \u001b[38;5;28;01mraise\u001b[39;00m validation_error\n\u001b[1;32m    342\u001b[0m \u001b[38;5;28;01mtry\u001b[39;00m:\n\u001b[1;32m    343\u001b[0m     object_setattr(__pydantic_self__, \u001b[38;5;124m'\u001b[39m\u001b[38;5;124m__dict__\u001b[39m\u001b[38;5;124m'\u001b[39m, values)\n",
      "\u001b[0;31mValidationError\u001b[0m: 2 validation errors for GraphState\ndashboard_plan -> title\n  field required (type=value_error.missing)\ndashboard_plan -> pages\n  field required (type=value_error.missing)"
     ]
    }
   ],
   "source": [
    "dashboard = vizro_ai.image_to_dashboard([df3, df2], \"\")"
   ]
  },
  {
   "cell_type": "code",
   "execution_count": null,
   "id": "46da885e-9774-4ca4-803b-9c195597edca",
   "metadata": {},
   "outputs": [],
   "source": []
  }
 ],
 "metadata": {
  "kernelspec": {
   "display_name": "Python 3 (ipykernel)",
   "language": "python",
   "name": "python3"
  },
  "language_info": {
   "codemirror_mode": {
    "name": "ipython",
    "version": 3
   },
   "file_extension": ".py",
   "mimetype": "text/x-python",
   "name": "python",
   "nbconvert_exporter": "python",
   "pygments_lexer": "ipython3",
   "version": "3.9.7"
  }
 },
 "nbformat": 4,
 "nbformat_minor": 5
}
