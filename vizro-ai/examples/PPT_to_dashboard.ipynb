{
 "cells": [
  {
   "cell_type": "code",
   "execution_count": 1,
   "id": "3c45588e-7b67-4242-8aa0-7637b7b1fd5c",
   "metadata": {
    "jupyter": {
     "source_hidden": true
    }
   },
   "outputs": [],
   "source": [
    "import logging\n",
    "import warnings\n",
    "\n",
    "# Ignore all warnings\n",
    "warnings.filterwarnings('ignore')\n",
    "\n",
    "# Disable INFO and WARNING messages\n",
    "logging.getLogger().setLevel(logging.ERROR)\n",
    "\n",
    "# Specifically for LangChain\n",
    "logging.getLogger(\"langchain\").setLevel(logging.ERROR)\n",
    "\n",
    "from dotenv import load_dotenv\n",
    "load_dotenv()\n",
    "\n",
    "import pandas as pd\n",
    "import vizro.plotly.express as px\n",
    "\n",
    "\n",
    "# world food production 1961-2021\n",
    "# df1 = pd.read_csv(\"/Users/lingyi_zhang/vizx/os/world data/world food production.csv\")\n",
    "# print(df1.head(1))\n",
    "\n"
   ]
  },
  {
   "cell_type": "code",
   "execution_count": 2,
   "id": "2d947c1c-4bc8-479c-8590-28a2697a936f",
   "metadata": {
    "jupyter": {
     "source_hidden": true
    }
   },
   "outputs": [],
   "source": [
    "#%pip install Pillow\n",
    "\n",
    "import base64\n",
    "from PIL import Image\n",
    "import numpy as np\n",
    "import plotly.graph_objects as go\n",
    "from plotly.subplots import make_subplots\n",
    "from langchain.schema import HumanMessage\n",
    "\n",
    "from vizro_ai._llm_models import _get_llm_model\n",
    "model = _get_llm_model(model=\"gpt-4o\")\n",
    "\n",
    "def load_image(image_path):\n",
    "    \"\"\"\n",
    "    Load an image from a local file path, convert it to base64,\n",
    "    and return as a numpy array and base64 string.\n",
    "    \"\"\"\n",
    "    with open(image_path, \"rb\") as image_file:\n",
    "        image_data = base64.b64encode(image_file.read()).decode(\"utf-8\")\n",
    "    \n",
    "    img = Image.open(image_path)\n",
    "    return np.array(img), image_data\n",
    "\n",
    "def get_image_data(**kwargs):\n",
    "    \"\"\"\n",
    "    Load images and return a list of their base64-encoded data.\n",
    "    \n",
    "    :param kwargs: Should contain 'image_paths' key with a list of file paths\n",
    "    :return: List of base64-encoded image data\n",
    "    \"\"\"\n",
    "    image_paths = kwargs.get('image_paths', [])\n",
    "    return [load_image(path)[1] for path in image_paths]\n",
    "\n",
    "def create_image_subplot(fig, img_array, row, col, title=None):\n",
    "    \"\"\"Add an image as a subplot to the figure.\"\"\"\n",
    "    fig.add_trace(\n",
    "        go.Image(z=img_array),\n",
    "        row=row, col=col\n",
    "    )\n",
    "    if title:\n",
    "        fig.update_xaxes(title_text=title, row=row, col=col)\n",
    "\n",
    "def display_images(image_paths, titles=None, ncols=2):\n",
    "    \"\"\"Display multiple images in a grid layout.\"\"\"\n",
    "    n_images = len(image_paths)\n",
    "    nrows = (n_images - 1) // ncols + 1\n",
    "\n",
    "    fig = make_subplots(rows=nrows, cols=ncols, subplot_titles=titles)\n",
    "\n",
    "    for i, path in enumerate(image_paths):\n",
    "        img_array, _ = load_image(path)\n",
    "        row = i // ncols + 1\n",
    "        col = i % ncols + 1\n",
    "        create_image_subplot(fig, img_array, row, col)\n",
    "\n",
    "    fig.update_layout(\n",
    "        showlegend=False,\n",
    "        xaxis=dict(showticklabels=False, showgrid=False, zeroline=False),\n",
    "        yaxis=dict(showticklabels=False, showgrid=False, zeroline=False)\n",
    "    )\n",
    "\n",
    "    fig.show()\n",
    "\n",
    "def construct_message(images, question):\n",
    "    \"\"\"\n",
    "    Construct a HumanMessage with a dynamic number of images.\n",
    "    \n",
    "    :param images: List of base64-encoded image data\n",
    "    :param question: The question to ask about the images\n",
    "    :return: HumanMessage object\n",
    "    \"\"\"\n",
    "    content = [{\"type\": \"text\", \"text\": question}]\n",
    "    for img_data in images:\n",
    "        content.append({\n",
    "            \"type\": \"image_url\",\n",
    "            \"image_url\": {\"url\": f\"data:image/jpeg;base64,{img_data}\"}\n",
    "        })\n",
    "    return HumanMessage(content=content)\n",
    "\n",
    "# # Example usage\n",
    "# image_paths = [\n",
    "#     \"/Users/lingyi_zhang/vizx/os/world data/page1.png\",\n",
    "#     \"/Users/lingyi_zhang/vizx/os/world data/page2.png\",\n",
    "\n",
    "# ]\n",
    "# titles = [\"First Image\", \"Second Image\"]\n",
    "\n",
    "# Display images\n",
    "# display_images(image_paths, titles)\n",
    "question = \"\"\"\n",
    "You are a front-end developer with expertise in Plotly, Dash, and the visualization library named Vizro.\n",
    "1. Describe how many dashboard pages do you see.\n",
    "2. Describe what do you see in each page with following aspects:\n",
    "\n",
    "<Vizro Components>\n",
    "you might see `Card (which is a container holding text)`, `Graph`, or `AgGrid`.\n",
    "For `Graph`, Describe the chart type and describe what you see for x-axis, y-axis, and legend. \n",
    "\n",
    "<Vizro Filter>\n",
    "you might see filters using different selectors, including `Dropdown`, `Checklist`, `RadioItems`, `RangeSlider`, `Slider`, `DatePicker`.\n",
    "\n",
    "<Vizro Layout>\n",
    "Only describe the positions of all Vizro Components (`Card`, `Graph`, `AgGrid`). \n",
    "When describing layout, AVOID the positions of `Filter`.\n",
    "\n",
    "Important, if there are any text you see, accurately describe the original text. \n",
    "\"\"\""
   ]
  },
  {
   "cell_type": "code",
   "execution_count": 3,
   "id": "567377b8-99e0-473e-ad94-09b70076780a",
   "metadata": {},
   "outputs": [
    {
     "name": "stdout",
     "output_type": "stream",
     "text": [
      "### Dashboard Pages\n",
      "There are two dashboard pages.\n",
      "\n",
      "### Page 1: World food expenditure\n",
      "\n",
      "#### Vizro Components\n",
      "1. **Graph (Left)**\n",
      "   - **Chart Type**: Box Plot\n",
      "   - **X-axis**: Year\n",
      "   - **Y-axis**: Food as share of total consumer expenditure\n",
      "   - **Legend**: 2017 (black), 2018 (red), 2019 (purple), and more years indicated by ellipsis (...)\n",
      "   \n",
      "2. **Graph (Right)**\n",
      "   - **Chart Type**: Histogram\n",
      "   - **X-axis**: Food as share of total consumer expenditure\n",
      "   - **Y-axis**: Frequency\n",
      "   - **Legend**: 2017 (black), 2018 (red), 2019 (purple), and more years indicated by ellipsis (...)\n",
      "\n",
      "#### Vizro Filter\n",
      "1. **Dropdown**: Entity\n",
      "2. **Checklist**: Year (2017, 2018, 2019, 2020, 2021)\n",
      "\n",
      "#### Vizro Layout\n",
      "- The two `Graph` components are positioned side by side, with the box plot on the left and the histogram on the right.\n",
      "\n",
      "### Page 2: World GDP and life expectancy\n",
      "\n",
      "#### Vizro Components\n",
      "1. **Card**\n",
      "   - **Text**: \n",
      "     - \"Gapminder dataset:\"\n",
      "     - \"The Gapminder dataset provides historical data on countries' development indicators.\"\n",
      "   \n",
      "2. **AgGrid**\n",
      "   - **Table Columns**: country, continent, year, lifeExp, pop, gdpPercap, iso_alpha, iso_num\n",
      "   - **Table Data**: Sample data includes countries like Afghanistan and Albania with various development indicators.\n",
      "\n",
      "#### Vizro Filter\n",
      "1. **RangeSlider**: Year (1970 - 2000)\n",
      "\n",
      "#### Vizro Layout\n",
      "- The `Card` component is positioned at the top.\n",
      "- The `AgGrid` component is positioned below the `Card` component, taking up the remaining space.\n"
     ]
    }
   ],
   "source": [
    "# Example usage\n",
    "image_paths = [\n",
    "    \"/Users/lingyi_zhang/vizx/os/world data/page1.png\",\n",
    "    \"/Users/lingyi_zhang/vizx/os/world data/page2.png\",\n",
    "]\n",
    "\n",
    "# Get image data\n",
    "images = get_image_data(image_paths=image_paths)\n",
    "\n",
    "# Construct message\n",
    "message = construct_message(images, question)\n",
    "\n",
    "response = model.invoke([message])\n",
    "dashboard_spec = response.content\n",
    "print(response.content)"
   ]
  },
  {
   "cell_type": "markdown",
   "id": "ee288f7b-5b4a-44b9-ad5d-6d203b661cc7",
   "metadata": {},
   "source": [
    "# Data sources"
   ]
  },
  {
   "cell_type": "code",
   "execution_count": 4,
   "id": "1e0c620b-c273-4d8c-8fda-da15067e67f7",
   "metadata": {
    "scrolled": true
   },
   "outputs": [],
   "source": [
    "# 2017-2021\n",
    "df2 = pd.read_csv(\"/Users/lingyi_zhang/vizx/os/world data/3- hare-of-consumer-expenditure-spent-on-food.csv\")\n",
    "\n",
    "# 1952-2007\n",
    "df3 = px.data.gapminder()"
   ]
  },
  {
   "cell_type": "markdown",
   "id": "586ed248-7cac-4bff-9f71-6fa3a13e203d",
   "metadata": {},
   "source": [
    "# VizroAI"
   ]
  },
  {
   "cell_type": "code",
   "execution_count": 5,
   "id": "c18bb868-2eab-4044-bcd2-1359400a298d",
   "metadata": {},
   "outputs": [],
   "source": [
    "from vizro import Vizro\n",
    "from vizro_ai import VizroAI\n",
    "\n",
    "vizro_ai = VizroAI(model=\"gpt-4o\")"
   ]
  },
  {
   "cell_type": "code",
   "execution_count": 6,
   "id": "b14244d8-ca2c-40af-b714-ec4b7b9dbadb",
   "metadata": {},
   "outputs": [
    {
     "data": {
      "application/vnd.jupyter.widget-view+json": {
       "model_id": "25641f59ee654c26afd5f9dcf05cd197",
       "version_major": 2,
       "version_minor": 0
      },
      "text/plain": [
       "Store df info:   0%|          | 0/2 [00:00<?, ?it/s]"
      ]
     },
     "metadata": {},
     "output_type": "display_data"
    },
    {
     "name": "stdout",
     "output_type": "stream",
     "text": [
      "df_name: food_expenditure\n",
      "df_name: gapminder\n"
     ]
    },
    {
     "data": {
      "application/vnd.jupyter.widget-view+json": {
       "model_id": "d1d51bd665c144e3aa98fe1b3e4fa6b5",
       "version_major": 2,
       "version_minor": 0
      },
      "text/plain": [
       "Generate dashboard plan:   0%|          | 0/2 [00:00<?, ?it/s]"
      ]
     },
     "metadata": {},
     "output_type": "display_data"
    },
    {
     "data": {
      "application/vnd.jupyter.widget-view+json": {
       "model_id": "fdf0ffeefc4f4d1f9d3268b5c9972d0c",
       "version_major": 2,
       "version_minor": 0
      },
      "text/plain": [
       "Building page: World GDP and life expectancy:   0%|          | 0/5 [00:00<?, ?it/s]"
      ]
     },
     "metadata": {},
     "output_type": "display_data"
    },
    {
     "data": {
      "application/vnd.jupyter.widget-view+json": {
       "model_id": "df09e3b612784c69bd3ad71de4bfcbc4",
       "version_major": 2,
       "version_minor": 0
      },
      "text/plain": [
       "Building page: World food expenditure:   0%|          | 0/5 [00:00<?, ?it/s]"
      ]
     },
     "metadata": {},
     "output_type": "display_data"
    },
    {
     "data": {
      "application/vnd.jupyter.widget-view+json": {
       "model_id": "",
       "version_major": 2,
       "version_minor": 0
      },
      "text/plain": []
     },
     "metadata": {},
     "output_type": "display_data"
    },
    {
     "data": {
      "application/vnd.jupyter.widget-view+json": {
       "model_id": "",
       "version_major": 2,
       "version_minor": 0
      },
      "text/plain": []
     },
     "metadata": {},
     "output_type": "display_data"
    },
    {
     "data": {
      "application/vnd.jupyter.widget-view+json": {
       "model_id": "",
       "version_major": 2,
       "version_minor": 0
      },
      "text/plain": [
       "Currently Building ... [Page] <World GDP and life expectancy> components:   0%|          | 0/2 [00:00<?, ?it/s…"
      ]
     },
     "metadata": {},
     "output_type": "display_data"
    },
    {
     "data": {
      "application/vnd.jupyter.widget-view+json": {
       "model_id": "",
       "version_major": 2,
       "version_minor": 0
      },
      "text/plain": [
       "Currently Building ... [Page] <World food expenditure> components:   0%|          | 0/2 [00:00<?, ?it/s]"
      ]
     },
     "metadata": {},
     "output_type": "display_data"
    },
    {
     "name": "stderr",
     "output_type": "stream",
     "text": [
      "/Users/lingyi_zhang/vizx/os/vizro/venv/lib/python3.9/site-packages/langchain_core/_api/deprecation.py:139: LangChainDeprecationWarning: The class `LLMChain` was deprecated in LangChain 0.1.17 and will be removed in 0.3.0. Use RunnableSequence, e.g., `prompt | llm` instead.\n",
      "  warn_deprecated(\n"
     ]
    },
    {
     "data": {
      "application/vnd.jupyter.widget-view+json": {
       "model_id": "",
       "version_major": 2,
       "version_minor": 0
      },
      "text/plain": [
       "Currently Building ... [Page] <World GDP and life expectancy> controls:   0%|          | 0/1 [00:00<?, ?it/s]"
      ]
     },
     "metadata": {},
     "output_type": "display_data"
    },
    {
     "data": {
      "application/vnd.jupyter.widget-view+json": {
       "model_id": "",
       "version_major": 2,
       "version_minor": 0
      },
      "text/plain": [
       "Currently Building ... [Page] <World food expenditure> controls:   0%|          | 0/2 [00:00<?, ?it/s]"
      ]
     },
     "metadata": {},
     "output_type": "display_data"
    },
    {
     "data": {
      "text/html": [
       "\n",
       "        <iframe\n",
       "            width=\"100%\"\n",
       "            height=\"650\"\n",
       "            src=\"http://127.0.0.1:6050/\"\n",
       "            frameborder=\"0\"\n",
       "            allowfullscreen\n",
       "            \n",
       "        ></iframe>\n",
       "        "
      ],
      "text/plain": [
       "<IPython.lib.display.IFrame at 0x7f9e401cffa0>"
      ]
     },
     "metadata": {},
     "output_type": "display_data"
    }
   ],
   "source": [
    "Vizro._reset()\n",
    "dashboard = vizro_ai.dashboard([df2, df3], dashboard_spec)\n",
    "\n",
    "Vizro().build(dashboard).run(port=6050)"
   ]
  },
  {
   "cell_type": "code",
   "execution_count": null,
   "id": "bd7edd45-34d0-4aed-bd35-333565bc9cb4",
   "metadata": {},
   "outputs": [],
   "source": []
  }
 ],
 "metadata": {
  "kernelspec": {
   "display_name": "Python 3 (ipykernel)",
   "language": "python",
   "name": "python3"
  },
  "language_info": {
   "codemirror_mode": {
    "name": "ipython",
    "version": 3
   },
   "file_extension": ".py",
   "mimetype": "text/x-python",
   "name": "python",
   "nbconvert_exporter": "python",
   "pygments_lexer": "ipython3",
   "version": "3.9.7"
  }
 },
 "nbformat": 4,
 "nbformat_minor": 5
}
