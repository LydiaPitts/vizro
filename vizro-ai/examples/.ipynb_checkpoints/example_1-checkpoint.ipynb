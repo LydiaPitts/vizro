{
 "cells": [
  {
   "cell_type": "markdown",
   "metadata": {
    "jp-MarkdownHeadingCollapsed": true
   },
   "source": [
    "### Imports"
   ]
  },
  {
   "cell_type": "code",
   "execution_count": 1,
   "metadata": {
    "ExecuteTime": {
     "end_time": "2024-05-07T13:29:31.230772Z",
     "start_time": "2024-05-07T13:29:31.227887Z"
    }
   },
   "outputs": [],
   "source": [
    "import warnings\n",
    "warnings.filterwarnings('ignore')"
   ]
  },
  {
   "cell_type": "code",
   "execution_count": 2,
   "metadata": {
    "collapsed": false,
    "jupyter": {
     "outputs_hidden": false
    }
   },
   "outputs": [],
   "source": [
    "import pandas as pd\n",
    "from dotenv import load_dotenv\n",
    "\n",
    "load_dotenv()\n",
    "import sys\n",
    "import os\n",
    "\n",
    "sys.path.append('./dashboard')"
   ]
  },
  {
   "cell_type": "code",
   "execution_count": 3,
   "metadata": {},
   "outputs": [],
   "source": [
    "import vizro.plotly.express as px"
   ]
  },
  {
   "cell_type": "code",
   "execution_count": 4,
   "metadata": {},
   "outputs": [],
   "source": [
    "from vizro_ai import VizroAI\n",
    "from vizro import Vizro\n",
    "from langchain_openai import ChatOpenAI\n",
    "from langchain_anthropic import ChatAnthropic"
   ]
  },
  {
   "cell_type": "code",
   "execution_count": 5,
   "metadata": {},
   "outputs": [],
   "source": [
    "from dashboard.vizro_ai_db import VizroAIDashboard"
   ]
  },
  {
   "cell_type": "markdown",
   "metadata": {},
   "source": [
    "### Models"
   ]
  },
  {
   "cell_type": "code",
   "execution_count": 6,
   "metadata": {
    "collapsed": false,
    "jupyter": {
     "outputs_hidden": false
    }
   },
   "outputs": [],
   "source": [
    "model = ChatOpenAI(model=\"gpt-4-turbo\", temperature=0)\n",
    "\n",
    "# model = ChatAnthropic(\n",
    "#     model='claude-3-opus-20240229',\n",
    "#     anthropic_api_key=os.environ.get(\"ANTHROPIC_API_KEY\"),\n",
    "#     anthropic_api_url=os.environ.get(\"ANTHROPIC_API_BASE\")\n",
    "# )\n",
    "fig_builder = VizroAI(model=\"gpt-4-turbo\")"
   ]
  },
  {
   "cell_type": "markdown",
   "metadata": {},
   "source": [
    "### Query"
   ]
  },
  {
   "cell_type": "code",
   "execution_count": 7,
   "metadata": {
    "collapsed": false,
    "jupyter": {
     "outputs_hidden": false
    }
   },
   "outputs": [],
   "source": [
    "df = px.data.gapminder()\n",
    "query = (\"I need a page with a bar chart shoing the population per continent \"\n",
    "         \"and a scatter chart showing the life expectency per country as a function gdp. \"\n",
    "         \"Make a filter on the country column and use a dropdown as selector. This filter should only \"\n",
    "         \"apply to the bar chart. The bar chart should be a stacked bar chart, while \"\n",
    "         \"the scatter chart should be colored by the column 'continent'. Make another filter \"\n",
    "         \"that filters the GDP column, and it only applies to the scatter chart. I also want \"\n",
    "         \"a table that shows the data. The title of the page should be: `This is big time data`. I also want a second page with two \"\n",
    "         \"cards on it. One should be a card saying: `This was the jolly data dashboard, it was created in Vizro which is amazing`\"\n",
    "         \", and the second card should refer to the \"\n",
    "         \" documentation and link to `https://vizro.readthedocs.io/`. The title of the dashboard should be: `My wonderful \"\n",
    "         \"jolly dashboard showing a lot of data`.\")"
   ]
  },
  {
   "cell_type": "code",
   "execution_count": 8,
   "metadata": {},
   "outputs": [],
   "source": [
    "# df = px.data.tips()\n",
    "# query = (\n",
    "#     \"I want to create a Vizro style dashboard. I need One page. On this page, there are two charts. \"\n",
    "#     \"The first bar chart shows the average tip per day. The second chart shows the distribution of total bill. \"\n",
    "#     \"Add a checklist filter to filter on the time. Do not configure any actions. On this page, also add a card with \"\n",
    "#     \"text 'This page is using the tips dataset.' \")"
   ]
  },
  {
   "cell_type": "code",
   "execution_count": 9,
   "metadata": {},
   "outputs": [],
   "source": [
    "# df = px.data.tips()\n",
    "# query = (\n",
    "#     \"I want to create a Vizro style dashboard. I need three pages. On each page, there should be three cards saying the following text \"\n",
    "#     \"text 'This page is using the tips dataset.' \")"
   ]
  },
  {
   "cell_type": "markdown",
   "metadata": {},
   "source": [
    "### Tool"
   ]
  },
  {
   "cell_type": "code",
   "execution_count": 10,
   "metadata": {},
   "outputs": [],
   "source": [
    "from langchain_community.callbacks import get_openai_callback"
   ]
  },
  {
   "cell_type": "code",
   "execution_count": null,
   "metadata": {},
   "outputs": [
    {
     "name": "stdout",
     "output_type": "stream",
     "text": [
      "🤔🤔🤔 Trying to make sense of your gibberish.... 🤔🤔🤔 \n",
      "\n",
      "💡💡💡 I think I got you! Here is the plan.... 💡💡💡 \n",
      "\n",
      "📄📄 \u001b[1m PAGE: This is big time data \u001b[0m📄📄 \n",
      "📦📦📦📦  COMPONENTS 📦📦📦📦\n",
      "--> Component(component_name='Graph', component_description='A stacked bar chart showing the population per continent.', component_id='population_per_continent')\n",
      "--> Component(component_name='Graph', component_description='A scatter chart showing life expectancy per country as a function of GDP, colored by continent.', component_id='life_expectancy_per_gdp')\n",
      "--> Component(component_name='AgGrid', component_description='A table that displays the data used in the charts.', component_id='data_table')\n",
      "🎛️🎛️🎛️🎛️  CONTROLS 🎛️🎛️🎛️🎛️\n",
      "--> Control(control_name='Filter', control_description='A dropdown selector to filter data by country, applicable only to the bar chart.')\n",
      "--> Control(control_name='Filter', control_description='A filter to adjust the GDP range, applicable only to the scatter chart.')\n",
      "\n",
      "\n",
      "📄📄 \u001b[1m PAGE: Documentation and Credits \u001b[0m📄📄 \n",
      "📦📦📦📦  COMPONENTS 📦📦📦📦\n",
      "--> Component(component_name='Card', component_description='This was the jolly data dashboard, it was created in Vizro which is amazing', component_id='jolly_data_dashboard')\n",
      "--> Component(component_name='Card', component_description='For more information, visit the documentation at https://vizro.readthedocs.io/', component_id='documentation_link')\n",
      "🎛️🎛️🎛️🎛️  CONTROLS 🎛️🎛️🎛️🎛️\n",
      "\n",
      "\n",
      "🛠️🛠️🛠️ Aye! Starting to build your nonsense... 🛠️🛠️🛠️ \n",
      "\n"
     ]
    },
    {
     "data": {
      "application/vnd.jupyter.widget-view+json": {
       "model_id": "525096f5021c4ce1a9c45341d75576e5",
       "version_major": 2,
       "version_minor": 0
      },
      "text/plain": [
       "Building pages:   0%|          | 0/2 [00:00<?, ?it/s]"
      ]
     },
     "metadata": {},
     "output_type": "display_data"
    },
    {
     "data": {
      "application/vnd.jupyter.widget-view+json": {
       "model_id": "013fa14fdb5f477f9d6a8d92d59f1a6e",
       "version_major": 2,
       "version_minor": 0
      },
      "text/plain": [
       "Building components of page: This is big time data:   0%|          | 0/3 [00:00<?, ?it/s]"
      ]
     },
     "metadata": {},
     "output_type": "display_data"
    },
    {
     "data": {
      "application/vnd.jupyter.widget-view+json": {
       "model_id": "d80894e2b3894a229e2e0f8abfc3e050",
       "version_major": 2,
       "version_minor": 0
      },
      "text/plain": [
       "Building controls of page: This is big time data:   0%|          | 0/2 [00:00<?, ?it/s]"
      ]
     },
     "metadata": {},
     "output_type": "display_data"
    }
   ],
   "source": [
    "with get_openai_callback() as cb:\n",
    "    vizro_ai_dashboard = VizroAIDashboard(model, fig_builder)\n",
    "    dashboard = vizro_ai_dashboard.build_dashboard(df, query)\n",
    "    print(cb)"
   ]
  },
  {
   "cell_type": "markdown",
   "metadata": {},
   "source": [
    "### Dashboard Render"
   ]
  },
  {
   "cell_type": "code",
   "execution_count": null,
   "metadata": {},
   "outputs": [],
   "source": [
    "Vizro().build(dashboard).run()"
   ]
  },
  {
   "cell_type": "code",
   "execution_count": null,
   "metadata": {},
   "outputs": [],
   "source": [
    "dashboard.dict()"
   ]
  },
  {
   "cell_type": "code",
   "execution_count": null,
   "metadata": {},
   "outputs": [],
   "source": []
  },
  {
   "cell_type": "code",
   "execution_count": null,
   "metadata": {},
   "outputs": [],
   "source": []
  }
 ],
 "metadata": {
  "kernelspec": {
   "display_name": "Python 3 (ipykernel)",
   "language": "python",
   "name": "python3"
  },
  "language_info": {
   "codemirror_mode": {
    "name": "ipython",
    "version": 3
   },
   "file_extension": ".py",
   "mimetype": "text/x-python",
   "name": "python",
   "nbconvert_exporter": "python",
   "pygments_lexer": "ipython3",
   "version": "3.9.12"
  }
 },
 "nbformat": 4,
 "nbformat_minor": 4
}
