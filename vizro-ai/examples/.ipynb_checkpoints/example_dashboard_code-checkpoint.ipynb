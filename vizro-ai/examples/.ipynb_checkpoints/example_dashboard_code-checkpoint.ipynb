{
 "cells": [
  {
   "cell_type": "raw",
   "id": "c2c02c72-fd83-4cbb-8241-581ca3a6677d",
   "metadata": {},
   "source": [
    "from langsmith import traceable"
   ]
  },
  {
   "cell_type": "raw",
   "id": "40e6e9c7-16eb-4e16-97af-26bceb66b7e4",
   "metadata": {},
   "source": [
    "import logging\n",
    "\n",
    "logging.basicConfig()\n",
    "\n",
    "# Create a custom logger\n",
    "logger = logging.getLogger(__name__)\n",
    "\n",
    "# Set the default logging level (for example, to INFO)\n",
    "logger.setLevel(logging.INFO)\n",
    "\n",
    "# # Create a console handler\n",
    "# console_handler = logging.StreamHandler()\n",
    "\n",
    "# # Set the level for the console handler\n",
    "# console_handler.setLevel(logging.INFO)\n",
    "\n",
    "# # Create a formatter and set it for the handler\n",
    "# formatter = logging.Formatter('%(asctime)s - %(name)s - %(levelname)s - %(message)s')\n",
    "# console_handler.setFormatter(formatter)\n",
    "\n",
    "# # Add the handler to the logger\n",
    "# logger.addHandler(console_handler)\n",
    "\n",
    "# # Avoid duplicate logs\n",
    "# logger.propagate = False\n"
   ]
  },
  {
   "cell_type": "code",
   "execution_count": 1,
   "id": "c81ca231-69c0-455e-91d6-252c845b8619",
   "metadata": {},
   "outputs": [
    {
     "data": {
      "text/plain": [
       "True"
      ]
     },
     "execution_count": 1,
     "metadata": {},
     "output_type": "execute_result"
    }
   ],
   "source": [
    "from dotenv import load_dotenv\n",
    "load_dotenv()"
   ]
  },
  {
   "cell_type": "code",
   "execution_count": 2,
   "id": "632a9013-6872-447d-936f-1dbcd1cc0f12",
   "metadata": {},
   "outputs": [],
   "source": [
    "from vizro_ai import VizroAI\n",
    "vizro_ai = VizroAI()"
   ]
  },
  {
   "cell_type": "code",
   "execution_count": 3,
   "id": "e962a5af-cbe1-49d5-9858-55ee651643bb",
   "metadata": {},
   "outputs": [
    {
     "data": {
      "image/jpeg": "[encoded data removed]",
      "text/plain": [
       "<IPython.core.display.Image object>"
      ]
     },
     "execution_count": 3,
     "metadata": {},
     "output_type": "execute_result"
    }
   ],
   "source": [
    "from vizro_ai.dashboard.graph.code_generation import _create_and_compile_graph\n",
    "from IPython.display import Image\n",
    "\n",
    "graph = _create_and_compile_graph()\n",
    "\n",
    "Image(graph.get_graph().draw_mermaid_png())"
   ]
  },
  {
   "cell_type": "code",
   "execution_count": 4,
   "id": "86cd816b-e043-45af-9f7d-6b99706d6a47",
   "metadata": {},
   "outputs": [
    {
     "data": {
      "text/html": [
       "<div>\n",
       "<style scoped>\n",
       "    .dataframe tbody tr th:only-of-type {\n",
       "        vertical-align: middle;\n",
       "    }\n",
       "\n",
       "    .dataframe tbody tr th {\n",
       "        vertical-align: top;\n",
       "    }\n",
       "\n",
       "    .dataframe thead th {\n",
       "        text-align: right;\n",
       "    }\n",
       "</style>\n",
       "<table border=\"1\" class=\"dataframe\">\n",
       "  <thead>\n",
       "    <tr style=\"text-align: right;\">\n",
       "      <th></th>\n",
       "      <th>country</th>\n",
       "      <th>continent</th>\n",
       "      <th>year</th>\n",
       "      <th>lifeExp</th>\n",
       "      <th>pop</th>\n",
       "      <th>gdpPercap</th>\n",
       "      <th>iso_alpha</th>\n",
       "      <th>iso_num</th>\n",
       "    </tr>\n",
       "  </thead>\n",
       "  <tbody>\n",
       "    <tr>\n",
       "      <th>0</th>\n",
       "      <td>Afghanistan</td>\n",
       "      <td>Asia</td>\n",
       "      <td>1952</td>\n",
       "      <td>28.801</td>\n",
       "      <td>8425333</td>\n",
       "      <td>779.445314</td>\n",
       "      <td>AFG</td>\n",
       "      <td>4</td>\n",
       "    </tr>\n",
       "    <tr>\n",
       "      <th>1</th>\n",
       "      <td>Afghanistan</td>\n",
       "      <td>Asia</td>\n",
       "      <td>1957</td>\n",
       "      <td>30.332</td>\n",
       "      <td>9240934</td>\n",
       "      <td>820.853030</td>\n",
       "      <td>AFG</td>\n",
       "      <td>4</td>\n",
       "    </tr>\n",
       "    <tr>\n",
       "      <th>2</th>\n",
       "      <td>Afghanistan</td>\n",
       "      <td>Asia</td>\n",
       "      <td>1962</td>\n",
       "      <td>31.997</td>\n",
       "      <td>10267083</td>\n",
       "      <td>853.100710</td>\n",
       "      <td>AFG</td>\n",
       "      <td>4</td>\n",
       "    </tr>\n",
       "    <tr>\n",
       "      <th>3</th>\n",
       "      <td>Afghanistan</td>\n",
       "      <td>Asia</td>\n",
       "      <td>1967</td>\n",
       "      <td>34.020</td>\n",
       "      <td>11537966</td>\n",
       "      <td>836.197138</td>\n",
       "      <td>AFG</td>\n",
       "      <td>4</td>\n",
       "    </tr>\n",
       "    <tr>\n",
       "      <th>4</th>\n",
       "      <td>Afghanistan</td>\n",
       "      <td>Asia</td>\n",
       "      <td>1972</td>\n",
       "      <td>36.088</td>\n",
       "      <td>13079460</td>\n",
       "      <td>739.981106</td>\n",
       "      <td>AFG</td>\n",
       "      <td>4</td>\n",
       "    </tr>\n",
       "  </tbody>\n",
       "</table>\n",
       "</div>"
      ],
      "text/plain": [
       "       country continent  year  lifeExp       pop   gdpPercap iso_alpha  \\\n",
       "0  Afghanistan      Asia  1952   28.801   8425333  779.445314       AFG   \n",
       "1  Afghanistan      Asia  1957   30.332   9240934  820.853030       AFG   \n",
       "2  Afghanistan      Asia  1962   31.997  10267083  853.100710       AFG   \n",
       "3  Afghanistan      Asia  1967   34.020  11537966  836.197138       AFG   \n",
       "4  Afghanistan      Asia  1972   36.088  13079460  739.981106       AFG   \n",
       "\n",
       "   iso_num  \n",
       "0        4  \n",
       "1        4  \n",
       "2        4  \n",
       "3        4  \n",
       "4        4  "
      ]
     },
     "execution_count": 4,
     "metadata": {},
     "output_type": "execute_result"
    }
   ],
   "source": [
    "import vizro.plotly.express as px\n",
    "df = px.data.gapminder()\n",
    "df.head()"
   ]
  },
  {
   "cell_type": "code",
   "execution_count": 5,
   "id": "07c18cfb-9172-45b1-be7e-0085ee1fd66a",
   "metadata": {},
   "outputs": [
    {
     "data": {
      "text/html": [
       "<div>\n",
       "<style scoped>\n",
       "    .dataframe tbody tr th:only-of-type {\n",
       "        vertical-align: middle;\n",
       "    }\n",
       "\n",
       "    .dataframe tbody tr th {\n",
       "        vertical-align: top;\n",
       "    }\n",
       "\n",
       "    .dataframe thead th {\n",
       "        text-align: right;\n",
       "    }\n",
       "</style>\n",
       "<table border=\"1\" class=\"dataframe\">\n",
       "  <thead>\n",
       "    <tr style=\"text-align: right;\">\n",
       "      <th></th>\n",
       "      <th>date</th>\n",
       "      <th>GOOG</th>\n",
       "      <th>AAPL</th>\n",
       "      <th>AMZN</th>\n",
       "      <th>FB</th>\n",
       "      <th>NFLX</th>\n",
       "      <th>MSFT</th>\n",
       "    </tr>\n",
       "  </thead>\n",
       "  <tbody>\n",
       "    <tr>\n",
       "      <th>0</th>\n",
       "      <td>2018-01-01</td>\n",
       "      <td>1.000000</td>\n",
       "      <td>1.000000</td>\n",
       "      <td>1.000000</td>\n",
       "      <td>1.000000</td>\n",
       "      <td>1.000000</td>\n",
       "      <td>1.000000</td>\n",
       "    </tr>\n",
       "    <tr>\n",
       "      <th>1</th>\n",
       "      <td>2018-01-08</td>\n",
       "      <td>1.018172</td>\n",
       "      <td>1.011943</td>\n",
       "      <td>1.061881</td>\n",
       "      <td>0.959968</td>\n",
       "      <td>1.053526</td>\n",
       "      <td>1.015988</td>\n",
       "    </tr>\n",
       "    <tr>\n",
       "      <th>2</th>\n",
       "      <td>2018-01-15</td>\n",
       "      <td>1.032008</td>\n",
       "      <td>1.019771</td>\n",
       "      <td>1.053240</td>\n",
       "      <td>0.970243</td>\n",
       "      <td>1.049860</td>\n",
       "      <td>1.020524</td>\n",
       "    </tr>\n",
       "    <tr>\n",
       "      <th>3</th>\n",
       "      <td>2018-01-22</td>\n",
       "      <td>1.066783</td>\n",
       "      <td>0.980057</td>\n",
       "      <td>1.140676</td>\n",
       "      <td>1.016858</td>\n",
       "      <td>1.307681</td>\n",
       "      <td>1.066561</td>\n",
       "    </tr>\n",
       "    <tr>\n",
       "      <th>4</th>\n",
       "      <td>2018-01-29</td>\n",
       "      <td>1.008773</td>\n",
       "      <td>0.917143</td>\n",
       "      <td>1.163374</td>\n",
       "      <td>1.018357</td>\n",
       "      <td>1.273537</td>\n",
       "      <td>1.040708</td>\n",
       "    </tr>\n",
       "  </tbody>\n",
       "</table>\n",
       "</div>"
      ],
      "text/plain": [
       "         date      GOOG      AAPL      AMZN        FB      NFLX      MSFT\n",
       "0  2018-01-01  1.000000  1.000000  1.000000  1.000000  1.000000  1.000000\n",
       "1  2018-01-08  1.018172  1.011943  1.061881  0.959968  1.053526  1.015988\n",
       "2  2018-01-15  1.032008  1.019771  1.053240  0.970243  1.049860  1.020524\n",
       "3  2018-01-22  1.066783  0.980057  1.140676  1.016858  1.307681  1.066561\n",
       "4  2018-01-29  1.008773  0.917143  1.163374  1.018357  1.273537  1.040708"
      ]
     },
     "execution_count": 5,
     "metadata": {},
     "output_type": "execute_result"
    }
   ],
   "source": [
    "df_stocks = px.data.stocks()\n",
    "df_stocks.head()"
   ]
  },
  {
   "cell_type": "raw",
   "id": "0325693f-7576-4869-9698-4b736ea65fbc",
   "metadata": {},
   "source": [
    "user_question_2_data = \"\"\"\n",
    "I need a page with 2 tables.\n",
    "One table shows the population per continent.\n",
    "The second table shows the stock price of some major companies.\n",
    "add a filter to filter the world demographic table by continent.\n",
    "I also want a second page with two \n",
    "cards on it. One should be a card saying: `This was the jolly data dashboard, it was created in Vizro which is amazing` \n",
    ", and the second card says `To learn more, visit Vizro docs` and should link to `https://vizro.readthedocs.io/`. The title of the dashboard should be: `My wonderful \n",
    "jolly dashboard showing a lot of info`.\n",
    "The layout of this page should use `grid=[[0,1]]`\n",
    "\"\"\""
   ]
  },
  {
   "cell_type": "raw",
   "id": "720b1913-3d05-4840-9b73-db1a682e4fdf",
   "metadata": {},
   "source": [
    "res = vizro_ai.dashboard([df, df_stocks], user_question_2_data)\n",
    "res"
   ]
  },
  {
   "cell_type": "raw",
   "id": "eea8eb34-a023-488e-a66a-99b6e3c7089f",
   "metadata": {},
   "source": [
    "user_question_not_implemented = \"\"\"\n",
    "I need a page with 1 table and 1 tab area.\n",
    "the table shows the population per continent.\n",
    "In the tab, I need two \n",
    "cards in it. One should be a card saying: `This was the jolly data dashboard, it was created in Vizro which is amazing` \n",
    ", and the second card says `To learn more, visit Vizro docs`.\n",
    "\"\"\""
   ]
  },
  {
   "cell_type": "raw",
   "id": "6f5a1669-3d21-43b8-a2ef-d058d094e07d",
   "metadata": {},
   "source": [
    "res = vizro_ai.dashboard([df], user_question_not_implemented)\n",
    "res"
   ]
  },
  {
   "cell_type": "raw",
   "id": "fbc8b7ab-6100-49c5-8ccc-d51a7ac6f580",
   "metadata": {},
   "source": [
    "print(res[\"messages\"][-1][-1])"
   ]
  },
  {
   "cell_type": "raw",
   "id": "0c539bb8-d60d-4c0f-a8b7-a0f88a3eaf6b",
   "metadata": {},
   "source": [
    "res[\"dashboard\"]"
   ]
  },
  {
   "cell_type": "raw",
   "id": "c5da571d-f4a0-47a3-985a-e4e6e72e6d35",
   "metadata": {},
   "source": [
    "from vizro import Vizro\n",
    "Vizro._reset()"
   ]
  },
  {
   "cell_type": "code",
   "execution_count": 6,
   "id": "2df9c9a3-8cf3-49a2-b9b1-e643779a7694",
   "metadata": {},
   "outputs": [],
   "source": [
    "user_question_2_data_1filter = \"\"\"\n",
    "I need a page with two tables.\n",
    "One table shows worldwide population and GDP.\n",
    "Second table shows stock price data.\n",
    "Also use radio items to filter the first table by year. This filter only applys to the first table.\n",
    "\"\"\""
   ]
  },
  {
   "cell_type": "code",
   "execution_count": 7,
   "id": "cc23cc00-670b-45e2-a419-57de4a42024d",
   "metadata": {},
   "outputs": [
    {
     "name": "stderr",
     "output_type": "stream",
     "text": [
      "INFO:vizro_ai.dashboard.nodes.core_builder.plan:--> Component(component_type='AgGrid', component_description='This table displays worldwide population and GDP data.', component_id='population_gdp_table', data_frame='world_indicators')\n",
      "INFO:vizro_ai.dashboard.nodes.core_builder.plan:--> Component(component_type='AgGrid', component_description='This table shows stock price data for different companies.', component_id='stock_price_table', data_frame='stock_price_data')\n",
      "INFO:vizro_ai.dashboard.nodes.core_builder.plan:--> Layout(layout_description='NO layout')\n",
      "INFO:vizro_ai.dashboard.nodes.core_builder.plan:--> Control(control_type='Filter', control_description='Radio items to filter the first table by year. This filter only applies to the first table, showing worldwide population and GDP data.', data_frame='world_indicators')\n",
      "INFO:vizro_ai.dashboard.nodes.core_builder.plan:\n",
      "\n",
      "INFO:vizro_ai.dashboard.nodes.core_builder.build:Building pages\n",
      "INFO:vizro_ai.dashboard.nodes.core_builder.build:Building page: Data Comparison\n",
      "INFO:vizro_ai.dashboard.nodes.core_builder.build:Building components of page: Data Comparison\n",
      "INFO:vizro_ai.dashboard.nodes.core_builder.build:Building component: component_type='AgGrid' component_description='This table displays worldwide population and GDP data.' component_id='population_gdp_table' data_frame='world_indicators'\n",
      "INFO:vizro_ai.dashboard.nodes.core_builder.build:Building component: component_type='AgGrid' component_description='This table shows stock price data for different companies.' component_id='stock_price_table' data_frame='stock_price_data'\n",
      "INFO:vizro_ai.dashboard.nodes.core_builder.build:Building controls of page: Data Comparison\n",
      "INFO:vizro_ai.dashboard.nodes.core_builder.build:Building control: control_type='Filter' control_description='Radio items to filter the first table by year. This filter only applies to the first table, showing worldwide population and GDP data.' data_frame='world_indicators'\n",
      "/Users/lingyi_zhang/vizx/os/vizro/venv/lib/python3.9/site-packages/pydantic/v1/schema.py:631: UserWarning: CapturedCallable function is excluded from the schema.\n",
      "  warnings.warn(skip.message, UserWarning)\n",
      "INFO:vizro_ai.dashboard.nodes.core_builder.plan:`Control` proxy: {'id': 'f728b4fa-4248-5e3a-0a5d-2f346baa9455', 'type': 'filter', 'column': 'year', 'targets': ['population_gdp_table'], 'selector': None}\n",
      "INFO:vizro_ai.dashboard.nodes.core_builder.build:Building layout: layout_description='NO layout'\n"
     ]
    }
   ],
   "source": [
    "res = vizro_ai.dashboard([df, df_stocks], user_question_2_data_1filter)\n"
   ]
  },
  {
   "cell_type": "code",
   "execution_count": 8,
   "id": "6ad95560-e984-47f6-8a59-55801097e5a1",
   "metadata": {},
   "outputs": [
    {
     "name": "stdout",
     "output_type": "stream",
     "text": [
      "\n",
      "from vizro import Vizro\n",
      "from vizro.models import AgGrid, Dashboard, Filter, Page\n",
      "from vizro.tables import dash_ag_grid\n",
      "\n",
      "    \n",
      "\n",
      "    # # YOUR DATA INGESTION CODE GOES HERE\n",
      "    # # define the data loading functions and store them in the data_manager\n",
      "    # # example:\n",
      "    # import pandas as pd\n",
      "    # from vizro.managers import data_manager\n",
      "    #\n",
      "    # def load_data_a():\n",
      "    #     return pd.read_csv('data_a.csv')\n",
      "    #\n",
      "    # def load_data_b():\n",
      "    #     return pd.read_csv('data_b.csv')\n",
      "    #\n",
      "    # data_manager['data_a'] = load_data_a\n",
      "    # data_manager['data_b'] = load_data_b\n",
      "    #\n",
      "    # # \"data_a\" and \"data_b\" are the keys refered by the field `data_frame=` in below dashboard code\n",
      "    \n",
      "\n",
      "    \n",
      "dashboard=pages=[id='Data Comparison', components=[id='population_gdp_table', figure=dash_ag_grid(data_frame='world_indicators'), id='stock_price_table', figure=dash_ag_grid(data_frame='stock_price_data')], title='Data Comparison', layout=grid=[[0], [1]], controls=[column='year', targets=['population_gdp_table'], selector=None]], title='Population, GDP, and Stock Price Data'\n",
      "\n",
      "Vizro().build(dashboard).run()\n",
      "\n"
     ]
    }
   ],
   "source": [
    "print(res[\"messages\"][-1][-1])"
   ]
  },
  {
   "cell_type": "code",
   "execution_count": 9,
   "id": "2c06207f-85db-4dab-8d70-551c439c1eb1",
   "metadata": {},
   "outputs": [
    {
     "data": {
      "text/plain": [
       "Dashboard(id='e443df78-9558-867f-5ba9-1faf7a024204', pages=[Page(id='Data Comparison', components=[AgGrid(id='population_gdp_table', type='ag_grid', figure=<vizro.models.types.CapturedCallable object at 0x7fd41860bb20>, title='', actions=[]), AgGrid(id='stock_price_table', type='ag_grid', figure=<vizro.models.types.CapturedCallable object at 0x7fd41860bac0>, title='', actions=[])], title='Data Comparison', description='', layout=Layout(id='f7c1bd87-4da5-e709-d471-3d60c8a70639', grid=[[0], [1]], row_gap='24px', col_gap='24px', row_min_height='0px', col_min_width='0px'), controls=[Filter(id='eb1167b3-67a9-c378-7c65-c1e582e2e662', type='filter', column='year', targets=['population_gdp_table'], selector=None)], path='/data-comparison', actions=[])], theme='vizro_dark', navigation=Navigation(id='23a7711a-8133-2876-37eb-dcd9e87a1613', pages=['Data Comparison'], nav_selector=None), title='Population, GDP, and Stock Price Data')"
      ]
     },
     "execution_count": 9,
     "metadata": {},
     "output_type": "execute_result"
    }
   ],
   "source": [
    "res[\"dashboard\"]"
   ]
  },
  {
   "cell_type": "markdown",
   "id": "600dbaf0-a9ac-451a-bc26-f7bf0317ad54",
   "metadata": {},
   "source": [
    "# use langSmith"
   ]
  },
  {
   "cell_type": "raw",
   "id": "6a310d1c-2000-4ed5-bf78-61a30f153cb8",
   "metadata": {},
   "source": [
    "@traceable\n",
    "def traced_dashboard():\n",
    "    res = vizro_ai.dashboard([df, df_stocks], user_question_2_data)\n",
    "    return res"
   ]
  },
  {
   "cell_type": "raw",
   "id": "1ae84770-2b7a-4091-82fb-0adc6d24bede",
   "metadata": {},
   "source": [
    "@traceable\n",
    "def traced_dashboard():\n",
    "    res = vizro_ai.dashboard([df], user_question_2_data_1filter)\n",
    "    return res"
   ]
  },
  {
   "cell_type": "raw",
   "id": "a21ecff1-cecb-4ec2-a28f-7946a75c6a4d",
   "metadata": {},
   "source": [
    "traced_dashboard()"
   ]
  },
  {
   "cell_type": "raw",
   "id": "df103325-b80e-438d-923c-2cad9ea0e6d5",
   "metadata": {},
   "source": [
    "res = vizro_ai.dashboard([df], user_question_2_data_1filter)\n",
    "res"
   ]
  },
  {
   "cell_type": "markdown",
   "id": "b825c427-7f65-4a04-a430-e72ea93f8fd8",
   "metadata": {},
   "source": [
    "# Check cost"
   ]
  },
  {
   "cell_type": "raw",
   "id": "a20215e3-882d-4a96-84b0-b298c3bf5e56",
   "metadata": {},
   "source": [
    "from langchain_community.callbacks import get_openai_callback\n",
    "\n",
    "with get_openai_callback() as cb:\n",
    "    vizro_ai.dashboard([df, df_stocks], user_question_2_data_1filter)\n",
    "    print(cb)"
   ]
  },
  {
   "cell_type": "raw",
   "id": "22c57865-24a6-4aa0-a346-7f771b1b6195",
   "metadata": {},
   "source": [
    "from langchain_community.callbacks import get_openai_callback\n",
    "\n",
    "with get_openai_callback() as cb:\n",
    "    vizro_ai.dashboard([df, df_stocks], user_question_2_data)\n",
    "    print(cb)"
   ]
  },
  {
   "cell_type": "markdown",
   "id": "82d8f97f-1cba-4b0e-ba63-2b894858e49a",
   "metadata": {},
   "source": [
    "# Test the generated code is working"
   ]
  },
  {
   "cell_type": "raw",
   "id": "52ededfa-c914-435c-8f43-fddc81383825",
   "metadata": {},
   "source": [
    "from vizro import Vizro\n",
    "Vizro._reset()"
   ]
  },
  {
   "cell_type": "raw",
   "id": "8bbf6576-ac8e-400f-967a-5360d91fd425",
   "metadata": {},
   "source": [
    "# example data manager code to run before running the generated dashboard code\n",
    "from vizro.managers import data_manager\n",
    "\n",
    "def population_data():\n",
    "    df = px.data.gapminder()\n",
    "    return df\n",
    "\n",
    "def stock_data():\n",
    "    df_stocks = px.data.stocks()\n",
    "    return df_stocks\n",
    "   \n",
    "\n",
    "data_manager[\"world_indicators\"] = population_data\n",
    "data_manager[\"stock_price_data\"] = stock_data"
   ]
  },
  {
   "cell_type": "raw",
   "id": "5d44adce-fc62-4b5e-8158-de474a453451",
   "metadata": {},
   "source": [
    "from vizro import Vizro\n",
    "from vizro.models import AgGrid, Card, Dashboard, Filter, Layout, Page\n",
    "from vizro.tables import dash_ag_grid\n",
    "import pandas as pd\n",
    "\n",
    "# dashboard=Dashboard(pages=[Page(id='Page 1', components=[AgGrid(id='population_per_continent', figure=dash_ag_grid(data_frame='world_indicators')), AgGrid(id='stock_price', figure=dash_ag_grid(data_frame='stock_price_data'))], title='Page 1', layout=Layout(grid=[[0], [1]]), controls=[Filter(column='continent', targets=[], selector=None)]), Page(id='Page 2', components=[Card(type='card', text='The user found the data dashboard created in Vizro to be jolly and amazing.', href=''), Card(type='card', text='Visit the Vizro documentation for more information.', href='https://vizro.com/docs')], title='Page 2', layout=Layout(grid=[[0, 1]]), controls=[])], title='My wonderful jolly dashboard showing a lot of info')\n",
    "dashboard = res[\"dashboard\"]\n",
    "Vizro().build(dashboard).run()"
   ]
  },
  {
   "cell_type": "code",
   "execution_count": null,
   "id": "2e10a41b-eade-43e6-9b3e-da7941b5e2db",
   "metadata": {},
   "outputs": [],
   "source": []
  }
 ],
 "metadata": {
  "kernelspec": {
   "display_name": "Python 3 (ipykernel)",
   "language": "python",
   "name": "python3"
  },
  "language_info": {
   "codemirror_mode": {
    "name": "ipython",
    "version": 3
   },
   "file_extension": ".py",
   "mimetype": "text/x-python",
   "name": "python",
   "nbconvert_exporter": "python",
   "pygments_lexer": "ipython3",
   "version": "3.9.7"
  }
 },
 "nbformat": 4,
 "nbformat_minor": 5
}
