{
 "cells": [
  {
   "cell_type": "code",
   "execution_count": 1,
   "id": "53e857ce-22bc-49de-9adc-9a2e7c9829cf",
   "metadata": {
    "jupyter": {
     "source_hidden": true
    }
   },
   "outputs": [
    {
     "data": {
      "text/plain": [
       "True"
      ]
     },
     "execution_count": 1,
     "metadata": {},
     "output_type": "execute_result"
    }
   ],
   "source": [
    "import logging\n",
    "import warnings\n",
    "\n",
    "# Ignore all warnings\n",
    "warnings.filterwarnings('ignore')\n",
    "\n",
    "# Disable INFO and WARNING messages\n",
    "logging.getLogger().setLevel(logging.ERROR)\n",
    "\n",
    "# Specifically for LangChain\n",
    "logging.getLogger(\"langchain\").setLevel(logging.ERROR)\n",
    "\n",
    "from dotenv import load_dotenv\n",
    "load_dotenv()"
   ]
  },
  {
   "cell_type": "code",
   "execution_count": 2,
   "id": "2a25acdd-20c3-4762-b97f-254de1586aeb",
   "metadata": {},
   "outputs": [],
   "source": [
    "import pandas as pd\n",
    "import vizro.plotly.express as px\n",
    "\n",
    "from vizro import Vizro\n",
    "from vizro_ai import VizroAI\n",
    "\n",
    "# vizro_ai = VizroAI(model=\"gpt-4-turbo\")\n",
    "vizro_ai = VizroAI(model=\"gpt-4o\")\n",
    "# vizro_ai = VizroAI()"
   ]
  },
  {
   "cell_type": "markdown",
   "id": "14b86781-2e69-426d-8c01-c481fad2f8ad",
   "metadata": {},
   "source": [
    "# Data"
   ]
  },
  {
   "cell_type": "code",
   "execution_count": 3,
   "id": "e52c7832-1dcc-4472-9cff-210f152cb830",
   "metadata": {},
   "outputs": [
    {
     "data": {
      "text/html": [
       "<div>\n",
       "<style scoped>\n",
       "    .dataframe tbody tr th:only-of-type {\n",
       "        vertical-align: middle;\n",
       "    }\n",
       "\n",
       "    .dataframe tbody tr th {\n",
       "        vertical-align: top;\n",
       "    }\n",
       "\n",
       "    .dataframe thead th {\n",
       "        text-align: right;\n",
       "    }\n",
       "</style>\n",
       "<table border=\"1\" class=\"dataframe\">\n",
       "  <thead>\n",
       "    <tr style=\"text-align: right;\">\n",
       "      <th></th>\n",
       "      <th>person_id</th>\n",
       "      <th>first_name</th>\n",
       "      <th>last_name</th>\n",
       "      <th>school</th>\n",
       "      <th>country</th>\n",
       "      <th>height</th>\n",
       "      <th>season_exp</th>\n",
       "      <th>jersey</th>\n",
       "      <th>position</th>\n",
       "      <th>rosterstatus</th>\n",
       "      <th>team_name</th>\n",
       "      <th>team_city</th>\n",
       "      <th>draft_year</th>\n",
       "    </tr>\n",
       "  </thead>\n",
       "  <tbody>\n",
       "    <tr>\n",
       "      <th>0</th>\n",
       "      <td>76001</td>\n",
       "      <td>Alaa</td>\n",
       "      <td>Abdelnaby</td>\n",
       "      <td>Duke</td>\n",
       "      <td>USA</td>\n",
       "      <td>6-10</td>\n",
       "      <td>5.0</td>\n",
       "      <td>30.0</td>\n",
       "      <td>Forward</td>\n",
       "      <td>Inactive</td>\n",
       "      <td>Trail Blazers</td>\n",
       "      <td>Portland</td>\n",
       "      <td>1990</td>\n",
       "    </tr>\n",
       "  </tbody>\n",
       "</table>\n",
       "</div>"
      ],
      "text/plain": [
       "   person_id first_name  last_name school country height  season_exp  jersey  \\\n",
       "0      76001       Alaa  Abdelnaby   Duke     USA   6-10         5.0    30.0   \n",
       "\n",
       "  position rosterstatus      team_name team_city  draft_year  \n",
       "0  Forward     Inactive  Trail Blazers  Portland        1990  "
      ]
     },
     "execution_count": 3,
     "metadata": {},
     "output_type": "execute_result"
    }
   ],
   "source": [
    "df1 = pd.read_csv(\"/Users/lingyi_zhang/vizx/os/data/nba/cleaned_player_info.csv\")\n",
    "df1.head(1)"
   ]
  },
  {
   "cell_type": "code",
   "execution_count": 4,
   "id": "c03d548f-a920-40d5-b773-4054225b470a",
   "metadata": {},
   "outputs": [
    {
     "data": {
      "text/html": [
       "<div>\n",
       "<style scoped>\n",
       "    .dataframe tbody tr th:only-of-type {\n",
       "        vertical-align: middle;\n",
       "    }\n",
       "\n",
       "    .dataframe tbody tr th {\n",
       "        vertical-align: top;\n",
       "    }\n",
       "\n",
       "    .dataframe thead th {\n",
       "        text-align: right;\n",
       "    }\n",
       "</style>\n",
       "<table border=\"1\" class=\"dataframe\">\n",
       "  <thead>\n",
       "    <tr style=\"text-align: right;\">\n",
       "      <th></th>\n",
       "      <th>team_id</th>\n",
       "      <th>abbreviation</th>\n",
       "      <th>nickname</th>\n",
       "      <th>yearfounded</th>\n",
       "      <th>city</th>\n",
       "      <th>arena</th>\n",
       "      <th>arenacapacity</th>\n",
       "      <th>owner</th>\n",
       "      <th>generalmanager</th>\n",
       "      <th>headcoach</th>\n",
       "      <th>dleagueaffiliation</th>\n",
       "      <th>facebook</th>\n",
       "      <th>instagram</th>\n",
       "      <th>twitter</th>\n",
       "    </tr>\n",
       "  </thead>\n",
       "  <tbody>\n",
       "    <tr>\n",
       "      <th>0</th>\n",
       "      <td>1610612737</td>\n",
       "      <td>ATL</td>\n",
       "      <td>Hawks</td>\n",
       "      <td>1949.0</td>\n",
       "      <td>Atlanta</td>\n",
       "      <td>State Farm Arena</td>\n",
       "      <td>18729.0</td>\n",
       "      <td>Tony Ressler</td>\n",
       "      <td>Travis Schlenk</td>\n",
       "      <td>Quin Snyder</td>\n",
       "      <td>College Park Skyhawks</td>\n",
       "      <td>https://www.facebook.com/hawks</td>\n",
       "      <td>https://instagram.com/atlhawks</td>\n",
       "      <td>https://twitter.com/ATLHawks</td>\n",
       "    </tr>\n",
       "  </tbody>\n",
       "</table>\n",
       "</div>"
      ],
      "text/plain": [
       "      team_id abbreviation nickname  yearfounded     city             arena  \\\n",
       "0  1610612737          ATL    Hawks       1949.0  Atlanta  State Farm Arena   \n",
       "\n",
       "   arenacapacity         owner  generalmanager    headcoach  \\\n",
       "0        18729.0  Tony Ressler  Travis Schlenk  Quin Snyder   \n",
       "\n",
       "      dleagueaffiliation                        facebook  \\\n",
       "0  College Park Skyhawks  https://www.facebook.com/hawks   \n",
       "\n",
       "                        instagram                       twitter  \n",
       "0  https://instagram.com/atlhawks  https://twitter.com/ATLHawks  "
      ]
     },
     "execution_count": 4,
     "metadata": {},
     "output_type": "execute_result"
    }
   ],
   "source": [
    "df2 = pd.read_csv(\"/Users/lingyi_zhang/vizx/os/data/nba/team_details.csv\")\n",
    "df2.head(1)"
   ]
  },
  {
   "cell_type": "markdown",
   "id": "ec46d4d1-d20b-4351-831d-d3d8ddc5cb70",
   "metadata": {},
   "source": [
    "# Example dashboard request"
   ]
  },
  {
   "cell_type": "code",
   "execution_count": 5,
   "id": "54fbe4f1-723b-4ba2-bf3c-3fff3b2abfc5",
   "metadata": {},
   "outputs": [],
   "source": [
    "user_question_2 = \"\"\"\n",
    "Create a dashboard with 3 pages.\n",
    "\n",
    "<page 1>\n",
    "This page includes 4 charts (1 histogram chart, 1 scatter chart, 1 pie chart, and a boxplot chart) and 1 filter.\n",
    "histogram chart: shows the jersey number distribution of all players, colored by `rosterstatus`.\n",
    "scatter chart: put `season_exp` on the x-axis and `jersey` on the y-axis, colored by `rosterstatus`.\n",
    "pie chart: shows the count of players by `position`.\n",
    "boxplot: shows the distribution of height (convert the 'ft-in' str format to 'cm') on y-axis, and `position` on the x-axis, colored by `position`.\n",
    "filter: filter the histogram chart and boxplot by `draft_year`.\n",
    "\n",
    "\n",
    "layout of page1:\n",
    "histogram chart (top-left)\n",
    "scatter chart (buttom-left)\n",
    "pie chart (buttom-right)\n",
    "boxplot (top-right)\n",
    "\n",
    "<page 2>\n",
    "I need a page with 1 Sankey diagram chart for players with active rosterstatus.\n",
    "The column used as Sankey source is `country`;\n",
    "The column used as Sankey target is `team_city`;\n",
    "highlight the flow of USA players and Canada players.\n",
    "Make the text in Sankey diagram more visible. Color USA and Canada differently.\n",
    "add a filter to filter players by `position`, use Checklist as selector.\n",
    "\n",
    "\n",
    "<page 3>\n",
    "This page has 3 cards and 1 table.\n",
    "Text to put in these 3 cards:\n",
    "\n",
    "(card1) The Lakers have won 17 NBA championships, tying them with the Boston Celtics for the most in league history. The team has seen legendary players like Magic Johnson, Kareem Abdul-Jabbar, Shaquille O'Neal, and Kobe Bryant.\n",
    "(card2) The Chicago Bulls, led by Michael Jordan, won six NBA championships in the 1990s. Their two three-peats (1991-1993 and 1996-1998) are some of the most dominant performances in NBA history.\n",
    "(card3) The Warriors have been one of the most successful teams in recent years, winning four NBA championships from 2015 to 2022. They are known for their revolutionary three-point shooting style, led by Stephen Curry, often credited with changing how the game is played.\n",
    "\n",
    "The table shows the NBA team details data.\n",
    "\n",
    "Layout of page3:\n",
    "create a grid with 3 columns and 3 rows.\n",
    "Row 1: The first row has three columns:\n",
    "- The first column is occupied by card 1.\n",
    "- The second column is occupied by card 2.\n",
    "- The third column is occupied by card 3.\n",
    "\n",
    "Row 2: The second and third rows also have three columns:\n",
    "- the whold second and third rows span the area for the table.\n",
    "\"\"\""
   ]
  },
  {
   "cell_type": "code",
   "execution_count": 6,
   "id": "6db8d9bc-bded-4459-896b-cceba91ca625",
   "metadata": {},
   "outputs": [
    {
     "data": {
      "application/vnd.jupyter.widget-view+json": {
       "model_id": "7cf7942c772344e6880f83fb3927fcd7",
       "version_major": 2,
       "version_minor": 0
      },
      "text/plain": [
       "Store df info:   0%|          | 0/2 [00:00<?, ?it/s]"
      ]
     },
     "metadata": {},
     "output_type": "display_data"
    },
    {
     "name": "stdout",
     "output_type": "stream",
     "text": [
      "df_name: nba_player_stats\n",
      "df_name: nba_team_details\n"
     ]
    },
    {
     "data": {
      "application/vnd.jupyter.widget-view+json": {
       "model_id": "a717ced615dc44fd8bc37fee1bd5515c",
       "version_major": 2,
       "version_minor": 0
      },
      "text/plain": [
       "Generate dashboard plan:   0%|          | 0/2 [00:00<?, ?it/s]"
      ]
     },
     "metadata": {},
     "output_type": "display_data"
    },
    {
     "data": {
      "application/vnd.jupyter.widget-view+json": {
       "model_id": "94831130d66a4b12981dfebae7adc69c",
       "version_major": 2,
       "version_minor": 0
      },
      "text/plain": [
       "Building page: Player Statistics:   0%|          | 0/5 [00:00<?, ?it/s]"
      ]
     },
     "metadata": {},
     "output_type": "display_data"
    },
    {
     "data": {
      "application/vnd.jupyter.widget-view+json": {
       "model_id": "72a9f6c1189241b8be499064feed0974",
       "version_major": 2,
       "version_minor": 0
      },
      "text/plain": [
       "Building page: Team Details and Highlights:   0%|          | 0/5 [00:00<?, ?it/s]"
      ]
     },
     "metadata": {},
     "output_type": "display_data"
    },
    {
     "data": {
      "application/vnd.jupyter.widget-view+json": {
       "model_id": "a78d60b18311493d9ab66a2cbb512618",
       "version_major": 2,
       "version_minor": 0
      },
      "text/plain": [
       "Building page: Active Players Sankey Diagram:   0%|          | 0/5 [00:00<?, ?it/s]"
      ]
     },
     "metadata": {},
     "output_type": "display_data"
    },
    {
     "data": {
      "application/vnd.jupyter.widget-view+json": {
       "model_id": "",
       "version_major": 2,
       "version_minor": 0
      },
      "text/plain": []
     },
     "metadata": {},
     "output_type": "display_data"
    },
    {
     "data": {
      "application/vnd.jupyter.widget-view+json": {
       "model_id": "",
       "version_major": 2,
       "version_minor": 0
      },
      "text/plain": []
     },
     "metadata": {},
     "output_type": "display_data"
    },
    {
     "data": {
      "application/vnd.jupyter.widget-view+json": {
       "model_id": "",
       "version_major": 2,
       "version_minor": 0
      },
      "text/plain": []
     },
     "metadata": {},
     "output_type": "display_data"
    },
    {
     "data": {
      "application/vnd.jupyter.widget-view+json": {
       "model_id": "",
       "version_major": 2,
       "version_minor": 0
      },
      "text/plain": [
       "Currently Building ... [Page] <Active Players Sankey Diagram> components:   0%|          | 0/1 [00:00<?, ?it/s…"
      ]
     },
     "metadata": {},
     "output_type": "display_data"
    },
    {
     "data": {
      "application/vnd.jupyter.widget-view+json": {
       "model_id": "",
       "version_major": 2,
       "version_minor": 0
      },
      "text/plain": [
       "Currently Building ... [Page] <Team Details and Highlights> components:   0%|          | 0/4 [00:00<?, ?it/s]"
      ]
     },
     "metadata": {},
     "output_type": "display_data"
    },
    {
     "data": {
      "application/vnd.jupyter.widget-view+json": {
       "model_id": "",
       "version_major": 2,
       "version_minor": 0
      },
      "text/plain": [
       "Currently Building ... [Page] <Player Statistics> components:   0%|          | 0/4 [00:00<?, ?it/s]"
      ]
     },
     "metadata": {},
     "output_type": "display_data"
    },
    {
     "name": "stderr",
     "output_type": "stream",
     "text": [
      "/Users/lingyi_zhang/vizx/os/vizro/venv/lib/python3.9/site-packages/langchain_core/_api/deprecation.py:139: LangChainDeprecationWarning: The class `LLMChain` was deprecated in LangChain 0.1.17 and will be removed in 0.3.0. Use RunnableSequence, e.g., `prompt | llm` instead.\n",
      "  warn_deprecated(\n",
      "/Users/lingyi_zhang/vizx/os/vizro/venv/lib/python3.9/site-packages/langchain_core/_api/deprecation.py:139: LangChainDeprecationWarning: The class `LLMChain` was deprecated in LangChain 0.1.17 and will be removed in 0.3.0. Use RunnableSequence, e.g., `prompt | llm` instead.\n",
      "  warn_deprecated(\n"
     ]
    },
    {
     "data": {
      "application/vnd.jupyter.widget-view+json": {
       "model_id": "",
       "version_major": 2,
       "version_minor": 0
      },
      "text/plain": [
       "Currently Building ... [Page] <Team Details and Highlights> controls: 0it [00:00, ?it/s]"
      ]
     },
     "metadata": {},
     "output_type": "display_data"
    },
    {
     "data": {
      "application/vnd.jupyter.widget-view+json": {
       "model_id": "",
       "version_major": 2,
       "version_minor": 0
      },
      "text/plain": [
       "Currently Building ... [Page] <Active Players Sankey Diagram> controls:   0%|          | 0/1 [00:00<?, ?it/s]"
      ]
     },
     "metadata": {},
     "output_type": "display_data"
    },
    {
     "data": {
      "application/vnd.jupyter.widget-view+json": {
       "model_id": "",
       "version_major": 2,
       "version_minor": 0
      },
      "text/plain": [
       "Currently Building ... [Page] <Player Statistics> controls:   0%|          | 0/1 [00:00<?, ?it/s]"
      ]
     },
     "metadata": {},
     "output_type": "display_data"
    }
   ],
   "source": [
    "dashboard = vizro_ai.dashboard([df1, df2], user_question_2)"
   ]
  },
  {
   "cell_type": "code",
   "execution_count": 7,
   "id": "26ff75bf-2915-4417-8dbf-37e677218f85",
   "metadata": {},
   "outputs": [
    {
     "data": {
      "text/html": [
       "\n",
       "        <iframe\n",
       "            width=\"100%\"\n",
       "            height=\"650\"\n",
       "            src=\"http://127.0.0.1:9082/\"\n",
       "            frameborder=\"0\"\n",
       "            allowfullscreen\n",
       "            \n",
       "        ></iframe>\n",
       "        "
      ],
      "text/plain": [
       "<IPython.lib.display.IFrame at 0x7fc6e8e7c340>"
      ]
     },
     "metadata": {},
     "output_type": "display_data"
    }
   ],
   "source": [
    "Vizro().build(dashboard).run(port=9082)"
   ]
  },
  {
   "cell_type": "code",
   "execution_count": null,
   "id": "9de1bf2c-af3a-4863-aa2e-7999d550bb96",
   "metadata": {},
   "outputs": [],
   "source": []
  }
 ],
 "metadata": {
  "kernelspec": {
   "display_name": "Python 3 (ipykernel)",
   "language": "python",
   "name": "python3"
  },
  "language_info": {
   "codemirror_mode": {
    "name": "ipython",
    "version": 3
   },
   "file_extension": ".py",
   "mimetype": "text/x-python",
   "name": "python",
   "nbconvert_exporter": "python",
   "pygments_lexer": "ipython3",
   "version": "3.9.7"
  }
 },
 "nbformat": 4,
 "nbformat_minor": 5
}
