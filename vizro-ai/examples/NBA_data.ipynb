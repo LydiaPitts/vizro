{
 "cells": [
  {
   "cell_type": "code",
   "execution_count": null,
   "id": "53e857ce-22bc-49de-9adc-9a2e7c9829cf",
   "metadata": {
    "jupyter": {
     "source_hidden": true
    }
   },
   "outputs": [],
   "source": [
    "import logging\n",
    "import warnings\n",
    "\n",
    "# Ignore all warnings\n",
    "warnings.filterwarnings('ignore')\n",
    "\n",
    "# Disable INFO and WARNING messages\n",
    "logging.getLogger().setLevel(logging.ERROR)\n",
    "\n",
    "# Specifically for LangChain\n",
    "logging.getLogger(\"langchain\").setLevel(logging.ERROR)\n",
    "\n",
    "from dotenv import load_dotenv\n",
    "load_dotenv()"
   ]
  },
  {
   "cell_type": "code",
   "execution_count": null,
   "id": "2a25acdd-20c3-4762-b97f-254de1586aeb",
   "metadata": {},
   "outputs": [],
   "source": [
    "import pandas as pd\n",
    "import vizro.plotly.express as px\n",
    "\n",
    "from vizro import Vizro\n",
    "from vizro_ai import VizroAI\n",
    "\n",
    "# vizro_ai = VizroAI(model=\"gpt-4-turbo\")\n",
    "vizro_ai = VizroAI(model=\"gpt-4o\")\n",
    "# vizro_ai = VizroAI()"
   ]
  },
  {
   "cell_type": "markdown",
   "id": "14b86781-2e69-426d-8c01-c481fad2f8ad",
   "metadata": {},
   "source": [
    "# Data"
   ]
  },
  {
   "cell_type": "code",
   "execution_count": null,
   "id": "e52c7832-1dcc-4472-9cff-210f152cb830",
   "metadata": {},
   "outputs": [],
   "source": [
    "df1 = pd.read_csv(\"/Users/lingyi_zhang/vizx/os/data/nba/cleaned_player_info.csv\")\n",
    "df1.head(1)"
   ]
  },
  {
   "cell_type": "code",
   "execution_count": null,
   "id": "c03d548f-a920-40d5-b773-4054225b470a",
   "metadata": {},
   "outputs": [],
   "source": [
    "df2 = pd.read_csv(\"/Users/lingyi_zhang/vizx/os/data/nba/team_details.csv\")\n",
    "df2.head(1)"
   ]
  },
  {
   "cell_type": "markdown",
   "id": "ec46d4d1-d20b-4351-831d-d3d8ddc5cb70",
   "metadata": {},
   "source": [
    "# Example dashboard request"
   ]
  },
  {
   "cell_type": "code",
   "execution_count": null,
   "id": "54fbe4f1-723b-4ba2-bf3c-3fff3b2abfc5",
   "metadata": {},
   "outputs": [],
   "source": [
    "user_question_2 = \"\"\"\n",
    "Create a dashboard with 3 pages.\n",
    "\n",
    "<page 1>\n",
    "This page includes 4 charts (1 histogram chart, 1 scatter chart, 1 pie chart, and a boxplot chart) and 1 filter.\n",
    "histogram chart: shows the jersey number distribution of all players, colored by `rosterstatus`.\n",
    "scatter chart: put `season_exp` on the x-axis and `jersey` on the y-axis, colored by `rosterstatus`.\n",
    "pie chart: shows the count of players by `position`.\n",
    "boxplot: shows the distribution of height (convert the 'ft-in' str format to 'cm') on y-axis, and `position` on the x-axis, colored by `position`.\n",
    "filter: filter the histogram chart and boxplot by `draft_year`.\n",
    "\n",
    "\n",
    "layout of page1:\n",
    "histogram chart (top-left)\n",
    "scatter chart (buttom-left)\n",
    "pie chart (buttom-right)\n",
    "boxplot (top-right)\n",
    "\n",
    "<page 2>\n",
    "I need a page with 1 Sankey diagram chart for players with active rosterstatus.\n",
    "The column used as Sankey source is `country`;\n",
    "The column used as Sankey target is `team_city`;\n",
    "highlight the flow of USA players and Canada players.\n",
    "Make the text in Sankey diagram more visible. Color USA and Canada differently.\n",
    "add a filter to filter players by `position`, use Checklist as selector.\n",
    "\n",
    "\n",
    "<page 3>\n",
    "This page has 3 cards and 1 table.\n",
    "Text to put in these 3 cards:\n",
    "\n",
    "(card1) The Lakers have won 17 NBA championships, tying them with the Boston Celtics for the most in league history. The team has seen legendary players like Magic Johnson, Kareem Abdul-Jabbar, Shaquille O'Neal, and Kobe Bryant.\n",
    "(card2) The Chicago Bulls, led by Michael Jordan, won six NBA championships in the 1990s. Their two three-peats (1991-1993 and 1996-1998) are some of the most dominant performances in NBA history.\n",
    "(card3) The Warriors have been one of the most successful teams in recent years, winning four NBA championships from 2015 to 2022. They are known for their revolutionary three-point shooting style, led by Stephen Curry, often credited with changing how the game is played.\n",
    "\n",
    "The table shows the NBA team details data.\n",
    "\n",
    "Layout of page3:\n",
    "create a grid with 3 columns and 3 rows.\n",
    "Row 1: The first row has three columns:\n",
    "- The first column is occupied by card 1.\n",
    "- The second column is occupied by card 2.\n",
    "- The third column is occupied by card 3.\n",
    "\n",
    "Row 2: The second and third rows also have three columns:\n",
    "- the whold second and third rows span the area for the table.\n",
    "\"\"\""
   ]
  },
  {
   "cell_type": "code",
   "execution_count": null,
   "id": "6db8d9bc-bded-4459-896b-cceba91ca625",
   "metadata": {},
   "outputs": [],
   "source": [
    "dashboard = vizro_ai.dashboard([df1, df2], user_question_2)"
   ]
  },
  {
   "cell_type": "code",
   "execution_count": null,
   "id": "26ff75bf-2915-4417-8dbf-37e677218f85",
   "metadata": {},
   "outputs": [],
   "source": [
    "Vizro().build(dashboard).run(port=9082)"
   ]
  },
  {
   "cell_type": "code",
   "execution_count": null,
   "id": "9de1bf2c-af3a-4863-aa2e-7999d550bb96",
   "metadata": {},
   "outputs": [],
   "source": []
  }
 ],
 "metadata": {
  "kernelspec": {
   "display_name": "Python 3 (ipykernel)",
   "language": "python",
   "name": "python3"
  },
  "language_info": {
   "codemirror_mode": {
    "name": "ipython",
    "version": 3
   },
   "file_extension": ".py",
   "mimetype": "text/x-python",
   "name": "python",
   "nbconvert_exporter": "python",
   "pygments_lexer": "ipython3",
   "version": "3.9.7"
  }
 },
 "nbformat": 4,
 "nbformat_minor": 5
}
