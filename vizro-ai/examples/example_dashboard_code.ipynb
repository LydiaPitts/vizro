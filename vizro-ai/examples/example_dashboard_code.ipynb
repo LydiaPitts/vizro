{
 "cells": [
  {
   "cell_type": "code",
   "execution_count": null,
   "id": "c21d07f2-c26c-44be-b5a2-688871cff158",
   "metadata": {},
   "outputs": [],
   "source": [
    "from langsmith import traceable"
   ]
  },
  {
   "cell_type": "code",
   "execution_count": null,
   "id": "630db342-6ce4-4845-8951-f560122fdbf9",
   "metadata": {},
   "outputs": [],
   "source": [
    "import logging\n",
    "\n",
    "# Create a custom logger\n",
    "logger = logging.getLogger(__name__)\n",
    "\n",
    "# Set the default logging level (for example, to INFO)\n",
    "logger.setLevel(logging.INFO)\n",
    "\n",
    "# Create a console handler\n",
    "console_handler = logging.StreamHandler()\n",
    "\n",
    "# Set the level for the console handler\n",
    "console_handler.setLevel(logging.INFO)\n",
    "\n",
    "# Create a formatter and set it for the handler\n",
    "formatter = logging.Formatter('%(asctime)s - %(name)s - %(levelname)s - %(message)s')\n",
    "console_handler.setFormatter(formatter)\n",
    "\n",
    "# Add the handler to the logger\n",
    "logger.addHandler(console_handler)\n",
    "\n",
    "# Avoid duplicate logs\n",
    "logger.propagate = False\n"
   ]
  },
  {
   "cell_type": "code",
   "execution_count": null,
   "id": "c81ca231-69c0-455e-91d6-252c845b8619",
   "metadata": {},
   "outputs": [],
   "source": [
    "from dotenv import load_dotenv\n",
    "load_dotenv()"
   ]
  },
  {
   "cell_type": "code",
   "execution_count": null,
   "id": "632a9013-6872-447d-936f-1dbcd1cc0f12",
   "metadata": {},
   "outputs": [],
   "source": [
    "from vizro_ai import VizroAI\n",
    "vizro_ai = VizroAI()"
   ]
  },
  {
   "cell_type": "code",
   "execution_count": null,
   "id": "e962a5af-cbe1-49d5-9858-55ee651643bb",
   "metadata": {},
   "outputs": [],
   "source": [
    "from vizro_ai.dashboard.graph.code_generation import _create_and_compile_graph\n",
    "from IPython.display import Image\n",
    "\n",
    "graph = _create_and_compile_graph()\n",
    "\n",
    "Image(graph.get_graph().draw_mermaid_png())"
   ]
  },
  {
   "cell_type": "code",
   "execution_count": null,
   "id": "86cd816b-e043-45af-9f7d-6b99706d6a47",
   "metadata": {},
   "outputs": [],
   "source": [
    "import vizro.plotly.express as px\n",
    "df = px.data.gapminder()\n",
    "df.head()"
   ]
  },
  {
   "cell_type": "code",
   "execution_count": null,
   "id": "07c18cfb-9172-45b1-be7e-0085ee1fd66a",
   "metadata": {},
   "outputs": [],
   "source": [
    "df_stocks = px.data.stocks()\n",
    "df_stocks.head()"
   ]
  },
  {
   "cell_type": "raw",
   "id": "381cb4bd-551e-4ad7-98af-221d125f7259",
   "metadata": {},
   "source": [
    "user_question_2_data = \"\"\"\n",
    "I need a page with 2 tables.\n",
    "One table shows the population per continent.\n",
    "The second table shows the stock price of some major companies.\n",
    "add a filter to filter the world demographic table by continent.\n",
    "I also want a second page with two \n",
    "cards on it. One should be a card saying: `This was the jolly data dashboard, it was created in Vizro which is amazing` \n",
    ", and the second card says `To learn more, visit Vizro docs` and should link to `https://vizro.readthedocs.io/`. The title of the dashboard should be: `My wonderful \n",
    "jolly dashboard showing a lot of info`.\n",
    "The layout of this page should use `grid=[[0,1]]`\n",
    "\"\"\""
   ]
  },
  {
   "cell_type": "raw",
   "id": "059aa349-f803-4b7f-a01f-45649b40c84d",
   "metadata": {},
   "source": [
    "res = vizro_ai.dashboard([df, df_stocks], user_question_2_data)\n",
    "res"
   ]
  },
  {
   "cell_type": "raw",
   "id": "769354ed-52db-4bf1-92f8-3001f6f7ccca",
   "metadata": {},
   "source": [
    "from vizro import Vizro\n",
    "Vizro._reset()"
   ]
  },
  {
   "cell_type": "code",
   "execution_count": null,
   "id": "7cef5907-33c2-492b-b727-460685ce5d02",
   "metadata": {},
   "outputs": [],
   "source": [
    "user_question_2_data_1filter = \"\"\"\n",
    "I need a page with two tables.\n",
    "One table shows worldwide population and GDP.\n",
    "Second table shows stock price data.\n",
    "Also add a control to filter the first table by year. This filter only applys to the first table.\n",
    "\"\"\""
   ]
  },
  {
   "cell_type": "markdown",
   "id": "600dbaf0-a9ac-451a-bc26-f7bf0317ad54",
   "metadata": {},
   "source": [
    "# use langSmith"
   ]
  },
  {
   "cell_type": "code",
   "execution_count": null,
   "id": "b5131480-d46d-4cec-99d3-85ed05c0806d",
   "metadata": {},
   "outputs": [],
   "source": [
    "@traceable\n",
    "def traced_dashboard():\n",
    "    res = vizro_ai.dashboard([df], user_question_2_data_1filter)\n",
    "    return res"
   ]
  },
  {
   "cell_type": "code",
   "execution_count": null,
   "id": "f74fcf1a-e300-48fe-8a41-33c7e74fea7b",
   "metadata": {},
   "outputs": [],
   "source": [
    "traced_dashboard()"
   ]
  },
  {
   "cell_type": "raw",
   "id": "df103325-b80e-438d-923c-2cad9ea0e6d5",
   "metadata": {},
   "source": [
    "res = vizro_ai.dashboard([df], user_question_2_data_1filter)\n",
    "res"
   ]
  },
  {
   "cell_type": "markdown",
   "id": "b825c427-7f65-4a04-a430-e72ea93f8fd8",
   "metadata": {},
   "source": [
    "# Check cost"
   ]
  },
  {
   "cell_type": "raw",
   "id": "22c57865-24a6-4aa0-a346-7f771b1b6195",
   "metadata": {},
   "source": [
    "from langchain_community.callbacks import get_openai_callback\n",
    "\n",
    "with get_openai_callback() as cb:\n",
    "    vizro_ai.dashboard([df, df_stocks], user_question_2_data)\n",
    "    print(cb)"
   ]
  },
  {
   "cell_type": "markdown",
   "id": "82d8f97f-1cba-4b0e-ba63-2b894858e49a",
   "metadata": {},
   "source": [
    "# Test the generated code is working"
   ]
  },
  {
   "cell_type": "code",
   "execution_count": null,
   "id": "fc3427ff-2e3a-40df-a618-2905c326a614",
   "metadata": {},
   "outputs": [],
   "source": [
    "from vizro import Vizro\n",
    "Vizro._reset()"
   ]
  },
  {
   "cell_type": "code",
   "execution_count": null,
   "id": "4150cc59-e7f8-49d5-a560-df3c064fcd12",
   "metadata": {},
   "outputs": [],
   "source": [
    "# example data manager code to run before running the generated dashboard code\n",
    "from vizro.managers import data_manager\n",
    "\n",
    "def population_data():\n",
    "    df = px.data.gapminder()\n",
    "    return df\n",
    "\n",
    "def stock_data():\n",
    "    df_stocks = px.data.stocks()\n",
    "    return df_stocks\n",
    "   \n",
    "\n",
    "data_manager[\"world_indicators\"] = population_data\n",
    "data_manager[\"stock_price_data\"] = stock_data"
   ]
  },
  {
   "cell_type": "raw",
   "id": "3ca43805-c738-4f28-a3ca-3ab2a05bc7d5",
   "metadata": {},
   "source": [
    "from vizro import Vizro\n",
    "from vizro.models import AgGrid, Card, Dashboard, Filter, Layout, Page\n",
    "from vizro.tables import dash_ag_grid\n",
    "import pandas as pd\n",
    "\n",
    "dashboard=Dashboard(pages=[Page(id='Page 1', components=[AgGrid(id='population_per_continent', figure=dash_ag_grid(data_frame='world_indicators')), AgGrid(id='stock_price', figure=dash_ag_grid(data_frame='stock_price_data'))], title='Page 1', layout=Layout(grid=[[0], [1]]), controls=[Filter(column='continent', targets=[], selector=None)]), Page(id='Page 2', components=[Card(type='card', text='The user found the data dashboard created in Vizro to be jolly and amazing.', href=''), Card(type='card', text='Visit the Vizro documentation for more information.', href='https://vizro.com/docs')], title='Page 2', layout=Layout(grid=[[0, 1]]), controls=[])], title='My wonderful jolly dashboard showing a lot of info')\n",
    "\n",
    "Vizro().build(dashboard).run()"
   ]
  },
  {
   "cell_type": "code",
   "execution_count": null,
   "id": "2e10a41b-eade-43e6-9b3e-da7941b5e2db",
   "metadata": {},
   "outputs": [],
   "source": []
  }
 ],
 "metadata": {
  "kernelspec": {
   "display_name": "Python 3 (ipykernel)",
   "language": "python",
   "name": "python3"
  },
  "language_info": {
   "codemirror_mode": {
    "name": "ipython",
    "version": 3
   },
   "file_extension": ".py",
   "mimetype": "text/x-python",
   "name": "python",
   "nbconvert_exporter": "python",
   "pygments_lexer": "ipython3",
   "version": "3.9.7"
  }
 },
 "nbformat": 4,
 "nbformat_minor": 5
}
