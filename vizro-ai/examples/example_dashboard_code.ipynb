{
 "cells": [
  {
   "cell_type": "raw",
   "id": "c2c02c72-fd83-4cbb-8241-581ca3a6677d",
   "metadata": {},
   "source": [
    "from langsmith import traceable"
   ]
  },
  {
   "cell_type": "code",
   "execution_count": null,
   "id": "c81ca231-69c0-455e-91d6-252c845b8619",
   "metadata": {},
   "outputs": [],
   "source": [
    "from dotenv import load_dotenv\n",
    "load_dotenv()"
   ]
  },
  {
   "cell_type": "code",
   "execution_count": null,
   "id": "632a9013-6872-447d-936f-1dbcd1cc0f12",
   "metadata": {},
   "outputs": [],
   "source": [
    "from vizro_ai import VizroAI\n",
    "vizro_ai = VizroAI()"
   ]
  },
  {
   "cell_type": "code",
   "execution_count": null,
   "id": "e962a5af-cbe1-49d5-9858-55ee651643bb",
   "metadata": {},
   "outputs": [],
   "source": [
    "from vizro_ai.dashboard.graph.code_generation import _create_and_compile_graph\n",
    "from IPython.display import Image\n",
    "\n",
    "graph = _create_and_compile_graph()\n",
    "\n",
    "Image(graph.get_graph().draw_mermaid_png())"
   ]
  },
  {
   "cell_type": "code",
   "execution_count": null,
   "id": "86cd816b-e043-45af-9f7d-6b99706d6a47",
   "metadata": {},
   "outputs": [],
   "source": [
    "import vizro.plotly.express as px\n",
    "df = px.data.gapminder()\n",
    "df.head()"
   ]
  },
  {
   "cell_type": "code",
   "execution_count": null,
   "id": "07c18cfb-9172-45b1-be7e-0085ee1fd66a",
   "metadata": {},
   "outputs": [],
   "source": [
    "df_stocks = px.data.stocks()\n",
    "df_stocks.head()"
   ]
  },
  {
   "cell_type": "raw",
   "id": "0325693f-7576-4869-9698-4b736ea65fbc",
   "metadata": {},
   "source": [
    "user_question_2_data = \"\"\"\n",
    "I need a page with 2 tables.\n",
    "One table shows the population per continent.\n",
    "The second table shows the stock price of some major companies.\n",
    "add a filter to filter the world demographic table by continent.\n",
    "I also want a second page with two \n",
    "cards on it. One should be a card saying: `This was the jolly data dashboard, it was created in Vizro which is amazing` \n",
    ", and the second card says `To learn more, visit Vizro docs` and should link to `https://vizro.readthedocs.io/`. The title of the dashboard should be: `My wonderful \n",
    "jolly dashboard showing a lot of info`.\n",
    "The layout of this page should use `grid=[[0,1]]`\n",
    "\"\"\""
   ]
  },
  {
   "cell_type": "raw",
   "id": "720b1913-3d05-4840-9b73-db1a682e4fdf",
   "metadata": {},
   "source": [
    "res = vizro_ai.dashboard([df, df_stocks], user_question_2_data)\n",
    "res"
   ]
  },
  {
   "cell_type": "raw",
   "id": "eea8eb34-a023-488e-a66a-99b6e3c7089f",
   "metadata": {},
   "source": [
    "user_question_not_implemented = \"\"\"\n",
    "I need a page with 1 table and 1 tab area.\n",
    "the table shows the population per continent.\n",
    "In the tab, I need two \n",
    "cards in it. One should be a card saying: `This was the jolly data dashboard, it was created in Vizro which is amazing` \n",
    ", and the second card says `To learn more, visit Vizro docs`.\n",
    "\"\"\""
   ]
  },
  {
   "cell_type": "raw",
   "id": "6f5a1669-3d21-43b8-a2ef-d058d094e07d",
   "metadata": {},
   "source": [
    "res = vizro_ai.dashboard([df], user_question_not_implemented)\n",
    "res"
   ]
  },
  {
   "cell_type": "raw",
   "id": "fbc8b7ab-6100-49c5-8ccc-d51a7ac6f580",
   "metadata": {},
   "source": [
    "print(res[\"messages\"][-1][-1])"
   ]
  },
  {
   "cell_type": "raw",
   "id": "0c539bb8-d60d-4c0f-a8b7-a0f88a3eaf6b",
   "metadata": {},
   "source": [
    "res[\"dashboard\"]"
   ]
  },
  {
   "cell_type": "raw",
   "id": "c5da571d-f4a0-47a3-985a-e4e6e72e6d35",
   "metadata": {},
   "source": [
    "from vizro import Vizro\n",
    "Vizro._reset()"
   ]
  },
  {
   "cell_type": "code",
   "execution_count": null,
   "id": "2df9c9a3-8cf3-49a2-b9b1-e643779a7694",
   "metadata": {},
   "outputs": [],
   "source": [
    "user_question_2_data_1filter = \"\"\"\n",
    "I need a page with two tables.\n",
    "One table shows worldwide population and GDP.\n",
    "Second table shows stock price data.\n",
    "Also use radio items to filter the first table by year. This filter only applys to the first table.\n",
    "\"\"\""
   ]
  },
  {
   "cell_type": "code",
   "execution_count": null,
   "id": "cc23cc00-670b-45e2-a419-57de4a42024d",
   "metadata": {},
   "outputs": [],
   "source": [
    "res = vizro_ai.dashboard([df, df_stocks], user_question_2_data_1filter)\n"
   ]
  },
  {
   "cell_type": "code",
   "execution_count": null,
   "id": "6ad95560-e984-47f6-8a59-55801097e5a1",
   "metadata": {},
   "outputs": [],
   "source": [
    "print(res[\"messages\"][-1][-1])"
   ]
  },
  {
   "cell_type": "code",
   "execution_count": null,
   "id": "2c06207f-85db-4dab-8d70-551c439c1eb1",
   "metadata": {},
   "outputs": [],
   "source": [
    "res[\"dashboard\"]"
   ]
  },
  {
   "cell_type": "markdown",
   "id": "600dbaf0-a9ac-451a-bc26-f7bf0317ad54",
   "metadata": {},
   "source": [
    "# use langSmith"
   ]
  },
  {
   "cell_type": "raw",
   "id": "6a310d1c-2000-4ed5-bf78-61a30f153cb8",
   "metadata": {},
   "source": [
    "@traceable\n",
    "def traced_dashboard():\n",
    "    res = vizro_ai.dashboard([df, df_stocks], user_question_2_data)\n",
    "    return res"
   ]
  },
  {
   "cell_type": "raw",
   "id": "1ae84770-2b7a-4091-82fb-0adc6d24bede",
   "metadata": {},
   "source": [
    "@traceable\n",
    "def traced_dashboard():\n",
    "    res = vizro_ai.dashboard([df], user_question_2_data_1filter)\n",
    "    return res"
   ]
  },
  {
   "cell_type": "raw",
   "id": "a21ecff1-cecb-4ec2-a28f-7946a75c6a4d",
   "metadata": {},
   "source": [
    "traced_dashboard()"
   ]
  },
  {
   "cell_type": "raw",
   "id": "df103325-b80e-438d-923c-2cad9ea0e6d5",
   "metadata": {},
   "source": [
    "res = vizro_ai.dashboard([df], user_question_2_data_1filter)\n",
    "res"
   ]
  },
  {
   "cell_type": "markdown",
   "id": "b825c427-7f65-4a04-a430-e72ea93f8fd8",
   "metadata": {},
   "source": [
    "# Check cost"
   ]
  },
  {
   "cell_type": "raw",
   "id": "a20215e3-882d-4a96-84b0-b298c3bf5e56",
   "metadata": {},
   "source": [
    "from langchain_community.callbacks import get_openai_callback\n",
    "\n",
    "with get_openai_callback() as cb:\n",
    "    vizro_ai.dashboard([df, df_stocks], user_question_2_data_1filter)\n",
    "    print(cb)"
   ]
  },
  {
   "cell_type": "raw",
   "id": "22c57865-24a6-4aa0-a346-7f771b1b6195",
   "metadata": {},
   "source": [
    "from langchain_community.callbacks import get_openai_callback\n",
    "\n",
    "with get_openai_callback() as cb:\n",
    "    vizro_ai.dashboard([df, df_stocks], user_question_2_data)\n",
    "    print(cb)"
   ]
  },
  {
   "cell_type": "markdown",
   "id": "82d8f97f-1cba-4b0e-ba63-2b894858e49a",
   "metadata": {},
   "source": [
    "# Test the generated code is working"
   ]
  },
  {
   "cell_type": "raw",
   "id": "52ededfa-c914-435c-8f43-fddc81383825",
   "metadata": {},
   "source": [
    "from vizro import Vizro\n",
    "Vizro._reset()"
   ]
  },
  {
   "cell_type": "raw",
   "id": "8bbf6576-ac8e-400f-967a-5360d91fd425",
   "metadata": {},
   "source": [
    "# example data manager code to run before running the generated dashboard code\n",
    "from vizro.managers import data_manager\n",
    "\n",
    "def population_data():\n",
    "    df = px.data.gapminder()\n",
    "    return df\n",
    "\n",
    "def stock_data():\n",
    "    df_stocks = px.data.stocks()\n",
    "    return df_stocks\n",
    "   \n",
    "\n",
    "data_manager[\"world_indicators\"] = population_data\n",
    "data_manager[\"stock_price_data\"] = stock_data"
   ]
  },
  {
   "cell_type": "raw",
   "id": "5d44adce-fc62-4b5e-8158-de474a453451",
   "metadata": {},
   "source": [
    "from vizro import Vizro\n",
    "from vizro.models import AgGrid, Card, Dashboard, Filter, Layout, Page\n",
    "from vizro.tables import dash_ag_grid\n",
    "import pandas as pd\n",
    "\n",
    "# dashboard=Dashboard(pages=[Page(id='Page 1', components=[AgGrid(id='population_per_continent', figure=dash_ag_grid(data_frame='world_indicators')), AgGrid(id='stock_price', figure=dash_ag_grid(data_frame='stock_price_data'))], title='Page 1', layout=Layout(grid=[[0], [1]]), controls=[Filter(column='continent', targets=[], selector=None)]), Page(id='Page 2', components=[Card(type='card', text='The user found the data dashboard created in Vizro to be jolly and amazing.', href=''), Card(type='card', text='Visit the Vizro documentation for more information.', href='https://vizro.com/docs')], title='Page 2', layout=Layout(grid=[[0, 1]]), controls=[])], title='My wonderful jolly dashboard showing a lot of info')\n",
    "dashboard = res[\"dashboard\"]\n",
    "Vizro().build(dashboard).run()"
   ]
  },
  {
   "cell_type": "code",
   "execution_count": null,
   "id": "2e10a41b-eade-43e6-9b3e-da7941b5e2db",
   "metadata": {},
   "outputs": [],
   "source": []
  }
 ],
 "metadata": {
  "kernelspec": {
   "display_name": "Python 3 (ipykernel)",
   "language": "python",
   "name": "python3"
  },
  "language_info": {
   "codemirror_mode": {
    "name": "ipython",
    "version": 3
   },
   "file_extension": ".py",
   "mimetype": "text/x-python",
   "name": "python",
   "nbconvert_exporter": "python",
   "pygments_lexer": "ipython3",
   "version": "3.9.7"
  }
 },
 "nbformat": 4,
 "nbformat_minor": 5
}
