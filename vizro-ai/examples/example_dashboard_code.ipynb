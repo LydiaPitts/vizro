{
 "cells": [
  {
   "cell_type": "code",
   "execution_count": null,
   "id": "b2da5adc-0f0f-4800-a49b-afaf26cb6808",
   "metadata": {},
   "outputs": [],
   "source": [
    "from langsmith import traceable"
   ]
  },
  {
   "cell_type": "code",
   "execution_count": null,
   "id": "c81ca231-69c0-455e-91d6-252c845b8619",
   "metadata": {},
   "outputs": [],
   "source": [
    "from dotenv import load_dotenv\n",
    "load_dotenv()"
   ]
  },
  {
   "cell_type": "code",
   "execution_count": null,
   "id": "68f56ab2-3806-4352-9f66-da56aba66b01",
   "metadata": {},
   "outputs": [],
   "source": [
    "import os\n",
    "os.environ.get(\"ANTHROPIC_API_URL\")\n",
    "os.environ.get(\"ANTHROPIC_BASE_URL\")\n",
    "os.environ.get(\"ANTHROPIC_API_BASE\")"
   ]
  },
  {
   "cell_type": "code",
   "execution_count": null,
   "id": "632a9013-6872-447d-936f-1dbcd1cc0f12",
   "metadata": {},
   "outputs": [],
   "source": [
    "from vizro_ai import VizroAI\n",
    "vizro_ai = VizroAI(model=\"claude-3-sonnet-20240229\")"
   ]
  },
  {
   "cell_type": "code",
   "execution_count": null,
   "id": "714e7274-d396-4d54-889a-3759fc915c4e",
   "metadata": {},
   "outputs": [],
   "source": [
    "vizro_ai.model"
   ]
  },
  {
   "cell_type": "code",
   "execution_count": null,
   "id": "e962a5af-cbe1-49d5-9858-55ee651643bb",
   "metadata": {},
   "outputs": [],
   "source": [
    "from vizro_ai.dashboard.graph.code_generation import _create_and_compile_graph\n",
    "from IPython.display import Image\n",
    "\n",
    "graph = _create_and_compile_graph()\n",
    "\n",
    "Image(graph.get_graph().draw_mermaid_png())"
   ]
  },
  {
   "cell_type": "code",
   "execution_count": null,
   "id": "86cd816b-e043-45af-9f7d-6b99706d6a47",
   "metadata": {},
   "outputs": [],
   "source": [
    "import vizro.plotly.express as px\n",
    "df = px.data.gapminder()\n",
    "df.head()"
   ]
  },
  {
   "cell_type": "code",
   "execution_count": null,
   "id": "07c18cfb-9172-45b1-be7e-0085ee1fd66a",
   "metadata": {},
   "outputs": [],
   "source": [
    "df_stocks = px.data.stocks()\n",
    "df_stocks.head()"
   ]
  },
  {
   "cell_type": "raw",
   "id": "b9aced22-4126-44ea-af30-9d797fa99366",
   "metadata": {},
   "source": [
    "user_question_2_data = \"\"\"\n",
    "I need a page with 2 tables.\n",
    "One table shows the population per continent.\n",
    "The second table shows the stock price of some major companies.\n",
    "add a filter to filter the world demographic table by continent.\n",
    "I also want a second page with two \n",
    "cards on it. One should be a card saying: `This was the jolly data dashboard, it was created in Vizro which is amazing` \n",
    ", and the second card says `To learn more, visit Vizro docs` and should link to `https://vizro.readthedocs.io/`. The title of the dashboard should be: `My wonderful \n",
    "jolly dashboard showing a lot of info`.\n",
    "The layout of this page should use `grid=[[0,1]]`\n",
    "\"\"\""
   ]
  },
  {
   "cell_type": "raw",
   "id": "720b1913-3d05-4840-9b73-db1a682e4fdf",
   "metadata": {},
   "source": [
    "res = vizro_ai.dashboard([df, df_stocks], user_question_2_data)\n",
    "res"
   ]
  },
  {
   "cell_type": "raw",
   "id": "eea8eb34-a023-488e-a66a-99b6e3c7089f",
   "metadata": {},
   "source": [
    "user_question_not_implemented = \"\"\"\n",
    "I need a page with 1 table and 1 tab area.\n",
    "the table shows the population per continent.\n",
    "In the tab, I need two \n",
    "cards in it. One should be a card saying: `This was the jolly data dashboard, it was created in Vizro which is amazing` \n",
    ", and the second card says `To learn more, visit Vizro docs`.\n",
    "\"\"\""
   ]
  },
  {
   "cell_type": "raw",
   "id": "6f5a1669-3d21-43b8-a2ef-d058d094e07d",
   "metadata": {},
   "source": [
    "res = vizro_ai.dashboard([df], user_question_not_implemented)\n",
    "res"
   ]
  },
  {
   "cell_type": "raw",
   "id": "90622878-5ff5-45b6-9d94-e52979df35ce",
   "metadata": {},
   "source": [
    "from vizro import Vizro\n",
    "Vizro._reset()"
   ]
  },
  {
   "cell_type": "raw",
   "id": "c8000439-5304-4e5f-90b4-e1237ffd6bd7",
   "metadata": {},
   "source": [
    "user_question_2_pages = \"\"\"\n",
    "Create 2 pages.\n",
    "I need a page with one table showing worldwide population and GDP.\n",
    "second page has a card saying `this is the second page`. No filter please.\n",
    "\"\"\""
   ]
  },
  {
   "cell_type": "raw",
   "id": "b9f7786a-c5ba-44a1-9fc1-4fc5d3117214",
   "metadata": {},
   "source": [
    "res = vizro_ai.dashboard([df], user_question_2_pages)\n"
   ]
  },
  {
   "cell_type": "raw",
   "id": "d8ddd6d8-dc98-4d16-8007-5accdd9234b8",
   "metadata": {},
   "source": [
    "res.keys()"
   ]
  },
  {
   "cell_type": "raw",
   "id": "afc39564-5a5f-4590-9feb-3e0d8c3cb13c",
   "metadata": {},
   "source": [
    "print(res[\"messages\"][-1][-1])"
   ]
  },
  {
   "cell_type": "raw",
   "id": "d4588b92-158e-455f-89b5-05d091e16a46",
   "metadata": {},
   "source": [
    "res[\"dashboard\"]"
   ]
  },
  {
   "cell_type": "markdown",
   "id": "600dbaf0-a9ac-451a-bc26-f7bf0317ad54",
   "metadata": {},
   "source": [
    "# use langSmith"
   ]
  },
  {
   "cell_type": "code",
   "execution_count": null,
   "id": "f4ad51fa-1730-4082-a34e-87ab8184a786",
   "metadata": {},
   "outputs": [],
   "source": [
    "user_question_2_data = \"\"\"\n",
    "I need a page with 2 tables.\n",
    "One table shows the population per continent.\n",
    "The second table shows the stock price of some major companies.\n",
    "add a filter to filter the world demographic table by continent.\n",
    "I also want a second page with two \n",
    "cards on it. One should be a card saying: `This was the jolly data dashboard, it was created in Vizro which is amazing` \n",
    ", and the second card says `To learn more, visit Vizro docs` and should link to `https://vizro.readthedocs.io/`. The title of the dashboard should be: `My wonderful \n",
    "jolly dashboard showing a lot of info`.\n",
    "The layout of this page should use `grid=[[0,1]]`\n",
    "\"\"\""
   ]
  },
  {
   "cell_type": "code",
   "execution_count": null,
   "id": "8680de28-6ad2-45fa-b68f-3ea7c5c3daea",
   "metadata": {},
   "outputs": [],
   "source": [
    "@traceable\n",
    "def traced_dashboard():\n",
    "    res = vizro_ai.dashboard([df, df_stocks], user_input=user_question_2_data)\n",
    "    return res"
   ]
  },
  {
   "cell_type": "code",
   "execution_count": null,
   "id": "08aeca92-db6d-4580-8d6c-f42e03016bca",
   "metadata": {},
   "outputs": [],
   "source": [
    "traced_dashboard()"
   ]
  },
  {
   "cell_type": "raw",
   "id": "275957de-0da5-4cb0-a5b6-1912f0121d62",
   "metadata": {},
   "source": [
    "user_question_gaint = \"\"\"\n",
    "I need a dashboard of 10 pages.\n",
    "page1: One table shows the population per continent.\n",
    "The second table shows the stock price of some major companies.\n",
    "add a filter to filter the world demographic table by continent.\n",
    "page2: I also want a second page with two \n",
    "cards on it. One should be a card saying: `This was the jolly data dashboard, it was created in Vizro which is amazing` \n",
    ", and the second card says `To learn more, visit Vizro docs` and should link to `https://vizro.readthedocs.io/`. The title of the dashboard should be: `My wonderful \n",
    "jolly dashboard showing a lot of info`.\n",
    "page3: One table shows the population per continent. add a filter to filter by year\n",
    "page4: One table shows the population per continent. add a filter to filter by continent\n",
    "page5: One table shows the population per continent. add a filter to filter by pop\n",
    "page6: One table shows the population per continent. add a filter to filter by lifeExp\n",
    "page7: one card saying \"this is page 7\"\n",
    "page8: one card saying \"this is page 8\"\n",
    "page9: table shows the stock price of some major companies. also add a card saying \"Recent trends\"\n",
    "page10: one card saying \"thanks for reading\"\n",
    "\"\"\"\n",
    "\n",
    "@traceable\n",
    "def giant_dashboard():\n",
    "    res = vizro_ai.dashboard([df, df_stocks], user_question_gaint)\n",
    "    return res\n",
    "\n",
    "giant_dashboard()"
   ]
  },
  {
   "cell_type": "markdown",
   "id": "b825c427-7f65-4a04-a430-e72ea93f8fd8",
   "metadata": {},
   "source": [
    "# Check cost"
   ]
  },
  {
   "cell_type": "raw",
   "id": "a20215e3-882d-4a96-84b0-b298c3bf5e56",
   "metadata": {},
   "source": [
    "from langchain_community.callbacks import get_openai_callback\n",
    "\n",
    "with get_openai_callback() as cb:\n",
    "    vizro_ai.dashboard([df, df_stocks], user_question_2_data_1filter)\n",
    "    print(cb)"
   ]
  },
  {
   "cell_type": "raw",
   "id": "5b6a3e7e-51db-4038-a2f3-a6869e13a0e9",
   "metadata": {},
   "source": [
    "from langchain_community.callbacks import get_openai_callback\n",
    "\n",
    "with get_openai_callback() as cb:\n",
    "    vizro_ai.dashboard([df, df_stocks], user_question_2_data)\n",
    "    print(cb)"
   ]
  },
  {
   "cell_type": "markdown",
   "id": "82d8f97f-1cba-4b0e-ba63-2b894858e49a",
   "metadata": {},
   "source": [
    "# Test the generated code is working"
   ]
  },
  {
   "cell_type": "raw",
   "id": "c244add0-184a-42c1-a591-e48f0df57b68",
   "metadata": {},
   "source": [
    "from vizro import Vizro\n",
    "Vizro._reset()"
   ]
  },
  {
   "cell_type": "raw",
   "id": "1bf72465-432f-482f-9b98-81454a6e9b30",
   "metadata": {},
   "source": [
    "from vizro import Vizro\n",
    "from vizro.models import AgGrid, Card, Dashboard, Filter, Layout, Page\n",
    "from vizro.tables import dash_ag_grid\n",
    "import pandas as pd"
   ]
  },
  {
   "cell_type": "raw",
   "id": "c9e1fccd-bd99-4ed3-9db2-e24de4f66967",
   "metadata": {},
   "source": [
    "# example data manager code to run before running the generated dashboard code\n",
    "from vizro.managers import data_manager\n",
    "\n",
    "def population_data():\n",
    "    df = px.data.gapminder()\n",
    "    return df\n",
    "\n",
    "def stock_data():\n",
    "    df_stocks = px.data.stocks()\n",
    "    return df_stocks\n",
    "   \n",
    "\n",
    "data_manager[\"world_indicators\"] = population_data\n",
    "data_manager[\"stock_prices\"] = stock_data"
   ]
  },
  {
   "cell_type": "code",
   "execution_count": null,
   "id": "637ca5de-c6cf-4309-b57b-70f3abb7c3f1",
   "metadata": {},
   "outputs": [],
   "source": []
  }
 ],
 "metadata": {
  "kernelspec": {
   "display_name": "Python 3 (ipykernel)",
   "language": "python",
   "name": "python3"
  },
  "language_info": {
   "codemirror_mode": {
    "name": "ipython",
    "version": 3
   },
   "file_extension": ".py",
   "mimetype": "text/x-python",
   "name": "python",
   "nbconvert_exporter": "python",
   "pygments_lexer": "ipython3",
   "version": "3.9.7"
  }
 },
 "nbformat": 4,
 "nbformat_minor": 5
}
