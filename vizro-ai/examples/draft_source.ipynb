{
 "cells": [
  {
   "cell_type": "code",
   "execution_count": null,
   "id": "53e857ce-22bc-49de-9adc-9a2e7c9829cf",
   "metadata": {},
   "outputs": [],
   "source": [
    "from dotenv import load_dotenv\n",
    "load_dotenv()"
   ]
  },
  {
   "cell_type": "code",
   "execution_count": null,
   "id": "2a25acdd-20c3-4762-b97f-254de1586aeb",
   "metadata": {},
   "outputs": [],
   "source": [
    "import pandas as pd\n",
    "import vizro.plotly.express as px\n",
    "\n",
    "from vizro import Vizro\n",
    "from vizro_ai import VizroAI\n",
    "\n",
    "# vizro_ai = VizroAI(model=\"gpt-4-turbo\")\n",
    "vizro_ai = VizroAI(model=\"gpt-4o\")\n",
    "# vizro_ai = VizroAI()"
   ]
  },
  {
   "cell_type": "code",
   "execution_count": null,
   "id": "18567abe-8d78-4c79-839f-11cdfd491757",
   "metadata": {},
   "outputs": [],
   "source": [
    "# world food production 1961-2021\n",
    "df1 = pd.read_csv(\"/Users/lingyi_zhang/vizx/os/world data/world food production.csv\")\n",
    "df1.head(1)"
   ]
  },
  {
   "cell_type": "code",
   "execution_count": null,
   "id": "7dcbb19a-ab5d-4a17-b805-1428e56cc12e",
   "metadata": {},
   "outputs": [],
   "source": [
    "# 2017-2021\n",
    "df2 = pd.read_csv(\"/Users/lingyi_zhang/vizx/os/world data/3- hare-of-consumer-expenditure-spent-on-food.csv\")\n",
    "df2.head(1)"
   ]
  },
  {
   "cell_type": "code",
   "execution_count": null,
   "id": "b5e24f1b-e698-40e5-be00-c3a59c53ec65",
   "metadata": {},
   "outputs": [],
   "source": [
    "# 1952-2007\n",
    "df3 = px.data.gapminder()\n",
    "df3.head(1)"
   ]
  },
  {
   "cell_type": "code",
   "execution_count": null,
   "id": "dd20fe14-1660-4087-bf18-44c42fb11953",
   "metadata": {},
   "outputs": [],
   "source": [
    "user_question = \"\"\"\n",
    "Create a two-page dashboard.\n",
    "\n",
    "[Page 1]\n",
    "On the first page, create a box plot and a histogram chart.\n",
    "\n",
    "<box plot>\n",
    "column `Year` is on the x-axis.\n",
    "column `Food as share of total consumer expenditure` on the y-axis.\n",
    "colored by year.\n",
    "\n",
    "<histogram chart>\n",
    "show the distribution of \"Food as share of total consumer expenditure\", colored by year.\n",
    "\n",
    "<Layout>\n",
    "put the box plot on the left and line chart on the right.\n",
    "\n",
    "<filter>\n",
    "add a filter to filter data by year.\n",
    "add a second filter to filter by country.\n",
    "\n",
    "[Page 2]\n",
    "on the second page, create a card and a table.\n",
    "the card has text 'Gapminder dataset: The Gapminder dataset provides historical data on countries' development indicators.'\n",
    "the table display the data of Gapminder dataset.\n",
    "\n",
    "<Layout>\n",
    "the card takes 1/5 of spage on top and the table takes the rest of the space below.\n",
    "\n",
    "add a filter to filter data by year.\n",
    "\"\"\""
   ]
  },
  {
   "cell_type": "code",
   "execution_count": null,
   "id": "7685e395-6e08-4a00-a69e-1e97c1f5839e",
   "metadata": {},
   "outputs": [],
   "source": [
    "dashboard = vizro_ai.dashboard([df2, df3], user_question)"
   ]
  },
  {
   "cell_type": "code",
   "execution_count": null,
   "id": "a4157473-39e4-455e-839c-41520dc55dd4",
   "metadata": {},
   "outputs": [],
   "source": [
    "Vizro().build(dashboard).run(port=8051)"
   ]
  },
  {
   "cell_type": "code",
   "execution_count": null,
   "id": "182c9340-510d-4fdb-b58b-e92df6d66144",
   "metadata": {},
   "outputs": [],
   "source": []
  },
  {
   "cell_type": "code",
   "execution_count": null,
   "id": "1e191582-c9da-4025-ad75-dab4e5cfa43f",
   "metadata": {},
   "outputs": [],
   "source": []
  },
  {
   "cell_type": "markdown",
   "id": "ec46d4d1-d20b-4351-831d-d3d8ddc5cb70",
   "metadata": {},
   "source": [
    "# Example: Simple dashboard request"
   ]
  },
  {
   "cell_type": "raw",
   "id": "b4eeb795-7081-4858-94c7-3645f49b667f",
   "metadata": {},
   "source": [
    "user_question_2_data = \"\"\"\n",
    "I need a page with 1 table.\n",
    "The table shows the tech companies stock data.\n",
    "\n",
    "I need a second page showing 2 cards and one chart.\n",
    "The first card says 'The Gapminder dataset provides historical data on countries' development indicators.'\n",
    "The chart is a scatter plot showing life expectancy vs. GDP per capita by country. Life expectancy on the y axis, GDP per capita on the x axis, and colored by continent.\n",
    "The second card says 'Data spans from 1952 to 2007 across various countries'\n",
    "The layout uses a grid of 3 columns and 2 rows.\n",
    "\n",
    "Row 1: The first row has three columns:\n",
    "The first column is occupied by the first card.\n",
    "The second and third columns are spanned by the chart.\n",
    "\n",
    "Row 2: The second row mirrors the layout of the first row with respect to chart, but the first column is occupied by the second card.\n",
    "\n",
    "Add a filter to filter the scatter plot by continent.\n",
    "Add a second filter to filter the chart by year.\n",
    "\"\"\""
   ]
  },
  {
   "cell_type": "raw",
   "id": "dd0eb9d7-b0b0-4c98-a0ea-89a7d234bfd6",
   "metadata": {},
   "source": [
    "dashboard = vizro_ai.dashboard([df1, df2], user_question_2_data)"
   ]
  },
  {
   "cell_type": "raw",
   "id": "0205ec78-5563-4b97-93d8-664803d3408b",
   "metadata": {},
   "source": [
    "Vizro().build(dashboard).run()"
   ]
  },
  {
   "cell_type": "markdown",
   "id": "747964b9-fd05-4c5a-a73a-79dae82320b3",
   "metadata": {},
   "source": [
    "# Example: 5-page dashboard request"
   ]
  },
  {
   "cell_type": "raw",
   "id": "3cc8c4a7-6737-4f3a-b93e-234c64890552",
   "metadata": {},
   "source": [
    "df3 = px.data.tips()"
   ]
  },
  {
   "cell_type": "raw",
   "id": "4c1b1e10-fe9d-4a1d-a308-92f3b24faa22",
   "metadata": {},
   "source": [
    "user_question_3_data = \"\"\"\n",
    "<Page 1>\n",
    "I need a page with 1 table and 1 line chart. \n",
    "The chart shows the stock price trends of GOOG and AAPL.\n",
    "The table shows the stock prices data details.\n",
    "\n",
    "<Page 2>\n",
    "I need a second page showing 1 card and 1 chart.\n",
    "The card says 'The Gapminder dataset provides historical data on countries' development indicators.'\n",
    "The chart is a scatter plot showing GDP per capita vs. life expectancy. GDP per capita on the x axis, life expectancy on the y axis, and colored by continent.\n",
    "Layout the card on the left and the chart on the right. The card takes 1/3 of the whole space on the left.\n",
    "The chart takes 2/3 of the whole space and is on the right.\n",
    "Add a filter to filter the scatter plot by continent.\n",
    "Add a second filter to filter the chart by year.\n",
    "\n",
    "<Page 3>\n",
    "This page displays the tips dataset. use two different charts to show data\n",
    "distributions. one chart should be a bar chart and the other should be a scatter plot.\n",
    "first chart is on the left and the second chart is on the right.\n",
    "Add a filter to filter data in the scatter plot by smoker.\n",
    "\n",
    "<Page 4>\n",
    "Create 3 cards on this page:\n",
    "1. The first card on top says \"This page combines data from various sources including tips, stock prices, and global indicators.\"\n",
    "2. The second card says \"Insights from Gapminder dataset.\"\n",
    "3. The third card says \"Stock price trends over time.\"\n",
    "\n",
    "Layout these 3 cards in this way:\n",
    "create a grid with 3 columns and 2 rows.\n",
    "Row 1: The first row has three columns:\n",
    "- The first column is empty.\n",
    "- The second and third columns span the area for card 1.\n",
    "\n",
    "Row 2: The second row also has three columns:\n",
    "- The first column is empty.\n",
    "- The second column is occupied by the area for card 2.\n",
    "- The third column is occupied by the area for card 3.\n",
    "\"\"\""
   ]
  },
  {
   "cell_type": "raw",
   "id": "1402ba74-dc74-499c-b5d9-d5257b57c419",
   "metadata": {},
   "source": [
    "Vizro._reset()\n",
    "dashboard = vizro_ai.dashboard([df1, df2, df3], user_question_3_data)"
   ]
  },
  {
   "cell_type": "raw",
   "id": "75f008d3-e534-410b-a0f0-cf53c70a2a82",
   "metadata": {},
   "source": [
    "Vizro().build(dashboard).run()"
   ]
  },
  {
   "cell_type": "code",
   "execution_count": null,
   "id": "d5f8964d-325c-4c43-a11c-e32d8717d1e5",
   "metadata": {},
   "outputs": [],
   "source": [
    "# Example: Request with unsupported features"
   ]
  },
  {
   "cell_type": "raw",
   "id": "ed51012a-f9ac-4cb5-b8fc-4a54278dda72",
   "metadata": {},
   "source": [
    "user_question_2_data = \"\"\"\n",
    "<Page 1>\n",
    "I need a page showing 2 cards, one chart, and 1 button.\n",
    "The first card says 'The Tips dataset provides insights into customer tipping behavior.'\n",
    "The chart is a bar chart showing the total bill amount by day. Day on the x axis, total bill amount on the y axis, and colored by time of day.\n",
    "The second card says 'Data collected from various days and times.'\n",
    "Layout the two cards on the left and the chart on the right. Two cards take 1/3 of the whole space on the left in total.\n",
    "The first card is on top of the second card vertically.\n",
    "The chart takes 2/3 of the whole space and is on the right.\n",
    "The button would trigger a download action to download the Tips dataset.\n",
    "Add a filter to filter the bar chart by `size`.\n",
    "Make another tab on this page,\n",
    "In this tab, create a card saying \"Tipping patterns and trends.\"\n",
    "Group all the above content into the first NavLink.\n",
    "\n",
    "<Second NavLink>\n",
    "Create two pages:\n",
    "1. The first page has a card saying \"Analyzing global development trends.\"\n",
    "2. The second page has a scatter plot showing GDP per capita vs. life expectancy. GDP per capita on the x axis, life expectancy on the y axis, and colored by continent.\n",
    "Add a parameter to control the title of the scatter plot, with title options \"Economic Growth vs. Health\" and \"Development Indicators.\"\n",
    "Also create a button and a spinning circle on the right-hand side of the page.\n",
    "\n",
    "<Third NavLink>\n",
    "Create one page:\n",
    "1. The first page has a card saying \"Stock price trends over time.\"\n",
    "Create a button and a spinning circle on the right-hand side of the page.\n",
    "\n",
    "For hosting the dashboard on AWS, which service should I use?\n",
    "\"\"\""
   ]
  },
  {
   "cell_type": "raw",
   "id": "6d21dea6-d881-4227-8a00-c86bef88cee5",
   "metadata": {},
   "source": [
    "Vizro._reset()\n",
    "dashboard = vizro_ai.dashboard([df3, df2, df1], user_question_2_data)"
   ]
  },
  {
   "cell_type": "raw",
   "id": "797ea220-bc05-4dbb-a9ac-33846af3c530",
   "metadata": {},
   "source": [
    "Vizro().build(dashboard).run()"
   ]
  }
 ],
 "metadata": {
  "kernelspec": {
   "display_name": "Python 3 (ipykernel)",
   "language": "python",
   "name": "python3"
  },
  "language_info": {
   "codemirror_mode": {
    "name": "ipython",
    "version": 3
   },
   "file_extension": ".py",
   "mimetype": "text/x-python",
   "name": "python",
   "nbconvert_exporter": "python",
   "pygments_lexer": "ipython3",
   "version": "3.9.7"
  }
 },
 "nbformat": 4,
 "nbformat_minor": 5
}
