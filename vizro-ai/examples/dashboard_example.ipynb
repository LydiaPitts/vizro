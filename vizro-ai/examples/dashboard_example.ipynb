{
 "cells": [
  {
   "cell_type": "code",
   "execution_count": 1,
   "metadata": {},
   "outputs": [
    {
     "data": {
      "text/plain": [
       "True"
      ]
     },
     "execution_count": 1,
     "metadata": {},
     "output_type": "execute_result"
    }
   ],
   "source": [
    "from dotenv import load_dotenv\n",
    "load_dotenv()"
   ]
  },
  {
   "cell_type": "code",
   "execution_count": 2,
   "metadata": {},
   "outputs": [
    {
     "name": "stderr",
     "output_type": "stream",
     "text": [
      "INFO:vizro_ai._vizro_ai:You have selected gpt-3.5-turbo,Engaging with LLMs (Large Language Models) carries certain risks. Users are advised to become familiar with these risks to make informed decisions, and visit this page for detailed information: https://vizro-ai.readthedocs.io/en/latest/pages/explanation/disclaimer/\n"
     ]
    }
   ],
   "source": [
    "from vizro_ai import VizroAI\n",
    "vizro_ai = VizroAI()"
   ]
  },
  {
   "cell_type": "code",
   "execution_count": 3,
   "metadata": {},
   "outputs": [
    {
     "name": "stderr",
     "output_type": "stream",
     "text": [
      "INFO:vizro.charts._charts_utils:Overwriting plotly default template with vizro chart template. To revert back to the default template, run `import plotly.io as pio; pio.templates.default = 'plotly'`.\n"
     ]
    },
    {
     "data": {
      "text/html": [
       "<div>\n",
       "<style scoped>\n",
       "    .dataframe tbody tr th:only-of-type {\n",
       "        vertical-align: middle;\n",
       "    }\n",
       "\n",
       "    .dataframe tbody tr th {\n",
       "        vertical-align: top;\n",
       "    }\n",
       "\n",
       "    .dataframe thead th {\n",
       "        text-align: right;\n",
       "    }\n",
       "</style>\n",
       "<table border=\"1\" class=\"dataframe\">\n",
       "  <thead>\n",
       "    <tr style=\"text-align: right;\">\n",
       "      <th></th>\n",
       "      <th>country</th>\n",
       "      <th>continent</th>\n",
       "      <th>year</th>\n",
       "      <th>lifeExp</th>\n",
       "      <th>pop</th>\n",
       "      <th>gdpPercap</th>\n",
       "      <th>iso_alpha</th>\n",
       "      <th>iso_num</th>\n",
       "    </tr>\n",
       "  </thead>\n",
       "  <tbody>\n",
       "    <tr>\n",
       "      <th>0</th>\n",
       "      <td>Afghanistan</td>\n",
       "      <td>Asia</td>\n",
       "      <td>1952</td>\n",
       "      <td>28.801</td>\n",
       "      <td>8425333</td>\n",
       "      <td>779.445314</td>\n",
       "      <td>AFG</td>\n",
       "      <td>4</td>\n",
       "    </tr>\n",
       "    <tr>\n",
       "      <th>1</th>\n",
       "      <td>Afghanistan</td>\n",
       "      <td>Asia</td>\n",
       "      <td>1957</td>\n",
       "      <td>30.332</td>\n",
       "      <td>9240934</td>\n",
       "      <td>820.853030</td>\n",
       "      <td>AFG</td>\n",
       "      <td>4</td>\n",
       "    </tr>\n",
       "    <tr>\n",
       "      <th>2</th>\n",
       "      <td>Afghanistan</td>\n",
       "      <td>Asia</td>\n",
       "      <td>1962</td>\n",
       "      <td>31.997</td>\n",
       "      <td>10267083</td>\n",
       "      <td>853.100710</td>\n",
       "      <td>AFG</td>\n",
       "      <td>4</td>\n",
       "    </tr>\n",
       "    <tr>\n",
       "      <th>3</th>\n",
       "      <td>Afghanistan</td>\n",
       "      <td>Asia</td>\n",
       "      <td>1967</td>\n",
       "      <td>34.020</td>\n",
       "      <td>11537966</td>\n",
       "      <td>836.197138</td>\n",
       "      <td>AFG</td>\n",
       "      <td>4</td>\n",
       "    </tr>\n",
       "    <tr>\n",
       "      <th>4</th>\n",
       "      <td>Afghanistan</td>\n",
       "      <td>Asia</td>\n",
       "      <td>1972</td>\n",
       "      <td>36.088</td>\n",
       "      <td>13079460</td>\n",
       "      <td>739.981106</td>\n",
       "      <td>AFG</td>\n",
       "      <td>4</td>\n",
       "    </tr>\n",
       "  </tbody>\n",
       "</table>\n",
       "</div>"
      ],
      "text/plain": [
       "       country continent  year  lifeExp       pop   gdpPercap iso_alpha  \\\n",
       "0  Afghanistan      Asia  1952   28.801   8425333  779.445314       AFG   \n",
       "1  Afghanistan      Asia  1957   30.332   9240934  820.853030       AFG   \n",
       "2  Afghanistan      Asia  1962   31.997  10267083  853.100710       AFG   \n",
       "3  Afghanistan      Asia  1967   34.020  11537966  836.197138       AFG   \n",
       "4  Afghanistan      Asia  1972   36.088  13079460  739.981106       AFG   \n",
       "\n",
       "   iso_num  \n",
       "0        4  \n",
       "1        4  \n",
       "2        4  \n",
       "3        4  \n",
       "4        4  "
      ]
     },
     "execution_count": 3,
     "metadata": {},
     "output_type": "execute_result"
    }
   ],
   "source": [
    "import vizro.plotly.express as px\n",
    "df = px.data.gapminder()\n",
    "df.head()"
   ]
  },
  {
   "cell_type": "code",
   "execution_count": 4,
   "metadata": {},
   "outputs": [
    {
     "data": {
      "text/html": [
       "<div>\n",
       "<style scoped>\n",
       "    .dataframe tbody tr th:only-of-type {\n",
       "        vertical-align: middle;\n",
       "    }\n",
       "\n",
       "    .dataframe tbody tr th {\n",
       "        vertical-align: top;\n",
       "    }\n",
       "\n",
       "    .dataframe thead th {\n",
       "        text-align: right;\n",
       "    }\n",
       "</style>\n",
       "<table border=\"1\" class=\"dataframe\">\n",
       "  <thead>\n",
       "    <tr style=\"text-align: right;\">\n",
       "      <th></th>\n",
       "      <th>date</th>\n",
       "      <th>GOOG</th>\n",
       "      <th>AAPL</th>\n",
       "      <th>AMZN</th>\n",
       "      <th>FB</th>\n",
       "      <th>NFLX</th>\n",
       "      <th>MSFT</th>\n",
       "    </tr>\n",
       "  </thead>\n",
       "  <tbody>\n",
       "    <tr>\n",
       "      <th>0</th>\n",
       "      <td>2018-01-01</td>\n",
       "      <td>1.000000</td>\n",
       "      <td>1.000000</td>\n",
       "      <td>1.000000</td>\n",
       "      <td>1.000000</td>\n",
       "      <td>1.000000</td>\n",
       "      <td>1.000000</td>\n",
       "    </tr>\n",
       "    <tr>\n",
       "      <th>1</th>\n",
       "      <td>2018-01-08</td>\n",
       "      <td>1.018172</td>\n",
       "      <td>1.011943</td>\n",
       "      <td>1.061881</td>\n",
       "      <td>0.959968</td>\n",
       "      <td>1.053526</td>\n",
       "      <td>1.015988</td>\n",
       "    </tr>\n",
       "    <tr>\n",
       "      <th>2</th>\n",
       "      <td>2018-01-15</td>\n",
       "      <td>1.032008</td>\n",
       "      <td>1.019771</td>\n",
       "      <td>1.053240</td>\n",
       "      <td>0.970243</td>\n",
       "      <td>1.049860</td>\n",
       "      <td>1.020524</td>\n",
       "    </tr>\n",
       "    <tr>\n",
       "      <th>3</th>\n",
       "      <td>2018-01-22</td>\n",
       "      <td>1.066783</td>\n",
       "      <td>0.980057</td>\n",
       "      <td>1.140676</td>\n",
       "      <td>1.016858</td>\n",
       "      <td>1.307681</td>\n",
       "      <td>1.066561</td>\n",
       "    </tr>\n",
       "    <tr>\n",
       "      <th>4</th>\n",
       "      <td>2018-01-29</td>\n",
       "      <td>1.008773</td>\n",
       "      <td>0.917143</td>\n",
       "      <td>1.163374</td>\n",
       "      <td>1.018357</td>\n",
       "      <td>1.273537</td>\n",
       "      <td>1.040708</td>\n",
       "    </tr>\n",
       "  </tbody>\n",
       "</table>\n",
       "</div>"
      ],
      "text/plain": [
       "         date      GOOG      AAPL      AMZN        FB      NFLX      MSFT\n",
       "0  2018-01-01  1.000000  1.000000  1.000000  1.000000  1.000000  1.000000\n",
       "1  2018-01-08  1.018172  1.011943  1.061881  0.959968  1.053526  1.015988\n",
       "2  2018-01-15  1.032008  1.019771  1.053240  0.970243  1.049860  1.020524\n",
       "3  2018-01-22  1.066783  0.980057  1.140676  1.016858  1.307681  1.066561\n",
       "4  2018-01-29  1.008773  0.917143  1.163374  1.018357  1.273537  1.040708"
      ]
     },
     "execution_count": 4,
     "metadata": {},
     "output_type": "execute_result"
    }
   ],
   "source": [
    "df_stocks = px.data.stocks()\n",
    "df_stocks.head()"
   ]
  },
  {
   "cell_type": "code",
   "execution_count": 5,
   "metadata": {},
   "outputs": [],
   "source": [
    "user_question = \"\"\"\n",
    "I need a page with a bar chart showing the population per continent \n",
    "and a scatter chart showing the life expectency per country as a function gdp. \n",
    "Make a filter on the country column and use a dropdown as selector. This filter should only \n",
    "apply to the bar chart. The bar chart should be a stacked bar chart, while \n",
    "the scatter chart should be colored by the column 'continent'. Make another filter \n",
    "that filters the GDP column, and it only applies to the scatter chart. I also want \n",
    "a table that shows the data. The title of the page should be: `This is big time data`. I also want a second page with two \n",
    "cards on it. One should be a card saying: `This was the jolly data dashboard, it was created in Vizro which is amazing` \n",
    ", and the second card should refer to the \n",
    " documentation and link to `https://vizro.readthedocs.io/`. The title of the dashboard should be: `My wonderful \n",
    "jolly dashboard showing a lot of info`.\n",
    "\"\"\""
   ]
  },
  {
   "cell_type": "code",
   "execution_count": 6,
   "metadata": {},
   "outputs": [],
   "source": [
    "# vizro_ai.dashboard([df], user_question)"
   ]
  },
  {
   "cell_type": "code",
   "execution_count": 7,
   "metadata": {},
   "outputs": [],
   "source": [
    "user_question_two_datasets = \"\"\"\n",
    "I need a page with a bar chart showing the population per continent \n",
    "and a scatter chart showing the life expectency per country as a function gdp. \n",
    "Make a filter on the country column and use a dropdown as selector. This filter should only \n",
    "apply to the bar chart. The bar chart should be a stacked bar chart, while \n",
    "the scatter chart should be colored by the column 'continent'. Make another filter \n",
    "that filters the GDP column, and it only applies to the scatter chart.\n",
    "I also want a second page with a line chart, showing the price trend of stock named `GOOG`.\n",
    "\"\"\""
   ]
  },
  {
   "cell_type": "code",
   "execution_count": 8,
   "metadata": {},
   "outputs": [
    {
     "name": "stdout",
     "output_type": "stream",
     "text": [
      "Dashboard code snippet\n"
     ]
    },
    {
     "name": "stderr",
     "output_type": "stream",
     "text": [
      "INFO:httpx:HTTP Request: POST https://openai.prod.ai-gateway.quantumblack.com/48a8a81a-92b0-4a26-b761-e4563fa8a3a2/v1/chat/completions \"HTTP/1.1 200 OK\"\n"
     ]
    },
    {
     "data": {
      "text/plain": [
       "{'messages': [('user',\n",
       "   [          country continent  year  lifeExp       pop   gdpPercap iso_alpha  \\\n",
       "    0     Afghanistan      Asia  1952   28.801   8425333  779.445314       AFG   \n",
       "    1     Afghanistan      Asia  1957   30.332   9240934  820.853030       AFG   \n",
       "    2     Afghanistan      Asia  1962   31.997  10267083  853.100710       AFG   \n",
       "    3     Afghanistan      Asia  1967   34.020  11537966  836.197138       AFG   \n",
       "    4     Afghanistan      Asia  1972   36.088  13079460  739.981106       AFG   \n",
       "    ...           ...       ...   ...      ...       ...         ...       ...   \n",
       "    1699     Zimbabwe    Africa  1987   62.351   9216418  706.157306       ZWE   \n",
       "    1700     Zimbabwe    Africa  1992   60.377  10704340  693.420786       ZWE   \n",
       "    1701     Zimbabwe    Africa  1997   46.809  11404948  792.449960       ZWE   \n",
       "    1702     Zimbabwe    Africa  2002   39.989  11926563  672.038623       ZWE   \n",
       "    1703     Zimbabwe    Africa  2007   43.487  12311143  469.709298       ZWE   \n",
       "    \n",
       "          iso_num  \n",
       "    0           4  \n",
       "    1           4  \n",
       "    2           4  \n",
       "    3           4  \n",
       "    4           4  \n",
       "    ...       ...  \n",
       "    1699      716  \n",
       "    1700      716  \n",
       "    1701      716  \n",
       "    1702      716  \n",
       "    1703      716  \n",
       "    \n",
       "    [1704 rows x 8 columns],\n",
       "               date      GOOG      AAPL      AMZN        FB      NFLX      MSFT\n",
       "    0    2018-01-01  1.000000  1.000000  1.000000  1.000000  1.000000  1.000000\n",
       "    1    2018-01-08  1.018172  1.011943  1.061881  0.959968  1.053526  1.015988\n",
       "    2    2018-01-15  1.032008  1.019771  1.053240  0.970243  1.049860  1.020524\n",
       "    3    2018-01-22  1.066783  0.980057  1.140676  1.016858  1.307681  1.066561\n",
       "    4    2018-01-29  1.008773  0.917143  1.163374  1.018357  1.273537  1.040708\n",
       "    ..          ...       ...       ...       ...       ...       ...       ...\n",
       "    100  2019-12-02  1.216280  1.546914  1.425061  1.075997  1.463641  1.720717\n",
       "    101  2019-12-09  1.222821  1.572286  1.432660  1.038855  1.421496  1.752239\n",
       "    102  2019-12-16  1.224418  1.596800  1.453455  1.104094  1.604362  1.784896\n",
       "    103  2019-12-23  1.226504  1.656000  1.521226  1.113728  1.567170  1.802472\n",
       "    104  2019-12-30  1.213014  1.678000  1.503360  1.098475  1.540883  1.788185\n",
       "    \n",
       "    [105 rows x 7 columns]]),\n",
       "  ('user',\n",
       "   \"\\nI need a page with a bar chart showing the population per continent \\nand a scatter chart showing the life expectency per country as a function gdp. \\nMake a filter on the country column and use a dropdown as selector. This filter should only \\napply to the bar chart. The bar chart should be a stacked bar chart, while \\nthe scatter chart should be colored by the column 'continent'. Make another filter \\nthat filters the GDP column, and it only applies to the scatter chart.\\nI also want a second page with a line chart, showing the price trend of stock named `GOOG`.\\n\"),\n",
       "  ('assistant',\n",
       "   FullDataSummary(full_data_summary=[DataSummary(dataset_provided='Gapminder Dataset', data_sample='|    | country     | continent   |   year |   lifeExp |      pop |   gdpPercap | iso_alpha   |   iso_num |\\n|---:|:------------|:------------|-------:|----------:|---------:|------------:|:------------|----------:|\\n|  0 | Afghanistan | Asia        |   1952 |    28.801 |  8425333 |     779.445 | AFG         |         4 |\\n|  1 | Afghanistan | Asia        |   1957 |    30.332 |  9240934 |     820.853 | AFG         |         4 |\\n|  2 | Afghanistan | Asia        |   1962 |    31.997 | 10267083 |     853.101 | AFG         |         4 |\\n|  3 | Afghanistan | Asia        |   1967 |    34.02  | 11537966 |     836.197 | AFG         |         4 |\\n|  4 | Afghanistan | Asia        |   1972 |    36.088 | 13079460 |     739.981 | AFG         |         4 |', data_schema='country: object\\ncontinent: object\\nyear: int64\\nlifeExp: float64\\npop: int64\\ngdpPercap: float64\\niso_alpha: object\\niso_num: int64', dataset_vizro_model_mapping='Gapminder Dataset: Graph, Filter'), DataSummary(dataset_provided='Stock Prices Dataset', data_sample='|    | date       |    GOOG |     AAPL |    AMZN |       FB |    NFLX |    MSFT |\\n|---:|:-----------|--------:|---------:|--------:|---------:|--------:|--------:|\\n|  0 | 2018-01-01 | 1       | 1        | 1       | 1        | 1       | 1       |\\n|  1 | 2018-01-08 | 1.01817 | 1.01194  | 1.06188 | 0.959968 | 1.05353 | 1.01599 |\\n|  2 | 2018-01-15 | 1.03201 | 1.01977  | 1.05324 | 0.970243 | 1.04986 | 1.02052 |\\n|  3 | 2018-01-22 | 1.06678 | 0.980057 | 1.14068 | 1.01686  | 1.30768 | 1.06656 |\\n|  4 | 2018-01-29 | 1.00877 | 0.917143 | 1.16337 | 1.01836  | 1.27354 | 1.04071 |', data_schema='date: object\\nGOOG: float64\\nAAPL: float64\\nAMZN: float64\\nFB: float64\\nNFLX: float64\\nMSFT: float64', dataset_vizro_model_mapping='Stock Prices Dataset: Graph, Filter')]))]}"
      ]
     },
     "execution_count": 8,
     "metadata": {},
     "output_type": "execute_result"
    }
   ],
   "source": [
    "vizro_ai.dashboard([df, df_stocks], user_question_two_datasets)"
   ]
  },
  {
   "cell_type": "code",
   "execution_count": null,
   "metadata": {},
   "outputs": [],
   "source": []
  }
 ],
 "metadata": {
  "kernelspec": {
   "display_name": "Python 3 (ipykernel)",
   "language": "python",
   "name": "python3"
  },
  "language_info": {
   "codemirror_mode": {
    "name": "ipython",
    "version": 3
   },
   "file_extension": ".py",
   "mimetype": "text/x-python",
   "name": "python",
   "nbconvert_exporter": "python",
   "pygments_lexer": "ipython3",
   "version": "3.9.7"
  }
 },
 "nbformat": 4,
 "nbformat_minor": 4
}
