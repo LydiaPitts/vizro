{
 "cells": [
  {
   "cell_type": "code",
   "id": "5999ceb3-7621-4121-85a2-a9766c593807",
   "metadata": {
    "ExecuteTime": {
     "end_time": "2024-05-06T12:26:25.031535Z",
     "start_time": "2024-05-06T12:26:25.015488Z"
    }
   },
   "source": [
    "from dotenv import load_dotenv\n",
    "\n",
    "load_dotenv()"
   ],
   "outputs": [
    {
     "data": {
      "text/plain": [
       "True"
      ]
     },
     "execution_count": 1,
     "metadata": {},
     "output_type": "execute_result"
    }
   ],
   "execution_count": 1
  },
  {
   "cell_type": "code",
   "id": "b01f919b3ebae3a5",
   "metadata": {
    "ExecuteTime": {
     "end_time": "2024-05-06T12:26:25.806549Z",
     "start_time": "2024-05-06T12:26:25.803065Z"
    }
   },
   "source": [
    "import sys\n",
    "\n",
    "sys.path.append('./dashboard')"
   ],
   "outputs": [],
   "execution_count": 2
  },
  {
   "cell_type": "code",
   "id": "8ef5d1e2-6246-4771-85bf-890c343e5fa2",
   "metadata": {
    "ExecuteTime": {
     "end_time": "2024-05-06T12:26:27.899440Z",
     "start_time": "2024-05-06T12:26:26.044868Z"
    }
   },
   "source": [
    "from typing import List, Union, Literal, TypedDict, Optional\n",
    "import os\n",
    "\n",
    "from langchain.output_parsers import PydanticOutputParser\n",
    "from langchain_core.prompts import PromptTemplate\n",
    "from langchain_core.pydantic_v1 import BaseModel, Field, validator\n",
    "from langchain_openai import ChatOpenAI\n",
    "from langchain_core.exceptions import OutputParserException\n",
    "from langchain_anthropic import ChatAnthropic\n",
    "from langchain_community.callbacks import get_openai_callback"
   ],
   "outputs": [],
   "execution_count": 3
  },
  {
   "cell_type": "code",
   "id": "9573537f-dd35-4981-9bde-54842bdba020",
   "metadata": {
    "ExecuteTime": {
     "end_time": "2024-05-06T12:26:27.910189Z",
     "start_time": "2024-05-06T12:26:27.901774Z"
    }
   },
   "source": [
    "from pydantic import (\n",
    "    BaseModel,\n",
    "    ValidationError,\n",
    "    ValidationInfo,\n",
    "    field_validator,\n",
    ")\n",
    "from pydantic.v1 import BaseModel as BaseModelV1\n",
    "from pydantic.v1 import create_model, validator, ValidationError"
   ],
   "outputs": [],
   "execution_count": 4
  },
  {
   "cell_type": "code",
   "id": "1b21ea4a-979d-4099-bdd2-9fef98592042",
   "metadata": {
    "ExecuteTime": {
     "end_time": "2024-05-06T12:26:29.551829Z",
     "start_time": "2024-05-06T12:26:27.911452Z"
    }
   },
   "source": [
    "from dashboard.model import get_model\n",
    "from dashboard.plan import get_dashboard_plan"
   ],
   "outputs": [],
   "execution_count": 5
  },
  {
   "cell_type": "code",
   "id": "1f5c666a-3237-4a5e-9608-9eafe83b31a7",
   "metadata": {
    "ExecuteTime": {
     "end_time": "2024-05-06T12:26:29.619162Z",
     "start_time": "2024-05-06T12:26:29.554516Z"
    }
   },
   "source": [
    "import vizro.plotly.express as px\n",
    "import vizro.models as vm\n",
    "from vizro import Vizro\n",
    "import pandas as pd\n",
    "from functools import partial\n",
    "from vizro_ai import VizroAI"
   ],
   "outputs": [],
   "execution_count": 6
  },
  {
   "metadata": {
    "ExecuteTime": {
     "end_time": "2024-05-06T12:26:29.721186Z",
     "start_time": "2024-05-06T12:26:29.620622Z"
    }
   },
   "cell_type": "code",
   "source": "from tqdm.notebook import trange, tqdm_notebook",
   "id": "3508594e1359fe6b",
   "outputs": [],
   "execution_count": 7
  },
  {
   "cell_type": "markdown",
   "id": "92a78d36-4884-41e1-86d7-bd42c5551cf1",
   "metadata": {},
   "source": [
    "## OpenAI"
   ]
  },
  {
   "cell_type": "code",
   "id": "04352436-ccb7-4d06-becb-b177acdbdfac",
   "metadata": {
    "ExecuteTime": {
     "end_time": "2024-05-06T12:26:33.984927Z",
     "start_time": "2024-05-06T12:26:33.019301Z"
    }
   },
   "source": [
    "import os\n",
    "from openai import OpenAI\n",
    "\n",
    "client = OpenAI(\n",
    "    # This is the default and can be omitted\n",
    "    api_key=os.environ.get(\"OPENAI_API_KEY\"),\n",
    ")\n",
    "\n",
    "chat_completion = client.chat.completions.create(\n",
    "    messages=[\n",
    "        {\n",
    "            \"role\": \"user\",\n",
    "            \"content\": \"Say this is a test\",\n",
    "        }\n",
    "    ],\n",
    "    model=\"gpt-3.5-turbo\",\n",
    ")"
   ],
   "outputs": [],
   "execution_count": 8
  },
  {
   "cell_type": "markdown",
   "id": "508dc5aa-ddf2-4601-a2c5-7c3cc434e057",
   "metadata": {},
   "source": [
    "## Anthropic"
   ]
  },
  {
   "cell_type": "code",
   "id": "b46dbaeb-deff-45fe-b77b-c41945c87d21",
   "metadata": {
    "ExecuteTime": {
     "end_time": "2024-05-06T12:27:04.411485Z",
     "start_time": "2024-05-06T12:27:00.969124Z"
    }
   },
   "source": [
    "import os\n",
    "from anthropic import Anthropic\n",
    "\n",
    "client = Anthropic(\n",
    "    # This is the default and can be omitted\n",
    "    api_key=os.environ.get(\"ANTHROPIC_API_KEY\"),\n",
    "    base_url=os.environ.get(\"ANTHROPIC_API_BASE\")\n",
    ")\n",
    "\n",
    "message = client.messages.create(\n",
    "    max_tokens=1024,\n",
    "    messages=[\n",
    "        {\n",
    "            \"role\": \"user\",\n",
    "            \"content\": \"Hello, Claude\",\n",
    "        }\n",
    "    ],\n",
    "    model=\"claude-3-opus-20240229\",\n",
    ")\n",
    "print(message.content)"
   ],
   "outputs": [
    {
     "name": "stdout",
     "output_type": "stream",
     "text": [
      "[TextBlock(text=\"Hello! It's nice to meet you. How can I assist you today?\", type='text')]\n"
     ]
    }
   ],
   "execution_count": 10
  },
  {
   "cell_type": "markdown",
   "id": "07af86ed-73fa-44e6-8b16-368f24a9887c",
   "metadata": {},
   "source": [
    "## Choose model"
   ]
  },
  {
   "cell_type": "code",
   "id": "0295ba8a-0afb-48ff-bad4-3a929fdc7492",
   "metadata": {
    "ExecuteTime": {
     "end_time": "2024-05-06T10:01:15.506236Z",
     "start_time": "2024-05-06T10:01:15.454883Z"
    }
   },
   "source": [
    "model = ChatOpenAI(model=\"gpt-4-turbo\", temperature=0)\n",
    "\n",
    "# model = ChatAnthropic(\n",
    "#     model='claude-3-opus-20240229',\n",
    "#     anthropic_api_key=os.environ.get(\"ANTHROPIC_API_KEY\"),\n",
    "#     anthropic_api_url=os.environ.get(\"ANTHROPIC_BASE_URL\")\n",
    "# )"
   ],
   "outputs": [],
   "execution_count": 10
  },
  {
   "metadata": {
    "ExecuteTime": {
     "end_time": "2024-05-06T10:01:15.511371Z",
     "start_time": "2024-05-06T10:01:15.507525Z"
    }
   },
   "cell_type": "code",
   "source": "fig_builder = VizroAI(model=model)",
   "id": "f48c2433f943d764",
   "outputs": [],
   "execution_count": 11
  },
  {
   "cell_type": "markdown",
   "id": "584c4346e500300d",
   "metadata": {},
   "source": [
    "## Starting to construct a page"
   ]
  },
  {
   "cell_type": "code",
   "id": "f549c09f8ba7b125",
   "metadata": {
    "ExecuteTime": {
     "end_time": "2024-05-06T10:01:15.520339Z",
     "start_time": "2024-05-06T10:01:15.513266Z"
    }
   },
   "source": [
    "query = (\"I need a page with a bar chart shoing the population per continent \"\n",
    "         \"and a scatter chart showing the life expectency per country as a function gdp. \"\n",
    "         \"Make a filter on the GDP column and use a dropdown as selector. This filter should only \"\n",
    "         \"apply to the bar chart. The bar chart should be a stacked bar chart, while \"\n",
    "         \"the scatter chart should be colored by the column 'continent'. I also want \"\n",
    "         \"a table that shows the data. The title of the page should be: `This is big time data`. I also want a second page with just \"\n",
    "         \"a card on it that links to `https://vizro.readthedocs.io/`. The title of the dashboard should be: `My wonderful \"\n",
    "         \"jolly dashboard showing a lot of data`.\")"
   ],
   "outputs": [],
   "execution_count": 12
  },
  {
   "cell_type": "code",
   "id": "29422c6e-8c31-4d47-9b51-4353ecf54640",
   "metadata": {
    "ExecuteTime": {
     "end_time": "2024-05-06T10:01:15.534589Z",
     "start_time": "2024-05-06T10:01:15.521832Z"
    }
   },
   "source": [
    "df = px.data.gapminder()"
   ],
   "outputs": [],
   "execution_count": 13
  },
  {
   "cell_type": "code",
   "id": "f3b5c3fea03eb300",
   "metadata": {
    "ExecuteTime": {
     "end_time": "2024-05-06T10:01:35.263768Z",
     "start_time": "2024-05-06T10:01:15.536214Z"
    }
   },
   "source": [
    "dashboard_plan = get_dashboard_plan(query, model)"
   ],
   "outputs": [],
   "execution_count": 14
  },
  {
   "metadata": {
    "ExecuteTime": {
     "end_time": "2024-05-06T10:01:35.270807Z",
     "start_time": "2024-05-06T10:01:35.265315Z"
    }
   },
   "cell_type": "code",
   "source": "dashboard_plan",
   "id": "a21c14e0f737ac0a",
   "outputs": [
    {
     "data": {
      "text/plain": [
       "DashboardPlanner(title='My wonderful jolly dashboard showing a lot of data', pages=[PagePlanner(title='This is big time data', components=Components(components=[Component(component_name='Graph', component_description='A stacked bar chart showing the population per continent.', component_id='population_bar_chart'), Component(component_name='Graph', component_description='A scatter chart showing life expectancy per country as a function of GDP, colored by continent.', component_id='life_expectancy_scatter_chart'), Component(component_name='AgGrid', component_description='A table displaying the data used in the charts.', component_id='data_table')]), controls=Controls(controls=[Control(control_name='Filter', control_description='A dropdown selector to filter data based on GDP values, applicable only to the bar chart.')])), PagePlanner(title='Documentation Link', components=Components(components=[Component(component_name='Card', component_description='A card linking to the Vizro documentation.', component_id='vizro_link_card')]), controls=Controls(controls=[]))])"
      ]
     },
     "execution_count": 15,
     "metadata": {},
     "output_type": "execute_result"
    }
   ],
   "execution_count": 15
  },
  {
   "cell_type": "code",
   "id": "fdeae1f3-31b7-4df5-b43b-fc13933cdbc3",
   "metadata": {
    "ExecuteTime": {
     "end_time": "2024-05-06T10:01:35.278089Z",
     "start_time": "2024-05-06T10:01:35.272347Z"
    }
   },
   "source": [
    "for i, page in enumerate(dashboard_plan.pages):\n",
    "    print(f\"-----> Page: {page.title}\")\n",
    "    print(\"----Components----\")\n",
    "    for j in page.components.components:\n",
    "        print(repr(j))\n",
    "    # available_components = [comp.component_id for comp in dashboard_plan.pages[0].components.components]\n",
    "    print(\"----Controls----\")\n",
    "    for j in page.controls.controls:\n",
    "        print(repr(j))\n",
    "    print(\"============================\")\n"
   ],
   "outputs": [
    {
     "name": "stdout",
     "output_type": "stream",
     "text": [
      "-----> Page: This is big time data\n",
      "----Components----\n",
      "Component(component_name='Graph', component_description='A stacked bar chart showing the population per continent.', component_id='population_bar_chart')\n",
      "Component(component_name='Graph', component_description='A scatter chart showing life expectancy per country as a function of GDP, colored by continent.', component_id='life_expectancy_scatter_chart')\n",
      "Component(component_name='AgGrid', component_description='A table displaying the data used in the charts.', component_id='data_table')\n",
      "----Controls----\n",
      "Control(control_name='Filter', control_description='A dropdown selector to filter data based on GDP values, applicable only to the bar chart.')\n",
      "============================\n",
      "-----> Page: Documentation Link\n",
      "----Components----\n",
      "Component(component_name='Card', component_description='A card linking to the Vizro documentation.', component_id='vizro_link_card')\n",
      "----Controls----\n",
      "============================\n"
     ]
    }
   ],
   "execution_count": 16
  },
  {
   "metadata": {
    "ExecuteTime": {
     "end_time": "2024-05-06T10:01:35.282143Z",
     "start_time": "2024-05-06T10:01:35.279600Z"
    }
   },
   "cell_type": "code",
   "source": "# vm.Graph(id = \"population_bar_chart\",figure=px.bar(df,x = \"country\"))",
   "id": "541529dd071cee0f",
   "outputs": [],
   "execution_count": 17
  },
  {
   "metadata": {
    "ExecuteTime": {
     "end_time": "2024-05-06T10:01:35.287346Z",
     "start_time": "2024-05-06T10:01:35.284883Z"
    }
   },
   "cell_type": "code",
   "source": "",
   "id": "633a85f8a02990fc",
   "outputs": [],
   "execution_count": 17
  },
  {
   "cell_type": "code",
   "id": "a479cdecb65b7979",
   "metadata": {
    "ExecuteTime": {
     "end_time": "2024-05-06T10:01:35.298572Z",
     "start_time": "2024-05-06T10:01:35.289137Z"
    }
   },
   "source": [
    "class PageBuilder:\n",
    "    def __init__(self, model, data, page_plan, fig_builder):\n",
    "        self._model = model\n",
    "        self._data = data\n",
    "        self._page_plan = page_plan\n",
    "        self._fig_builder = fig_builder\n",
    "        self._components = None\n",
    "        self._controls = None\n",
    "        self._page = None\n",
    "\n",
    "    @property\n",
    "    def components(self):\n",
    "        if self._components is None:\n",
    "            self._components = self._build_components()\n",
    "        return self._components\n",
    "\n",
    "    def _build_components(self):\n",
    "        components = []\n",
    "        for i in trange(len(self._page_plan.components.components),\n",
    "                        desc=f\"Building components of page: {self._page_plan.title}\"):\n",
    "            components.append(\n",
    "                self._page_plan.components.components[i].create(fig_builder=self._fig_builder, df=self._data,\n",
    "                                                                model=model))\n",
    "        return components\n",
    "\n",
    "    @property\n",
    "    def controls(self):\n",
    "        if self._controls is None:\n",
    "            self._controls = self._build_controls()\n",
    "        return self._controls\n",
    "\n",
    "    @property\n",
    "    def available_components(self):\n",
    "        return [comp.id for comp in self.components if comp is not None]\n",
    "\n",
    "    def _build_controls(self):\n",
    "        controls = []\n",
    "        for i in trange(len(self._page_plan.controls.controls),\n",
    "                        desc=f\"Building controls of page: {self._page_plan.title}\"):\n",
    "            controls.append(self._page_plan.controls.controls[i].create(df=self._data, model=self._model,\n",
    "                                                                        available_components=self.available_components))\n",
    "        return controls\n",
    "\n",
    "    @property\n",
    "    def page(self):\n",
    "        if self._page is None:\n",
    "            self._page = vm.Page(\n",
    "                title=self._page_plan.title,\n",
    "                components=self.components,\n",
    "                controls=self.controls\n",
    "            )\n",
    "        return self._page\n",
    "\n"
   ],
   "outputs": [],
   "execution_count": 18
  },
  {
   "metadata": {
    "ExecuteTime": {
     "end_time": "2024-05-06T10:01:35.307255Z",
     "start_time": "2024-05-06T10:01:35.300149Z"
    }
   },
   "cell_type": "code",
   "source": [
    "class DashboardBuilder:\n",
    "    def __init__(self, model, data, dashboard_plan, fig_builder):\n",
    "        self._model = model\n",
    "        self._data = data\n",
    "        self._dashboard_plan = dashboard_plan\n",
    "        self._fig_builder = fig_builder\n",
    "        self._pages = None\n",
    "\n",
    "    @property\n",
    "    def pages(self):\n",
    "        if self._pages is None:\n",
    "            self._pages = self._build_pages()\n",
    "        return self._pages\n",
    "\n",
    "    def _build_pages(self):\n",
    "        pages = []\n",
    "        for i in trange(len(self._dashboard_plan.pages), desc=\"Building pages\"):\n",
    "            pages.append(PageBuilder(model=self._model, data=self._data, page_plan=self._dashboard_plan.pages[i],\n",
    "                                     fig_builder=self._fig_builder).page)\n",
    "        return pages\n",
    "\n",
    "    @property\n",
    "    def dashboard(self):\n",
    "        return vm.Dashboard(title = dashboard_plan.title, pages=self.pages)"
   ],
   "id": "b8837295b7503b54",
   "outputs": [],
   "execution_count": 19
  },
  {
   "metadata": {
    "ExecuteTime": {
     "end_time": "2024-05-06T10:02:42.404114Z",
     "start_time": "2024-05-06T10:01:35.309948Z"
    }
   },
   "cell_type": "code",
   "source": "dashboard = DashboardBuilder(model=model, data=df, dashboard_plan=dashboard_plan, fig_builder=fig_builder).dashboard",
   "id": "90a0d49040a5b3ca",
   "outputs": [
    {
     "data": {
      "text/plain": [
       "Building pages:   0%|          | 0/2 [00:00<?, ?it/s]"
      ],
      "application/vnd.jupyter.widget-view+json": {
       "version_major": 2,
       "version_minor": 0,
       "model_id": "89d0b83644b245bfb55e687e2d9205f9"
      }
     },
     "metadata": {},
     "output_type": "display_data"
    },
    {
     "data": {
      "text/plain": [
       "Building components of page: This is big time data:   0%|          | 0/3 [00:00<?, ?it/s]"
      ],
      "application/vnd.jupyter.widget-view+json": {
       "version_major": 2,
       "version_minor": 0,
       "model_id": "faf8f9d7acd843f1a81c07ba1e563a89"
      }
     },
     "metadata": {},
     "output_type": "display_data"
    },
    {
     "data": {
      "text/plain": [
       "Building controls of page: This is big time data:   0%|          | 0/1 [00:00<?, ?it/s]"
      ],
      "application/vnd.jupyter.widget-view+json": {
       "version_major": 2,
       "version_minor": 0,
       "model_id": "603794f14ac0493eb7d7e590f422587d"
      }
     },
     "metadata": {},
     "output_type": "display_data"
    },
    {
     "name": "stderr",
     "output_type": "stream",
     "text": [
      "/Users/Maximilian_Schulz/Library/Application Support/hatch/env/virtual/vizro-ai/fZiNbsWT/vizro-ai/lib/python3.9/site-packages/pydantic/v1/schema.py:631: UserWarning:\n",
      "\n",
      "CapturedCallable function is excluded from the schema.\n",
      "\n"
     ]
    },
    {
     "data": {
      "text/plain": [
       "Building components of page: Documentation Link:   0%|          | 0/1 [00:00<?, ?it/s]"
      ],
      "application/vnd.jupyter.widget-view+json": {
       "version_major": 2,
       "version_minor": 0,
       "model_id": "1f27e0d740904a0e9c3ded247266532c"
      }
     },
     "metadata": {},
     "output_type": "display_data"
    },
    {
     "data": {
      "text/plain": [
       "Building controls of page: Documentation Link: 0it [00:00, ?it/s]"
      ],
      "application/vnd.jupyter.widget-view+json": {
       "version_major": 2,
       "version_minor": 0,
       "model_id": "802be5e478fd48c9b1493f35ea0b115a"
      }
     },
     "metadata": {},
     "output_type": "display_data"
    }
   ],
   "execution_count": 20
  },
  {
   "metadata": {
    "ExecuteTime": {
     "end_time": "2024-05-06T10:02:43.065537Z",
     "start_time": "2024-05-06T10:02:42.405915Z"
    }
   },
   "cell_type": "code",
   "source": "Vizro().build(dashboard).run()",
   "id": "f4c49b470c0a06ed",
   "outputs": [
    {
     "data": {
      "text/plain": [
       "<IPython.lib.display.IFrame at 0x7fdec0e07370>"
      ],
      "text/html": [
       "\n",
       "        <iframe\n",
       "            width=\"100%\"\n",
       "            height=\"650\"\n",
       "            src=\"http://127.0.0.1:8050/\"\n",
       "            frameborder=\"0\"\n",
       "            allowfullscreen\n",
       "            \n",
       "        ></iframe>\n",
       "        "
      ]
     },
     "metadata": {},
     "output_type": "display_data"
    }
   ],
   "execution_count": 21
  },
  {
   "metadata": {
    "ExecuteTime": {
     "end_time": "2024-05-06T10:02:43.070708Z",
     "start_time": "2024-05-06T10:02:43.067047Z"
    }
   },
   "cell_type": "code",
   "source": "",
   "id": "51da561540ac11e0",
   "outputs": [],
   "execution_count": 21
  }
 ],
 "metadata": {
  "kernelspec": {
   "display_name": "Python 3 (ipykernel)",
   "language": "python",
   "name": "python3"
  },
  "language_info": {
   "codemirror_mode": {
    "name": "ipython",
    "version": 3
   },
   "file_extension": ".py",
   "mimetype": "text/x-python",
   "name": "python",
   "nbconvert_exporter": "python",
   "pygments_lexer": "ipython3",
   "version": "3.9.12"
  }
 },
 "nbformat": 4,
 "nbformat_minor": 5
}
