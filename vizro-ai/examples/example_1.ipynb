{
 "cells": [
  {
   "cell_type": "markdown",
   "metadata": {},
   "source": [
    "### Imports"
   ]
  },
  {
   "cell_type": "code",
   "execution_count": null,
   "metadata": {},
   "outputs": [],
   "source": [
    "import warnings\n",
    "warnings.filterwarnings('ignore')"
   ]
  },
  {
   "cell_type": "code",
   "execution_count": null,
   "metadata": {
    "ExecuteTime": {
     "end_time": "2024-06-13T08:49:05.799894Z",
     "start_time": "2024-06-13T08:48:59.077335Z"
    },
    "collapsed": false,
    "jupyter": {
     "outputs_hidden": false
    }
   },
   "outputs": [],
   "source": [
    "import pandas as pd\n",
    "from dotenv import load_dotenv\n",
    "\n",
    "load_dotenv()\n",
    "import sys\n",
    "import os\n",
    "\n",
    "sys.path.append('./dashboard')"
   ]
  },
  {
   "cell_type": "code",
   "execution_count": null,
   "metadata": {
    "ExecuteTime": {
     "end_time": "2024-06-13T08:49:10.032875Z",
     "start_time": "2024-06-13T08:49:05.801691Z"
    }
   },
   "outputs": [],
   "source": [
    "import vizro.plotly.express as px"
   ]
  },
  {
   "cell_type": "code",
   "execution_count": null,
   "metadata": {
    "ExecuteTime": {
     "end_time": "2024-06-13T08:49:13.728640Z",
     "start_time": "2024-06-13T08:49:10.034502Z"
    }
   },
   "outputs": [],
   "source": [
    "from vizro_ai import VizroAI\n",
    "from vizro import Vizro\n",
    "from langchain_openai import ChatOpenAI\n",
    "from langchain_anthropic import ChatAnthropic"
   ]
  },
  {
   "cell_type": "code",
   "execution_count": null,
   "metadata": {
    "ExecuteTime": {
     "end_time": "2024-06-13T08:49:13.990460Z",
     "start_time": "2024-06-13T08:49:13.729533Z"
    }
   },
   "outputs": [],
   "source": [
    "from dashboard.vizro_ai_db import VizroAIDashboard"
   ]
  },
  {
   "cell_type": "code",
   "execution_count": null,
   "metadata": {
    "ExecuteTime": {
     "end_time": "2024-06-13T08:49:13.993193Z",
     "start_time": "2024-06-13T08:49:13.991335Z"
    }
   },
   "outputs": [],
   "source": [
    "import warnings\n",
    "warnings.filterwarnings('ignore')"
   ]
  },
  {
   "cell_type": "markdown",
   "metadata": {},
   "source": [
    "### Models"
   ]
  },
  {
   "cell_type": "code",
   "execution_count": null,
   "metadata": {
    "ExecuteTime": {
     "end_time": "2024-06-13T08:49:14.041092Z",
     "start_time": "2024-06-13T08:49:13.994047Z"
    },
    "collapsed": false,
    "jupyter": {
     "outputs_hidden": false
    }
   },
   "outputs": [],
   "source": [
    "model = ChatOpenAI(model=\"gpt-4-turbo\", temperature=0)\n",
    "\n",
    "# model = ChatAnthropic(\n",
    "#     model='claude-3-opus-20240229',\n",
    "#     anthropic_api_key=os.environ.get(\"ANTHROPIC_API_KEY\"),\n",
    "#     anthropic_api_url=os.environ.get(\"ANTHROPIC_API_BASE\")\n",
    "# )\n",
    "fig_builder = VizroAI(model=\"gpt-4-turbo\")"
   ]
  },
  {
   "cell_type": "markdown",
   "metadata": {},
   "source": [
    "### Query"
   ]
  },
  {
   "cell_type": "code",
   "execution_count": null,
   "metadata": {
    "ExecuteTime": {
     "end_time": "2024-06-13T08:49:15.341220Z",
     "start_time": "2024-06-13T08:49:15.338874Z"
    },
    "collapsed": false,
    "jupyter": {
     "outputs_hidden": false
    }
   },
   "outputs": [],
   "source": [
    "# df = px.data.gapminder()\n",
    "# query = (\"I need a page with a bar chart shoing the population per continent \"\n",
    "#          \"and a scatter chart showing the life expectency per country as a function gdp. \"\n",
    "#          \"Make a filter on the country column and use a dropdown as selector. This filter should only \"\n",
    "#          \"apply to the bar chart. The bar chart should be a stacked bar chart, while \"\n",
    "#          \"the scatter chart should be colored by the column 'continent'. Make another filter \"\n",
    "#          \"that filters the GDP column, and it only applies to the scatter chart. I also want \"\n",
    "#          \"a table that shows the data. The title of the page should be: `This is big time data`. I also want a second page with two \"\n",
    "#          \"cards on it. One should be a card saying: `This was the jolly data dashboard, it was created in Vizro which is amazing`\"\n",
    "#          \", and the second card should refer to the \"\n",
    "#          \" documentation and link to `https://vizro.readthedocs.io/`. The title of the dashboard should be: `My wonderful \"\n",
    "#          \"jolly dashboard showing a lot of data`.\")"
   ]
  },
  {
   "cell_type": "code",
   "execution_count": null,
   "metadata": {
    "ExecuteTime": {
     "end_time": "2024-06-13T08:49:15.569639Z",
     "start_time": "2024-06-13T08:49:15.561278Z"
    }
   },
   "outputs": [],
   "source": [
    "# df = px.data.tips()\n",
    "# query = (\n",
    "#     \"I want to create a Vizro style dashboard. I need One page. On this page, there are two charts. \"\n",
    "#     \"The first bar chart shows the average tip per day. The second chart shows the distribution of total bill. \"\n",
    "#     \"Add a checklist filter to filter on the time. Do not configure any actions. On this page, also add a card with \"\n",
    "#     \"text 'This page is using the tips dataset.' \")"
   ]
  },
  {
   "cell_type": "code",
   "execution_count": null,
   "metadata": {
    "ExecuteTime": {
     "end_time": "2024-06-13T08:29:35.400712Z",
     "start_time": "2024-06-13T08:29:35.398749Z"
    }
   },
   "outputs": [],
   "source": [
    "# df = px.data.tips()\n",
    "# query = (\n",
    "#     \"I want to create a Vizro style dashboard. I need three pages. On each page, there should be three cards saying the following text \"\n",
    "#     \"text 'This page is using the tips dataset.' \")"
   ]
  },
  {
   "cell_type": "code",
   "execution_count": null,
   "metadata": {
    "ExecuteTime": {
     "end_time": "2024-06-13T08:26:25.090043Z",
     "start_time": "2024-06-13T08:26:25.088492Z"
    }
   },
   "outputs": [],
   "source": [
    "df = px.data.iris()\n",
    "query = (\"I need a Vizro dashboard with a scatter chart coloured by the species, and a histogram showing the count of the sepal length, \"\n",
    "         \"also coloured by the species. Both charts should be have a filter that filters on the species, another one that filters on \"\n",
    "         \"the sepal length, and a third one that filters on the petal width.\")"
   ]
  },
  {
   "cell_type": "markdown",
   "metadata": {},
   "source": [
    "### Tool"
   ]
  },
  {
   "cell_type": "code",
   "execution_count": null,
   "metadata": {
    "ExecuteTime": {
     "end_time": "2024-06-13T08:52:23.187939Z",
     "start_time": "2024-06-13T08:49:47.616351Z"
    }
   },
   "outputs": [],
   "source": [
    "vizro_ai_dashboard = VizroAIDashboard(model, fig_builder)\n",
    "dashboard = vizro_ai_dashboard.build_dashboard(df, query)"
   ]
  },
  {
   "cell_type": "markdown",
   "metadata": {},
   "source": [
    "### Dashboard Render"
   ]
  },
  {
   "cell_type": "code",
   "execution_count": null,
   "metadata": {},
   "outputs": [],
   "source": [
    "Vizro().build(dashboard).run()"
   ]
  },
  {
   "cell_type": "code",
   "execution_count": null,
   "metadata": {},
   "outputs": [],
   "source": []
  }
 ],
 "metadata": {
  "kernelspec": {
   "display_name": "Python 3 (ipykernel)",
   "language": "python",
   "name": "python3"
  },
  "language_info": {
   "codemirror_mode": {
    "name": "ipython",
    "version": 3
   },
   "file_extension": ".py",
   "mimetype": "text/x-python",
   "name": "python",
   "nbconvert_exporter": "python",
   "pygments_lexer": "ipython3",
   "version": "3.12.3"
  }
 },
 "nbformat": 4,
 "nbformat_minor": 4
}
