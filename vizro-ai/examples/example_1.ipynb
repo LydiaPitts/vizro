{
 "cells": [
  {
   "cell_type": "markdown",
   "metadata": {
    "jp-MarkdownHeadingCollapsed": true
   },
   "source": [
    "### Imports"
   ]
  },
  {
   "cell_type": "code",
   "execution_count": 1,
   "metadata": {
    "ExecuteTime": {
     "end_time": "2024-05-07T13:29:31.230772Z",
     "start_time": "2024-05-07T13:29:31.227887Z"
    }
   },
   "outputs": [],
   "source": [
    "import warnings\n",
    "warnings.filterwarnings('ignore')"
   ]
  },
  {
   "cell_type": "code",
   "execution_count": 2,
   "metadata": {
    "collapsed": false,
    "jupyter": {
     "outputs_hidden": false
    }
   },
   "outputs": [],
   "source": [
    "import pandas as pd\n",
    "from dotenv import load_dotenv\n",
    "\n",
    "load_dotenv()\n",
    "import sys\n",
    "import os\n",
    "\n",
    "sys.path.append('./dashboard')"
   ]
  },
  {
   "cell_type": "code",
   "execution_count": 3,
   "metadata": {},
   "outputs": [],
   "source": [
    "import vizro.plotly.express as px"
   ]
  },
  {
   "cell_type": "code",
   "execution_count": 4,
   "metadata": {},
   "outputs": [],
   "source": [
    "from vizro_ai import VizroAI\n",
    "from vizro import Vizro\n",
    "from langchain_openai import ChatOpenAI\n",
    "from langchain_anthropic import ChatAnthropic"
   ]
  },
  {
   "cell_type": "code",
   "execution_count": 5,
   "metadata": {},
   "outputs": [],
   "source": [
    "from dashboard.vizro_ai_db import VizroAIDashboard"
   ]
  },
  {
   "cell_type": "markdown",
   "metadata": {},
   "source": [
    "### Models"
   ]
  },
  {
   "cell_type": "code",
   "execution_count": 6,
   "metadata": {
    "collapsed": false,
    "jupyter": {
     "outputs_hidden": false
    }
   },
   "outputs": [],
   "source": [
    "model = ChatOpenAI(model=\"gpt-4-turbo\", temperature=0)\n",
    "\n",
    "# model = ChatAnthropic(\n",
    "#     model='claude-3-opus-20240229',\n",
    "#     anthropic_api_key=os.environ.get(\"ANTHROPIC_API_KEY\"),\n",
    "#     anthropic_api_url=os.environ.get(\"ANTHROPIC_API_BASE\")\n",
    "# )\n",
    "fig_builder = VizroAI(model=\"gpt-4-turbo\")"
   ]
  },
  {
   "cell_type": "markdown",
   "metadata": {},
   "source": [
    "### Query"
   ]
  },
  {
   "cell_type": "code",
   "execution_count": 7,
   "metadata": {
    "collapsed": false,
    "jupyter": {
     "outputs_hidden": false
    }
   },
   "outputs": [],
   "source": [
    "# df = px.data.gapminder()\n",
    "# query = (\"I need a page with a bar chart shoing the population per continent \"\n",
    "#          \"and a scatter chart showing the life expectency per country as a function gdp. \"\n",
    "#          \"Make a filter on the country column and use a dropdown as selector. This filter should only \"\n",
    "#          \"apply to the bar chart. The bar chart should be a stacked bar chart, while \"\n",
    "#          \"the scatter chart should be colored by the column 'continent'. Make another filter \"\n",
    "#          \"that filters the GDP column, and it only applies to the scatter chart. I also want \"\n",
    "#          \"a table that shows the data. The title of the page should be: `This is big time data`. I also want a second page with two \"\n",
    "#          \"cards on it. One should be a card saying: `This was the jolly data dashboard, it was created in Vizro which is amazing`\"\n",
    "#          \", and the second card should refer to the \"\n",
    "#          \" documentation and link to `https://vizro.readthedocs.io/`. The title of the dashboard should be: `My wonderful \"\n",
    "#          \"jolly dashboard showing a lot of data`.\")"
   ]
  },
  {
   "cell_type": "code",
   "execution_count": 8,
   "metadata": {},
   "outputs": [],
   "source": [
    "# df = px.data.tips()\n",
    "# query = (\n",
    "#     \"I want to create a Vizro style dashboard. I need One page. On this page, there are two charts. \"\n",
    "#     \"The first bar chart shows the average tip per day. The second chart shows the distribution of total bill. \"\n",
    "#     \"Add a checklist filter to filter on the time. Do not configure any actions. On this page, also add a card with \"\n",
    "#     \"text 'This page is using the tips dataset.' \")"
   ]
  },
  {
   "cell_type": "code",
   "execution_count": 9,
   "metadata": {},
   "outputs": [],
   "source": [
    "df = px.data.tips()\n",
    "query = (\n",
    "    \"I want to create a Vizro style dashboard. I need three pages. On each page, there should be three cards saying the following text \"\n",
    "    \"text 'This page is using the tips dataset.' \")"
   ]
  },
  {
   "cell_type": "markdown",
   "metadata": {},
   "source": [
    "### Tool"
   ]
  },
  {
   "cell_type": "code",
   "execution_count": 10,
   "metadata": {},
   "outputs": [
    {
     "name": "stdout",
     "output_type": "stream",
     "text": [
      "🤔🤔🤔 Trying to make sense of your gibberish.... 🤔🤔🤔 \n",
      "\n",
      "💡💡💡 I think I got you! Here is the plan.... 💡💡💡 \n",
      "\n",
      "📄📄 \u001b[1m PAGE: Page 1 \u001b[0m📄📄 \n",
      "📦📦📦📦  COMPONENTS 📦📦📦📦\n",
      "--> Component(component_name='Card', component_description='This page is using the tips dataset.', component_id='tips_card')\n",
      "--> Component(component_name='Card', component_description='This page is using the tips dataset.', component_id='tips_card')\n",
      "--> Component(component_name='Card', component_description='This page is using the tips dataset.', component_id='tips_card')\n",
      "🎛️🎛️🎛️🎛️  CONTROLS 🎛️🎛️🎛️🎛️\n",
      "\n",
      "\n",
      "📄📄 \u001b[1m PAGE: Page 2 \u001b[0m📄📄 \n",
      "📦📦📦📦  COMPONENTS 📦📦📦📦\n",
      "--> Component(component_name='Card', component_description='This page is using the tips dataset.', component_id='tips_card')\n",
      "--> Component(component_name='Card', component_description='This page is using the tips dataset.', component_id='tips_card')\n",
      "--> Component(component_name='Card', component_description='This page is using the tips dataset.', component_id='tips_card')\n",
      "🎛️🎛️🎛️🎛️  CONTROLS 🎛️🎛️🎛️🎛️\n",
      "\n",
      "\n",
      "📄📄 \u001b[1m PAGE: Page 3 \u001b[0m📄📄 \n",
      "📦📦📦📦  COMPONENTS 📦📦📦📦\n",
      "--> Component(component_name='Card', component_description='This page is using the tips dataset.', component_id='tips_card')\n",
      "--> Component(component_name='Card', component_description='This page is using the tips dataset.', component_id='tips_card')\n",
      "--> Component(component_name='Card', component_description='This page is using the tips dataset.', component_id='tips_card')\n",
      "🎛️🎛️🎛️🎛️  CONTROLS 🎛️🎛️🎛️🎛️\n",
      "\n",
      "\n",
      "🛠️🛠️🛠️ Aye! Starting to build your nonsense... 🛠️🛠️🛠️ \n",
      "\n"
     ]
    },
    {
     "data": {
      "application/vnd.jupyter.widget-view+json": {
       "model_id": "c093569ab6774a079c1b8ba5c1a9e672",
       "version_major": 2,
       "version_minor": 0
      },
      "text/plain": [
       "Building pages:   0%|          | 0/3 [00:00<?, ?it/s]"
      ]
     },
     "metadata": {},
     "output_type": "display_data"
    },
    {
     "data": {
      "application/vnd.jupyter.widget-view+json": {
       "model_id": "9dbb7f75f6bb4e49b645108c195960af",
       "version_major": 2,
       "version_minor": 0
      },
      "text/plain": [
       "Building components of page: Page 1:   0%|          | 0/3 [00:00<?, ?it/s]"
      ]
     },
     "metadata": {},
     "output_type": "display_data"
    },
    {
     "data": {
      "application/vnd.jupyter.widget-view+json": {
       "model_id": "cf753258eefc46d3b76c2fc7889a7573",
       "version_major": 2,
       "version_minor": 0
      },
      "text/plain": [
       "Building controls of page: Page 1: 0it [00:00, ?it/s]"
      ]
     },
     "metadata": {},
     "output_type": "display_data"
    },
    {
     "data": {
      "application/vnd.jupyter.widget-view+json": {
       "model_id": "3bf7732deaab40e1ae3222f7e9a7033f",
       "version_major": 2,
       "version_minor": 0
      },
      "text/plain": [
       "Building components of page: Page 2:   0%|          | 0/3 [00:00<?, ?it/s]"
      ]
     },
     "metadata": {},
     "output_type": "display_data"
    },
    {
     "data": {
      "application/vnd.jupyter.widget-view+json": {
       "model_id": "1801b9bd76d245909a1c26763d0ca97d",
       "version_major": 2,
       "version_minor": 0
      },
      "text/plain": [
       "Building controls of page: Page 2: 0it [00:00, ?it/s]"
      ]
     },
     "metadata": {},
     "output_type": "display_data"
    },
    {
     "data": {
      "application/vnd.jupyter.widget-view+json": {
       "model_id": "c9040424bee34f7095c789de1202e4f3",
       "version_major": 2,
       "version_minor": 0
      },
      "text/plain": [
       "Building components of page: Page 3:   0%|          | 0/3 [00:00<?, ?it/s]"
      ]
     },
     "metadata": {},
     "output_type": "display_data"
    },
    {
     "data": {
      "application/vnd.jupyter.widget-view+json": {
       "model_id": "8dfd3f6f42674c1883e6f7e2d49de914",
       "version_major": 2,
       "version_minor": 0
      },
      "text/plain": [
       "Building controls of page: Page 3: 0it [00:00, ?it/s]"
      ]
     },
     "metadata": {},
     "output_type": "display_data"
    }
   ],
   "source": [
    "vizro_ai_dashboard = VizroAIDashboard(model, fig_builder)\n",
    "dashboard = vizro_ai_dashboard.build_dashboard(df, query)"
   ]
  },
  {
   "cell_type": "markdown",
   "metadata": {},
   "source": [
    "### Dashboard Render"
   ]
  },
  {
   "cell_type": "code",
   "execution_count": 11,
   "metadata": {},
   "outputs": [
    {
     "data": {
      "text/html": [
       "\n",
       "        <iframe\n",
       "            width=\"100%\"\n",
       "            height=\"650\"\n",
       "            src=\"http://127.0.0.1:8050/\"\n",
       "            frameborder=\"0\"\n",
       "            allowfullscreen\n",
       "            \n",
       "        ></iframe>\n",
       "        "
      ],
      "text/plain": [
       "<IPython.lib.display.IFrame at 0x7f7d8881faf0>"
      ]
     },
     "metadata": {},
     "output_type": "display_data"
    }
   ],
   "source": [
    "Vizro().build(dashboard).run()"
   ]
  },
  {
   "cell_type": "code",
   "execution_count": 13,
   "metadata": {},
   "outputs": [
    {
     "data": {
      "text/plain": [
       "{'id': '5a921187-19c7-8df4-8f4f-f31e78de5857',\n",
       " 'pages': [{'id': 'Page 1',\n",
       "   'components': [{'id': 'e3e70682-c209-4cac-629f-6fbed82c07cd',\n",
       "     'type': 'card',\n",
       "     'text': '## Tips Analysis\\nExplore various trends and insights from the tips dataset.',\n",
       "     'href': '/tips-analysis'},\n",
       "    {'id': 'f728b4fa-4248-5e3a-0a5d-2f346baa9455',\n",
       "     'type': 'card',\n",
       "     'text': '## Tips Analysis\\nExplore various insights from the tips dataset, including trends on tipping behavior by day, time, and gender.',\n",
       "     'href': '/tips-analysis'},\n",
       "    {'id': 'eb1167b3-67a9-c378-7c65-c1e582e2e662',\n",
       "     'type': 'card',\n",
       "     'text': '## Tips Dataset Overview\\n\\nExplore various aspects of tipping behavior based on gender, day, time, and more.',\n",
       "     'href': ''}],\n",
       "   'title': 'Page 1',\n",
       "   'description': '',\n",
       "   'layout': {'id': 'f7c1bd87-4da5-e709-d471-3d60c8a70639',\n",
       "    'grid': [[0], [1], [2]],\n",
       "    'row_gap': '24px',\n",
       "    'col_gap': '24px',\n",
       "    'row_min_height': '0px',\n",
       "    'col_min_width': '0px'},\n",
       "   'controls': [],\n",
       "   'path': '/',\n",
       "   'actions': []},\n",
       "  {'id': 'Page 2',\n",
       "   'components': [{'id': 'e443df78-9558-867f-5ba9-1faf7a024204',\n",
       "     'type': 'card',\n",
       "     'text': '## Tips Overview\\nExplore various insights from the tips dataset, including trends and patterns in tipping behavior.',\n",
       "     'href': ''},\n",
       "    {'id': '23a7711a-8133-2876-37eb-dcd9e87a1613',\n",
       "     'type': 'card',\n",
       "     'text': '## Tips Analysis\\nExplore various insights from the tips dataset, including trends on tipping behavior across different days of the week and meal times.',\n",
       "     'href': '/tips-analysis'},\n",
       "    {'id': '1846d424-c17c-6279-23c6-612f48268673',\n",
       "     'type': 'card',\n",
       "     'text': '## Tips Analysis\\nExplore various insights from the tips dataset, including trends on tipping behavior by day, time, and gender.',\n",
       "     'href': ''}],\n",
       "   'title': 'Page 2',\n",
       "   'description': '',\n",
       "   'layout': {'id': 'fcbd04c3-4021-2ef7-cca5-a5a19e4d6e3c',\n",
       "    'grid': [[0], [1], [2]],\n",
       "    'row_gap': '24px',\n",
       "    'col_gap': '24px',\n",
       "    'row_min_height': '0px',\n",
       "    'col_min_width': '0px'},\n",
       "   'controls': [],\n",
       "   'path': '/page-2',\n",
       "   'actions': []},\n",
       "  {'id': 'Page 3',\n",
       "   'components': [{'id': 'b4862b21-fb97-d435-8856-1712e8e5216a',\n",
       "     'type': 'card',\n",
       "     'text': '## Tips Analysis\\nExplore various insights from the tips dataset, including average tipping percentages, most generous days of the week, and trends by time of day.',\n",
       "     'href': '/tips-analysis'},\n",
       "    {'id': '259f4329-e6f4-590b-9a16-4106cf6a659e',\n",
       "     'type': 'card',\n",
       "     'text': '## Tips Analysis\\nExplore various trends and insights from the tips dataset.',\n",
       "     'href': ''},\n",
       "    {'id': '12e0c8b2-bad6-40fb-1948-8dec4f65d4d9',\n",
       "     'type': 'card',\n",
       "     'text': '## Tips Analysis\\nExplore various insights from the tips dataset, including trends on tipping behavior by day, time, and gender.',\n",
       "     'href': ''}],\n",
       "   'title': 'Page 3',\n",
       "   'description': '',\n",
       "   'layout': {'id': '5487ce1e-af19-922a-d9b8-a714e61a441c',\n",
       "    'grid': [[0], [1], [2]],\n",
       "    'row_gap': '24px',\n",
       "    'col_gap': '24px',\n",
       "    'row_min_height': '0px',\n",
       "    'col_min_width': '0px'},\n",
       "   'controls': [],\n",
       "   'path': '/page-3',\n",
       "   'actions': []}],\n",
       " 'theme': 'vizro_dark',\n",
       " 'navigation': {'id': 'a3f2c9bf-9c63-16b9-50f2-44556f25e2a2',\n",
       "  'pages': ['Page 1', 'Page 2', 'Page 3'],\n",
       "  'nav_selector': {'id': '8d723104-f773-83c1-3458-a748e9bb17bc',\n",
       "   'type': 'accordion',\n",
       "   'pages': {'SELECT PAGE': ['Page 1', 'Page 2', 'Page 3']}}},\n",
       " 'title': 'Vizro Style Dashboard'}"
      ]
     },
     "execution_count": 13,
     "metadata": {},
     "output_type": "execute_result"
    }
   ],
   "source": [
    "dashboard.dict()"
   ]
  },
  {
   "cell_type": "code",
   "execution_count": null,
   "metadata": {},
   "outputs": [],
   "source": []
  },
  {
   "cell_type": "code",
   "execution_count": null,
   "metadata": {},
   "outputs": [],
   "source": []
  }
 ],
 "metadata": {
  "kernelspec": {
   "display_name": "Python 3 (ipykernel)",
   "language": "python",
   "name": "python3"
  },
  "language_info": {
   "codemirror_mode": {
    "name": "ipython",
    "version": 3
   },
   "file_extension": ".py",
   "mimetype": "text/x-python",
   "name": "python",
   "nbconvert_exporter": "python",
   "pygments_lexer": "ipython3",
   "version": "3.9.12"
  }
 },
 "nbformat": 4,
 "nbformat_minor": 4
}
