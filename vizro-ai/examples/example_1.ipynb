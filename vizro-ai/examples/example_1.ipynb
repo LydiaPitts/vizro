{
 "cells": [
  {
   "cell_type": "markdown",
   "metadata": {
    "jp-MarkdownHeadingCollapsed": true
   },
   "source": [
    "### Imports"
   ]
  },
  {
   "cell_type": "code",
   "execution_count": 1,
   "metadata": {
    "ExecuteTime": {
     "end_time": "2024-05-07T13:29:31.230772Z",
     "start_time": "2024-05-07T13:29:31.227887Z"
    }
   },
   "outputs": [],
   "source": [
    "import warnings\n",
    "warnings.filterwarnings('ignore')"
   ]
  },
  {
   "cell_type": "code",
   "execution_count": 2,
   "metadata": {
    "collapsed": false,
    "jupyter": {
     "outputs_hidden": false
    }
   },
   "outputs": [],
   "source": [
    "import pandas as pd\n",
    "from dotenv import load_dotenv\n",
    "\n",
    "load_dotenv()\n",
    "import sys\n",
    "import os\n",
    "\n",
    "sys.path.append('./dashboard')"
   ]
  },
  {
   "cell_type": "code",
   "execution_count": 3,
   "metadata": {},
   "outputs": [],
   "source": [
    "import vizro.plotly.express as px"
   ]
  },
  {
   "cell_type": "code",
   "execution_count": 4,
   "metadata": {},
   "outputs": [],
   "source": [
    "from vizro_ai import VizroAI\n",
    "from vizro import Vizro\n",
    "from langchain_openai import ChatOpenAI\n",
    "from langchain_anthropic import ChatAnthropic"
   ]
  },
  {
   "cell_type": "code",
   "execution_count": 5,
   "metadata": {},
   "outputs": [],
   "source": [
    "from dashboard.vizro_ai_db import VizroAIDashboard"
   ]
  },
  {
   "cell_type": "markdown",
   "metadata": {},
   "source": [
    "### Models"
   ]
  },
  {
   "cell_type": "code",
   "execution_count": 6,
   "metadata": {
    "collapsed": false,
    "jupyter": {
     "outputs_hidden": false
    }
   },
   "outputs": [],
   "source": [
    "model = ChatOpenAI(model=\"gpt-4-turbo\", temperature=0)\n",
    "\n",
    "# model = ChatAnthropic(\n",
    "#     model='claude-3-opus-20240229',\n",
    "#     anthropic_api_key=os.environ.get(\"ANTHROPIC_API_KEY\"),\n",
    "#     anthropic_api_url=os.environ.get(\"ANTHROPIC_API_BASE\")\n",
    "# )\n",
    "fig_builder = VizroAI(model=\"gpt-4-turbo\")"
   ]
  },
  {
   "cell_type": "markdown",
   "metadata": {},
   "source": [
    "### Query"
   ]
  },
  {
   "cell_type": "code",
   "execution_count": 7,
   "metadata": {
    "collapsed": false,
    "jupyter": {
     "outputs_hidden": false
    }
   },
   "outputs": [],
   "source": [
    "df = px.data.gapminder()\n",
    "query = (\"I need a page with a bar chart shoing the population per continent \"\n",
    "         \"and a scatter chart showing the life expectency per country as a function gdp. \"\n",
    "         \"Make a filter on the country column and use a dropdown as selector. This filter should only \"\n",
    "         \"apply to the bar chart. The bar chart should be a stacked bar chart, while \"\n",
    "         \"the scatter chart should be colored by the column 'continent'. Make another filter \"\n",
    "         \"that filters the GDP column, and it only applies to the scatter chart. I also want \"\n",
    "         \"a table that shows the data. The title of the page should be: `This is big time data`. I also want a second page with two \"\n",
    "         \"cards on it. One should be a card saying: `This was the jolly data dashboard, it was created in Vizro which is amazing`\"\n",
    "         \", and the second card should refer to the \"\n",
    "         \" documentation and link to `https://vizro.readthedocs.io/`. The title of the dashboard should be: `My wonderful \"\n",
    "         \"jolly dashboard showing a lot of data`.\")"
   ]
  },
  {
   "cell_type": "code",
   "execution_count": 8,
   "metadata": {},
   "outputs": [],
   "source": [
    "# df = px.data.tips()\n",
    "# query = (\n",
    "#     \"I want to create a Vizro style dashboard. I need One page. On this page, there are two charts. \"\n",
    "#     \"The first bar chart shows the average tip per day. The second chart shows the distribution of total bill. \"\n",
    "#     \"Add a checklist filter to filter on the time. Do not configure any actions. On this page, also add a card with \"\n",
    "#     \"text 'This page is using the tips dataset.' \")"
   ]
  },
  {
   "cell_type": "code",
   "execution_count": 9,
   "metadata": {},
   "outputs": [],
   "source": [
    "# df = px.data.tips()\n",
    "# query = (\n",
    "#     \"I want to create a Vizro style dashboard. I need three pages. On each page, there should be three cards saying the following text \"\n",
    "#     \"text 'This page is using the tips dataset.' \")"
   ]
  },
  {
   "cell_type": "markdown",
   "metadata": {},
   "source": [
    "### Tool"
   ]
  },
  {
   "cell_type": "code",
   "execution_count": 10,
   "metadata": {},
   "outputs": [],
   "source": [
    "from langchain_community.callbacks import get_openai_callback"
   ]
  },
  {
   "cell_type": "code",
   "execution_count": 11,
   "metadata": {},
   "outputs": [
    {
     "name": "stdout",
     "output_type": "stream",
     "text": [
      "🤔🤔🤔 Trying to make sense of your gibberish.... 🤔🤔🤔 \n",
      "\n",
      "💡💡💡 I think I got you! Here is the plan.... 💡💡💡 \n",
      "\n",
      "📄📄 \u001b[1m PAGE: This is big time data \u001b[0m📄📄 \n",
      "📦📦📦📦  COMPONENTS 📦📦📦📦\n",
      "--> Component(component_name='Graph', component_description='A stacked bar chart showing the population per continent.', component_id='population_per_continent')\n",
      "--> Component(component_name='Graph', component_description='A scatter chart showing life expectancy per country as a function of GDP, colored by continent.', component_id='life_expectancy_per_gdp')\n",
      "--> Component(component_name='AgGrid', component_description='A table that displays the data used in the charts.', component_id='data_table')\n",
      "🎛️🎛️🎛️🎛️  CONTROLS 🎛️🎛️🎛️🎛️\n",
      "--> Control(control_name='Filter', control_description='A dropdown selector to filter data by country, applicable only to the bar chart.')\n",
      "--> Control(control_name='Filter', control_description='A filter to adjust the GDP range, applicable only to the scatter chart.')\n",
      "\n",
      "\n",
      "📄📄 \u001b[1m PAGE: Documentation and Credits \u001b[0m📄📄 \n",
      "📦📦📦📦  COMPONENTS 📦📦📦📦\n",
      "--> Component(component_name='Card', component_description='This was the jolly data dashboard, it was created in Vizro which is amazing', component_id='jolly_data_dashboard')\n",
      "--> Component(component_name='Card', component_description='For more information, visit the documentation at https://vizro.readthedocs.io/', component_id='documentation_link')\n",
      "🎛️🎛️🎛️🎛️  CONTROLS 🎛️🎛️🎛️🎛️\n",
      "\n",
      "\n",
      "🛠️🛠️🛠️ Aye! Starting to build your nonsense... 🛠️🛠️🛠️ \n",
      "\n"
     ]
    },
    {
     "data": {
      "application/vnd.jupyter.widget-view+json": {
       "model_id": "525096f5021c4ce1a9c45341d75576e5",
       "version_major": 2,
       "version_minor": 0
      },
      "text/plain": [
       "Building pages:   0%|          | 0/2 [00:00<?, ?it/s]"
      ]
     },
     "metadata": {},
     "output_type": "display_data"
    },
    {
     "data": {
      "application/vnd.jupyter.widget-view+json": {
       "model_id": "013fa14fdb5f477f9d6a8d92d59f1a6e",
       "version_major": 2,
       "version_minor": 0
      },
      "text/plain": [
       "Building components of page: This is big time data:   0%|          | 0/3 [00:00<?, ?it/s]"
      ]
     },
     "metadata": {},
     "output_type": "display_data"
    },
    {
     "data": {
      "application/vnd.jupyter.widget-view+json": {
       "model_id": "d80894e2b3894a229e2e0f8abfc3e050",
       "version_major": 2,
       "version_minor": 0
      },
      "text/plain": [
       "Building controls of page: This is big time data:   0%|          | 0/2 [00:00<?, ?it/s]"
      ]
     },
     "metadata": {},
     "output_type": "display_data"
    },
    {
     "data": {
      "application/vnd.jupyter.widget-view+json": {
       "model_id": "8755c7da0793492c9b63315dd6a354c7",
       "version_major": 2,
       "version_minor": 0
      },
      "text/plain": [
       "Building components of page: Documentation and Credits:   0%|          | 0/2 [00:00<?, ?it/s]"
      ]
     },
     "metadata": {},
     "output_type": "display_data"
    },
    {
     "data": {
      "application/vnd.jupyter.widget-view+json": {
       "model_id": "780c209d14454a7b90507d50f59efd9e",
       "version_major": 2,
       "version_minor": 0
      },
      "text/plain": [
       "Building controls of page: Documentation and Credits: 0it [00:00, ?it/s]"
      ]
     },
     "metadata": {},
     "output_type": "display_data"
    },
    {
     "name": "stdout",
     "output_type": "stream",
     "text": [
      "Tokens Used: 24218\n",
      "\tPrompt Tokens: 22750\n",
      "\tCompletion Tokens: 1468\n",
      "Successful Requests: 15\n",
      "Total Cost (USD): $0.27154\n"
     ]
    }
   ],
   "source": [
    "with get_openai_callback() as cb:\n",
    "    vizro_ai_dashboard = VizroAIDashboard(model, fig_builder)\n",
    "    dashboard = vizro_ai_dashboard.build_dashboard(df, query)\n",
    "    print(cb)"
   ]
  },
  {
   "cell_type": "markdown",
   "metadata": {},
   "source": [
    "### Dashboard Render"
   ]
  },
  {
   "cell_type": "code",
   "execution_count": 12,
   "metadata": {},
   "outputs": [
    {
     "data": {
      "text/html": [
       "\n",
       "        <iframe\n",
       "            width=\"100%\"\n",
       "            height=\"650\"\n",
       "            src=\"http://127.0.0.1:8050/\"\n",
       "            frameborder=\"0\"\n",
       "            allowfullscreen\n",
       "            \n",
       "        ></iframe>\n",
       "        "
      ],
      "text/plain": [
       "<IPython.lib.display.IFrame at 0x7fc9006b3eb0>"
      ]
     },
     "metadata": {},
     "output_type": "display_data"
    }
   ],
   "source": [
    "Vizro().build(dashboard).run()"
   ]
  },
  {
   "cell_type": "code",
   "execution_count": 13,
   "metadata": {},
   "outputs": [
    {
     "data": {
      "text/plain": [
       "{'id': 'a3f2c9bf-9c63-16b9-50f2-44556f25e2a2',\n",
       " 'pages': [{'id': 'This is big time data',\n",
       "   'components': [{'id': 'population_per_continent',\n",
       "     'type': 'graph',\n",
       "     'figure': <vizro.models.types.CapturedCallable at 0x7fc930b73a90>,\n",
       "     'actions': []},\n",
       "    {'id': 'life_expectancy_per_gdp',\n",
       "     'type': 'graph',\n",
       "     'figure': <vizro.models.types.CapturedCallable at 0x7fc928711970>,\n",
       "     'actions': []},\n",
       "    {'id': 'data_table',\n",
       "     'type': 'ag_grid',\n",
       "     'figure': <vizro.models.types.CapturedCallable at 0x7fc930b73430>,\n",
       "     'title': '',\n",
       "     'actions': []}],\n",
       "   'title': 'This is big time data',\n",
       "   'description': '',\n",
       "   'layout': {'id': '259f4329-e6f4-590b-9a16-4106cf6a659e',\n",
       "    'grid': [[0], [1], [2]],\n",
       "    'row_gap': '24px',\n",
       "    'col_gap': '24px',\n",
       "    'row_min_height': '0px',\n",
       "    'col_min_width': '0px'},\n",
       "   'controls': [{'id': 'e443df78-9558-867f-5ba9-1faf7a024204',\n",
       "     'type': 'filter',\n",
       "     'column': 'country',\n",
       "     'targets': ['population_per_continent', 'life_expectancy_per_gdp'],\n",
       "     'selector': {'id': '23a7711a-8133-2876-37eb-dcd9e87a1613',\n",
       "      'type': 'dropdown',\n",
       "      'options': ['Afghanistan',\n",
       "       'Albania',\n",
       "       'Algeria',\n",
       "       'Angola',\n",
       "       'Argentina',\n",
       "       'Australia',\n",
       "       'Austria',\n",
       "       'Bahrain',\n",
       "       'Bangladesh',\n",
       "       'Belgium',\n",
       "       'Benin',\n",
       "       'Bolivia',\n",
       "       'Bosnia and Herzegovina',\n",
       "       'Botswana',\n",
       "       'Brazil',\n",
       "       'Bulgaria',\n",
       "       'Burkina Faso',\n",
       "       'Burundi',\n",
       "       'Cambodia',\n",
       "       'Cameroon',\n",
       "       'Canada',\n",
       "       'Central African Republic',\n",
       "       'Chad',\n",
       "       'Chile',\n",
       "       'China',\n",
       "       'Colombia',\n",
       "       'Comoros',\n",
       "       'Congo, Dem. Rep.',\n",
       "       'Congo, Rep.',\n",
       "       'Costa Rica',\n",
       "       \"Cote d'Ivoire\",\n",
       "       'Croatia',\n",
       "       'Cuba',\n",
       "       'Czech Republic',\n",
       "       'Denmark',\n",
       "       'Djibouti',\n",
       "       'Dominican Republic',\n",
       "       'Ecuador',\n",
       "       'Egypt',\n",
       "       'El Salvador',\n",
       "       'Equatorial Guinea',\n",
       "       'Eritrea',\n",
       "       'Ethiopia',\n",
       "       'Finland',\n",
       "       'France',\n",
       "       'Gabon',\n",
       "       'Gambia',\n",
       "       'Germany',\n",
       "       'Ghana',\n",
       "       'Greece',\n",
       "       'Guatemala',\n",
       "       'Guinea',\n",
       "       'Guinea-Bissau',\n",
       "       'Haiti',\n",
       "       'Honduras',\n",
       "       'Hong Kong, China',\n",
       "       'Hungary',\n",
       "       'Iceland',\n",
       "       'India',\n",
       "       'Indonesia',\n",
       "       'Iran',\n",
       "       'Iraq',\n",
       "       'Ireland',\n",
       "       'Israel',\n",
       "       'Italy',\n",
       "       'Jamaica',\n",
       "       'Japan',\n",
       "       'Jordan',\n",
       "       'Kenya',\n",
       "       'Korea, Dem. Rep.',\n",
       "       'Korea, Rep.',\n",
       "       'Kuwait',\n",
       "       'Lebanon',\n",
       "       'Lesotho',\n",
       "       'Liberia',\n",
       "       'Libya',\n",
       "       'Madagascar',\n",
       "       'Malawi',\n",
       "       'Malaysia',\n",
       "       'Mali',\n",
       "       'Mauritania',\n",
       "       'Mauritius',\n",
       "       'Mexico',\n",
       "       'Mongolia',\n",
       "       'Montenegro',\n",
       "       'Morocco',\n",
       "       'Mozambique',\n",
       "       'Myanmar',\n",
       "       'Namibia',\n",
       "       'Nepal',\n",
       "       'Netherlands',\n",
       "       'New Zealand',\n",
       "       'Nicaragua',\n",
       "       'Niger',\n",
       "       'Nigeria',\n",
       "       'Norway',\n",
       "       'Oman',\n",
       "       'Pakistan',\n",
       "       'Panama',\n",
       "       'Paraguay',\n",
       "       'Peru',\n",
       "       'Philippines',\n",
       "       'Poland',\n",
       "       'Portugal',\n",
       "       'Puerto Rico',\n",
       "       'Reunion',\n",
       "       'Romania',\n",
       "       'Rwanda',\n",
       "       'Sao Tome and Principe',\n",
       "       'Saudi Arabia',\n",
       "       'Senegal',\n",
       "       'Serbia',\n",
       "       'Sierra Leone',\n",
       "       'Singapore',\n",
       "       'Slovak Republic',\n",
       "       'Slovenia',\n",
       "       'Somalia',\n",
       "       'South Africa',\n",
       "       'Spain',\n",
       "       'Sri Lanka',\n",
       "       'Sudan',\n",
       "       'Swaziland',\n",
       "       'Sweden',\n",
       "       'Switzerland',\n",
       "       'Syria',\n",
       "       'Taiwan',\n",
       "       'Tanzania',\n",
       "       'Thailand',\n",
       "       'Togo',\n",
       "       'Trinidad and Tobago',\n",
       "       'Tunisia',\n",
       "       'Turkey',\n",
       "       'Uganda',\n",
       "       'United Kingdom',\n",
       "       'United States',\n",
       "       'Uruguay',\n",
       "       'Venezuela',\n",
       "       'Vietnam',\n",
       "       'West Bank and Gaza',\n",
       "       'Yemen, Rep.',\n",
       "       'Zambia',\n",
       "       'Zimbabwe'],\n",
       "      'value': None,\n",
       "      'multi': True,\n",
       "      'title': 'Select Country',\n",
       "      'actions': [{'id': 'eb2083e6-ce16-4dba-0ff1-8e0242af9fc3',\n",
       "        'trigger': Trigger(component_id='23a7711a-8133-2876-37eb-dcd9e87a1613', component_property='value'),\n",
       "        'actions': [{'id': 'filter_action_e443df78-9558-867f-5ba9-1faf7a024204',\n",
       "          'function': <vizro.models.types.CapturedCallable at 0x7fc94140db20>,\n",
       "          'inputs': [],\n",
       "          'outputs': []}]}]}},\n",
       "    {'id': 'b4862b21-fb97-d435-8856-1712e8e5216a',\n",
       "     'type': 'filter',\n",
       "     'column': 'gdpPercap',\n",
       "     'targets': ['population_per_continent'],\n",
       "     'selector': {'id': '17e0aa3c-0398-3ca8-ea7e-9d498c778ea6',\n",
       "      'type': 'range_slider',\n",
       "      'min': 241.1658765,\n",
       "      'max': 113523.1329,\n",
       "      'step': None,\n",
       "      'marks': None,\n",
       "      'value': None,\n",
       "      'title': 'Gdppercap',\n",
       "      'actions': [{'id': 'b5d32b16-6619-4cb1-d710-37d1b83e90ec',\n",
       "        'trigger': Trigger(component_id='17e0aa3c-0398-3ca8-ea7e-9d498c778ea6', component_property='value'),\n",
       "        'actions': [{'id': 'filter_action_b4862b21-fb97-d435-8856-1712e8e5216a',\n",
       "          'function': <vizro.models.types.CapturedCallable at 0x7fc9006bc820>,\n",
       "          'inputs': [],\n",
       "          'outputs': []}]}]}}],\n",
       "   'path': '/',\n",
       "   'actions': [{'id': 'on_page_load_action_This is big time data',\n",
       "     'trigger': Trigger(component_id='on_page_load_action_trigger_This is big time data', component_property='data'),\n",
       "     'actions': [{'id': 'on_page_load_action_action_This is big time data',\n",
       "       'function': <vizro.models.types.CapturedCallable at 0x7fc94140dac0>,\n",
       "       'inputs': [],\n",
       "       'outputs': []}]}]},\n",
       "  {'id': 'Documentation and Credits',\n",
       "   'components': [{'id': '12e0c8b2-bad6-40fb-1948-8dec4f65d4d9',\n",
       "     'type': 'card',\n",
       "     'text': 'This was the jolly data dashboard, it was created in Vizro which is amazing',\n",
       "     'href': ''},\n",
       "    {'id': '5487ce1e-af19-922a-d9b8-a714e61a441c',\n",
       "     'type': 'card',\n",
       "     'text': '## Welcome\\nThis is a sample card using Markdown.',\n",
       "     'href': 'https://vizro.readthedocs.io/'}],\n",
       "   'title': 'Documentation and Credits',\n",
       "   'description': '',\n",
       "   'layout': {'id': '5a921187-19c7-8df4-8f4f-f31e78de5857',\n",
       "    'grid': [[0], [1]],\n",
       "    'row_gap': '24px',\n",
       "    'col_gap': '24px',\n",
       "    'row_min_height': '0px',\n",
       "    'col_min_width': '0px'},\n",
       "   'controls': [],\n",
       "   'path': '/documentation-and-credits',\n",
       "   'actions': []}],\n",
       " 'theme': 'vizro_dark',\n",
       " 'navigation': {'id': '8d723104-f773-83c1-3458-a748e9bb17bc',\n",
       "  'pages': ['This is big time data', 'Documentation and Credits'],\n",
       "  'nav_selector': {'id': '85776e9a-dd84-f39e-7154-5a137a1d5006',\n",
       "   'type': 'accordion',\n",
       "   'pages': {'SELECT PAGE': ['This is big time data',\n",
       "     'Documentation and Credits']}}},\n",
       " 'title': 'My wonderful jolly dashboard showing a lot of data'}"
      ]
     },
     "execution_count": 13,
     "metadata": {},
     "output_type": "execute_result"
    }
   ],
   "source": [
    "dashboard.dict()"
   ]
  },
  {
   "cell_type": "code",
   "execution_count": null,
   "metadata": {},
   "outputs": [],
   "source": []
  },
  {
   "cell_type": "code",
   "execution_count": null,
   "metadata": {},
   "outputs": [],
   "source": []
  }
 ],
 "metadata": {
  "kernelspec": {
   "display_name": "Python 3 (ipykernel)",
   "language": "python",
   "name": "python3"
  },
  "language_info": {
   "codemirror_mode": {
    "name": "ipython",
    "version": 3
   },
   "file_extension": ".py",
   "mimetype": "text/x-python",
   "name": "python",
   "nbconvert_exporter": "python",
   "pygments_lexer": "ipython3",
   "version": "3.9.12"
  }
 },
 "nbformat": 4,
 "nbformat_minor": 4
}
