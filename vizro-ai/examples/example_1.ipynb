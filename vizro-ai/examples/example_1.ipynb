{
 "cells": [
  {
   "cell_type": "markdown",
   "metadata": {
    "jp-MarkdownHeadingCollapsed": true
   },
   "source": [
    "### Imports"
   ]
  },
  {
   "cell_type": "code",
   "execution_count": 1,
   "metadata": {
    "ExecuteTime": {
     "end_time": "2024-06-04T09:36:08.951956Z",
     "start_time": "2024-06-04T09:36:08.946451Z"
    }
   },
   "outputs": [],
   "source": [
    "import warnings\n",
    "warnings.filterwarnings('ignore')"
   ]
  },
  {
   "cell_type": "code",
   "execution_count": 2,
   "metadata": {
    "collapsed": false,
    "jupyter": {
     "outputs_hidden": false
    }
   },
   "outputs": [],
   "source": [
    "import pandas as pd\n",
    "from dotenv import load_dotenv\n",
    "\n",
    "load_dotenv()\n",
    "import sys\n",
    "import os\n",
    "\n",
    "sys.path.append('./dashboard')"
   ]
  },
  {
   "cell_type": "code",
   "execution_count": 3,
   "metadata": {},
   "outputs": [],
   "source": [
    "import vizro.plotly.express as px"
   ]
  },
  {
   "cell_type": "code",
   "execution_count": 4,
   "metadata": {},
   "outputs": [],
   "source": [
    "from vizro_ai import VizroAI\n",
    "from vizro import Vizro\n",
    "from langchain_openai import ChatOpenAI\n",
    "from langchain_anthropic import ChatAnthropic"
   ]
  },
  {
   "cell_type": "code",
   "execution_count": 5,
   "metadata": {},
   "outputs": [],
   "source": [
    "from dashboard.vizro_ai_db import VizroAIDashboard"
   ]
  },
  {
   "cell_type": "markdown",
   "metadata": {},
   "source": [
    "### Models"
   ]
  },
  {
   "cell_type": "code",
   "execution_count": 6,
   "metadata": {
    "collapsed": false,
    "jupyter": {
     "outputs_hidden": false
    }
   },
   "outputs": [],
   "source": [
    "model = ChatOpenAI(model=\"gpt-4-turbo\", temperature=0)\n",
    "\n",
    "# model = ChatAnthropic(\n",
    "#     model='claude-3-opus-20240229',\n",
    "#     anthropic_api_key=os.environ.get(\"ANTHROPIC_API_KEY\"),\n",
    "#     anthropic_api_url=os.environ.get(\"ANTHROPIC_API_BASE\")\n",
    "# )\n",
    "fig_builder = VizroAI(model=\"gpt-4-turbo\")"
   ]
  },
  {
   "cell_type": "markdown",
   "metadata": {},
   "source": [
    "### Query"
   ]
  },
  {
   "cell_type": "code",
   "execution_count": 7,
   "metadata": {
    "collapsed": false,
    "jupyter": {
     "outputs_hidden": false
    }
   },
   "outputs": [],
   "source": [
    "# df = px.data.gapminder()\n",
    "# query = (\"I need a page with a bar chart shoing the population per continent \"\n",
    "#          \"and a scatter chart showing the life expectency per country as a function gdp. \"\n",
    "#          \"Make a filter on the country column and use a dropdown as selector. This filter should only \"\n",
    "#          \"apply to the bar chart. The bar chart should be a stacked bar chart, while \"\n",
    "#          \"the scatter chart should be colored by the column 'continent'. Make another filter \"\n",
    "#          \"that filters the GDP column, and it only applies to the scatter chart. I also want \"\n",
    "#          \"a table that shows the data. The title of the page should be: `This is big time data`. I also want a second page with two \"\n",
    "#          \"cards on it. One should be a card saying: `This was the jolly data dashboard, it was created in Vizro which is amazing`\"\n",
    "#          \", and the second card should refer to the \"\n",
    "#          \" documentation and link to `https://vizro.readthedocs.io/`. The title of the dashboard should be: `My wonderful \"\n",
    "#          \"jolly dashboard showing a lot of data`.\")"
   ]
  },
  {
   "cell_type": "code",
   "execution_count": 8,
   "metadata": {},
   "outputs": [],
   "source": [
    "# df = px.data.tips()\n",
    "# query = (\n",
    "#     \"I want to create a Vizro style dashboard. I need One page. On this page, there are two charts. \"\n",
    "#     \"The first bar chart shows the average tip per day. The second chart shows the distribution of total bill. \"\n",
    "#     \"Add a checklist filter to filter on the time. Do not configure any actions. On this page, also add a card with \"\n",
    "#     \"text 'This page is using the tips dataset.' \")"
   ]
  },
  {
   "cell_type": "code",
   "execution_count": 9,
   "metadata": {},
   "outputs": [],
   "source": [
    "# df = px.data.tips()\n",
    "# query = (\n",
    "#     \"I want to create a Vizro style dashboard. I need three pages. On each page, there should be three cards saying the following text \"\n",
    "#     \"text 'This page is using the tips dataset.' \")"
   ]
  },
  {
   "cell_type": "code",
   "execution_count": 10,
   "metadata": {},
   "outputs": [],
   "source": [
    "df = px.data.iris()\n",
    "query = (\"I need a Vizro dashboard with a scatter chart coloured by the species, and a histogram showing the count of the sepal length, \"\n",
    "         \"also coloured by the species. Both charts should be have a filter that filters on the species, another one that filters on \"\n",
    "         \"the sepal length, and a third one that filters on the petal width.\")"
   ]
  },
  {
   "cell_type": "markdown",
   "metadata": {},
   "source": [
    "### Tool"
   ]
  },
  {
   "cell_type": "code",
   "execution_count": 11,
   "metadata": {},
   "outputs": [
    {
     "name": "stdout",
     "output_type": "stream",
     "text": [
      "🤔🤔🤔 Trying to make sense of your gibberish.... 🤔🤔🤔 \n",
      "\n",
      "💡💡💡 I think I got you! Here is the plan.... 💡💡💡 \n",
      "\n",
      "📄📄 \u001b[1m PAGE: Scatter Chart and Histogram \u001b[0m📄📄 \n",
      "📦📦📦📦  COMPONENTS 📦📦📦📦\n",
      "--> Component(component_name='Graph', component_description='A scatter chart displaying data points colored by the species attribute, allowing for visual differentiation of species based on scatter plot coordinates.', component_id='scatter_chart')\n",
      "--> Component(component_name='Graph', component_description='A histogram showing the count of sepal length, colored by the species to indicate the distribution of sepal lengths across different species.', component_id='histogram')\n",
      "🎛️🎛️🎛️🎛️  CONTROLS 🎛️🎛️🎛️🎛️\n",
      "--> Control(control_name='Filter', control_description='A filter for the species attribute, allowing users to selectively view data for one or more species.')\n",
      "--> Control(control_name='Filter', control_description='A filter for the sepal length attribute, enabling users to view data distributions and scatter plot points within specific ranges of sepal length.')\n",
      "--> Control(control_name='Filter', control_description='A filter for the petal width attribute, permitting users to refine visualizations based on the petal width.')\n",
      "\n",
      "\n",
      "🛠️🛠️🛠️ Aye! Starting to build your nonsense... 🛠️🛠️🛠️ \n",
      "\n"
     ]
    },
    {
     "data": {
      "application/vnd.jupyter.widget-view+json": {
       "model_id": "01418b1e382f4ef9a84b66229927bddd",
       "version_major": 2,
       "version_minor": 0
      },
      "text/plain": [
       "Building pages:   0%|          | 0/1 [00:00<?, ?it/s]"
      ]
     },
     "metadata": {},
     "output_type": "display_data"
    },
    {
     "data": {
      "application/vnd.jupyter.widget-view+json": {
       "model_id": "424f640648874b198599c1dd6e6c84e7",
       "version_major": 2,
       "version_minor": 0
      },
      "text/plain": [
       "Building components of page: Scatter Chart and Histogram:   0%|          | 0/2 [00:00<?, ?it/s]"
      ]
     },
     "metadata": {},
     "output_type": "display_data"
    },
    {
     "name": "stderr",
     "output_type": "stream",
     "text": [
      "/Users/Maximilian_Schulz/Library/Application Support/hatch/env/virtual/vizro-ai/EdwJfxPm/vizro-ai/lib/python3.12/site-packages/langchain_core/_api/deprecation.py:119: LangChainDeprecationWarning: The class `LLMChain` was deprecated in LangChain 0.1.17 and will be removed in 0.3.0. Use RunnableSequence, e.g., `prompt | llm` instead.\n",
      "  warn_deprecated(\n"
     ]
    },
    {
     "data": {
      "application/vnd.jupyter.widget-view+json": {
       "model_id": "2325744900b34e4cae631811ab4bf3f6",
       "version_major": 2,
       "version_minor": 0
      },
      "text/plain": [
       "Building controls of page: Scatter Chart and Histogram:   0%|          | 0/3 [00:00<?, ?it/s]"
      ]
     },
     "metadata": {},
     "output_type": "display_data"
    }
   ],
   "source": [
    "vizro_ai_dashboard = VizroAIDashboard(model, fig_builder)\n",
    "dashboard = vizro_ai_dashboard.build_dashboard(df, query)"
   ]
  },
  {
   "cell_type": "markdown",
   "metadata": {},
   "source": [
    "### Dashboard Render"
   ]
  },
  {
   "cell_type": "code",
   "execution_count": 12,
   "metadata": {},
   "outputs": [
    {
     "data": {
      "text/html": [
       "\n",
       "        <iframe\n",
       "            width=\"100%\"\n",
       "            height=\"650\"\n",
       "            src=\"http://127.0.0.1:8050/\"\n",
       "            frameborder=\"0\"\n",
       "            allowfullscreen\n",
       "            \n",
       "        ></iframe>\n",
       "        "
      ],
      "text/plain": [
       "<IPython.lib.display.IFrame at 0x1246b0e90>"
      ]
     },
     "metadata": {},
     "output_type": "display_data"
    }
   ],
   "source": [
    "Vizro().build(dashboard).run()"
   ]
  },
  {
   "cell_type": "code",
   "execution_count": 13,
   "metadata": {},
   "outputs": [
    {
     "data": {
      "text/plain": [
       "Dashboard(id='259f4329-e6f4-590b-9a16-4106cf6a659e', pages=[Page(id='Scatter Chart and Histogram', components=[Graph(id='scatter_chart', type='graph', figure=<vizro.models.types.CapturedCallable object at 0x124863350>, actions=[]), Graph(id='histogram', type='graph', figure=<vizro.models.types.CapturedCallable object at 0x124abe1b0>, actions=[])], title='Scatter Chart and Histogram', description='', layout=Layout(id='b4862b21-fb97-d435-8856-1712e8e5216a', grid=[[0], [1]], row_gap='24px', col_gap='24px', row_min_height='0px', col_min_width='0px'), controls=[Filter(id='f728b4fa-4248-5e3a-0a5d-2f346baa9455', type='filter', column='species', targets=['scatter_chart', 'histogram'], selector=Dropdown(id='eb2083e6-ce16-4dba-0ff1-8e0242af9fc3', type='dropdown', options=['setosa', 'versicolor', 'virginica'], value=None, multi=True, title='Species', actions=[ActionsChain(id='17e0aa3c-0398-3ca8-ea7e-9d498c778ea6', trigger=Trigger(component_id='eb2083e6-ce16-4dba-0ff1-8e0242af9fc3', component_property='value'), actions=[Action(id='filter_action_f728b4fa-4248-5e3a-0a5d-2f346baa9455', function=<vizro.models.types.CapturedCallable object at 0x124c2e900>, inputs=[], outputs=[])])])), Filter(id='e443df78-9558-867f-5ba9-1faf7a024204', type='filter', column='sepal_length', targets=['scatter_chart', 'histogram'], selector=RangeSlider(id='8d723104-f773-83c1-3458-a748e9bb17bc', type='range_slider', min=4.3, max=7.9, step=None, marks=None, value=None, title='Sepal_Length', actions=[ActionsChain(id='85776e9a-dd84-f39e-7154-5a137a1d5006', trigger=Trigger(component_id='8d723104-f773-83c1-3458-a748e9bb17bc', component_property='value'), actions=[Action(id='filter_action_e443df78-9558-867f-5ba9-1faf7a024204', function=<vizro.models.types.CapturedCallable object at 0x124b65790>, inputs=[], outputs=[])])])), Filter(id='fcbd04c3-4021-2ef7-cca5-a5a19e4d6e3c', type='filter', column='petal_width', targets=['scatter_chart', 'histogram'], selector=RangeSlider(id='5487ce1e-af19-922a-d9b8-a714e61a441c', type='range_slider', min=0.1, max=2.5, step=None, marks=None, value=None, title='Petal_Width', actions=[ActionsChain(id='5a921187-19c7-8df4-8f4f-f31e78de5857', trigger=Trigger(component_id='5487ce1e-af19-922a-d9b8-a714e61a441c', component_property='value'), actions=[Action(id='filter_action_fcbd04c3-4021-2ef7-cca5-a5a19e4d6e3c', function=<vizro.models.types.CapturedCallable object at 0x124b57ce0>, inputs=[], outputs=[])])]))], path='/', actions=[ActionsChain(id='on_page_load_action_Scatter Chart and Histogram', trigger=Trigger(component_id='on_page_load_action_trigger_Scatter Chart and Histogram', component_property='data'), actions=[Action(id='on_page_load_action_action_Scatter Chart and Histogram', function=<vizro.models.types.CapturedCallable object at 0x124b667b0>, inputs=[], outputs=[])])])], theme='vizro_dark', navigation=Navigation(id='12e0c8b2-bad6-40fb-1948-8dec4f65d4d9', pages=['Scatter Chart and Histogram'], nav_selector=Accordion(id='a3f2c9bf-9c63-16b9-50f2-44556f25e2a2', type='accordion', pages={'SELECT PAGE': ['Scatter Chart and Histogram']})), title='Iris Data Visualization Dashboard')"
      ]
     },
     "execution_count": 13,
     "metadata": {},
     "output_type": "execute_result"
    }
   ],
   "source": [
    "dashboard"
   ]
  },
  {
   "cell_type": "code",
   "execution_count": null,
   "metadata": {},
   "outputs": [],
   "source": []
  }
 ],
 "metadata": {
  "kernelspec": {
   "display_name": "Python 3 (ipykernel)",
   "language": "python",
   "name": "python3"
  },
  "language_info": {
   "codemirror_mode": {
    "name": "ipython",
    "version": 3
   },
   "file_extension": ".py",
   "mimetype": "text/x-python",
   "name": "python",
   "nbconvert_exporter": "python",
   "pygments_lexer": "ipython3",
   "version": "3.12.3"
  }
 },
 "nbformat": 4,
 "nbformat_minor": 4
}
