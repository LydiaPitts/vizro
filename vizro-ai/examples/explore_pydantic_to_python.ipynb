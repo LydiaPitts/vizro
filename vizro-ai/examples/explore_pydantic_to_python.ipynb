{
 "cells": [
  {
   "cell_type": "code",
   "metadata": {
    "ExecuteTime": {
     "end_time": "2024-05-28T07:56:22.625320Z",
     "start_time": "2024-05-28T07:56:22.535807Z"
    }
   },
   "source": [
    "from black import format_str, FileMode"
   ],
   "outputs": [],
   "execution_count": 1
  },
  {
   "cell_type": "code",
   "metadata": {
    "ExecuteTime": {
     "end_time": "2024-05-28T07:56:24.156284Z",
     "start_time": "2024-05-28T07:56:22.626023Z"
    }
   },
   "source": [
    "import vizro.models as vm\n",
    "from vizro.models import *\n",
    "from vizro import Vizro\n",
    "import vizro.plotly.express as px"
   ],
   "outputs": [],
   "execution_count": 2
  },
  {
   "cell_type": "code",
   "metadata": {
    "ExecuteTime": {
     "end_time": "2024-05-28T07:56:24.161963Z",
     "start_time": "2024-05-28T07:56:24.158144Z"
    }
   },
   "source": [
    "page = vm.Page(\n",
    "    title=\"Page1\",\n",
    "    components=[\n",
    "        vm.Card(\n",
    "            text=\"\"\"\n",
    "                ### Card1\n",
    "            \"\"\",\n",
    "        ),\n",
    "        vm.Card(\n",
    "            text=\"\"\"\n",
    "                ### Card2\n",
    "            \"\"\",\n",
    "        ),\n",
    "        # vm.Graph(figure = px.scatter(px.data.iris(),x=\"petal_width\",y=\"petal_length\"))\n",
    "    ],\n",
    ")\n",
    "page2 = vm.Page(\n",
    "    title=\"Page2\",\n",
    "    components=[\n",
    "        vm.Card(\n",
    "            text=\"\"\"\n",
    "                ### Card1\n",
    "            \"\"\",\n",
    "        ),\n",
    "        vm.Card(\n",
    "            text=\"\"\"\n",
    "                ### Card2\n",
    "            \"\"\",\n",
    "        ),\n",
    "        # vm.Graph(figure = px.scatter(px.data.iris(),x=\"petal_width\",y=\"petal_length\"))\n",
    "    ],\n",
    ")\n",
    "\n",
    "dashboard = vm.Dashboard(pages=[page,page2],navigation=vm.Navigation(pages=[page.title,page2.title]))\n",
    "\n",
    "# Vizro().build(dashboard).run()"
   ],
   "outputs": [],
   "execution_count": 3
  },
  {
   "metadata": {
    "ExecuteTime": {
     "end_time": "2024-05-28T07:56:24.169688Z",
     "start_time": "2024-05-28T07:56:24.162842Z"
    }
   },
   "cell_type": "code",
   "source": [
    "res = format_str(dashboard.dict_obj(exclude_unset=True), mode=FileMode())\n",
    "# res = transform_dict(out)\n",
    "print(res)"
   ],
   "outputs": [
    {
     "name": "stdout",
     "output_type": "stream",
     "text": [
      "Dashboard(\n",
      "    pages=[\n",
      "        Page(\n",
      "            id=\"Page1\",\n",
      "            components=[\n",
      "                Card(text=\"\\n                ### Card1\\n            \"),\n",
      "                Card(text=\"\\n                ### Card2\\n            \"),\n",
      "            ],\n",
      "            title=\"Page1\",\n",
      "        ),\n",
      "        Page(\n",
      "            id=\"Page2\",\n",
      "            components=[\n",
      "                Card(text=\"\\n                ### Card1\\n            \"),\n",
      "                Card(text=\"\\n                ### Card2\\n            \"),\n",
      "            ],\n",
      "            title=\"Page2\",\n",
      "        ),\n",
      "    ],\n",
      "    navigation=Navigation(pages=[\"Page1\", \"Page2\"]),\n",
      ")\n",
      "\n"
     ]
    }
   ],
   "execution_count": 4
  },
  {
   "cell_type": "code",
   "metadata": {
    "ExecuteTime": {
     "end_time": "2024-05-28T07:56:24.174602Z",
     "start_time": "2024-05-28T07:56:24.170485Z"
    }
   },
   "source": "Vizro._reset()",
   "outputs": [],
   "execution_count": 5
  },
  {
   "metadata": {
    "ExecuteTime": {
     "end_time": "2024-05-28T07:56:24.180361Z",
     "start_time": "2024-05-28T07:56:24.175452Z"
    }
   },
   "cell_type": "code",
   "source": [
    "Dashboard(\n",
    "    pages=[\n",
    "        Page(\n",
    "            id=\"Page1\",\n",
    "            components=[\n",
    "                Card(text=\"\\n                ### Card1\\n            \"),\n",
    "                Card(text=\"\\n                ### Card2\\n            \"),\n",
    "            ],\n",
    "            title=\"Page1\",\n",
    "        ),\n",
    "        Page(\n",
    "            id=\"Page2\",\n",
    "            components=[\n",
    "                Card(text=\"\\n                ### Card1\\n            \"),\n",
    "                Card(text=\"\\n                ### Card2\\n            \"),\n",
    "            ],\n",
    "            title=\"Page2\",\n",
    "        ),\n",
    "    ],\n",
    "    navigation=Navigation(pages=[\"Page1\", \"Page2\"]),\n",
    ")"
   ],
   "outputs": [
    {
     "data": {
      "text/plain": [
       "Dashboard(id='85776e9a-dd84-f39e-7154-5a137a1d5006', pages=[Page(id='Page1', components=[Card(id='b4862b21-fb97-d435-8856-1712e8e5216a', type='card', text='\\n                ### Card1\\n            ', href=''), Card(id='259f4329-e6f4-590b-9a16-4106cf6a659e', type='card', text='\\n                ### Card2\\n            ', href='')], title='Page1', description='', layout=Layout(id='12e0c8b2-bad6-40fb-1948-8dec4f65d4d9', grid=[[0], [1]], row_gap='24px', col_gap='24px', row_min_height='0px', col_min_width='0px'), controls=[], path='/page1', actions=[]), Page(id='Page2', components=[Card(id='5487ce1e-af19-922a-d9b8-a714e61a441c', type='card', text='\\n                ### Card1\\n            ', href=''), Card(id='5a921187-19c7-8df4-8f4f-f31e78de5857', type='card', text='\\n                ### Card2\\n            ', href='')], title='Page2', description='', layout=Layout(id='a3f2c9bf-9c63-16b9-50f2-44556f25e2a2', grid=[[0], [1]], row_gap='24px', col_gap='24px', row_min_height='0px', col_min_width='0px'), controls=[], path='/page2', actions=[])], theme='vizro_dark', navigation=Navigation(id='8d723104-f773-83c1-3458-a748e9bb17bc', pages=['Page1', 'Page2'], nav_selector=None), title='')"
      ]
     },
     "execution_count": 6,
     "metadata": {},
     "output_type": "execute_result"
    }
   ],
   "execution_count": 6
  },
  {
   "metadata": {
    "ExecuteTime": {
     "end_time": "2024-05-28T07:56:24.182518Z",
     "start_time": "2024-05-28T07:56:24.181275Z"
    }
   },
   "cell_type": "code",
   "source": "",
   "outputs": [],
   "execution_count": 6
  }
 ],
 "metadata": {
  "kernelspec": {
   "display_name": "Python 3 (ipykernel)",
   "language": "python",
   "name": "python3"
  },
  "language_info": {
   "codemirror_mode": {
    "name": "ipython",
    "version": 3
   },
   "file_extension": ".py",
   "mimetype": "text/x-python",
   "name": "python",
   "nbconvert_exporter": "python",
   "pygments_lexer": "ipython3",
   "version": "3.9.12"
  }
 },
 "nbformat": 4,
 "nbformat_minor": 4
}
