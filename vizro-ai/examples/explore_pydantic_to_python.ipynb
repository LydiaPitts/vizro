{
 "cells": [
  {
   "cell_type": "code",
   "metadata": {
    "ExecuteTime": {
     "end_time": "2024-05-23T17:20:12.863030Z",
     "start_time": "2024-05-23T17:20:12.534177Z"
    }
   },
   "source": [
    "from black import format_str, FileMode"
   ],
   "outputs": [],
   "execution_count": 1
  },
  {
   "cell_type": "code",
   "metadata": {
    "ExecuteTime": {
     "end_time": "2024-05-23T17:20:20.453885Z",
     "start_time": "2024-05-23T17:20:14.605637Z"
    }
   },
   "source": [
    "import vizro.models as vm\n",
    "from vizro import Vizro\n",
    "import vizro.plotly.express as px"
   ],
   "outputs": [],
   "execution_count": 2
  },
  {
   "cell_type": "code",
   "metadata": {
    "ExecuteTime": {
     "end_time": "2024-05-23T17:20:21.593754Z",
     "start_time": "2024-05-23T17:20:20.873582Z"
    }
   },
   "source": [
    "page = vm.Page(\n",
    "    title=\"Page1\",\n",
    "    components=[\n",
    "        vm.Card(\n",
    "            text=\"\"\"\n",
    "                ### Card1\n",
    "            \"\"\",\n",
    "        ),\n",
    "        vm.Card(\n",
    "            text=\"\"\"\n",
    "                ### Card2\n",
    "            \"\"\",\n",
    "        ),\n",
    "        vm.Graph(figure = px.scatter(px.data.iris(),x=\"petal_width\",y=\"petal_length\"))\n",
    "    ],\n",
    ")\n",
    "page2 = vm.Page(\n",
    "    title=\"Page2\",\n",
    "    components=[\n",
    "        vm.Card(\n",
    "            text=\"\"\"\n",
    "                ### Card1\n",
    "            \"\"\",\n",
    "        ),\n",
    "        vm.Card(\n",
    "            text=\"\"\"\n",
    "                ### Card2\n",
    "            \"\"\",\n",
    "        ),\n",
    "        vm.Graph(figure = px.scatter(px.data.iris(),x=\"petal_width\",y=\"petal_length\"))\n",
    "    ],\n",
    ")\n",
    "\n",
    "dashboard = vm.Dashboard(pages=[page,page2],navigation=vm.Navigation(pages=[page.title,page2.title]))\n",
    "\n",
    "# Vizro().build(dashboard).run()"
   ],
   "outputs": [],
   "execution_count": 3
  },
  {
   "metadata": {
    "ExecuteTime": {
     "end_time": "2024-05-23T17:20:22.983149Z",
     "start_time": "2024-05-23T17:20:22.979370Z"
    }
   },
   "cell_type": "code",
   "source": [
    "for i,v in dashboard.__dict__.items():\n",
    "    print(f\"{i}   ============   {v}\")"
   ],
   "outputs": [
    {
     "name": "stdout",
     "output_type": "stream",
     "text": [
      "id   ============   259f4329-e6f4-590b-9a16-4106cf6a659e\n",
      "pages   ============   [Page(id='Page1', components=[Card(id='e3e70682-c209-4cac-629f-6fbed82c07cd', type='card', text='\\n                ### Card1\\n            ', href=''), Card(id='f728b4fa-4248-5e3a-0a5d-2f346baa9455', type='card', text='\\n                ### Card2\\n            ', href=''), Graph(id='eb1167b3-67a9-c378-7c65-c1e582e2e662', type='graph', figure=<vizro.models.types.CapturedCallable object at 0x7f97204dc310>, actions=[])], title='Page1', description='', layout=Layout(id='f7c1bd87-4da5-e709-d471-3d60c8a70639', grid=[[0], [1], [2]], row_gap='24px', col_gap='24px', row_min_height='0px', col_min_width='0px'), controls=[], path='/page1', actions=[]), Page(id='Page2', components=[Card(id='e443df78-9558-867f-5ba9-1faf7a024204', type='card', text='\\n                ### Card1\\n            ', href=''), Card(id='23a7711a-8133-2876-37eb-dcd9e87a1613', type='card', text='\\n                ### Card2\\n            ', href=''), Graph(id='1846d424-c17c-6279-23c6-612f48268673', type='graph', figure=<vizro.models.types.CapturedCallable object at 0x7f9778cbeb20>, actions=[])], title='Page2', description='', layout=Layout(id='fcbd04c3-4021-2ef7-cca5-a5a19e4d6e3c', grid=[[0], [1], [2]], row_gap='24px', col_gap='24px', row_min_height='0px', col_min_width='0px'), controls=[], path='/page2', actions=[])]\n",
      "theme   ============   vizro_dark\n",
      "navigation   ============   id='b4862b21-fb97-d435-8856-1712e8e5216a' pages=['Page1', 'Page2'] nav_selector=None\n",
      "title   ============   \n"
     ]
    }
   ],
   "execution_count": 4
  },
  {
   "metadata": {
    "ExecuteTime": {
     "end_time": "2024-05-23T20:32:14.151469Z",
     "start_time": "2024-05-23T19:55:13.056126Z"
    }
   },
   "cell_type": "code",
   "source": "dashboard.dict(exclude_unset=True)",
   "outputs": [
    {
     "name": "stdout",
     "output_type": "stream",
     "text": [
      "===> id\n"
     ]
    },
    {
     "ename": "KeyboardInterrupt",
     "evalue": "",
     "output_type": "error",
     "traceback": [
      "\u001B[0;31m---------------------------------------------------------------------------\u001B[0m",
      "\u001B[0;31mKeyboardInterrupt\u001B[0m                         Traceback (most recent call last)",
      "Cell \u001B[0;32mIn[18], line 1\u001B[0m\n\u001B[0;32m----> 1\u001B[0m \u001B[43mdashboard\u001B[49m\u001B[38;5;241;43m.\u001B[39;49m\u001B[43mdict\u001B[49m\u001B[43m(\u001B[49m\u001B[43mexclude_unset\u001B[49m\u001B[38;5;241;43m=\u001B[39;49m\u001B[38;5;28;43;01mTrue\u001B[39;49;00m\u001B[43m)\u001B[49m\n",
      "File \u001B[0;32m~/Library/Application Support/hatch/env/virtual/vizro-ai/fZiNbsWT/vizro-ai/lib/python3.9/site-packages/pydantic/v1/main.py:449\u001B[0m, in \u001B[0;36mBaseModel.dict\u001B[0;34m(self, include, exclude, by_alias, skip_defaults, exclude_unset, exclude_defaults, exclude_none)\u001B[0m\n\u001B[1;32m    443\u001B[0m     warnings\u001B[38;5;241m.\u001B[39mwarn(\n\u001B[1;32m    444\u001B[0m         \u001B[38;5;124mf\u001B[39m\u001B[38;5;124m'\u001B[39m\u001B[38;5;132;01m{\u001B[39;00m\u001B[38;5;28mself\u001B[39m\u001B[38;5;241m.\u001B[39m\u001B[38;5;18m__class__\u001B[39m\u001B[38;5;241m.\u001B[39m\u001B[38;5;18m__name__\u001B[39m\u001B[38;5;132;01m}\u001B[39;00m\u001B[38;5;124m.dict(): \u001B[39m\u001B[38;5;124m\"\u001B[39m\u001B[38;5;124mskip_defaults\u001B[39m\u001B[38;5;124m\"\u001B[39m\u001B[38;5;124m is deprecated and replaced by \u001B[39m\u001B[38;5;124m\"\u001B[39m\u001B[38;5;124mexclude_unset\u001B[39m\u001B[38;5;124m\"\u001B[39m\u001B[38;5;124m'\u001B[39m,\n\u001B[1;32m    445\u001B[0m         \u001B[38;5;167;01mDeprecationWarning\u001B[39;00m,\n\u001B[1;32m    446\u001B[0m     )\n\u001B[1;32m    447\u001B[0m     exclude_unset \u001B[38;5;241m=\u001B[39m skip_defaults\n\u001B[0;32m--> 449\u001B[0m \u001B[38;5;28;01mreturn\u001B[39;00m \u001B[38;5;28;43mdict\u001B[39;49m\u001B[43m(\u001B[49m\n\u001B[1;32m    450\u001B[0m \u001B[43m    \u001B[49m\u001B[38;5;28;43mself\u001B[39;49m\u001B[38;5;241;43m.\u001B[39;49m\u001B[43m_iter\u001B[49m\u001B[43m(\u001B[49m\n\u001B[1;32m    451\u001B[0m \u001B[43m        \u001B[49m\u001B[43mto_dict\u001B[49m\u001B[38;5;241;43m=\u001B[39;49m\u001B[38;5;28;43;01mTrue\u001B[39;49;00m\u001B[43m,\u001B[49m\n\u001B[1;32m    452\u001B[0m \u001B[43m        \u001B[49m\u001B[43mby_alias\u001B[49m\u001B[38;5;241;43m=\u001B[39;49m\u001B[43mby_alias\u001B[49m\u001B[43m,\u001B[49m\n\u001B[1;32m    453\u001B[0m \u001B[43m        \u001B[49m\u001B[43minclude\u001B[49m\u001B[38;5;241;43m=\u001B[39;49m\u001B[43minclude\u001B[49m\u001B[43m,\u001B[49m\n\u001B[1;32m    454\u001B[0m \u001B[43m        \u001B[49m\u001B[43mexclude\u001B[49m\u001B[38;5;241;43m=\u001B[39;49m\u001B[43mexclude\u001B[49m\u001B[43m,\u001B[49m\n\u001B[1;32m    455\u001B[0m \u001B[43m        \u001B[49m\u001B[43mexclude_unset\u001B[49m\u001B[38;5;241;43m=\u001B[39;49m\u001B[43mexclude_unset\u001B[49m\u001B[43m,\u001B[49m\n\u001B[1;32m    456\u001B[0m \u001B[43m        \u001B[49m\u001B[43mexclude_defaults\u001B[49m\u001B[38;5;241;43m=\u001B[39;49m\u001B[43mexclude_defaults\u001B[49m\u001B[43m,\u001B[49m\n\u001B[1;32m    457\u001B[0m \u001B[43m        \u001B[49m\u001B[43mexclude_none\u001B[49m\u001B[38;5;241;43m=\u001B[39;49m\u001B[43mexclude_none\u001B[49m\u001B[43m,\u001B[49m\n\u001B[1;32m    458\u001B[0m \u001B[43m    \u001B[49m\u001B[43m)\u001B[49m\n\u001B[1;32m    459\u001B[0m \u001B[43m\u001B[49m\u001B[43m)\u001B[49m\n",
      "File \u001B[0;32m~/Library/Application Support/hatch/env/virtual/vizro-ai/fZiNbsWT/vizro-ai/lib/python3.9/site-packages/pydantic/v1/main.py:853\u001B[0m, in \u001B[0;36mBaseModel._iter\u001B[0;34m(self, to_dict, by_alias, include, exclude, exclude_unset, exclude_defaults, exclude_none)\u001B[0m\n\u001B[1;32m    850\u001B[0m value_include \u001B[38;5;241m=\u001B[39m ValueItems(\u001B[38;5;28mself\u001B[39m, include) \u001B[38;5;28;01mif\u001B[39;00m include \u001B[38;5;129;01mis\u001B[39;00m \u001B[38;5;129;01mnot\u001B[39;00m \u001B[38;5;28;01mNone\u001B[39;00m \u001B[38;5;28;01melse\u001B[39;00m \u001B[38;5;28;01mNone\u001B[39;00m\n\u001B[1;32m    852\u001B[0m \u001B[38;5;28;01mfor\u001B[39;00m field_key, v \u001B[38;5;129;01min\u001B[39;00m \u001B[38;5;28mself\u001B[39m\u001B[38;5;241m.\u001B[39m\u001B[38;5;18m__dict__\u001B[39m\u001B[38;5;241m.\u001B[39mitems():\n\u001B[0;32m--> 853\u001B[0m     \u001B[38;5;28;43mprint\u001B[39;49m(\u001B[38;5;124m\"\u001B[39m\u001B[38;5;124m===>\u001B[39m\u001B[38;5;124m\"\u001B[39m,field_key)\n\u001B[1;32m    854\u001B[0m     \u001B[38;5;28;01mif\u001B[39;00m (allowed_keys \u001B[38;5;129;01mis\u001B[39;00m \u001B[38;5;129;01mnot\u001B[39;00m \u001B[38;5;28;01mNone\u001B[39;00m \u001B[38;5;129;01mand\u001B[39;00m field_key \u001B[38;5;129;01mnot\u001B[39;00m \u001B[38;5;129;01min\u001B[39;00m allowed_keys) \u001B[38;5;129;01mor\u001B[39;00m (exclude_none \u001B[38;5;129;01mand\u001B[39;00m v \u001B[38;5;129;01mis\u001B[39;00m \u001B[38;5;28;01mNone\u001B[39;00m):\n\u001B[1;32m    855\u001B[0m         \u001B[38;5;28;01mcontinue\u001B[39;00m\n",
      "File \u001B[0;32m~/Library/Application Support/hatch/env/virtual/vizro-ai/fZiNbsWT/vizro-ai/lib/python3.9/site-packages/pydantic/v1/main.py:853\u001B[0m, in \u001B[0;36mBaseModel._iter\u001B[0;34m(self, to_dict, by_alias, include, exclude, exclude_unset, exclude_defaults, exclude_none)\u001B[0m\n\u001B[1;32m    850\u001B[0m value_include \u001B[38;5;241m=\u001B[39m ValueItems(\u001B[38;5;28mself\u001B[39m, include) \u001B[38;5;28;01mif\u001B[39;00m include \u001B[38;5;129;01mis\u001B[39;00m \u001B[38;5;129;01mnot\u001B[39;00m \u001B[38;5;28;01mNone\u001B[39;00m \u001B[38;5;28;01melse\u001B[39;00m \u001B[38;5;28;01mNone\u001B[39;00m\n\u001B[1;32m    852\u001B[0m \u001B[38;5;28;01mfor\u001B[39;00m field_key, v \u001B[38;5;129;01min\u001B[39;00m \u001B[38;5;28mself\u001B[39m\u001B[38;5;241m.\u001B[39m\u001B[38;5;18m__dict__\u001B[39m\u001B[38;5;241m.\u001B[39mitems():\n\u001B[0;32m--> 853\u001B[0m     \u001B[38;5;28;43mprint\u001B[39;49m(\u001B[38;5;124m\"\u001B[39m\u001B[38;5;124m===>\u001B[39m\u001B[38;5;124m\"\u001B[39m,field_key)\n\u001B[1;32m    854\u001B[0m     \u001B[38;5;28;01mif\u001B[39;00m (allowed_keys \u001B[38;5;129;01mis\u001B[39;00m \u001B[38;5;129;01mnot\u001B[39;00m \u001B[38;5;28;01mNone\u001B[39;00m \u001B[38;5;129;01mand\u001B[39;00m field_key \u001B[38;5;129;01mnot\u001B[39;00m \u001B[38;5;129;01min\u001B[39;00m allowed_keys) \u001B[38;5;129;01mor\u001B[39;00m (exclude_none \u001B[38;5;129;01mand\u001B[39;00m v \u001B[38;5;129;01mis\u001B[39;00m \u001B[38;5;28;01mNone\u001B[39;00m):\n\u001B[1;32m    855\u001B[0m         \u001B[38;5;28;01mcontinue\u001B[39;00m\n",
      "File \u001B[0;32m_pydevd_bundle/pydevd_cython_darwin_39_64.pyx:1187\u001B[0m, in \u001B[0;36m_pydevd_bundle.pydevd_cython_darwin_39_64.SafeCallWrapper.__call__\u001B[0;34m()\u001B[0m\n",
      "File \u001B[0;32m_pydevd_bundle/pydevd_cython_darwin_39_64.pyx:627\u001B[0m, in \u001B[0;36m_pydevd_bundle.pydevd_cython_darwin_39_64.PyDBFrame.trace_dispatch\u001B[0;34m()\u001B[0m\n",
      "File \u001B[0;32m_pydevd_bundle/pydevd_cython_darwin_39_64.pyx:937\u001B[0m, in \u001B[0;36m_pydevd_bundle.pydevd_cython_darwin_39_64.PyDBFrame.trace_dispatch\u001B[0;34m()\u001B[0m\n",
      "File \u001B[0;32m_pydevd_bundle/pydevd_cython_darwin_39_64.pyx:928\u001B[0m, in \u001B[0;36m_pydevd_bundle.pydevd_cython_darwin_39_64.PyDBFrame.trace_dispatch\u001B[0;34m()\u001B[0m\n",
      "File \u001B[0;32m_pydevd_bundle/pydevd_cython_darwin_39_64.pyx:585\u001B[0m, in \u001B[0;36m_pydevd_bundle.pydevd_cython_darwin_39_64.PyDBFrame.do_wait_suspend\u001B[0;34m()\u001B[0m\n",
      "File \u001B[0;32m/Applications/PyCharm.app/Contents/plugins/python/helpers/pydev/pydevd.py:1185\u001B[0m, in \u001B[0;36mPyDB.do_wait_suspend\u001B[0;34m(self, thread, frame, event, arg, send_suspend_message, is_unhandled_exception)\u001B[0m\n\u001B[1;32m   1182\u001B[0m         from_this_thread\u001B[38;5;241m.\u001B[39mappend(frame_id)\n\u001B[1;32m   1184\u001B[0m \u001B[38;5;28;01mwith\u001B[39;00m \u001B[38;5;28mself\u001B[39m\u001B[38;5;241m.\u001B[39m_threads_suspended_single_notification\u001B[38;5;241m.\u001B[39mnotify_thread_suspended(thread_id, stop_reason):\n\u001B[0;32m-> 1185\u001B[0m     \u001B[38;5;28;43mself\u001B[39;49m\u001B[38;5;241;43m.\u001B[39;49m\u001B[43m_do_wait_suspend\u001B[49m\u001B[43m(\u001B[49m\u001B[43mthread\u001B[49m\u001B[43m,\u001B[49m\u001B[43m \u001B[49m\u001B[43mframe\u001B[49m\u001B[43m,\u001B[49m\u001B[43m \u001B[49m\u001B[43mevent\u001B[49m\u001B[43m,\u001B[49m\u001B[43m \u001B[49m\u001B[43marg\u001B[49m\u001B[43m,\u001B[49m\u001B[43m \u001B[49m\u001B[43msuspend_type\u001B[49m\u001B[43m,\u001B[49m\u001B[43m \u001B[49m\u001B[43mfrom_this_thread\u001B[49m\u001B[43m)\u001B[49m\n",
      "File \u001B[0;32m/Applications/PyCharm.app/Contents/plugins/python/helpers/pydev/pydevd.py:1200\u001B[0m, in \u001B[0;36mPyDB._do_wait_suspend\u001B[0;34m(self, thread, frame, event, arg, suspend_type, from_this_thread)\u001B[0m\n\u001B[1;32m   1197\u001B[0m             \u001B[38;5;28mself\u001B[39m\u001B[38;5;241m.\u001B[39m_call_mpl_hook()\n\u001B[1;32m   1199\u001B[0m         \u001B[38;5;28mself\u001B[39m\u001B[38;5;241m.\u001B[39mprocess_internal_commands()\n\u001B[0;32m-> 1200\u001B[0m         \u001B[43mtime\u001B[49m\u001B[38;5;241;43m.\u001B[39;49m\u001B[43msleep\u001B[49m\u001B[43m(\u001B[49m\u001B[38;5;241;43m0.01\u001B[39;49m\u001B[43m)\u001B[49m\n\u001B[1;32m   1202\u001B[0m \u001B[38;5;28mself\u001B[39m\u001B[38;5;241m.\u001B[39mcancel_async_evaluation(get_current_thread_id(thread), \u001B[38;5;28mstr\u001B[39m(\u001B[38;5;28mid\u001B[39m(frame)))\n\u001B[1;32m   1204\u001B[0m \u001B[38;5;66;03m# process any stepping instructions\u001B[39;00m\n",
      "\u001B[0;31mKeyboardInterrupt\u001B[0m: "
     ]
    }
   ],
   "execution_count": 18
  },
  {
   "metadata": {
    "ExecuteTime": {
     "end_time": "2024-05-23T17:05:10.523073Z",
     "start_time": "2024-05-23T17:05:10.516934Z"
    }
   },
   "cell_type": "code",
   "source": "dashboard.dict(exclude_defaults=True)",
   "outputs": [
    {
     "data": {
      "text/plain": [
       "{'id': '259f4329-e6f4-590b-9a16-4106cf6a659e',\n",
       " 'pages': [{'id': 'Page1',\n",
       "   'components': [{'id': 'e3e70682-c209-4cac-629f-6fbed82c07cd',\n",
       "     'text': '\\n                ### Card1\\n            '},\n",
       "    {'id': 'f728b4fa-4248-5e3a-0a5d-2f346baa9455',\n",
       "     'text': '\\n                ### Card2\\n            '},\n",
       "    {'id': 'eb1167b3-67a9-c378-7c65-c1e582e2e662',\n",
       "     'figure': <vizro.models.types.CapturedCallable at 0x7fdd387979a0>}],\n",
       "   'title': 'Page1',\n",
       "   'layout': {'id': 'f7c1bd87-4da5-e709-d471-3d60c8a70639',\n",
       "    'grid': [[0], [1], [2]]},\n",
       "   'path': '/page1'},\n",
       "  {'id': 'Page2',\n",
       "   'components': [{'id': 'e443df78-9558-867f-5ba9-1faf7a024204',\n",
       "     'text': '\\n                ### Card1\\n            '},\n",
       "    {'id': '23a7711a-8133-2876-37eb-dcd9e87a1613',\n",
       "     'text': '\\n                ### Card2\\n            '},\n",
       "    {'id': '1846d424-c17c-6279-23c6-612f48268673',\n",
       "     'figure': <vizro.models.types.CapturedCallable at 0x7fdd1829c160>}],\n",
       "   'title': 'Page2',\n",
       "   'layout': {'id': 'fcbd04c3-4021-2ef7-cca5-a5a19e4d6e3c',\n",
       "    'grid': [[0], [1], [2]]},\n",
       "   'path': '/page2'}],\n",
       " 'navigation': {'id': 'b4862b21-fb97-d435-8856-1712e8e5216a',\n",
       "  'pages': ['Page1', 'Page2']}}"
      ]
     },
     "execution_count": 19,
     "metadata": {},
     "output_type": "execute_result"
    }
   ],
   "execution_count": 19
  },
  {
   "metadata": {
    "ExecuteTime": {
     "end_time": "2024-05-23T17:06:38.096474Z",
     "start_time": "2024-05-23T17:06:38.092839Z"
    }
   },
   "cell_type": "code",
   "source": [
    "for i,v in dashboard._iter(to_dict=True,exclude_unset=True,exclude_defaults=True):\n",
    "    print(i,v)"
   ],
   "outputs": [
    {
     "name": "stdout",
     "output_type": "stream",
     "text": [
      "pages [{'id': 'Page1', 'components': [{'text': '\\n                ### Card1\\n            '}, {'text': '\\n                ### Card2\\n            '}, {'figure': <vizro.models.types.CapturedCallable object at 0x7fdd387979a0>}], 'title': 'Page1'}, {'id': 'Page2', 'components': [{'text': '\\n                ### Card1\\n            '}, {'text': '\\n                ### Card2\\n            '}, {'figure': <vizro.models.types.CapturedCallable object at 0x7fdd1829c160>}], 'title': 'Page2'}]\n",
      "navigation {'pages': ['Page1', 'Page2']}\n"
     ]
    }
   ],
   "execution_count": 21
  },
  {
   "metadata": {
    "ExecuteTime": {
     "end_time": "2024-05-23T17:00:47.142734Z",
     "start_time": "2024-05-23T17:00:47.138081Z"
    }
   },
   "cell_type": "code",
   "source": "i",
   "outputs": [
    {
     "data": {
      "text/plain": [
       "'navigation'"
      ]
     },
     "execution_count": 6,
     "metadata": {},
     "output_type": "execute_result"
    }
   ],
   "execution_count": 6
  },
  {
   "metadata": {
    "ExecuteTime": {
     "end_time": "2024-05-23T16:50:07.043642Z",
     "start_time": "2024-05-23T16:50:07.039710Z"
    }
   },
   "cell_type": "code",
   "source": "list(firstn(5))",
   "outputs": [
    {
     "data": {
      "text/plain": [
       "[0, 1, 2, 3, 4]"
      ]
     },
     "execution_count": 16,
     "metadata": {},
     "output_type": "execute_result"
    }
   ],
   "execution_count": 16
  },
  {
   "metadata": {
    "ExecuteTime": {
     "end_time": "2024-05-23T16:39:56.851497Z",
     "start_time": "2024-05-23T16:39:56.846598Z"
    }
   },
   "cell_type": "code",
   "source": "dict(dashboard._iter(to_dict=True,exclude_unset=True,exclude_defaults=True))",
   "outputs": [
    {
     "data": {
      "text/plain": [
       "{'pages': [{'id': 'Card',\n",
       "   'components': [{'text': '\\n                ### Card1\\n            '},\n",
       "    {'text': '\\n                ### Card2\\n            '}],\n",
       "   'title': 'Card'}]}"
      ]
     },
     "execution_count": 10,
     "metadata": {},
     "output_type": "execute_result"
    }
   ],
   "execution_count": 10
  },
  {
   "metadata": {
    "ExecuteTime": {
     "end_time": "2024-05-23T16:28:03.524731Z",
     "start_time": "2024-05-23T16:28:03.520175Z"
    }
   },
   "cell_type": "code",
   "source": "dashboard.__repr_args__()",
   "outputs": [
    {
     "data": {
      "text/plain": [
       "[('id', 'eb1167b3-67a9-c378-7c65-c1e582e2e662'),\n",
       " ('pages',\n",
       "  [Page(id='Card', components=[Card(id='e3e70682-c209-4cac-629f-6fbed82c07cd', type='card', text='\\n                ### Card Title\\n                Commodi repudiandae consequuntur voluptatum.\\n            ', href='')], title='Card', description='', layout=Layout(id='f728b4fa-4248-5e3a-0a5d-2f346baa9455', grid=[[0]], row_gap='24px', col_gap='24px', row_min_height='0px', col_min_width='0px'), controls=[], path='/card', actions=[])]),\n",
       " ('theme', 'vizro_dark'),\n",
       " ('navigation',\n",
       "  Navigation(id='f7c1bd87-4da5-e709-d471-3d60c8a70639', pages=['Card'], nav_selector=None)),\n",
       " ('title', '')]"
      ]
     },
     "execution_count": 16,
     "metadata": {},
     "output_type": "execute_result"
    }
   ],
   "execution_count": 16
  },
  {
   "metadata": {
    "ExecuteTime": {
     "end_time": "2024-05-23T16:27:02.979985Z",
     "start_time": "2024-05-23T16:27:02.975625Z"
    }
   },
   "cell_type": "code",
   "source": "dashboard.__slots__",
   "outputs": [
    {
     "data": {
      "text/plain": [
       "set()"
      ]
     },
     "execution_count": 15,
     "metadata": {},
     "output_type": "execute_result"
    }
   ],
   "execution_count": 15
  },
  {
   "cell_type": "code",
   "execution_count": 4,
   "metadata": {
    "ExecuteTime": {
     "end_time": "2024-05-23T14:11:59.628155Z",
     "start_time": "2024-05-23T14:11:59.619301Z"
    }
   },
   "outputs": [
    {
     "name": "stdout",
     "output_type": "stream",
     "text": [
      "Dashboard(id='f7c1bd87-4da5-e709-d471-3d60c8a70639', pages=[Page(id='Card', components=[Card(id='e3e70682-c209-4cac-629f-6fbed82c07cd', type='card', text='\\n                ### Card1\\n            ', href=''), Card(id='f728b4fa-4248-5e3a-0a5d-2f346baa9455', type='card', text='\\n                ### Card2\\n            ', href='')], title='Card', description='', layout=Layout(id='eb1167b3-67a9-c378-7c65-c1e582e2e662', grid=[[0], [1]], row_gap='24px', col_gap='24px', row_min_height='0px', col_min_width='0px'), controls=[], path='/card', actions=[])], theme='vizro_dark', navigation=Navigation(id='e443df78-9558-867f-5ba9-1faf7a024204', pages=['Card'], nav_selector=None), title='')\n"
     ]
    }
   ],
   "source": [
    "print(repr(dashboard))"
   ]
  },
  {
   "cell_type": "code",
   "metadata": {
    "ExecuteTime": {
     "end_time": "2024-05-23T16:35:25.431954Z",
     "start_time": "2024-05-23T16:35:25.427612Z"
    }
   },
   "source": [
    "dashboard.dict(exclude_unset=True,exclude_defaults=True)"
   ],
   "outputs": [
    {
     "data": {
      "text/plain": [
       "{'pages': [{'id': 'Card',\n",
       "   'components': [{'text': '\\n                ### Card Title\\n                Commodi repudiandae consequuntur voluptatum.\\n            '}],\n",
       "   'title': 'Card'}]}"
      ]
     },
     "execution_count": 22,
     "metadata": {},
     "output_type": "execute_result"
    }
   ],
   "execution_count": 22
  },
  {
   "cell_type": "code",
   "execution_count": 10,
   "metadata": {},
   "outputs": [
    {
     "name": "stdout",
     "output_type": "stream",
     "text": [
      "{'id': 'eb1167b3-67a9-c378-7c65-c1e582e2e662', 'pages': [Page(id='Card', components=[Card(id='e3e70682-c209-4cac-629f-6fbed82c07cd', type='card', text='\\n                ### Card Title\\n                Commodi repudiandae consequuntur voluptatum.\\n            ', href='')], title='Card', description='', layout=Layout(id='f728b4fa-4248-5e3a-0a5d-2f346baa9455', grid=[[0]], row_gap='24px', col_gap='24px', row_min_height='0px', col_min_width='0px'), controls=[], path='/card', actions=[])], 'theme': 'vizro_dark', 'navigation': Navigation(id='f7c1bd87-4da5-e709-d471-3d60c8a70639', pages=['Card'], nav_selector=None), 'title': ''}\n"
     ]
    }
   ],
   "source": [
    "print(dict(dashboard))"
   ]
  },
  {
   "cell_type": "code",
   "execution_count": 5,
   "metadata": {
    "ExecuteTime": {
     "end_time": "2024-05-23T14:12:20.840374Z",
     "start_time": "2024-05-23T14:12:20.822265Z"
    }
   },
   "outputs": [
    {
     "name": "stdout",
     "output_type": "stream",
     "text": [
      "Dashboard(\n",
      "    id=\"f7c1bd87-4da5-e709-d471-3d60c8a70639\",\n",
      "    pages=[\n",
      "        Page(\n",
      "            id=\"Card\",\n",
      "            components=[\n",
      "                Card(\n",
      "                    id=\"e3e70682-c209-4cac-629f-6fbed82c07cd\",\n",
      "                    type=\"card\",\n",
      "                    text=\"\\n                ### Card1\\n            \",\n",
      "                    href=\"\",\n",
      "                ),\n",
      "                Card(\n",
      "                    id=\"f728b4fa-4248-5e3a-0a5d-2f346baa9455\",\n",
      "                    type=\"card\",\n",
      "                    text=\"\\n                ### Card2\\n            \",\n",
      "                    href=\"\",\n",
      "                ),\n",
      "            ],\n",
      "            title=\"Card\",\n",
      "            description=\"\",\n",
      "            layout=Layout(\n",
      "                id=\"eb1167b3-67a9-c378-7c65-c1e582e2e662\",\n",
      "                grid=[[0], [1]],\n",
      "                row_gap=\"24px\",\n",
      "                col_gap=\"24px\",\n",
      "                row_min_height=\"0px\",\n",
      "                col_min_width=\"0px\",\n",
      "            ),\n",
      "            controls=[],\n",
      "            path=\"/card\",\n",
      "            actions=[],\n",
      "        )\n",
      "    ],\n",
      "    theme=\"vizro_dark\",\n",
      "    navigation=Navigation(\n",
      "        id=\"e443df78-9558-867f-5ba9-1faf7a024204\", pages=[\"Card\"], nav_selector=None\n",
      "    ),\n",
      "    title=\"\",\n",
      ")\n",
      "\n"
     ]
    }
   ],
   "source": [
    "res = format_str(repr(dashboard), mode=FileMode())\n",
    "print(res)"
   ]
  },
  {
   "cell_type": "code",
   "execution_count": 6,
   "metadata": {},
   "outputs": [],
   "source": [
    "from vizro.models import *"
   ]
  },
  {
   "cell_type": "code",
   "execution_count": 2,
   "metadata": {},
   "outputs": [
    {
     "data": {
      "text/plain": [
       "Dashboard(id='eb1167b3-67a9-c378-7c65-c1e582e2e662', pages=[Page(id='Card', components=[Card(id='e3e70682-c209-4cac-629f-6fbed82c07cd', type='card', text='\\n                ### Card Title\\n                Commodi repudiandae consequuntur voluptatum.\\n            ', href='')], title='Card', description='', layout=Layout(id='f728b4fa-4248-5e3a-0a5d-2f346baa9455', grid=[[0]], row_gap='24px', col_gap='24px', row_min_height='0px', col_min_width='0px'), controls=[], path='/card', actions=[])], theme='vizro_dark', navigation=Navigation(id='f7c1bd87-4da5-e709-d471-3d60c8a70639', pages=['Card'], nav_selector=None), title='')"
      ]
     },
     "execution_count": 2,
     "metadata": {},
     "output_type": "execute_result"
    }
   ],
   "source": [
    "Dashboard(\n",
    "    id=\"eb1167b3-67a9-c378-7c65-c1e582e2e662\",\n",
    "    pages=[\n",
    "        Page(\n",
    "            id=\"Card\",\n",
    "            components=[\n",
    "                Card(\n",
    "                    id=\"e3e70682-c209-4cac-629f-6fbed82c07cd\",\n",
    "                    type=\"card\",\n",
    "                    text=\"\\n                ### Card Title\\n                Commodi repudiandae consequuntur voluptatum.\\n            \",\n",
    "                    href=\"\",\n",
    "                )\n",
    "            ],\n",
    "            title=\"Card\",\n",
    "            description=\"\",\n",
    "            layout=Layout(\n",
    "                id=\"f728b4fa-4248-5e3a-0a5d-2f346baa9455\",\n",
    "                grid=[[0]],\n",
    "                row_gap=\"24px\",\n",
    "                col_gap=\"24px\",\n",
    "                row_min_height=\"0px\",\n",
    "                col_min_width=\"0px\",\n",
    "            ),\n",
    "            controls=[],\n",
    "            path=\"/card\",\n",
    "            actions=[],\n",
    "        )\n",
    "    ],\n",
    "    theme=\"vizro_dark\",\n",
    "    navigation=Navigation(\n",
    "        id=\"f7c1bd87-4da5-e709-d471-3d60c8a70639\", pages=[\"Card\"], nav_selector=None\n",
    "    ),\n",
    "    title=\"\",\n",
    ")"
   ]
  },
  {
   "cell_type": "code",
   "execution_count": 7,
   "metadata": {},
   "outputs": [
    {
     "ename": "SyntaxError",
     "evalue": "invalid syntax (3609252123.py, line 1)",
     "output_type": "error",
     "traceback": [
      "\u001B[0;36m  Cell \u001B[0;32mIn[7], line 1\u001B[0;36m\u001B[0m\n\u001B[0;31m    Dashboard(id='f7c1bd87-4da5-e709-d471-3d60c8a70639', pages=[Page(id='Card', components=[Card(id='e3e70682-c209-4cac-629f-6fbed82c07cd', type='card', text='\\n                ### Card Title\\n                Commodi repudiandae consequuntur voluptatum.\\n            ', href=''), Graph(id='f728b4fa-4248-5e3a-0a5d-2f346baa9455', type='graph', figure=<vizro.models.types.CapturedCallable object at 0x7fa9f8cf3370>, actions=[])], title='Card', description='', layout=Layout(id='eb1167b3-67a9-c378-7c65-c1e582e2e662', grid=[[0], [1]], row_gap='24px', col_gap='24px', row_min_height='0px', col_min_width='0px'), controls=[], path='/card', actions=[])], theme='vizro_dark', navigation=Navigation(id='e443df78-9558-867f-5ba9-1faf7a024204', pages=['Card'], nav_selector=None), title='')\u001B[0m\n\u001B[0m                                                                                                                                                                                                                                                                                                                                                              ^\u001B[0m\n\u001B[0;31mSyntaxError\u001B[0m\u001B[0;31m:\u001B[0m invalid syntax\n"
     ]
    }
   ],
   "source": [
    "Dashboard(id='f7c1bd87-4da5-e709-d471-3d60c8a70639', pages=[Page(id='Card', components=[Card(id='e3e70682-c209-4cac-629f-6fbed82c07cd', type='card', text='\\n                ### Card Title\\n                Commodi repudiandae consequuntur voluptatum.\\n            ', href=''), Graph(id='f728b4fa-4248-5e3a-0a5d-2f346baa9455', type='graph', figure=<vizro.models.types.CapturedCallable object at 0x7fa9f8cf3370>, actions=[])], title='Card', description='', layout=Layout(id='eb1167b3-67a9-c378-7c65-c1e582e2e662', grid=[[0], [1]], row_gap='24px', col_gap='24px', row_min_height='0px', col_min_width='0px'), controls=[], path='/card', actions=[])], theme='vizro_dark', navigation=Navigation(id='e443df78-9558-867f-5ba9-1faf7a024204', pages=['Card'], nav_selector=None), title='')"
   ]
  },
  {
   "cell_type": "code",
   "execution_count": null,
   "metadata": {},
   "outputs": [],
   "source": [
    "def firstn(n):\n",
    "    num = 0\n",
    "    while num < n:\n",
    "        yield num\n",
    "        num += 1"
   ]
  }
 ],
 "metadata": {
  "kernelspec": {
   "display_name": "Python 3 (ipykernel)",
   "language": "python",
   "name": "python3"
  },
  "language_info": {
   "codemirror_mode": {
    "name": "ipython",
    "version": 3
   },
   "file_extension": ".py",
   "mimetype": "text/x-python",
   "name": "python",
   "nbconvert_exporter": "python",
   "pygments_lexer": "ipython3",
   "version": "3.9.12"
  }
 },
 "nbformat": 4,
 "nbformat_minor": 4
}
