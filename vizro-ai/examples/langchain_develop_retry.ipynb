{
 "cells": [
  {
   "cell_type": "code",
   "id": "5999ceb3-7621-4121-85a2-a9766c593807",
   "metadata": {
    "ExecuteTime": {
     "end_time": "2024-05-22T08:42:48.418179Z",
     "start_time": "2024-05-22T08:42:48.386216Z"
    }
   },
   "source": [
    "from dotenv import load_dotenv\n",
    "\n",
    "load_dotenv()"
   ],
   "outputs": [
    {
     "data": {
      "text/plain": [
       "True"
      ]
     },
     "execution_count": 1,
     "metadata": {},
     "output_type": "execute_result"
    }
   ],
   "execution_count": 1
  },
  {
   "cell_type": "code",
   "id": "8ef5d1e2-6246-4771-85bf-890c343e5fa2",
   "metadata": {
    "ExecuteTime": {
     "end_time": "2024-05-22T08:44:50.136370Z",
     "start_time": "2024-05-22T08:44:50.064696Z"
    }
   },
   "source": [
    "from typing import List, Union, Literal\n",
    "import os\n",
    "\n",
    "from langchain.output_parsers import PydanticOutputParser\n",
    "from langchain_core.prompts import PromptTemplate\n",
    "from langchain_core.pydantic_v1 import BaseModel, Field, validator\n",
    "from langchain_openai import ChatOpenAI\n",
    "from langchain_core.exceptions import OutputParserException\n",
    "from langchain_experimental.llms.ollama_functions import OllamaFunctions"
   ],
   "outputs": [],
   "execution_count": 7
  },
  {
   "cell_type": "code",
   "id": "9573537f-dd35-4981-9bde-54842bdba020",
   "metadata": {
    "ExecuteTime": {
     "end_time": "2024-05-22T08:42:51.171654Z",
     "start_time": "2024-05-22T08:42:51.161944Z"
    }
   },
   "source": [
    "from pydantic import (\n",
    "    BaseModel,\n",
    "    ValidationError,\n",
    "    ValidationInfo,\n",
    "    field_validator,\n",
    ")"
   ],
   "outputs": [],
   "execution_count": 3
  },
  {
   "cell_type": "code",
   "id": "1b21ea4a-979d-4099-bdd2-9fef98592042",
   "metadata": {
    "ExecuteTime": {
     "end_time": "2024-05-22T08:42:51.176607Z",
     "start_time": "2024-05-22T08:42:51.173956Z"
    }
   },
   "source": [
    "from pydantic.v1 import BaseModel as BaseModelV1"
   ],
   "outputs": [],
   "execution_count": 4
  },
  {
   "cell_type": "code",
   "id": "df171406-64d3-4c73-96be-83e867ff862f",
   "metadata": {
    "ExecuteTime": {
     "end_time": "2024-05-22T08:42:51.417301Z",
     "start_time": "2024-05-22T08:42:51.177891Z"
    }
   },
   "source": [
    "from langchain_anthropic import ChatAnthropic"
   ],
   "outputs": [],
   "execution_count": 5
  },
  {
   "cell_type": "markdown",
   "id": "92a78d36-4884-41e1-86d7-bd42c5551cf1",
   "metadata": {
    "jp-MarkdownHeadingCollapsed": true
   },
   "source": [
    "## OpenAI"
   ]
  },
  {
   "cell_type": "code",
   "id": "04352436-ccb7-4d06-becb-b177acdbdfac",
   "metadata": {
    "ExecuteTime": {
     "end_time": "2024-05-02T11:26:44.865996Z",
     "start_time": "2024-05-02T11:26:43.976874Z"
    }
   },
   "source": [
    "import os\n",
    "from openai import OpenAI\n",
    "\n",
    "client = OpenAI(\n",
    "    # This is the default and can be omitted\n",
    "    api_key=os.environ.get(\"OPENAI_API_KEY\"),\n",
    ")\n",
    "\n",
    "chat_completion = client.chat.completions.create(\n",
    "    messages=[\n",
    "        {\n",
    "            \"role\": \"user\",\n",
    "            \"content\": \"Say this is a test\",\n",
    "        }\n",
    "    ],\n",
    "    model=\"gpt-3.5-turbo\",\n",
    ")"
   ],
   "outputs": [],
   "execution_count": 6
  },
  {
   "cell_type": "markdown",
   "id": "508dc5aa-ddf2-4601-a2c5-7c3cc434e057",
   "metadata": {
    "jp-MarkdownHeadingCollapsed": true
   },
   "source": [
    "## Anthropic"
   ]
  },
  {
   "cell_type": "code",
   "id": "b46dbaeb-deff-45fe-b77b-c41945c87d21",
   "metadata": {
    "ExecuteTime": {
     "end_time": "2024-05-02T11:26:47.963107Z",
     "start_time": "2024-05-02T11:26:44.867915Z"
    }
   },
   "source": [
    "import os\n",
    "from anthropic import Anthropic\n",
    "\n",
    "client = Anthropic(\n",
    "    # This is the default and can be omitted\n",
    "    api_key=os.environ.get(\"ANTHROPIC_API_KEY\"),\n",
    "    base_url=os.environ.get(\"ANTHROPIC_API_BASE\")\n",
    ")\n",
    "\n",
    "message = client.messages.create(\n",
    "    max_tokens=1024,\n",
    "    messages=[\n",
    "        {\n",
    "            \"role\": \"user\",\n",
    "            \"content\": \"Hello, Claude\",\n",
    "        }\n",
    "    ],\n",
    "    model=\"claude-3-opus-20240229\",\n",
    ")\n",
    "print(message.content)"
   ],
   "outputs": [
    {
     "name": "stdout",
     "output_type": "stream",
     "text": [
      "[TextBlock(text=\"Hello! It's nice to meet you. How can I assist you today?\", type='text')]\n"
     ]
    }
   ],
   "execution_count": 7
  },
  {
   "cell_type": "markdown",
   "id": "07af86ed-73fa-44e6-8b16-368f24a9887c",
   "metadata": {},
   "source": [
    "## Choose model"
   ]
  },
  {
   "cell_type": "code",
   "id": "0295ba8a-0afb-48ff-bad4-3a929fdc7492",
   "metadata": {
    "ExecuteTime": {
     "end_time": "2024-05-22T08:59:52.997086Z",
     "start_time": "2024-05-22T08:59:52.994163Z"
    }
   },
   "source": [
    "# model = ChatOpenAI(model =\"gpt-4-turbo\", temperature=0)\n",
    "\n",
    "# model = ChatAnthropic(\n",
    "#     model='claude-3-opus-20240229',\n",
    "#     anthropic_api_key=os.environ.get(\"ANTHROPIC_API_KEY\"),\n",
    "#     anthropic_api_url=os.environ.get(\"ANTHROPIC_BASE_URL\")\n",
    "# )\n",
    "\n",
    "model = OllamaFunctions(model=\"phi3\", format=\"json\", temperature=0.3)"
   ],
   "outputs": [],
   "execution_count": 31
  },
  {
   "cell_type": "markdown",
   "id": "31991cc54c9968b",
   "metadata": {},
   "source": "## Develop retry"
  },
  {
   "cell_type": "code",
   "id": "07a80f76-f22a-4a87-9427-eac49afd2ac3",
   "metadata": {
    "ExecuteTime": {
     "end_time": "2024-05-02T14:00:59.626990Z",
     "start_time": "2024-05-02T14:00:59.618949Z"
    }
   },
   "source": [
    "MODEL_PROMPT = \"Answer the user query. Remember to only respond with JSON.\\n{format_instructions}\\n{query}\\n\"\n",
    "MODEL_REPROMPT = MODEL_PROMPT + \"Pay special attention to the following error\\n{validation_error}\\n\"\n",
    "\n",
    "def get_model(query: str, model, result_model: Union[BaseModel, BaseModelV1], max_retry: int = 3) -> BaseModel:\n",
    "    parser = PydanticOutputParser(pydantic_object=result_model)\n",
    "\n",
    "    for i in range(max_retry):\n",
    "        try:\n",
    "            prompt = PromptTemplate(\n",
    "                template=MODEL_PROMPT if i == 0 else MODEL_REPROMPT,\n",
    "                input_variables=[\"query\"],\n",
    "                partial_variables={\"format_instructions\": parser.get_format_instructions()},\n",
    "            )\n",
    "\n",
    "            chain = prompt | model | parser\n",
    "\n",
    "            res = chain.invoke({\"query\": query}) if i == 0 else chain.invoke(\n",
    "                {\"query\": query, \"validation_error\": str(validation_error)})\n",
    "            return res\n",
    "        except OutputParserException as e:\n",
    "            validation_error = e\n",
    "    return validation_error"
   ],
   "outputs": [],
   "execution_count": 8
  },
  {
   "metadata": {},
   "cell_type": "markdown",
   "source": "### Examples",
   "id": "39bc5af4b4fa9071"
  },
  {
   "metadata": {
    "ExecuteTime": {
     "end_time": "2024-05-02T13:54:55.631351Z",
     "start_time": "2024-05-02T13:54:55.622043Z"
    }
   },
   "cell_type": "code",
   "source": [
    "class Actor(BaseModel):\n",
    "    name: str = Field(description=\"name of an actor\")\n",
    "    country_origin: str = Field(description=\"Country they were born in\")\n",
    "\n",
    "    @field_validator('country_origin')\n",
    "    @classmethod\n",
    "    def country_upper(cls, v: str) -> str:\n",
    "        if not v.isupper():\n",
    "            raise ValueError('Must be all caps!')\n",
    "        return v"
   ],
   "id": "637463f13fc4c852",
   "outputs": [],
   "execution_count": 65
  },
  {
   "metadata": {
    "ExecuteTime": {
     "end_time": "2024-05-02T13:55:02.544378Z",
     "start_time": "2024-05-02T13:55:02.538132Z"
    }
   },
   "cell_type": "code",
   "source": [
    "class Actors(BaseModel):\n",
    "    actors: List[Actor]"
   ],
   "id": "ca1a372460976ef8",
   "outputs": [],
   "execution_count": 66
  },
  {
   "cell_type": "code",
   "id": "5d10da9c-80d8-4d62-9cae-81f0a8a2b0b3",
   "metadata": {
    "ExecuteTime": {
     "end_time": "2024-05-02T13:55:04.871081Z",
     "start_time": "2024-05-02T13:55:04.866449Z"
    }
   },
   "source": "query = \"What 5 actors who played in the movie Inception?\"\n",
   "outputs": [],
   "execution_count": 67
  },
  {
   "metadata": {
    "ExecuteTime": {
     "end_time": "2024-05-02T13:56:10.887529Z",
     "start_time": "2024-05-02T13:56:06.887623Z"
    }
   },
   "cell_type": "code",
   "source": "res = get_model(query, model, result_model=Actors,max_retry=1)",
   "id": "1002ab6d51fc89d",
   "outputs": [
    {
     "name": "stderr",
     "output_type": "stream",
     "text": [
      "/Users/Maximilian_Schulz/Library/Application Support/hatch/env/virtual/vizro-ai/fZiNbsWT/vizro-ai/lib/python3.9/site-packages/pydantic/json_schema.py:2158: PydanticJsonSchemaWarning: Default value default=PydanticUndefined description='name of an actor' extra={} is not JSON serializable; excluding default from JSON schema [non-serializable-default]\n",
      "  warnings.warn(message, PydanticJsonSchemaWarning)\n",
      "/Users/Maximilian_Schulz/Library/Application Support/hatch/env/virtual/vizro-ai/fZiNbsWT/vizro-ai/lib/python3.9/site-packages/pydantic/json_schema.py:2158: PydanticJsonSchemaWarning: Default value default=PydanticUndefined description='Country they were born in' extra={} is not JSON serializable; excluding default from JSON schema [non-serializable-default]\n",
      "  warnings.warn(message, PydanticJsonSchemaWarning)\n"
     ]
    }
   ],
   "execution_count": 70
  },
  {
   "metadata": {
    "ExecuteTime": {
     "end_time": "2024-05-02T13:56:12.062783Z",
     "start_time": "2024-05-02T13:56:12.055811Z"
    }
   },
   "cell_type": "code",
   "source": "res",
   "id": "cf8dcdebfe5a1fad",
   "outputs": [
    {
     "data": {
      "text/plain": [
       "langchain_core.exceptions.OutputParserException('Failed to parse Actors from completion {\"actors\": [{\"name\": \"Leonardo DiCaprio\", \"country_origin\": \"United States\"}, {\"name\": \"Joseph Gordon-Levitt\", \"country_origin\": \"United States\"}, {\"name\": \"Ellen Page\", \"country_origin\": \"Canada\"}, {\"name\": \"Tom Hardy\", \"country_origin\": \"United Kingdom\"}, {\"name\": \"Ken Watanabe\", \"country_origin\": \"Japan\"}]}. Got: 5 validation errors for Actors\\nactors.0.country_origin\\n  Value error, Must be all caps! [type=value_error, input_value=\\'United States\\', input_type=str]\\n    For further information visit https://errors.pydantic.dev/2.7/v/value_error\\nactors.1.country_origin\\n  Value error, Must be all caps! [type=value_error, input_value=\\'United States\\', input_type=str]\\n    For further information visit https://errors.pydantic.dev/2.7/v/value_error\\nactors.2.country_origin\\n  Value error, Must be all caps! [type=value_error, input_value=\\'Canada\\', input_type=str]\\n    For further information visit https://errors.pydantic.dev/2.7/v/value_error\\nactors.3.country_origin\\n  Value error, Must be all caps! [type=value_error, input_value=\\'United Kingdom\\', input_type=str]\\n    For further information visit https://errors.pydantic.dev/2.7/v/value_error\\nactors.4.country_origin\\n  Value error, Must be all caps! [type=value_error, input_value=\\'Japan\\', input_type=str]\\n    For further information visit https://errors.pydantic.dev/2.7/v/value_error')"
      ]
     },
     "execution_count": 71,
     "metadata": {},
     "output_type": "execute_result"
    }
   ],
   "execution_count": 71
  },
  {
   "metadata": {
    "ExecuteTime": {
     "end_time": "2024-05-02T11:26:53.909097Z",
     "start_time": "2024-05-02T11:26:53.904216Z"
    }
   },
   "cell_type": "code",
   "source": "res",
   "id": "3729fd6525067ef1",
   "outputs": [
    {
     "data": {
      "text/plain": [
       "Actors(actors=[Actor(name='Leonardo DiCaprio', country_origin='UNITED STATES'), Actor(name='Joseph Gordon-Levitt', country_origin='UNITED STATES'), Actor(name='Ellen Page', country_origin='CANADA'), Actor(name='Tom Hardy', country_origin='UNITED KINGDOM'), Actor(name='Cillian Murphy', country_origin='IRELAND')])"
      ]
     },
     "execution_count": 15,
     "metadata": {},
     "output_type": "execute_result"
    }
   ],
   "execution_count": 15
  },
  {
   "metadata": {},
   "cell_type": "markdown",
   "source": "## Trying actual Vizro models",
   "id": "584c4346e500300d"
  },
  {
   "metadata": {
    "ExecuteTime": {
     "end_time": "2024-05-02T14:00:41.147100Z",
     "start_time": "2024-05-02T14:00:32.298094Z"
    }
   },
   "cell_type": "code",
   "source": "import vizro.models as vm",
   "id": "bd0bcdac9b7352b2",
   "outputs": [],
   "execution_count": 6
  },
  {
   "metadata": {},
   "cell_type": "markdown",
   "source": "### Filter",
   "id": "d595ca4bed97081a"
  },
  {
   "metadata": {
    "ExecuteTime": {
     "end_time": "2024-05-02T13:56:31.524561Z",
     "start_time": "2024-05-02T13:56:31.521723Z"
    }
   },
   "cell_type": "code",
   "source": "query = \"I need a filter that filters on the columns 'gdpPerCap` and uses a dropdown as selector.\"",
   "id": "d471253ce71e24a9",
   "outputs": [],
   "execution_count": 73
  },
  {
   "metadata": {
    "ExecuteTime": {
     "end_time": "2024-05-02T13:56:40.917594Z",
     "start_time": "2024-05-02T13:56:32.170071Z"
    }
   },
   "cell_type": "code",
   "source": "res = get_model(query, model, result_model=vm.Filter)",
   "id": "b6da5558282ab07e",
   "outputs": [],
   "execution_count": 74
  },
  {
   "metadata": {
    "ExecuteTime": {
     "end_time": "2024-05-02T13:56:40.924067Z",
     "start_time": "2024-05-02T13:56:40.920021Z"
    }
   },
   "cell_type": "code",
   "source": "res",
   "id": "76002044d63c4aa0",
   "outputs": [
    {
     "data": {
      "text/plain": [
       "langchain_core.exceptions.OutputParserException('Failed to parse Filter from completion {\"id\": \"1\", \"type\": \"filter\", \"column\": \"gdpPerCap\", \"targets\": [], \"selector\": {\"id\": \"2\", \"type\": \"dropdown\", \"options\": [\"Option 1\", \"Option 2\", \"Option 3\"], \"value\": \"Option 1\", \"title\": \"Select GDP Per Capita\"}}. Got: 1 validation error for Filter\\nselector -> Dropdown\\n  Model with id=2 already exists. Models must have a unique id across the whole dashboard. If you are working from a Jupyter Notebook, please either restart the kernel, or use \\'from vizro import Vizro; Vizro._reset()`. (type=value_error.duplicateid)')"
      ]
     },
     "execution_count": 75,
     "metadata": {},
     "output_type": "execute_result"
    }
   ],
   "execution_count": 75
  },
  {
   "metadata": {},
   "cell_type": "markdown",
   "source": "### Page",
   "id": "8dffaa91fb2bf564"
  },
  {
   "metadata": {
    "ExecuteTime": {
     "end_time": "2024-05-02T12:05:54.728796Z",
     "start_time": "2024-05-02T12:05:54.721881Z"
    }
   },
   "cell_type": "code",
   "source": [
    "class PageAI(vm.Page):\n",
    "    components: List[Literal[\"scatter\", \"bar\", \"line\", \"table\", \"pie\", \"map\"]]"
   ],
   "id": "fa9785fb82eb7f3c",
   "outputs": [],
   "execution_count": 51
  },
  {
   "metadata": {
    "ExecuteTime": {
     "end_time": "2024-05-02T14:01:09.472610Z",
     "start_time": "2024-05-02T14:01:09.468935Z"
    }
   },
   "cell_type": "code",
   "source": "query = \"I need a page with a bar and a scatter that filters on the columns 'gdpPerCap` and uses a dropdown as selector.\"",
   "id": "58f95edfa5f13e37",
   "outputs": [],
   "execution_count": 10
  },
  {
   "metadata": {
    "ExecuteTime": {
     "end_time": "2024-05-02T14:01:56.118466Z",
     "start_time": "2024-05-02T14:01:22.179163Z"
    }
   },
   "cell_type": "code",
   "source": "res = get_model(query, model, result_model=vm.Page)",
   "id": "8f5f924a2dcb53e2",
   "outputs": [
    {
     "name": "stderr",
     "output_type": "stream",
     "text": [
      "/Users/Maximilian_Schulz/Library/Application Support/hatch/env/virtual/vizro-ai/fZiNbsWT/vizro-ai/lib/python3.9/site-packages/pydantic/v1/schema.py:631: UserWarning: CapturedCallable figure is excluded from the schema.\n",
      "  warnings.warn(skip.message, UserWarning)\n",
      "/Users/Maximilian_Schulz/Library/Application Support/hatch/env/virtual/vizro-ai/fZiNbsWT/vizro-ai/lib/python3.9/site-packages/pydantic/v1/schema.py:631: UserWarning: CapturedCallable function is excluded from the schema.\n",
      "  warnings.warn(skip.message, UserWarning)\n"
     ]
    }
   ],
   "execution_count": 13
  },
  {
   "metadata": {
    "ExecuteTime": {
     "end_time": "2024-05-02T14:03:03.414132Z",
     "start_time": "2024-05-02T14:03:03.411064Z"
    }
   },
   "cell_type": "code",
   "source": "print(res)",
   "id": "a7bc6fc1b4dee3b8",
   "outputs": [
    {
     "name": "stdout",
     "output_type": "stream",
     "text": [
      "Failed to parse Page from completion {\"components\": [{\"id\": \"bar1\", \"type\": \"graph\", \"actions\": []}, {\"id\": \"scatter1\", \"type\": \"graph\", \"actions\": []}], \"title\": \"Economic Data Visualization\", \"description\": \"Visualize GDP per capita data in bar and scatter plot formats.\", \"layout\": null, \"controls\": [{\"id\": \"filter1\", \"type\": \"filter\", \"column\": \"gdpPerCap\", \"targets\": [\"bar1\", \"scatter1\"], \"selector\": {\"id\": \"dropdown1\", \"type\": \"dropdown\", \"options\": [], \"value\": null, \"multi\": true, \"title\": \"\"}}], \"path\": \"\", \"actions\": []}. Got: 4 validation errors for Page\n",
      "components -> 0 -> Graph -> figure\n",
      "  field required (type=value_error.missing)\n",
      "components -> 1 -> Graph -> figure\n",
      "  field required (type=value_error.missing)\n",
      "controls -> 0 -> Filter -> targets -> 0\n",
      "  Target bar1 not found in model_manager. (type=value_error)\n",
      "controls -> 0 -> Filter -> targets -> 1\n",
      "  Target scatter1 not found in model_manager. (type=value_error)\n"
     ]
    }
   ],
   "execution_count": 15
  },
  {
   "metadata": {
    "ExecuteTime": {
     "end_time": "2024-05-02T11:36:06.692787Z",
     "start_time": "2024-05-02T11:36:06.688102Z"
    }
   },
   "cell_type": "code",
   "source": "PageAI",
   "id": "546dee9e4cfc2f67",
   "outputs": [
    {
     "data": {
      "text/plain": [
       "__main__.PageAI"
      ]
     },
     "execution_count": 21,
     "metadata": {},
     "output_type": "execute_result"
    }
   ],
   "execution_count": 21
  },
  {
   "metadata": {
    "ExecuteTime": {
     "end_time": "2024-05-02T12:14:09.475032Z",
     "start_time": "2024-05-02T12:14:06.783776Z"
    }
   },
   "cell_type": "code",
   "source": "res = get_model(\"I want a card with some random text that starts with quack\", model, result_model=vm.Card)",
   "id": "e648f6612a6f0b7f",
   "outputs": [],
   "execution_count": 57
  },
  {
   "metadata": {
    "ExecuteTime": {
     "end_time": "2024-05-02T12:14:10.231208Z",
     "start_time": "2024-05-02T12:14:10.226860Z"
    }
   },
   "cell_type": "code",
   "source": "res",
   "id": "6213fe0cf7885d46",
   "outputs": [
    {
     "data": {
      "text/plain": [
       "Card(id='8d723104-f773-83c1-3458-a748e9bb17bc', type='card', text='quack quack quack Lorem ipsum dolor sit amet, consectetur adipiscing elit. Sed do eiusmod tempor incididunt ut labore et dolore magna aliqua. Ut enim ad minim veniam, quis nostrud exercitation ullamco laboris nisi ut aliquip ex ea commodo consequat. Duis aute irure dolor in reprehenderit in voluptate velit esse cillum dolore eu fugiat nulla pariatur. Excepteur sint occaecat cupidatat non proident, sunt in culpa qui officia deserunt mollit anim id est laborum.', href='')"
      ]
     },
     "execution_count": 58,
     "metadata": {},
     "output_type": "execute_result"
    }
   ],
   "execution_count": 58
  },
  {
   "metadata": {},
   "cell_type": "markdown",
   "source": "In summary, using Vizro models works generally well, but it struggle with more complex models such as Page, likely due to the sheer size of the schema, and thus the large number of validation errors.",
   "id": "3b8722e68c2e86ac"
  },
  {
   "metadata": {},
   "cell_type": "markdown",
   "source": "## Alter code to try out with Ollama",
   "id": "3b0a486ef85fa0fc"
  },
  {
   "metadata": {
    "ExecuteTime": {
     "end_time": "2024-05-22T08:59:57.957691Z",
     "start_time": "2024-05-22T08:59:57.953110Z"
    }
   },
   "cell_type": "code",
   "source": [
    "# Define your desired data structure.\n",
    "class Joke(BaseModel):\n",
    "    setup: str = Field(description=\"question to set up a joke\")\n",
    "    punchline: str = Field(description=\"answer to resolve the joke\")\n",
    "\n",
    "    # You can add custom validation logic easily with Pydantic.\n",
    "    # @validator(\"setup\")\n",
    "    # def question_ends_with_question_mark(cls, field):\n",
    "    #     if field[-1] != \"?\":\n",
    "    #         raise ValueError(\"Badly formed question!\")\n",
    "    #     return field\n",
    "\n",
    "\n",
    "# And a query intented to prompt a language model to populate the data structure.\n",
    "joke_query = \"Tell me a joke.\"\n",
    "\n",
    "class Actor(BaseModel):\n",
    "    name: str = Field(description=\"name of an actor\")\n",
    "    film_names: List[str] = Field(description=\"list of names of films they starred in\")\n",
    "    \n",
    "actor_query = \"Generate the info for a random actor.\""
   ],
   "id": "1d4500532d5f188a",
   "outputs": [],
   "execution_count": 32
  },
  {
   "metadata": {
    "ExecuteTime": {
     "end_time": "2024-05-22T08:59:58.315060Z",
     "start_time": "2024-05-22T08:59:58.309890Z"
    }
   },
   "cell_type": "code",
   "source": [
    "MODEL_PROMPT = \"Answer the user query. Remember to only respond with JSON and to fill in all keys.\\n{query}\\n\"\n",
    "MODEL_REPROMPT = MODEL_PROMPT + \"Fix the error in your previous try:\\n{validation_error}\\n\"\n",
    "\n",
    "def get_model(query: str, model, result_model: Union[BaseModel, BaseModelV1], max_retry: int = 3) -> BaseModel:\n",
    "    # parser = PydanticOutputParser(pydantic_object=result_model)\n",
    "\n",
    "    for i in range(max_retry):\n",
    "        try:\n",
    "            prompt = PromptTemplate(\n",
    "                template=MODEL_PROMPT if i == 0 else MODEL_REPROMPT,\n",
    "                input_variables=[\"query\"],\n",
    "            )\n",
    "            print(prompt)\n",
    "\n",
    "            chain = prompt | model.with_structured_output(result_model)\n",
    "\n",
    "            res = chain.invoke({\"query\": query}) if i == 0 else chain.invoke(\n",
    "                {\"query\": query, \"validation_error\": str(validation_error)})\n",
    "            return res\n",
    "        except OutputParserException as e:\n",
    "            validation_error = e\n",
    "    return validation_error"
   ],
   "id": "499dbc0f210aab8b",
   "outputs": [],
   "execution_count": 33
  },
  {
   "metadata": {
    "ExecuteTime": {
     "end_time": "2024-05-22T09:00:31.288046Z",
     "start_time": "2024-05-22T09:00:24.663544Z"
    }
   },
   "cell_type": "code",
   "source": "res = get_model(joke_query, model, result_model=Joke)",
   "id": "f7d730e4bd0b341e",
   "outputs": [
    {
     "name": "stdout",
     "output_type": "stream",
     "text": [
      "input_variables=['query'] template='Answer the user query. Remember to only respond with JSON and to fill in all keys.\\n{query}\\n'\n",
      "input_variables=['query', 'validation_error'] template='Answer the user query. Remember to only respond with JSON and to fill in all keys.\\n{query}\\nFix the error in your previous try:\\n{validation_error}\\n'\n",
      "input_variables=['query', 'validation_error'] template='Answer the user query. Remember to only respond with JSON and to fill in all keys.\\n{query}\\nFix the error in your previous try:\\n{validation_error}\\n'\n"
     ]
    }
   ],
   "execution_count": 36
  },
  {
   "metadata": {
    "ExecuteTime": {
     "end_time": "2024-05-22T09:00:32.226402Z",
     "start_time": "2024-05-22T09:00:32.222654Z"
    }
   },
   "cell_type": "code",
   "source": "res",
   "id": "d0d8ee4ec22cffc0",
   "outputs": [
    {
     "data": {
      "text/plain": [
       "langchain_core.exceptions.OutputParserException('Failed to parse Joke from completion {\"setup\": \"Why was the math book sad? Because it had too many problems.\"}. Got: 1 validation error for Joke\\npunchline\\n  field required (type=value_error.missing)')"
      ]
     },
     "execution_count": 37,
     "metadata": {},
     "output_type": "execute_result"
    }
   ],
   "execution_count": 37
  },
  {
   "metadata": {},
   "cell_type": "code",
   "outputs": [],
   "execution_count": null,
   "source": "",
   "id": "c67cd675b630bd95"
  }
 ],
 "metadata": {
  "kernelspec": {
   "display_name": "Python 3 (ipykernel)",
   "language": "python",
   "name": "python3"
  },
  "language_info": {
   "codemirror_mode": {
    "name": "ipython",
    "version": 3
   },
   "file_extension": ".py",
   "mimetype": "text/x-python",
   "name": "python",
   "nbconvert_exporter": "python",
   "pygments_lexer": "ipython3",
   "version": "3.9.12"
  }
 },
 "nbformat": 4,
 "nbformat_minor": 5
}
